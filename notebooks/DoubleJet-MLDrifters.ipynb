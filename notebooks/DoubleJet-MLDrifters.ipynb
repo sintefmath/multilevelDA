{
 "cells": [
  {
   "attachments": {},
   "cell_type": "markdown",
   "metadata": {},
   "source": [
    "# Double Jet\n",
    "\n",
    "With various grid sizes"
   ]
  },
  {
   "cell_type": "code",
   "execution_count": 1,
   "metadata": {},
   "outputs": [],
   "source": [
    "from gpuocean.SWEsimulators import ModelErrorKL, CDKLM16\n",
    "from gpuocean.utils import Common, IPythonMagic\n",
    "\n",
    "from importlib import reload\n",
    "\n",
    "import numpy as np\n",
    "import copy\n",
    "import pycuda.driver as cuda\n",
    "from matplotlib import pyplot as plt\n",
    "\n",
    "plt.rcParams[\"lines.color\"] = \"w\"\n",
    "plt.rcParams[\"text.color\"] = \"w\"\n",
    "plt.rcParams[\"axes.labelcolor\"] = \"w\"\n",
    "plt.rcParams[\"xtick.color\"] = \"w\"\n",
    "plt.rcParams[\"ytick.color\"] = \"w\"\n",
    "\n",
    "plt.rcParams[\"image.origin\"] = \"lower\"\n"
   ]
  },
  {
   "cell_type": "code",
   "execution_count": 2,
   "metadata": {},
   "outputs": [],
   "source": [
    "%cuda_context_handler gpu_ctx"
   ]
  },
  {
   "cell_type": "code",
   "execution_count": 3,
   "metadata": {},
   "outputs": [],
   "source": [
    "gpu_stream = cuda.Stream()"
   ]
  },
  {
   "cell_type": "code",
   "execution_count": 4,
   "metadata": {},
   "outputs": [],
   "source": [
    "import sys, os\n",
    "sys.path.insert(0, os.path.abspath(os.path.join(os.getcwd(), '../')))"
   ]
  },
  {
   "attachments": {},
   "cell_type": "markdown",
   "metadata": {},
   "source": [
    "Get initial arguments from class"
   ]
  },
  {
   "cell_type": "code",
   "execution_count": 5,
   "metadata": {},
   "outputs": [],
   "source": [
    "from gpuocean.utils import DoubleJetCase"
   ]
  },
  {
   "attachments": {},
   "cell_type": "markdown",
   "metadata": {},
   "source": [
    "Two-level ensemble"
   ]
  },
  {
   "cell_type": "code",
   "execution_count": 6,
   "metadata": {},
   "outputs": [],
   "source": [
    "doubleJetCase = DoubleJetCase.DoubleJetCase(gpu_ctx, DoubleJetCase.DoubleJetPerturbationType.SteadyState, ny=512, nx=1024)\n",
    "doubleJetCase_args, doubleJetCase_init, doubleJetCase_meargs = doubleJetCase.getInitConditions()"
   ]
  },
  {
   "cell_type": "code",
   "execution_count": 7,
   "metadata": {},
   "outputs": [],
   "source": [
    "coarse_doubleJetCase = DoubleJetCase.DoubleJetCase(gpu_ctx, DoubleJetCase.DoubleJetPerturbationType.SteadyState, ny=256, nx=512)\n",
    "coarse_doubleJetCase_args, coarse_doubleJetCase_init, _ = coarse_doubleJetCase.getInitConditions()"
   ]
  },
  {
   "cell_type": "code",
   "execution_count": 8,
   "metadata": {},
   "outputs": [],
   "source": [
    "doubleJetCase_meargs = {\n",
    "                            \"basis_x_start\": 2, \n",
    "                            \"basis_x_end\": 8,\n",
    "                            \"basis_y_start\": 1,\n",
    "                            \"basis_y_end\": 7,\n",
    "\n",
    "                            \"kl_decay\": 1.25,\n",
    "                            \"kl_scaling\": 0.025,\n",
    "                            }\n",
    "\n",
    "sim_model_error_time_step = 60.0                        "
   ]
  },
  {
   "cell_type": "code",
   "execution_count": 9,
   "metadata": {},
   "outputs": [],
   "source": [
    "ML_Nes = [100, 50]\n",
    "doubleJetCase_args_list = [coarse_doubleJetCase_args, doubleJetCase_args]\n",
    "doubleJetCase_init_list = [coarse_doubleJetCase_init, doubleJetCase_init]"
   ]
  },
  {
   "cell_type": "code",
   "execution_count": 10,
   "metadata": {},
   "outputs": [],
   "source": [
    "mekls = []\n",
    "for l_idx in range(len(doubleJetCase_args_list)): \n",
    "    grid_args = {key: doubleJetCase_args_list[l_idx][key] for key in ('nx', 'ny', 'dx', 'dy', 'gpu_ctx', 'boundary_conditions')}\n",
    "    mekls.append( ModelErrorKL.ModelErrorKL(gpu_stream=gpu_stream, **grid_args, **doubleJetCase_meargs) )"
   ]
  },
  {
   "cell_type": "code",
   "execution_count": 11,
   "metadata": {},
   "outputs": [
    {
     "name": "stdout",
     "output_type": "stream",
     "text": [
      "0\n",
      "1\n"
     ]
    }
   ],
   "source": [
    "from utils.DoubleJetEnsembleInit import *\n",
    "ML_ensemble = initMLensemble(ML_Nes, doubleJetCase_args_list, doubleJetCase_init_list,\n",
    "                             sim_model_error_basis_args=doubleJetCase_meargs,\n",
    "                             sim_model_error_time_step=60.0)"
   ]
  },
  {
   "cell_type": "code",
   "execution_count": 12,
   "metadata": {},
   "outputs": [],
   "source": [
    "from gpuocean.ensembles import MultiLevelOceanEnsemble\n",
    "MLOceanEnsemble = MultiLevelOceanEnsemble.MultiLevelOceanEnsemble(ML_ensemble)"
   ]
  },
  {
   "cell_type": "markdown",
   "metadata": {},
   "source": [
    "## Drifter"
   ]
  },
  {
   "cell_type": "code",
   "execution_count": 13,
   "metadata": {},
   "outputs": [],
   "source": [
    "xdim = MLOceanEnsemble.dxs[-1]*MLOceanEnsemble.nxs[-1]\n",
    "ydim = MLOceanEnsemble.dys[-1]*MLOceanEnsemble.nys[-1]"
   ]
  },
  {
   "cell_type": "code",
   "execution_count": null,
   "metadata": {},
   "outputs": [],
   "source": [
    "num_drifters = 100"
   ]
  },
  {
   "cell_type": "code",
   "execution_count": 14,
   "metadata": {},
   "outputs": [],
   "source": [
    "init_positions = np.c_[np.random.uniform(high=xdim, size=num_drifters), np.random.uniform(high=ydim, size=num_drifters)]"
   ]
  },
  {
   "cell_type": "code",
   "execution_count": 15,
   "metadata": {},
   "outputs": [
    {
     "data": {
      "text/plain": [
       "array([[ 623494.67689421,  461948.71095606],\n",
       "       [ 471598.13025989,  142813.37348377],\n",
       "       [ 105458.32679044,  368550.10580986],\n",
       "       [1318878.73163322,  280606.49126477],\n",
       "       [  94095.97141788,  518483.45507089],\n",
       "       [ 949557.48287376,  215007.46835206],\n",
       "       [ 151591.65312723,  171545.54341663],\n",
       "       [  44960.20421744,  339574.34194872],\n",
       "       [1221038.21553879,  487865.13267382],\n",
       "       [ 498040.10824289,  662212.38658787],\n",
       "       [ 429406.43527084,  288155.61847832],\n",
       "       [ 346493.44521206,  158329.50765771],\n",
       "       [ 572539.49151851,  477002.30464412],\n",
       "       [ 872946.5781627 ,  261138.49727745],\n",
       "       [1249125.87783518,  423069.12806816],\n",
       "       [ 850515.35785149,  158103.19931716],\n",
       "       [ 112699.30603473,  280813.84781278],\n",
       "       [ 264056.93611736,  663394.12328192],\n",
       "       [1222302.59363903,  104979.95588593],\n",
       "       [ 397525.86355936,  545752.69617229],\n",
       "       [1021319.11280169,  238508.21692852],\n",
       "       [ 910578.45272444,  506676.88565857],\n",
       "       [1046303.5616891 ,  164058.53829317],\n",
       "       [ 842271.89862165,  521709.83369123],\n",
       "       [ 305744.07970613,  331946.35521558],\n",
       "       [ 130424.70151574,  636577.08794904],\n",
       "       [ 978706.11267503,  504575.16630525],\n",
       "       [  78486.62917847,  283715.30696891],\n",
       "       [1296657.19337682,  650148.93654111],\n",
       "       [ 799678.07433387,  652066.74756181],\n",
       "       [1043798.06161644,  103751.22259568],\n",
       "       [1127718.88558597,  610828.63165568],\n",
       "       [ 124381.02216222,  464205.75269086],\n",
       "       [ 302966.83159311,  154957.38314433],\n",
       "       [ 393739.35506915,  512606.32183575],\n",
       "       [ 512908.42195866,  413328.76632456],\n",
       "       [1044071.06183313,    4498.75074549],\n",
       "       [ 488528.21720331,  596218.48722443],\n",
       "       [1208743.8877208 ,  291559.23590837],\n",
       "       [ 894423.71604611,  201942.14454041],\n",
       "       [ 502396.52573862,  565852.4433636 ],\n",
       "       [1035601.27716752,  459629.14531839],\n",
       "       [ 923239.66978773,  465934.53812241],\n",
       "       [ 442565.86961187,   11955.33633696],\n",
       "       [ 678405.52139996,   31737.43485881],\n",
       "       [1156213.41240453,  226141.00190267],\n",
       "       [ 320536.57067611,  638626.26250269],\n",
       "       [ 699024.33573759,  181976.34091296],\n",
       "       [ 109125.18709653,  269827.95009844],\n",
       "       [ 277137.65394962,  460659.60074729],\n",
       "       [1311368.33566296,  156810.87855426],\n",
       "       [1238494.04394745,  551600.01757559],\n",
       "       [ 402755.48598424,  253636.10029237],\n",
       "       [ 397771.75161645,  481788.52943915],\n",
       "       [ 682641.87857258,  615764.97590706],\n",
       "       [ 394808.29616241,  664497.9324667 ],\n",
       "       [1320727.10767443,  391702.16465666],\n",
       "       [ 882803.19170488,  573727.8303118 ],\n",
       "       [ 795093.76814655,  495727.27968225],\n",
       "       [ 468082.33109865,  451273.04015426],\n",
       "       [ 777128.17801387,  484031.13852013],\n",
       "       [ 810835.95245208,  307255.30207515],\n",
       "       [ 705865.25238869,  656862.34947596],\n",
       "       [ 680083.66886945,  154992.36849964],\n",
       "       [ 813606.63906983,  587469.83553358],\n",
       "       [ 684747.0440078 ,  263917.77285689],\n",
       "       [ 489542.21339688,  292857.63303009],\n",
       "       [ 234549.93710923,  548502.38198923],\n",
       "       [1276537.25231094,   34114.95726345],\n",
       "       [ 429301.67463276,  239182.36850372],\n",
       "       [ 598809.86770403,  244733.66860922],\n",
       "       [ 290082.87706191,  626075.88678472],\n",
       "       [ 530152.97679035,  331286.03215553],\n",
       "       [ 409490.86422179,  414503.86921059],\n",
       "       [1050516.36480101,  129164.80075021],\n",
       "       [ 245795.93145177,  519812.41619661],\n",
       "       [ 354521.30255322,  613465.82623946],\n",
       "       [ 157924.44044636,   45699.77509098],\n",
       "       [ 675708.00795333,  128378.19437311],\n",
       "       [ 469475.49048959,   25495.56368887],\n",
       "       [  70034.43199086,  552020.45773029],\n",
       "       [ 584291.19571176,  364688.57673782],\n",
       "       [ 959883.42137217,   93227.66532336],\n",
       "       [  17487.5451674 ,   27717.62638619],\n",
       "       [ 644667.04104292,  574048.69132073],\n",
       "       [ 525634.93646724,   89160.84791893],\n",
       "       [ 946112.11484778,  513412.27022714],\n",
       "       [  75835.62778788,  552490.72236315],\n",
       "       [  65340.6269693 ,  197647.81396927],\n",
       "       [ 703955.37961625,  444126.4005166 ],\n",
       "       [ 158801.01440475,  120631.73356528],\n",
       "       [ 487342.76054021,  118219.66479747],\n",
       "       [ 572100.29797423,  426830.47911397],\n",
       "       [1316258.43474101,  185459.2253134 ],\n",
       "       [ 394252.90369709,  579410.97980401],\n",
       "       [ 811531.28253195,  217106.86475069],\n",
       "       [  29991.05468298,  104917.01723038],\n",
       "       [1033866.08496235,  438157.28737261],\n",
       "       [ 235035.39751669,  139555.82974174],\n",
       "       [ 323664.72128198,  494929.23969622]])"
      ]
     },
     "execution_count": 15,
     "metadata": {},
     "output_type": "execute_result"
    }
   ],
   "source": [
    "# Open output in VSC texteditor and copy!\n",
    "init_positions"
   ]
  },
  {
   "cell_type": "code",
   "execution_count": 16,
   "metadata": {},
   "outputs": [],
   "source": [
    "extent=[0, MLOceanEnsemble.dxs[-1]*MLOceanEnsemble.nxs[-1], 0, MLOceanEnsemble.dys[-1]*MLOceanEnsemble.nys[-1]]"
   ]
  },
  {
   "cell_type": "code",
   "execution_count": 17,
   "metadata": {},
   "outputs": [
    {
     "data": {
      "text/plain": [
       "<matplotlib.collections.PathCollection at 0x7f326319bbd0>"
      ]
     },
     "execution_count": 17,
     "metadata": {},
     "output_type": "execute_result"
    },
    {
     "data": {
      "image/png": "[encoded data removed]",
      "text/plain": [
       "<Figure size 1080x720 with 6 Axes>"
      ]
     },
     "metadata": {
      "needs_background": "dark"
     },
     "output_type": "display_data"
    }
   ],
   "source": [
    "from utils.DoubleJetPlot import *\n",
    "fig, axs = imshow3(MLOceanEnsemble.estimate(np.mean), extent=extent)\n",
    "axs[0].scatter(init_positions[:,0], init_positions[:,1], c=\"green\")"
   ]
  },
  {
   "cell_type": "code",
   "execution_count": 18,
   "metadata": {},
   "outputs": [],
   "source": [
    "MLOceanEnsemble.stepToObservation(900)"
   ]
  }
 ],
 "metadata": {
  "kernelspec": {
   "display_name": "gpuocean",
   "language": "python",
   "name": "python3"
  },
  "language_info": {
   "codemirror_mode": {
    "name": "ipython",
    "version": 3
   },
   "file_extension": ".py",
   "mimetype": "text/x-python",
   "name": "python",
   "nbconvert_exporter": "python",
   "pygments_lexer": "ipython3",
   "version": "3.7.12"
  },
  "orig_nbformat": 4
 },
 "nbformat": 4,
 "nbformat_minor": 2
}
