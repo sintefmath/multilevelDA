{
 "cells": [
  {
   "attachments": {},
   "cell_type": "markdown",
   "metadata": {},
   "source": [
    "# Variance-level plots"
   ]
  },
  {
   "attachments": {},
   "cell_type": "markdown",
   "metadata": {},
   "source": [
    "### Classes and modules"
   ]
  },
  {
   "cell_type": "code",
   "execution_count": 1,
   "metadata": {},
   "outputs": [],
   "source": [
    "#Lets have matplotlib \"inline\"\n",
    "%matplotlib inline\n",
    "\n",
    "import os\n",
    "import sys\n",
    "\n",
    "#Import packages we need\n",
    "import numpy as np\n",
    "import datetime\n",
    "from IPython.display import display\n",
    "import copy\n",
    "\n",
    "#For plotting\n",
    "import matplotlib\n",
    "from matplotlib import pyplot as plt\n",
    "from mpl_toolkits.axes_grid1 import make_axes_locatable\n",
    "\n",
    "# plt.rcParams[\"lines.color\"] = \"w\"\n",
    "# plt.rcParams[\"text.color\"] = \"w\"\n",
    "# plt.rcParams[\"axes.labelcolor\"] = \"w\"\n",
    "# plt.rcParams[\"xtick.color\"] = \"w\"\n",
    "# plt.rcParams[\"ytick.color\"] = \"w\"\n",
    "\n",
    "plt.rcParams[\"image.origin\"] = \"lower\"\n",
    "\n",
    "import pycuda.driver as cuda"
   ]
  },
  {
   "attachments": {},
   "cell_type": "markdown",
   "metadata": {},
   "source": [
    "GPU Ocean-modules:"
   ]
  },
  {
   "cell_type": "code",
   "execution_count": 2,
   "metadata": {},
   "outputs": [],
   "source": [
    "from gpuocean.utils import IPythonMagic, Common"
   ]
  },
  {
   "cell_type": "code",
   "execution_count": 3,
   "metadata": {},
   "outputs": [],
   "source": [
    "%cuda_context_handler gpu_ctx"
   ]
  },
  {
   "cell_type": "code",
   "execution_count": 4,
   "metadata": {},
   "outputs": [],
   "source": [
    "ls = [6, 7, 8, 9]"
   ]
  },
  {
   "cell_type": "code",
   "execution_count": 5,
   "metadata": {},
   "outputs": [],
   "source": [
    "from gpuocean.utils import DoubleJetCase\n",
    "\n",
    "args_list = []\n",
    "init_list = []\n",
    "\n",
    "for l in ls:\n",
    "    doubleJetCase = DoubleJetCase.DoubleJetCase(gpu_ctx, DoubleJetCase.DoubleJetPerturbationType.SteadyState, ny=2**l, nx=2**(l+1))\n",
    "    doubleJetCase_args, doubleJetCase_init, _ = doubleJetCase.getInitConditions()\n",
    "\n",
    "    args_list.append(doubleJetCase_args)\n",
    "    init_list.append(doubleJetCase_init)"
   ]
  },
  {
   "cell_type": "code",
   "execution_count": 6,
   "metadata": {},
   "outputs": [],
   "source": [
    "# source_path = \"/home/florianb/havvarsel/multilevelDA/doublejet/scripts/VarianceLevelsDA/2023-09-26T11_10_32\"\n",
    "# source_path = \"/home/florianb/havvarsel/multilevelDA/doublejet/scripts/VarianceLevelsDA/2023-09-25T13_55_37\"\n",
    "source_path = \"/home/florianb/havvarsel/multilevelDA/doublejet/scripts/VarianceLevelsDA/2023-10-27T17_43_20\""
   ]
  },
  {
   "cell_type": "code",
   "execution_count": 7,
   "metadata": {},
   "outputs": [],
   "source": [
    "vars = np.load(source_path+\"/vars_\"+str(10*24*3600)+\".npy\")\n",
    "diff_vars = np.load(source_path+\"/diff_vars_\"+str(10*24*3600)+\".npy\")"
   ]
  },
  {
   "cell_type": "code",
   "execution_count": 8,
   "metadata": {},
   "outputs": [
    {
     "data": {
      "text/plain": [
       "(array([[8.3266455e+03, 2.0601485e+08, 1.9769155e+08],\n",
       "        [1.9638676e+04, 6.9546618e+08, 5.1919053e+08],\n",
       "        [3.2229025e+04, 1.1429027e+09, 9.0254490e+08],\n",
       "        [4.2792047e+04, 1.4441010e+09, 1.1609929e+09]], dtype=float32),\n",
       " array([[9.8156191e+03, 3.9142342e+08, 2.5070651e+08],\n",
       "        [1.4287225e+04, 3.6043485e+08, 2.7581728e+08],\n",
       "        [1.5784937e+04, 2.1321568e+08, 1.7720861e+08]], dtype=float32))"
      ]
     },
     "execution_count": 8,
     "metadata": {},
     "output_type": "execute_result"
    }
   ],
   "source": [
    "vars, diff_vars"
   ]
  },
  {
   "cell_type": "code",
   "execution_count": 9,
   "metadata": {},
   "outputs": [],
   "source": [
    "work_path = \"/home/florianb/havvarsel/multilevelDA/doublejet/scripts/PracticalCost/2023-09-18T12_54_47\""
   ]
  },
  {
   "cell_type": "code",
   "execution_count": 10,
   "metadata": {},
   "outputs": [],
   "source": [
    "works = np.mean(np.load(work_path+\"/costsPure.npy\"), axis=-1)\n",
    "diff_works = np.mean(np.load(work_path+\"/costsPartnered.npy\"), axis=-1)"
   ]
  },
  {
   "cell_type": "code",
   "execution_count": 11,
   "metadata": {},
   "outputs": [
    {
     "data": {
      "text/plain": [
       "(array([0.33697817, 0.48686108, 1.1457611 , 7.20046325]),\n",
       " array([0.        , 0.86028268, 1.4491079 , 8.37040459]))"
      ]
     },
     "execution_count": 11,
     "metadata": {},
     "output_type": "execute_result"
    }
   ],
   "source": [
    "works, diff_works"
   ]
  },
  {
   "cell_type": "code",
   "execution_count": 12,
   "metadata": {},
   "outputs": [],
   "source": [
    "SL_Ne = 50"
   ]
  },
  {
   "cell_type": "code",
   "execution_count": 13,
   "metadata": {},
   "outputs": [
    {
     "data": {
      "text/plain": [
       "314.22184146646293"
      ]
     },
     "execution_count": 13,
     "metadata": {},
     "output_type": "execute_result"
    }
   ],
   "source": [
    "SL_Ne2 = works[-1]*SL_Ne/works[-2]\n",
    "SL_Ne2"
   ]
  },
  {
   "cell_type": "code",
   "execution_count": 14,
   "metadata": {},
   "outputs": [
    {
     "data": {
      "text/plain": [
       "739.4782204820567"
      ]
     },
     "execution_count": 14,
     "metadata": {},
     "output_type": "execute_result"
    }
   ],
   "source": [
    "SL_Ne3 = works[-1]*SL_Ne/works[-3]\n",
    "SL_Ne3"
   ]
  },
  {
   "cell_type": "code",
   "execution_count": 15,
   "metadata": {},
   "outputs": [
    {
     "data": {
      "text/plain": [
       "1068.387201404896"
      ]
     },
     "execution_count": 15,
     "metadata": {},
     "output_type": "execute_result"
    }
   ],
   "source": [
    "SL_Ne4 = works[-1]*SL_Ne/works[-4]\n",
    "SL_Ne4"
   ]
  },
  {
   "cell_type": "code",
   "execution_count": 16,
   "metadata": {},
   "outputs": [],
   "source": [
    "from gpuocean.utils import MultiLevelAnalysis"
   ]
  },
  {
   "cell_type": "code",
   "execution_count": 17,
   "metadata": {},
   "outputs": [],
   "source": [
    "analysis = MultiLevelAnalysis.Analysis(args_list, vars, diff_vars, works, diff_works)"
   ]
  },
  {
   "cell_type": "code",
   "execution_count": 18,
   "metadata": {},
   "outputs": [
    {
     "data": {
      "text/plain": [
       "array([98, 73, 60, 23], dtype=int32)"
      ]
     },
     "execution_count": 18,
     "metadata": {},
     "output_type": "execute_result"
    }
   ],
   "source": [
    "ML_Ne = analysis.optimal_Ne(1.4e-1)\n",
    "ML_Ne"
   ]
  },
  {
   "cell_type": "code",
   "execution_count": 19,
   "metadata": {},
   "outputs": [
    {
     "data": {
      "text/plain": [
       "52.12029600358225"
      ]
     },
     "execution_count": 19,
     "metadata": {},
     "output_type": "execute_result"
    }
   ],
   "source": [
    "analysis.work(ML_Ne)/analysis.works[-1]"
   ]
  },
  {
   "cell_type": "code",
   "execution_count": 20,
   "metadata": {},
   "outputs": [],
   "source": [
    "analysis2 = MultiLevelAnalysis.Analysis(args_list[1:], vars[1:], diff_vars[1:], works[1:], diff_works[1:])"
   ]
  },
  {
   "cell_type": "code",
   "execution_count": 21,
   "metadata": {},
   "outputs": [
    {
     "data": {
      "text/plain": [
       "array([143,  64,  24], dtype=int32)"
      ]
     },
     "execution_count": 21,
     "metadata": {},
     "output_type": "execute_result"
    }
   ],
   "source": [
    "ML_Ne2 = analysis2.optimal_Ne(1.3e-1)\n",
    "ML_Ne2"
   ]
  },
  {
   "cell_type": "code",
   "execution_count": 22,
   "metadata": {},
   "outputs": [
    {
     "data": {
      "text/plain": [
       "50.44866384420629"
      ]
     },
     "execution_count": 22,
     "metadata": {},
     "output_type": "execute_result"
    }
   ],
   "source": [
    "analysis2.work(ML_Ne2)/analysis.works[-1]"
   ]
  },
  {
   "cell_type": "markdown",
   "metadata": {},
   "source": [
    "SpeedUp"
   ]
  },
  {
   "cell_type": "code",
   "execution_count": 23,
   "metadata": {},
   "outputs": [],
   "source": [
    "# works = [1/(8**2), 1/(8), 1]\n",
    "# diff_works = [1/(8**2), 1/(8), 1]"
   ]
  },
  {
   "cell_type": "code",
   "execution_count": 24,
   "metadata": {},
   "outputs": [
    {
     "name": "stdout",
     "output_type": "stream",
     "text": [
      "Ne =  [79 56 45 15]\n",
      "SpeedUp =  1.2591642268708745\n"
     ]
    }
   ],
   "source": [
    "# var_idx, tau = 0, 5e-2\n",
    "# var_idx, tau = 1, 5e3\n",
    "var_idx, tau = 2, 5e3\n",
    "\n",
    "allwork = 0\n",
    "for l_idx in range(len(ls)):\n",
    "    if l_idx == 0: \n",
    "        allwork += np.sqrt(vars[l_idx][var_idx] * works[l_idx])\n",
    "    else:\n",
    "        allwork += np.sqrt(diff_vars[l_idx-1][var_idx] * diff_works[l_idx])\n",
    "\n",
    "optNe_ref = np.zeros(len(ls))\n",
    "for l_idx in range(len(ls)):\n",
    "    if l_idx == 0: \n",
    "        optNe_ref[l_idx] = np.sqrt(vars[l_idx][var_idx]/works[l_idx]) * allwork\n",
    "    else: \n",
    "        optNe_ref[l_idx] = np.sqrt(diff_vars[l_idx-1][var_idx]/diff_works[l_idx]) * allwork\n",
    "\n",
    "Ne = np.int32(np.ceil(1/(tau**2)*optNe_ref))\n",
    "print(\"Ne = \", Ne)\n",
    "\n",
    "MLens_work = Ne[0]*works[0]\n",
    "for l_idx in range(1, len(ls)):\n",
    "    MLens_work += Ne[l_idx]*diff_works[l_idx]\n",
    "\n",
    "SLens_work = vars[-1][var_idx]/(tau**2) * works[-1]\n",
    "\n",
    "print(\"SpeedUp = \", SLens_work/MLens_work)"
   ]
  },
  {
   "cell_type": "code",
   "execution_count": null,
   "metadata": {},
   "outputs": [],
   "source": []
  }
 ],
 "metadata": {
  "kernelspec": {
   "display_name": "Python 3",
   "language": "python",
   "name": "python3"
  },
  "language_info": {
   "codemirror_mode": {
    "name": "ipython",
    "version": 3
   },
   "file_extension": ".py",
   "mimetype": "text/x-python",
   "name": "python",
   "nbconvert_exporter": "python",
   "pygments_lexer": "ipython3",
   "version": "3.7.12"
  },
  "vscode": {
   "interpreter": {
    "hash": "3048633266a8aca5c85f16c1ee57ccad146141feb66febf24dcb8304467d1440"
   }
  }
 },
 "nbformat": 4,
 "nbformat_minor": 4
}
