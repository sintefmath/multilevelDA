{
 "cells": [
  {
   "cell_type": "markdown",
   "metadata": {},
   "source": [
    "# Multi Resolution Simulation"
   ]
  },
  {
   "cell_type": "code",
   "execution_count": 1,
   "metadata": {},
   "outputs": [
    {
     "name": "stdout",
     "output_type": "stream",
     "text": [
      "GPUOcean code from: 7d2531749aa0dad54aa6921ebca772503ba67391\n"
     ]
    }
   ],
   "source": [
    "import sys\n",
    "gpuocean_path = [p[:-4] for p in sys.path if p.endswith(\"gpuocean/src\")][0]\n",
    "import git\n",
    "repo = git.Repo(gpuocean_path)\n",
    "print(\"GPUOcean code from:\", repo.head.object.hexsha)"
   ]
  },
  {
   "cell_type": "markdown",
   "metadata": {},
   "source": [
    "### Classes and modules"
   ]
  },
  {
   "cell_type": "code",
   "execution_count": 2,
   "metadata": {},
   "outputs": [],
   "source": [
    "#Lets have matplotlib \"inline\"\n",
    "%matplotlib inline\n",
    "\n",
    "import os\n",
    "import sys\n",
    "\n",
    "#Import packages we need\n",
    "import numpy as np\n",
    "import datetime\n",
    "from IPython.display import display\n",
    "import copy\n",
    "\n",
    "#For plotting\n",
    "import matplotlib\n",
    "from matplotlib import pyplot as plt\n",
    "from mpl_toolkits.axes_grid1 import make_axes_locatable\n",
    "\n",
    "plt.rcParams[\"lines.color\"] = \"w\"\n",
    "plt.rcParams[\"text.color\"] = \"w\"\n",
    "plt.rcParams[\"axes.labelcolor\"] = \"w\"\n",
    "plt.rcParams[\"xtick.color\"] = \"w\"\n",
    "plt.rcParams[\"ytick.color\"] = \"w\"\n",
    "\n",
    "plt.rcParams[\"image.origin\"] = \"lower\""
   ]
  },
  {
   "cell_type": "markdown",
   "metadata": {},
   "source": [
    "GPU Ocean-modules:"
   ]
  },
  {
   "cell_type": "code",
   "execution_count": 3,
   "metadata": {},
   "outputs": [],
   "source": [
    "from gpuocean.utils import Common, NetCDFInitialization\n",
    "from gpuocean.SWEsimulators import CDKLM16, CDKLM16pair"
   ]
  },
  {
   "cell_type": "markdown",
   "metadata": {},
   "source": [
    "As initial and boundary conditions to the simulation, we use data from the Norkyst800 s-level files:"
   ]
  },
  {
   "cell_type": "code",
   "execution_count": 4,
   "metadata": {},
   "outputs": [
    {
     "data": {
      "text/plain": [
       "dict_keys(['nx', 'ny', 'dx', 'dy', 'g', 'r', 'H', 'eta0', 'hu0', 'hv0', 'angle', 'latitude', 'f', 'boundary_conditions_data', 'boundary_conditions', 'wind'])"
      ]
     },
     "execution_count": 4,
     "metadata": {},
     "output_type": "execute_result"
    }
   ],
   "source": [
    "nk800_url  = [\"/sintef/data/NorKyst800/ocean_his.an.20190716.nc\"]\n",
    "\n",
    "data_args = NetCDFInitialization.removeMetadata(NetCDFInitialization.getInitialConditionsNorKystCases(nk800_url, \"lofoten\", download_data=False, norkyst_data=False))\n",
    "data_args.keys()"
   ]
  },
  {
   "cell_type": "code",
   "execution_count": 5,
   "metadata": {},
   "outputs": [],
   "source": [
    "sim_args = {\n",
    "    \"dt\": 0.0,\n",
    "    \"write_netcdf\":False,\n",
    "    }"
   ]
  },
  {
   "cell_type": "code",
   "execution_count": 6,
   "metadata": {},
   "outputs": [],
   "source": [
    "pert_args = {\n",
    "    \"small_scale_perturbation\" : True,\n",
    "    \"small_scale_perturbation_interpolation_factor\" : 21,\n",
    "    \"small_scale_perturbation_amplitude\" : 0.00025,    \n",
    "    \"small_scale_perturbation_dx\" : 400,\n",
    "    \"small_scale_perturbation_dy\" : 400,\n",
    "}"
   ]
  },
  {
   "cell_type": "code",
   "execution_count": 7,
   "metadata": {},
   "outputs": [],
   "source": [
    "T = 12\n",
    "subT = 300"
   ]
  },
  {
   "cell_type": "code",
   "execution_count": 8,
   "metadata": {},
   "outputs": [],
   "source": [
    "loc = [[50,50],[250,450]]\n",
    "scale = 1.5 # NOTE: We use constant, Could also be lists of length L"
   ]
  },
  {
   "cell_type": "markdown",
   "metadata": {},
   "source": [
    "## Sample size"
   ]
  },
  {
   "cell_type": "code",
   "execution_count": 9,
   "metadata": {},
   "outputs": [],
   "source": [
    "N = 10"
   ]
  },
  {
   "cell_type": "markdown",
   "metadata": {},
   "source": [
    "## Levels"
   ]
  },
  {
   "cell_type": "code",
   "execution_count": 10,
   "metadata": {},
   "outputs": [],
   "source": [
    "L = 1 #root=0"
   ]
  },
  {
   "cell_type": "code",
   "execution_count": 11,
   "metadata": {},
   "outputs": [],
   "source": [
    "gpu_ctxs = []\n",
    "for i in range(L+1):\n",
    "    gpu_ctxs.append(Common.CUDAContext())\n",
    "\n",
    "slave_gpu_ctxs = []\n",
    "for i in range(L+1):\n",
    "    slave_gpu_ctxs.append(Common.CUDAContext())"
   ]
  },
  {
   "cell_type": "markdown",
   "metadata": {},
   "source": [
    "# Mean Estimator $\\mathbb{E}\\lVert u^l - u^{l-1} \\rVert_{D^l}$"
   ]
  },
  {
   "cell_type": "code",
   "execution_count": 12,
   "metadata": {},
   "outputs": [
    {
     "name": "stderr",
     "output_type": "stream",
     "text": [
      "This will give inaccurate angle along the border!\n",
      "This will give inaccurate coriolis along the border!\n",
      "This will give inaccurate angle along the border!\n",
      "This will give inaccurate coriolis along the border!\n",
      "This will give inaccurate angle along the border!\n",
      "This will give inaccurate coriolis along the border!\n"
     ]
    },
    {
     "name": "stdout",
     "output_type": "stream",
     "text": [
      "The bathymetry is only intersection-rescaled and padded in the ghost cells: \n",
      "                Please implement a better informed bathymetry refinement! \n",
      "                and search for \"TODO: If bathymetry changes, this has to be adapted here!\" in the source code.\n"
     ]
    }
   ],
   "source": [
    "# Set up new simulations\n",
    "sim = CDKLM16.CDKLM16(gpu_ctxs[0], **sim_args, **data_args)\n",
    "slave = CDKLM16.CDKLM16(slave_gpu_ctxs[0], **sim_args, **data_args)   \n",
    "\n",
    "# Initialise L levels\n",
    "child = sim\n",
    "slave_child = slave\n",
    "for l in range(1,L+1):\n",
    "    child.give_birth(gpu_ctxs[l], loc, scale)\n",
    "    child = child.children[0]\n",
    "    if l < L:\n",
    "        slave_child.give_birth(slave_gpu_ctxs[l], loc, scale)\n",
    "        slave_child = slave_child.children[0]"
   ]
  },
  {
   "cell_type": "code",
   "execution_count": 60,
   "metadata": {},
   "outputs": [],
   "source": [
    "def MultiResNorm(sim, slave=None):\n",
    "\n",
    "    def squared_level_norm(level_sim, level_slave):\n",
    "        eta = copy.deepcopy(level_sim.download(interior_domain_only=True)[0])\n",
    "        hu  = copy.deepcopy(level_sim.download(interior_domain_only=True)[1])\n",
    "        hv  = copy.deepcopy(level_sim.download(interior_domain_only=True)[2])\n",
    "        if level_slave is not None:\n",
    "            slave_eta = copy.deepcopy(level_sim.download(interior_domain_only=True)[0])\n",
    "            slave_hu  = copy.deepcopy(level_sim.download(interior_domain_only=True)[1])\n",
    "            slave_hv  = copy.deepcopy(level_sim.download(interior_domain_only=True)[2])\n",
    "        for child in level_sim.children:\n",
    "            child_loc = child.level_local_area  \n",
    "            eta[child_loc[0][0]:child_loc[1][0], child_loc[0][1]:child_loc[1][1]] = 0.0\n",
    "            hu[child_loc[0][0]:child_loc[1][0], child_loc[0][1]:child_loc[1][1]] = 0.0\n",
    "            hv[child_loc[0][0]:child_loc[1][0], child_loc[0][1]:child_loc[1][1]] = 0.0\n",
    "            if level_slave is not None:\n",
    "                slave_eta[child_loc[0][0]:child_loc[1][0], child_loc[0][1]:child_loc[1][1]] = 0.0\n",
    "                slave_hu[child_loc[0][0]:child_loc[1][0], child_loc[0][1]:child_loc[1][1]] = 0.0\n",
    "                slave_hv[child_loc[0][0]:child_loc[1][0], child_loc[0][1]:child_loc[1][1]] = 0.0\n",
    "        if level_slave is not None:\n",
    "            eta = eta - slave_eta\n",
    "            hu  = hu  - slave_hu\n",
    "            hv  = hv  - slave_hv\n",
    "        return np.array([np.linalg.norm(eta.filled(0.0))**2, np.linalg.norm(hu.filled(0.0))**2, np.linalg.norm(hv.filled(0.0))**2]) * (level_sim.dx*level_sim.dy)\n",
    "\n",
    "    def squared_all_level_norm(level_sim, level_slave, squared_level_norms=np.zeros(3)):\n",
    "        for child in level_sim.children:\n",
    "            slave_child = None\n",
    "            if level_slave is not None:\n",
    "                forget_child = False\n",
    "                if len(level_slave.children) == 0:\n",
    "                    # NOTE: We assume that the slave abruptly stops at a certain level,\n",
    "                    # but shares the others levels with the master sim\n",
    "                    level_slave.give_birth(slave_gpu_ctxs[-1], child.level_local_area, child.level_rescale_factor)\n",
    "                    forget_child = True\n",
    "                slave_child = level_slave.children[0]\n",
    "            squared_all_level_norm(child, slave_child, squared_level_norms)\n",
    "            if level_slave is not None:\n",
    "                if forget_child:\n",
    "                    level_slave.children = []\n",
    "        squared_level_norms += squared_level_norm(level_sim, level_slave)\n",
    "        return squared_level_norms\n",
    "\n",
    "    return np.sqrt(squared_all_level_norm(sim, slave))\n"
   ]
  },
  {
   "cell_type": "code",
   "execution_count": 61,
   "metadata": {},
   "outputs": [
    {
     "data": {
      "text/plain": [
       "array([  112593.54623354, 12523373.7494577 ,  8344415.35580024])"
      ]
     },
     "execution_count": 61,
     "metadata": {},
     "output_type": "execute_result"
    }
   ],
   "source": [
    "MultiResNorm(sim)"
   ]
  },
  {
   "cell_type": "code",
   "execution_count": 62,
   "metadata": {},
   "outputs": [
    {
     "data": {
      "text/plain": [
       "array([0., 0., 0.])"
      ]
     },
     "execution_count": 62,
     "metadata": {},
     "output_type": "execute_result"
    }
   ],
   "source": [
    "MultiResNorm(sim, slave)"
   ]
  },
  {
   "cell_type": "code",
   "execution_count": null,
   "metadata": {},
   "outputs": [],
   "source": []
  },
  {
   "cell_type": "code",
   "execution_count": null,
   "metadata": {},
   "outputs": [],
   "source": []
  },
  {
   "cell_type": "code",
   "execution_count": null,
   "metadata": {},
   "outputs": [],
   "source": []
  },
  {
   "cell_type": "code",
   "execution_count": null,
   "metadata": {},
   "outputs": [],
   "source": []
  },
  {
   "cell_type": "code",
   "execution_count": null,
   "metadata": {},
   "outputs": [],
   "source": []
  },
  {
   "cell_type": "code",
   "execution_count": null,
   "metadata": {},
   "outputs": [],
   "source": [
    "for n in range(N):\n",
    "    # Set up new simulations\n",
    "    sim = CDKLM16.CDKLM16(gpu_ctxs[0], **sim_args, **data_args)\n",
    "    slave = CDKLM16.CDKLM16(slave_gpu_ctxs[0], **sim_args, **data_args)   \n",
    "\n",
    "    # Initialise L levels\n",
    "    child = sim\n",
    "    slave_child = slave\n",
    "    for l in range(1,L+1):\n",
    "        child.give_birth(gpu_ctxs[l], loc, scale)\n",
    "        child = child.children[0]\n",
    "        if l < L:\n",
    "            slave_child.give_birth(slave_gpu_ctxs[l], loc, scale)\n",
    "            slave_child = slave_child.children[0]\n",
    "\n",
    "    # pair slave and step ahead in time\n",
    "    sim_pair = CDKLM16pair.CDKLM16pair(sim, slave, **pert_args)\n",
    "    for t_steps in range(T): \n",
    "        sim_pair.step(subT, apply_stochastic_term=True) # model error after every step()-call\n",
    "    \n",
    "\n",
    "\n",
    "\n",
    "\n",
    "    \n",
    "    # Finest levels\n",
    "    level_sim = sim_pair.sim\n",
    "    slave_level_sim = sim_pair.slave_sim\n",
    "    for l in range(1,L+1):\n",
    "        level_sim = level_sim.children[0]\n",
    "        if l < L:\n",
    "            slave_level_sim = slave_level_sim.children[0]\n",
    "    \n",
    "    eta, hu, hv = level_sim.download()\n",
    "    slave_level_sim.give_birth(slave_gpu_ctxs[-1], loc, scale)\n",
    "    slave_eta, slave_hu, slave_hv = slave_level_sim.children[0].download()\n",
    "    slave_level_sim.kill_child()\n",
    "\n",
    "    if n==0:\n",
    "        Ediff = np.ma.array([(eta - slave_eta)/N, (hu - slave_hu)/N, (hv - slave_hv)/N])\n",
    "    else:\n",
    "        Ediff += np.ma.array([(eta - slave_eta)/N, (hu - slave_hu)/N, (hv - slave_hv)/N])\n",
    "\n",
    "    if n==0:\n",
    "        E = np.ma.array([eta/N, hu/N, hv/N])\n",
    "    else:\n",
    "        E += np.ma.array([eta/N, hu/N, hv/N])"
   ]
  },
  {
   "cell_type": "code",
   "execution_count": null,
   "metadata": {},
   "outputs": [],
   "source": [
    "# Also see https://matplotlib.org/stable/gallery/images_contours_and_fields/irregulardatagrid.html "
   ]
  },
  {
   "cell_type": "code",
   "execution_count": null,
   "metadata": {},
   "outputs": [],
   "source": [
    "fig, axs = plt.subplots(2,3, figsize=(20,10))\n",
    "\n",
    "im = axs[0,0].imshow(Ediff[0], vmin=-0.25, vmax=0.25)\n",
    "plt.colorbar(im, ax=axs[0,0], shrink=0.5)\n",
    "\n",
    "im = axs[0,1].imshow(Ediff[1], vmin=-12.5, vmax=12.5)\n",
    "plt.colorbar(im, ax=axs[0,1], shrink=0.5)\n",
    "\n",
    "im = axs[0,2].imshow(Ediff[2], vmin=-12.5, vmax=12.5)\n",
    "plt.colorbar(im, ax=axs[0,2], shrink=0.5)\n",
    "\n",
    "\n",
    "im = axs[1,0].imshow(E[0], vmin=-1, vmax=1)\n",
    "plt.colorbar(im, ax=axs[1,0], shrink=0.5)\n",
    "\n",
    "im = axs[1,1].imshow(E[1], vmin=-50, vmax=50)\n",
    "plt.colorbar(im, ax=axs[1,1], shrink=0.5)\n",
    "\n",
    "im = axs[1,2].imshow(E[2], vmin=-50, vmax=50)\n",
    "plt.colorbar(im, ax=axs[1,2], shrink=0.5)"
   ]
  },
  {
   "cell_type": "markdown",
   "metadata": {},
   "source": [
    "# Variance Estimator"
   ]
  },
  {
   "cell_type": "code",
   "execution_count": null,
   "metadata": {},
   "outputs": [],
   "source": [
    "for n in range(N):\n",
    "    # Set up new simulations\n",
    "    sim = CDKLM16.CDKLM16(gpu_ctxs[0], **sim_args, **data_args)\n",
    "    slave = CDKLM16.CDKLM16(slave_gpu_ctxs[0], **sim_args, **data_args)   \n",
    "\n",
    "    # Initialise L levels\n",
    "    child = sim\n",
    "    slave_child = slave\n",
    "    for l in range(1,L+1):\n",
    "        child.give_birth(gpu_ctxs[l], loc, scale)\n",
    "        child = child.children[0]\n",
    "        if l < L:\n",
    "            slave_child.give_birth(slave_gpu_ctxs[l], loc, scale)\n",
    "            slave_child = slave_child.children[0]\n",
    "\n",
    "    # pair slave and step ahead in time\n",
    "    sim_pair = CDKLM16pair.CDKLM16pair(sim, slave, **pert_args)\n",
    "    for five in range(T): \n",
    "        sim_pair.step(subT, apply_stochastic_term=True) # model error after every step()-call\n",
    "    \n",
    "    # Finest levels\n",
    "    level_sim = sim_pair.sim\n",
    "    slave_level_sim = sim_pair.slave_sim\n",
    "    for l in range(1,L+1):\n",
    "        level_sim = level_sim.children[0]\n",
    "        if l < L:\n",
    "            slave_level_sim = slave_level_sim.children[0]\n",
    "    \n",
    "    eta, hu, hv = level_sim.download()\n",
    "    slave_level_sim.give_birth(slave_gpu_ctxs[-1], loc, scale)\n",
    "    slave_eta, slave_hu, slave_hv = slave_level_sim.children[0].download()\n",
    "    slave_level_sim.kill_child()\n",
    "\n",
    "    if n == 0:\n",
    "        VarDiff = np.ma.array([((eta - slave_eta) - Ediff[0])**2/(N-1), ((hu - slave_hu) - Ediff[1])**2/(N-1), ((hv - slave_hv) - Ediff[2])**2/(N-1)])\n",
    "    else:\n",
    "        VarDiff += np.ma.array([((eta - slave_eta) - Ediff[0])**2/(N-1), ((hu - slave_hu) - Ediff[1])**2/(N-1), ((hv - slave_hv) - Ediff[2])**2/(N-1)])\n",
    "\n",
    "    if n==0:\n",
    "        Var = np.ma.array([(eta - E[0])**2/(N-1), (hu - E[1])**2/(N-1), (hv - E[2])**2/(N-1)])\n",
    "    else:\n",
    "        Var += np.ma.array([(eta - E[0])**2/(N-1), (hu - E[1])**2/(N-1), (hv - E[2])**2/(N-1)])\n",
    "\n",
    "    # TEMP \n",
    "    if n == 0:\n",
    "        level_sims = np.ma.zeros((N,3,eta.shape[0], eta.shape[1]))\n",
    "        level_sims[n] = np.ma.array([eta, hu, hv])\n",
    "        slave_level_sims = np.ma.zeros((N,3,eta.shape[0], eta.shape[1]))\n",
    "        slave_level_sims[n] = np.ma.array([slave_eta, slave_hu, slave_hv])\n",
    "    else:\n",
    "        level_sims[n] = np.ma.array([eta, hu, hv])\n",
    "        slave_level_sims[n] = np.ma.array([slave_eta, slave_hu, slave_hv])"
   ]
  },
  {
   "cell_type": "code",
   "execution_count": null,
   "metadata": {},
   "outputs": [],
   "source": [
    "fig, axs = plt.subplots(2,3, figsize=(20,10))\n",
    "\n",
    "im = axs[0,0].imshow(VarDiff[0], vmax=0.01)\n",
    "plt.colorbar(im, ax=axs[0,0], shrink=0.5)\n",
    "\n",
    "im = axs[0,1].imshow(VarDiff[1], vmax=100)\n",
    "plt.colorbar(im, ax=axs[0,1], shrink=0.5)\n",
    "\n",
    "im = axs[0,2].imshow(VarDiff[2], vmax=100)\n",
    "plt.colorbar(im, ax=axs[0,2], shrink=0.5)\n",
    "\n",
    "\n",
    "im = axs[1,0].imshow(Var[0], vmax=0.01)\n",
    "plt.colorbar(im, ax=axs[1,0], shrink=0.5)\n",
    "\n",
    "im = axs[1,1].imshow(Var[1], vmax=100)\n",
    "plt.colorbar(im, ax=axs[1,1], shrink=0.5)\n",
    "\n",
    "im = axs[1,2].imshow(Var[2], vmax=100)\n",
    "plt.colorbar(im, ax=axs[1,2], shrink=0.5)"
   ]
  },
  {
   "cell_type": "code",
   "execution_count": null,
   "metadata": {},
   "outputs": [],
   "source": [
    "[np.linalg.norm(field)/np.prod(field.shape) for field in Var]"
   ]
  },
  {
   "cell_type": "code",
   "execution_count": null,
   "metadata": {},
   "outputs": [],
   "source": [
    "[np.linalg.norm(field)/np.prod(field.shape) for field in VarDiff]"
   ]
  },
  {
   "cell_type": "code",
   "execution_count": null,
   "metadata": {},
   "outputs": [],
   "source": [
    "# https://en.wikipedia.org/wiki/Kahan_summation_algorithm\n",
    "sum = 0.0 \n",
    "sum_corr = 0.0\n",
    "\n",
    "for n in range(N):\n",
    "    summand = n - sum_corr\n",
    "    tmp_sum = sum + summand\n",
    "    sum_corr = (tmp_sum - sum) - summand\n",
    "    sum = tmp_sum\n"
   ]
  },
  {
   "cell_type": "code",
   "execution_count": null,
   "metadata": {},
   "outputs": [],
   "source": []
  }
 ],
 "metadata": {
  "kernelspec": {
   "display_name": "Python 3.7.12 ('gpuocean_opendrift')",
   "language": "python",
   "name": "python3"
  },
  "language_info": {
   "codemirror_mode": {
    "name": "ipython",
    "version": 3
   },
   "file_extension": ".py",
   "mimetype": "text/x-python",
   "name": "python",
   "nbconvert_exporter": "python",
   "pygments_lexer": "ipython3",
   "version": "3.7.12"
  },
  "vscode": {
   "interpreter": {
    "hash": "3048633266a8aca5c85f16c1ee57ccad146141feb66febf24dcb8304467d1440"
   }
  }
 },
 "nbformat": 4,
 "nbformat_minor": 4
}
