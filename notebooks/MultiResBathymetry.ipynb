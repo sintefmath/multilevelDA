{
 "cells": [
  {
   "cell_type": "markdown",
   "metadata": {},
   "source": [
    "# Multi Resolution Simulation"
   ]
  },
  {
   "cell_type": "markdown",
   "metadata": {},
   "source": [
    "### Classes and modules"
   ]
  },
  {
   "cell_type": "code",
   "execution_count": null,
   "metadata": {},
   "outputs": [],
   "source": [
    "#Lets have matplotlib \"inline\"\n",
    "%matplotlib inline\n",
    "\n",
    "import os\n",
    "import sys\n",
    "\n",
    "#Import packages we need\n",
    "import numpy as np\n",
    "import datetime\n",
    "from IPython.display import display\n",
    "import copy\n",
    "\n",
    "#For plotting\n",
    "import matplotlib\n",
    "from matplotlib import pyplot as plt\n",
    "from mpl_toolkits.axes_grid1 import make_axes_locatable\n",
    "\n",
    "plt.rcParams[\"lines.color\"] = \"w\"\n",
    "plt.rcParams[\"text.color\"] = \"w\"\n",
    "plt.rcParams[\"axes.labelcolor\"] = \"w\"\n",
    "plt.rcParams[\"xtick.color\"] = \"w\"\n",
    "plt.rcParams[\"ytick.color\"] = \"w\"\n",
    "\n",
    "plt.rcParams[\"image.origin\"] = \"lower\""
   ]
  },
  {
   "cell_type": "markdown",
   "metadata": {},
   "source": [
    "GPU Ocean-modules:"
   ]
  },
  {
   "cell_type": "code",
   "execution_count": null,
   "metadata": {},
   "outputs": [],
   "source": [
    "from gpuocean.utils import IPythonMagic, NetCDFInitialization"
   ]
  },
  {
   "cell_type": "code",
   "execution_count": null,
   "metadata": {},
   "outputs": [],
   "source": [
    "%cuda_context_handler gpu_ctx"
   ]
  },
  {
   "cell_type": "markdown",
   "metadata": {},
   "source": [
    "## Selecting loc"
   ]
  },
  {
   "cell_type": "markdown",
   "metadata": {},
   "source": [
    "As initial and boundary conditions to the simulation, we use data from the Norkyst800 s-level files:"
   ]
  },
  {
   "cell_type": "code",
   "execution_count": null,
   "metadata": {},
   "outputs": [],
   "source": [
    "nk800_url  = \"/sintef/data/NorKyst800/NorKyst-800m_ZDEPTHS_his.an.2019071600.nc\"\n",
    "\n",
    "nk800_data_args = NetCDFInitialization.removeMetadata(NetCDFInitialization.getInitialConditionsNorKystCases(nk800_url, \"lofoten\", download_data=False, norkyst_data=True))"
   ]
  },
  {
   "cell_type": "code",
   "execution_count": null,
   "metadata": {},
   "outputs": [],
   "source": [
    "plt.imshow(nk800_data_args[\"H\"])"
   ]
  },
  {
   "cell_type": "code",
   "execution_count": null,
   "metadata": {},
   "outputs": [],
   "source": [
    "nf160_url = \"/sintef/data/NorFjords160/A10/norfjords_160m_his.nc4_2019071601-2019071700\"\n",
    "\n",
    "nf160_data_args = NetCDFInitialization.removeMetadata(NetCDFInitialization.getInitialConditions(nf160_url,50, 1950, 50, 1100, download_data=False, norkyst_data=False))"
   ]
  },
  {
   "cell_type": "code",
   "execution_count": null,
   "metadata": {},
   "outputs": [],
   "source": [
    "plt.imshow(nf160_data_args[\"H\"])"
   ]
  },
  {
   "cell_type": "code",
   "execution_count": null,
   "metadata": {},
   "outputs": [],
   "source": [
    "import netCDF4\n",
    "from gpuocean.utils import GPUOcean_runDeterministic\n",
    "\n",
    "\n",
    "try:\n",
    "    ncfile = netCDF4.Dataset(nf160_url)\n",
    "    lon_rho = ncfile.variables['lon_rho'][:]\n",
    "    lat_rho = ncfile.variables['lat_rho'][:]\n",
    "except Exception as e:\n",
    "    raise e\n",
    "finally:\n",
    "    ncfile.close()\n",
    "    \n",
    "X_norkyst, Y_norkyst, proj = GPUOcean_runDeterministic.getXYproj(nk800_url)\n",
    "    \n",
    "X_norfjords, Y_norfjords = proj(lon_rho, lat_rho, inverse = False) #Norfjords within norkyst800(total domain)\n",
    "X_norfjords = X_norfjords[0]\n",
    "Y_norfjords = Y_norfjords[:,0] "
   ]
  },
  {
   "cell_type": "code",
   "execution_count": null,
   "metadata": {},
   "outputs": [],
   "source": [
    "X_norkyst"
   ]
  },
  {
   "cell_type": "code",
   "execution_count": null,
   "metadata": {},
   "outputs": [],
   "source": [
    "X_norfjords"
   ]
  },
  {
   "cell_type": "code",
   "execution_count": null,
   "metadata": {},
   "outputs": [],
   "source": [
    "import xarray as xr\n",
    "nk800_ds = xr.open_dataset(nk800_url)\n",
    "nk800_ds"
   ]
  },
  {
   "cell_type": "code",
   "execution_count": null,
   "metadata": {},
   "outputs": [],
   "source": [
    "nf160_ds = xr.open_dataset(nf160_url)\n",
    "nf160_ds"
   ]
  },
  {
   "cell_type": "code",
   "execution_count": null,
   "metadata": {},
   "outputs": [],
   "source": [
    "# conda install -c conda-forge ncplot\n",
    "import ncplot.xarray\n",
    "nk800_ds.ncplot.view(\"zeta\")"
   ]
  },
  {
   "cell_type": "code",
   "execution_count": null,
   "metadata": {},
   "outputs": [],
   "source": [
    "nf160_ds.ncplot.view()"
   ]
  }
 ],
 "metadata": {
  "kernelspec": {
   "display_name": "Python 3.7.12 ('gpuocean_opendrift')",
   "language": "python",
   "name": "python3"
  },
  "language_info": {
   "codemirror_mode": {
    "name": "ipython",
    "version": 3
   },
   "file_extension": ".py",
   "mimetype": "text/x-python",
   "name": "python",
   "nbconvert_exporter": "python",
   "pygments_lexer": "ipython3",
   "version": "3.7.12"
  },
  "vscode": {
   "interpreter": {
    "hash": "3048633266a8aca5c85f16c1ee57ccad146141feb66febf24dcb8304467d1440"
   }
  }
 },
 "nbformat": 4,
 "nbformat_minor": 4
}
