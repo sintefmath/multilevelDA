{
 "cells": [
  {
   "attachments": {},
   "cell_type": "markdown",
   "metadata": {},
   "source": [
    "# Variance-level plots"
   ]
  },
  {
   "attachments": {},
   "cell_type": "markdown",
   "metadata": {},
   "source": [
    "### Classes and modules"
   ]
  },
  {
   "cell_type": "code",
   "execution_count": 1,
   "metadata": {},
   "outputs": [],
   "source": [
    "#Lets have matplotlib \"inline\"\n",
    "%matplotlib inline\n",
    "\n",
    "import os\n",
    "import sys\n",
    "\n",
    "#Import packages we need\n",
    "import numpy as np\n",
    "import datetime\n",
    "from IPython.display import display\n",
    "import copy\n",
    "\n",
    "#For plotting\n",
    "import matplotlib\n",
    "from matplotlib import pyplot as plt\n",
    "from mpl_toolkits.axes_grid1 import make_axes_locatable\n",
    "\n",
    "plt.rcParams[\"lines.color\"] = \"w\"\n",
    "plt.rcParams[\"text.color\"] = \"w\"\n",
    "plt.rcParams[\"axes.labelcolor\"] = \"w\"\n",
    "plt.rcParams[\"xtick.color\"] = \"w\"\n",
    "plt.rcParams[\"ytick.color\"] = \"w\"\n",
    "\n",
    "plt.rcParams[\"image.origin\"] = \"lower\"\n",
    "\n",
    "import pycuda.driver as cuda"
   ]
  },
  {
   "attachments": {},
   "cell_type": "markdown",
   "metadata": {},
   "source": [
    "GPU Ocean-modules:"
   ]
  },
  {
   "cell_type": "code",
   "execution_count": 2,
   "metadata": {},
   "outputs": [],
   "source": [
    "from gpuocean.utils import IPythonMagic, Common\n",
    "from gpuocean.SWEsimulators import CDKLM16, ModelErrorKL"
   ]
  },
  {
   "cell_type": "code",
   "execution_count": 3,
   "metadata": {},
   "outputs": [],
   "source": [
    "%cuda_context_handler gpu_ctx"
   ]
  },
  {
   "cell_type": "code",
   "execution_count": 4,
   "metadata": {},
   "outputs": [],
   "source": [
    "gpu_stream = cuda.Stream()"
   ]
  },
  {
   "attachments": {},
   "cell_type": "markdown",
   "metadata": {},
   "source": [
    "Utils"
   ]
  },
  {
   "cell_type": "code",
   "execution_count": 5,
   "metadata": {},
   "outputs": [],
   "source": [
    "sys.path.insert(0, os.path.abspath(os.path.join(os.getcwd(), '../')))\n",
    "from utils.BasinInit import *\n",
    "from utils.BasinAnalysis import *\n",
    "from utils.BasinPlot import *"
   ]
  },
  {
   "cell_type": "code",
   "execution_count": 6,
   "metadata": {},
   "outputs": [],
   "source": [
    "ls = [6, 7, 8, 9, 10]"
   ]
  },
  {
   "cell_type": "code",
   "execution_count": 7,
   "metadata": {},
   "outputs": [],
   "source": [
    "grid_args_list = []\n",
    "\n",
    "for l in ls:\n",
    "    lvl_grid_args = initGridSpecs(l)\n",
    "    grid_args_list.append( {\n",
    "        \"nx\": lvl_grid_args[\"nx\"],\n",
    "        \"ny\": lvl_grid_args[\"ny\"],\n",
    "        \"dx\": lvl_grid_args[\"dx\"],\n",
    "        \"dy\": lvl_grid_args[\"dy\"],\n",
    "        } )"
   ]
  },
  {
   "attachments": {},
   "cell_type": "markdown",
   "metadata": {},
   "source": [
    "Test"
   ]
  },
  {
   "cell_type": "code",
   "execution_count": 8,
   "metadata": {},
   "outputs": [],
   "source": [
    "source_path = \"/home/florianb/havvarsel/multilevelDA/scripts/VarianceLevelsDA/Basin/2023-08-30T13_04_26\""
   ]
  },
  {
   "cell_type": "code",
   "execution_count": 9,
   "metadata": {},
   "outputs": [],
   "source": [
    "states = [[np.load(source_path+\"/SLensemble_\"+str(l_idx)+\"_\"+str(t)+\".npy\") for l_idx in range(len(ls))] for t in [0, 15*60, 3600, 6*3600, 12*3600] ]"
   ]
  },
  {
   "cell_type": "code",
   "execution_count": 12,
   "metadata": {},
   "outputs": [],
   "source": [
    "from utils.BasinSL import *\n",
    "\n",
    "def g_functional(SL_ensemble):\n",
    "    \"\"\"\n",
    "    L_g functional as in notation of Kjetil's PhD thesis.\n",
    "    This should be the functional that is under investigation for the variance level plot\n",
    "\n",
    "    Returns a ndarray of same size as SL_ensemble (3, ny, nx, Ne)\n",
    "    \"\"\"\n",
    "    return (SL_ensemble - np.mean(SL_ensemble, axis=-1)[:,:,:,np.newaxis])**2\n",
    "    # return SL_ensemble\n",
    "\n",
    "\n",
    "def L2norm(field, lvl_grid_args):\n",
    "    \"\"\"\n",
    "    integral_D(f dx)\n",
    "    where D are uniform finite volumes\n",
    "\n",
    "    Input:\n",
    "    field           - ndarray of shape (3,ny,nx,..)\n",
    "    lvl_grid_args   - dict with nx, ny and dx, dy information\n",
    "\n",
    "    Output:\n",
    "    L2norm          - ndarray of shape (3,...)\n",
    "    \"\"\"\n",
    "    # assert field.shape[1:3] == (lvl_grid_args[\"ny\"], lvl_grid_args[\"nx\"]), \"field has wrong resolution\"\n",
    "    return np.sqrt(np.sum((field)**2 * lvl_grid_args[\"dx\"]*lvl_grid_args[\"dy\"], axis=(1,2)))\n",
    "\n",
    "\n",
    "def L1norm(field, lvl_grid_args):\n",
    "    \"\"\"\n",
    "    integral_D(f dx)\n",
    "    where D are uniform finite volumes\n",
    "\n",
    "    Input:\n",
    "    field           - ndarray of shape (3,ny,nx,..)\n",
    "    lvl_grid_args   - dict with nx, ny and dx, dy information\n",
    "\n",
    "    Output:\n",
    "    L1norm          - ndarray of shape (3,...)\n",
    "    \"\"\"\n",
    "    # assert field.shape[1:3] == (lvl_grid_args[\"ny\"], lvl_grid_args[\"nx\"]), \"field has wrong resolution\"\n",
    "    return np.sum(np.abs(field) * lvl_grid_args[\"dx\"]*lvl_grid_args[\"dy\"], axis=(1,2))\n",
    "\n",
    "\n",
    "def Enorm(field, lvl_grid_args):\n",
    "    \"\"\"\n",
    "    integral_D(f dx)\n",
    "    where D are uniform finite volumes\n",
    "\n",
    "    Input:\n",
    "    field           - ndarray of shape (3,ny,nx,..)\n",
    "    lvl_grid_args   - dict with nx, ny and dx, dy information\n",
    "\n",
    "    Output:\n",
    "    L1norm          - ndarray of shape (3,...)\n",
    "    \"\"\"\n",
    "    # assert field.shape[1:3] == (lvl_grid_args[\"ny\"], lvl_grid_args[\"nx\"]), \"field has wrong resolution\"\n",
    "    return np.mean(field, axis=(1,2))\n",
    "\n",
    "\n",
    "norm = L2norm"
   ]
  },
  {
   "cell_type": "code",
   "execution_count": 13,
   "metadata": {},
   "outputs": [],
   "source": [
    "Ts = [0, 15*60, 3600, 6*3600, 12*3600]\n",
    "\n",
    "vars_listTs = []\n",
    "diff_vars_listTs = []\n",
    "\n",
    "center_vars_listTs = []\n",
    "center_diff_vars_listTs = []\n",
    "        \n",
    "\n",
    "for t_idx in range(len(Ts)):\n",
    "    vars_list = []\n",
    "    diff_vars_list = []\n",
    "\n",
    "    center_vars_list = []\n",
    "    center_diff_vars_list = []\n",
    "    for l_idx in range(len(ls)):\n",
    "        vars_list.append(norm(np.var(g_functional(states[t_idx][l_idx]), axis=-1), grid_args_list[l_idx]))\n",
    "\n",
    "        center_N = int(grid_args_list[l_idx][\"nx\"]/4)\n",
    "        center_x = int(grid_args_list[l_idx][\"nx\"]/2)\n",
    "        center_y = int(grid_args_list[l_idx][\"ny\"]/2)\n",
    "            \n",
    "        center_vars_list.append( norm(np.var(g_functional(states[t_idx][l_idx])[:, center_y-center_N:center_y+center_N, center_x-center_N:center_x+center_N,:], axis=-1), grid_args_list[l_idx]) )\n",
    "        \n",
    "        if l_idx > 0:\n",
    "            diff_vars_list.append(norm(np.var(g_functional(states[t_idx][l_idx]) - g_functional(states[t_idx][l_idx-1]).repeat(2,1).repeat(2,2), axis=-1), grid_args_list[l_idx]))\n",
    "            center_diff_vars_list.append(norm(np.var((g_functional(states[t_idx][l_idx]) - g_functional(states[t_idx][l_idx-1]).repeat(2,1).repeat(2,2))[:, center_y-center_N:center_y+center_N, center_x-center_N:center_x+center_N,:], axis=-1), grid_args_list[l_idx]))\n",
    "    vars_listTs.append(vars_list)\n",
    "    diff_vars_listTs.append(diff_vars_list)\n",
    "\n",
    "    center_vars_listTs.append(center_vars_list)\n",
    "    center_diff_vars_listTs.append(center_diff_vars_list)"
   ]
  },
  {
   "cell_type": "code",
   "execution_count": 14,
   "metadata": {},
   "outputs": [],
   "source": [
    "import matplotlib.lines as mlines\n",
    "\n",
    "def plotLvlVarTs(relative=False, center=False):\n",
    "    \n",
    "    # Plot\n",
    "    # with plt.rc_context({'lines.color':'black', \n",
    "    #                 'text.color':'black', \n",
    "    #                 'axes.labelcolor':'black', \n",
    "    #                 'xtick.color':'black',\n",
    "    #                 'ytick.color':'black'}):\n",
    "\n",
    "    fig, axs = plt.subplots(1,3, figsize=(15,5))\n",
    "    if center:\n",
    "        fig.suptitle(\"Variance level plot for center\")\n",
    "    else:\n",
    "        fig.suptitle(\"Variance level plot\")\n",
    "\n",
    "    axs[0].set_title(\"$\\eta$\", fontsize=15)\n",
    "    axs[1].set_title(\"$hu$\", fontsize=15)\n",
    "    axs[2].set_title(\"$hv$\", fontsize=15)\n",
    "\n",
    "    Nxs = [nx*ny for nx, ny in zip([da[\"nx\"] for da in grid_args_list], [da[\"ny\"] for da in grid_args_list])]\n",
    "\n",
    "    for T_idx in range(len(vars_list)):\n",
    "        vars = np.array(vars_listTs[T_idx])\n",
    "        diff_vars = np.array(diff_vars_listTs[T_idx])\n",
    "        if center:\n",
    "            vars = np.array(center_vars_listTs[T_idx])\n",
    "            diff_vars = np.array(center_diff_vars_listTs[T_idx])\n",
    "\n",
    "        if relative:\n",
    "            diff_vars = diff_vars/vars[-1]\n",
    "            vars = vars/vars[-1]\n",
    "            axs[0].set_ylim((None,2))\n",
    "            axs[1].set_ylim((None,2))\n",
    "            axs[2].set_ylim((None,2))\n",
    "\n",
    "        for i in range(3):\n",
    "\n",
    "            if T_idx+1 < len(vars_list):\n",
    "                axs[i].loglog(Nxs, vars[:,i], linewidth=3, c=\"C0\", alpha=0.1+0.9*T_idx/len(vars_list))\n",
    "                axs[i].loglog(Nxs[1:], diff_vars[:,i], linewidth=3, c=\"C1\", alpha=0.1+0.9*T_idx/len(vars_list))\n",
    "            \n",
    "            else:\n",
    "                axs[i].loglog(Nxs, vars[:,i], linewidth=3, c=\"C0\", ls=\"--\")\n",
    "                axs[i].loglog(Nxs[1:], diff_vars[:,i], linewidth=3, c=\"C1\", ls=\"--\")\n",
    "                axs[i].set_xlabel(\"# grid cells\", fontsize=15)\n",
    "\n",
    "                handles_var = [mlines.Line2D([], [], c=\"C0\", lw=3, label=\"$|| Var[u^l] ||_{L^2}$\"), \n",
    "                                mlines.Line2D([], [], c=\"C1\", lw=3, label=\"$|| Var[u^l-u^{l-1}] ||_{L^2}$\")]\n",
    "                # legend_var = axs[i].legend(handles=handles_var, title=\"Variances\", labelcolor=\"black\", loc=(0.35,0.01), fontsize=12)\n",
    "                # axs[i].add_artist(legend_var)\n",
    "\n",
    "                axs[i].set_xlabel(\"# grid cells\", fontsize=15)\n",
    "                axs[i].set_xticks(Nxs)\n",
    "                axs[i].xaxis.grid(True)\n",
    "                \n",
    "                handles_T = [mlines.Line2D([], [], c=\"C1\", alpha=0.1+0.9*T_idx/len(vars_list), lw=3, label=str(Ts[T_idx])) for T_idx in range(len(vars_list)-1)]\n",
    "                handles_T.append( mlines.Line2D([], [], c=\"C1\", alpha=0.1+0.9*T_idx/len(vars_list), lw=3, ls=\"--\", label=str(Ts[-1])) )\n",
    "                # axs[i].legend(handles=handles_T, title=\"Time [s]\", fontsize=12, loc=(0.01,0.01))\n",
    "    "
   ]
  },
  {
   "cell_type": "code",
   "execution_count": 15,
   "metadata": {},
   "outputs": [
    {
     "data": {
      "image/png": "[encoded data removed]",
      "text/plain": [
       "<Figure size 1080x360 with 3 Axes>"
      ]
     },
     "metadata": {
      "needs_background": "dark"
     },
     "output_type": "display_data"
    }
   ],
   "source": [
    "plotLvlVarTs(center=True)"
   ]
  },
  {
   "cell_type": "code",
   "execution_count": 22,
   "metadata": {},
   "outputs": [],
   "source": [
    "for t_idx, T in enumerate(Ts):\n",
    "    varsT = [vars_listTs[t_idx][l_idx] for l_idx in range(len(ls))]\n",
    "    np.save(source_path+\"/vars_\"+str(T), np.array(varsT))\n",
    "\n",
    "    diff_varsT = [diff_vars_listTs[t_idx][l_idx] for l_idx in range(len(ls)-1)]\n",
    "    np.save(source_path+\"/diff_vars_\"+str(T), np.array(diff_varsT))\n",
    "\n",
    "    center_varsT = [center_vars_listTs[t_idx][l_idx] for l_idx in range(len(ls))]\n",
    "    np.save(source_path+\"/center_vars_\"+str(T), np.array(center_varsT))\n",
    "\n",
    "    center_diff_varsT = [center_diff_vars_listTs[t_idx][l_idx] for l_idx in range(len(ls)-1)]\n",
    "    np.save(source_path+\"/center_diff_vars_\"+str(T), np.array(center_diff_varsT))"
   ]
  },
  {
   "cell_type": "code",
   "execution_count": 49,
   "metadata": {},
   "outputs": [],
   "source": [
    "Nxs = np.array([nx*ny for nx, ny in zip([da[\"nx\"] for da in grid_args_list], [da[\"ny\"] for da in grid_args_list])])"
   ]
  },
  {
   "cell_type": "code",
   "execution_count": 74,
   "metadata": {},
   "outputs": [],
   "source": [
    "center_vars_file = np.array(center_vars_listTs)[0]\n",
    "for l_idx in range(1,len(ls)):\n",
    "    center_vars_file = np.c_[center_vars_file, np.array(center_vars_listTs)[l_idx]]"
   ]
  },
  {
   "cell_type": "code",
   "execution_count": 76,
   "metadata": {},
   "outputs": [],
   "source": [
    "center_diff_vars_file = np.array(center_diff_vars_listTs)[0]\n",
    "for l_idx in range(1,len(ls)):\n",
    "    center_diff_vars_file = np.c_[center_diff_vars_file, np.array(center_diff_vars_listTs)[l_idx]]"
   ]
  },
  {
   "cell_type": "code",
   "execution_count": 77,
   "metadata": {},
   "outputs": [],
   "source": [
    "np.savetxt(source_path+\"/center_vars.txt\", np.c_[Nxs, center_vars_file],\n",
    "           delimiter=\",\", fmt=\"%9.9f\")\n",
    "\n",
    "np.savetxt(source_path+\"/center_diff_vars.txt\", np.c_[Nxs[1:], center_diff_vars_file],\n",
    "           delimiter=\",\", fmt=\"%9.9f\")"
   ]
  }
 ],
 "metadata": {
  "kernelspec": {
   "display_name": "Python 3",
   "language": "python",
   "name": "python3"
  },
  "language_info": {
   "codemirror_mode": {
    "name": "ipython",
    "version": 3
   },
   "file_extension": ".py",
   "mimetype": "text/x-python",
   "name": "python",
   "nbconvert_exporter": "python",
   "pygments_lexer": "ipython3",
   "version": "3.7.12"
  },
  "vscode": {
   "interpreter": {
    "hash": "3048633266a8aca5c85f16c1ee57ccad146141feb66febf24dcb8304467d1440"
   }
  }
 },
 "nbformat": 4,
 "nbformat_minor": 4
}
