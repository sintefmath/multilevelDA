{
 "cells": [
  {
   "attachments": {},
   "cell_type": "markdown",
   "metadata": {},
   "source": [
    "# Double Jet\n",
    "\n",
    "With various grid sizes"
   ]
  },
  {
   "cell_type": "code",
   "execution_count": 1,
   "metadata": {},
   "outputs": [],
   "source": [
    "from gpuocean.SWEsimulators import ModelErrorKL, CDKLM16\n",
    "from gpuocean.utils import Common, IPythonMagic\n",
    "\n",
    "from importlib import reload\n",
    "\n",
    "import numpy as np\n",
    "import copy\n",
    "import pycuda.driver as cuda\n",
    "from matplotlib import pyplot as plt\n",
    "\n",
    "plt.rcParams[\"lines.color\"] = \"w\"\n",
    "plt.rcParams[\"text.color\"] = \"w\"\n",
    "plt.rcParams[\"axes.labelcolor\"] = \"w\"\n",
    "plt.rcParams[\"xtick.color\"] = \"w\"\n",
    "plt.rcParams[\"ytick.color\"] = \"w\"\n",
    "\n",
    "plt.rcParams[\"image.origin\"] = \"lower\"\n"
   ]
  },
  {
   "cell_type": "code",
   "execution_count": 2,
   "metadata": {},
   "outputs": [],
   "source": [
    "%cuda_context_handler gpu_ctx"
   ]
  },
  {
   "cell_type": "code",
   "execution_count": 3,
   "metadata": {},
   "outputs": [],
   "source": [
    "gpu_stream = cuda.Stream()"
   ]
  },
  {
   "cell_type": "code",
   "execution_count": 4,
   "metadata": {},
   "outputs": [],
   "source": [
    "import sys, os\n",
    "sys.path.insert(0, os.path.abspath(os.path.join(os.getcwd(), '../')))"
   ]
  },
  {
   "attachments": {},
   "cell_type": "markdown",
   "metadata": {},
   "source": [
    "Get initial arguments from class"
   ]
  },
  {
   "cell_type": "code",
   "execution_count": 5,
   "metadata": {},
   "outputs": [],
   "source": [
    "from gpuocean.utils import DoubleJetCase"
   ]
  },
  {
   "attachments": {},
   "cell_type": "markdown",
   "metadata": {},
   "source": [
    "Two-level ensemble"
   ]
  },
  {
   "cell_type": "code",
   "execution_count": 6,
   "metadata": {},
   "outputs": [],
   "source": [
    "doubleJetCase = DoubleJetCase.DoubleJetCase(gpu_ctx, DoubleJetCase.DoubleJetPerturbationType.SteadyState, ny=512, nx=1024)\n",
    "doubleJetCase_args, doubleJetCase_init, doubleJetCase_meargs = doubleJetCase.getInitConditions()"
   ]
  },
  {
   "cell_type": "code",
   "execution_count": 7,
   "metadata": {},
   "outputs": [],
   "source": [
    "coarse_doubleJetCase = DoubleJetCase.DoubleJetCase(gpu_ctx, DoubleJetCase.DoubleJetPerturbationType.SteadyState, ny=256, nx=512)\n",
    "coarse_doubleJetCase_args, coarse_doubleJetCase_init, _ = coarse_doubleJetCase.getInitConditions()"
   ]
  },
  {
   "cell_type": "code",
   "execution_count": 8,
   "metadata": {},
   "outputs": [],
   "source": [
    "doubleJetCase_meargs = {\n",
    "                            \"basis_x_start\": 2, \n",
    "                            \"basis_x_end\": 8,\n",
    "                            \"basis_y_start\": 1,\n",
    "                            \"basis_y_end\": 7,\n",
    "\n",
    "                            \"kl_decay\": 1.25,\n",
    "                            \"kl_scaling\": 0.025,\n",
    "                            }\n",
    "\n",
    "sim_model_error_time_step = 60.0                        "
   ]
  },
  {
   "cell_type": "code",
   "execution_count": 9,
   "metadata": {},
   "outputs": [],
   "source": [
    "ML_Nes = [100, 50]\n",
    "doubleJetCase_args_list = [coarse_doubleJetCase_args, doubleJetCase_args]\n",
    "doubleJetCase_init_list = [coarse_doubleJetCase_init, doubleJetCase_init]"
   ]
  },
  {
   "cell_type": "code",
   "execution_count": 10,
   "metadata": {},
   "outputs": [],
   "source": [
    "mekls = []\n",
    "for l_idx in range(len(doubleJetCase_args_list)): \n",
    "    grid_args = {key: doubleJetCase_args_list[l_idx][key] for key in ('nx', 'ny', 'dx', 'dy', 'gpu_ctx', 'boundary_conditions')}\n",
    "    mekls.append( ModelErrorKL.ModelErrorKL(gpu_stream=gpu_stream, **grid_args, **doubleJetCase_meargs) )"
   ]
  },
  {
   "cell_type": "code",
   "execution_count": 11,
   "metadata": {},
   "outputs": [
    {
     "name": "stdout",
     "output_type": "stream",
     "text": [
      "0\n",
      "1\n"
     ]
    }
   ],
   "source": [
    "## MultiLevel ensemble\n",
    "ML_ensemble = []\n",
    "\n",
    "# 0-level\n",
    "lvl_ensemble = []\n",
    "for i in range(ML_Nes[0]):\n",
    "    if i % 100 == 0: print(i)\n",
    "    sim = CDKLM16.CDKLM16(**doubleJetCase_args_list[0], **doubleJetCase_init_list[0]) \n",
    "\n",
    "    sim.model_error = mekls[0]\n",
    "    sim.model_time_step = sim_model_error_time_step\n",
    "    lvl_ensemble.append( sim )\n",
    "\n",
    "ML_ensemble.append(lvl_ensemble)\n",
    "\n",
    "# diff-levels\n",
    "for l_idx in range(1,len(ML_Nes)):\n",
    "    print(l_idx)\n",
    "    lvl_ensemble0 = []\n",
    "    lvl_ensemble1 = []\n",
    "    \n",
    "    for e in range(ML_Nes[l_idx]):\n",
    "        sim0 = CDKLM16.CDKLM16(**doubleJetCase_args_list[l_idx], **doubleJetCase_init_list[l_idx]) \n",
    "        sim1 = CDKLM16.CDKLM16(**doubleJetCase_args_list[l_idx-1], **doubleJetCase_init_list[l_idx-1])\n",
    "\n",
    "        sim0.model_error = mekls[l_idx]\n",
    "        sim1.model_error = mekls[l_idx-1]\n",
    "\n",
    "        sim0.model_time_step = sim_model_error_time_step\n",
    "        sim1.model_time_step = sim_model_error_time_step\n",
    "\n",
    "        lvl_ensemble0.append(sim0)\n",
    "        lvl_ensemble1.append(sim1)\n",
    "    \n",
    "    ML_ensemble.append([lvl_ensemble0,lvl_ensemble1])"
   ]
  },
  {
   "cell_type": "code",
   "execution_count": 12,
   "metadata": {},
   "outputs": [],
   "source": [
    "from gpuocean.ensembles import MultiLevelOceanEnsemble\n",
    "MLOceanEnsemble = MultiLevelOceanEnsemble.MultiLevelOceanEnsemble(ML_ensemble)"
   ]
  },
  {
   "attachments": {},
   "cell_type": "markdown",
   "metadata": {},
   "source": [
    "Generate observations"
   ]
  },
  {
   "cell_type": "code",
   "execution_count": 13,
   "metadata": {},
   "outputs": [],
   "source": [
    "from utils.DoubleJetParameters import * "
   ]
  },
  {
   "cell_type": "code",
   "execution_count": 14,
   "metadata": {},
   "outputs": [],
   "source": [
    "truth = CDKLM16.CDKLM16(**doubleJetCase_args, **doubleJetCase_init)\n",
    "truth.updateDt()\n",
    "truth.setKLModelError(**doubleJetCase_meargs)\n",
    "truth.model_time_step = sim_model_error_time_step\n",
    "\n",
    "# truth.dataAssimilationStep(6*60*60)"
   ]
  },
  {
   "cell_type": "code",
   "execution_count": 15,
   "metadata": {},
   "outputs": [],
   "source": [
    "true_eta, true_hu, true_hv = truth.download(interior_domain_only=True)\n",
    "obses = np.zeros((len(obs_xs),3))\n",
    "for h, [obs_x, obs_y] in enumerate(zip(obs_xs, obs_ys)):\n",
    "    Hx, Hy = MLOceanEnsemble.obsLoc2obsIdx(obs_x, obs_y)\n",
    "    obses[h] = [true_eta[Hy,Hx], true_hu[Hy,Hx], true_hv[Hy,Hx]] + np.random.normal(0,R)"
   ]
  },
  {
   "cell_type": "markdown",
   "metadata": {},
   "source": [
    "Data Assimilation"
   ]
  },
  {
   "cell_type": "code",
   "execution_count": 16,
   "metadata": {},
   "outputs": [],
   "source": [
    "prior = copy.deepcopy(MLOceanEnsemble.download())"
   ]
  },
  {
   "cell_type": "code",
   "execution_count": 17,
   "metadata": {},
   "outputs": [],
   "source": [
    "from gpuocean.dataassimilation import MLEnKFOcean\n",
    "MLEnKF = MLEnKFOcean.MLEnKFOcean(MLOceanEnsemble)"
   ]
  },
  {
   "cell_type": "code",
   "execution_count": 18,
   "metadata": {},
   "outputs": [],
   "source": [
    "precomp_GC = []\n",
    "for obs_x, obs_y in zip(obs_xs, obs_ys):\n",
    "    precomp_GC.append( MLEnKF.GCweights(obs_x, obs_y, r) )"
   ]
  },
  {
   "cell_type": "code",
   "execution_count": 19,
   "metadata": {},
   "outputs": [
    {
     "name": "stdout",
     "output_type": "stream",
     "text": [
      "0\n",
      "1\n",
      "2\n",
      "3\n",
      "4\n",
      "5\n",
      "6\n",
      "7\n",
      "8\n",
      "9\n",
      "10\n",
      "11\n",
      "12\n",
      "13\n",
      "14\n",
      "15\n",
      "16\n",
      "17\n",
      "18\n",
      "19\n",
      "20\n",
      "21\n",
      "22\n",
      "23\n",
      "24\n",
      "25\n",
      "26\n",
      "27\n",
      "28\n",
      "29\n",
      "30\n",
      "31\n",
      "32\n",
      "33\n",
      "34\n",
      "35\n",
      "36\n",
      "37\n",
      "38\n",
      "39\n",
      "40\n",
      "41\n",
      "42\n",
      "43\n",
      "44\n",
      "45\n",
      "46\n",
      "47\n",
      "48\n",
      "49\n"
     ]
    }
   ],
   "source": [
    "ML_state = MLOceanEnsemble.download()\n",
    "\n",
    "for h, [obs_x, obs_y] in enumerate(zip(obs_xs, obs_ys)):\n",
    "    print(h)\n",
    "    obs = obses[h]\n",
    "    \n",
    "    ML_state = MLEnKF.assimilate(ML_state, obs, obs_x, obs_y, R, \n",
    "                            r=r, obs_var=slice(1,3), relax_factor=0.5, \n",
    "                            min_localisation_level=0,\n",
    "                            precomp_GC=precomp_GC[h])\n",
    "\n",
    "MLOceanEnsemble.upload(ML_state)"
   ]
  },
  {
   "cell_type": "code",
   "execution_count": 20,
   "metadata": {},
   "outputs": [],
   "source": [
    "posterior = copy.deepcopy(MLOceanEnsemble.download())"
   ]
  },
  {
   "cell_type": "code",
   "execution_count": 21,
   "metadata": {},
   "outputs": [],
   "source": [
    "from utils.DoubleJetPlot import *"
   ]
  },
  {
   "cell_type": "code",
   "execution_count": 22,
   "metadata": {},
   "outputs": [
    {
     "data": {
      "text/plain": [
       "(<Figure size 1080x720 with 6 Axes>,\n",
       " array([<AxesSubplot:title={'center':'$\\\\eta$'}>,\n",
       "        <AxesSubplot:title={'center':'$hu$'}>,\n",
       "        <AxesSubplot:title={'center':'$hv$'}>], dtype=object))"
      ]
     },
     "execution_count": 22,
     "metadata": {},
     "output_type": "execute_result"
    },
    {
     "data": {
      "image/png": "[encoded data removed]",
      "text/plain": [
       "<Figure size 1080x720 with 6 Axes>"
      ]
     },
     "metadata": {
      "needs_background": "dark"
     },
     "output_type": "display_data"
    }
   ],
   "source": [
    "imshow3(MLOceanEnsemble.estimate(np.mean))"
   ]
  },
  {
   "cell_type": "code",
   "execution_count": 23,
   "metadata": {},
   "outputs": [
    {
     "data": {
      "text/plain": [
       "(<Figure size 1080x720 with 6 Axes>,\n",
       " array([<AxesSubplot:title={'center':'$\\\\eta$'}>,\n",
       "        <AxesSubplot:title={'center':'$hu$'}>,\n",
       "        <AxesSubplot:title={'center':'$hv$'}>], dtype=object))"
      ]
     },
     "execution_count": 23,
     "metadata": {},
     "output_type": "execute_result"
    },
    {
     "data": {
      "image/png": "[encoded data removed]",
      "text/plain": [
       "<Figure size 1080x720 with 6 Axes>"
      ]
     },
     "metadata": {
      "needs_background": "dark"
     },
     "output_type": "display_data"
    }
   ],
   "source": [
    "imshow3var(MLOceanEnsemble.estimate(np.std), eta_vlim=0.5, huv_vlim=100)"
   ]
  }
 ],
 "metadata": {
  "kernelspec": {
   "display_name": "gpuocean",
   "language": "python",
   "name": "python3"
  },
  "language_info": {
   "codemirror_mode": {
    "name": "ipython",
    "version": 3
   },
   "file_extension": ".py",
   "mimetype": "text/x-python",
   "name": "python",
   "nbconvert_exporter": "python",
   "pygments_lexer": "ipython3",
   "version": "3.7.12"
  },
  "orig_nbformat": 4
 },
 "nbformat": 4,
 "nbformat_minor": 2
}
