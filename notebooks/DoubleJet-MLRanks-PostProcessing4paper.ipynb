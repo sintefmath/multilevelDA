{
 "cells": [
  {
   "attachments": {},
   "cell_type": "markdown",
   "metadata": {},
   "source": [
    "# ML Rank Histograms"
   ]
  },
  {
   "attachments": {},
   "cell_type": "markdown",
   "metadata": {},
   "source": [
    "### Classes and modules"
   ]
  },
  {
   "cell_type": "code",
   "execution_count": 1,
   "metadata": {},
   "outputs": [],
   "source": [
    "#Lets have matplotlib \"inline\"\n",
    "%matplotlib inline\n",
    "\n",
    "import os\n",
    "import sys\n",
    "\n",
    "#Import packages we need\n",
    "import numpy as np\n",
    "import datetime\n",
    "from IPython.display import display\n",
    "import copy\n",
    "\n",
    "#For plotting\n",
    "import matplotlib\n",
    "from matplotlib import pyplot as plt\n",
    "from mpl_toolkits.axes_grid1 import make_axes_locatable\n",
    "\n",
    "plt.rcParams[\"image.origin\"] = \"lower\"\n"
   ]
  },
  {
   "attachments": {},
   "cell_type": "markdown",
   "metadata": {},
   "source": [
    "Input a file path"
   ]
  },
  {
   "cell_type": "code",
   "execution_count": 2,
   "metadata": {},
   "outputs": [],
   "source": [
    "source_paths = [\"/home/florianb/havvarsel/multilevelDA/doublejet/scripts/RankHistograms/2023-11-28T11_12_26\",\n",
    "                \"/home/florianb/havvarsel/multilevelDA/doublejet/scripts/RankHistograms/2023-11-28T11_14_15\",\n",
    "                \"/home/florianb/havvarsel/multilevelDA/doublejet/scripts/RankHistograms/2023-11-28T11_17_09\",\n",
    "                \"/home/florianb/havvarsel/multilevelDA/doublejet/scripts/RankHistograms/2023-11-28T11_55_23\",\n",
    "                \"/home/florianb/havvarsel/multilevelDA/doublejet/scripts/RankHistograms/2023-11-28T13_30_38\",\n",
    "                \"/home/florianb/havvarsel/multilevelDA/doublejet/scripts/RankHistograms/2023-11-28T14_24_40\"]"
   ]
  },
  {
   "cell_type": "markdown",
   "metadata": {},
   "source": [
    "See the files in the directory\n",
    "\n",
    "The different job result follow the output structure:\n",
    "- Folders `0`, `1`, `6`, `12`, `24`, `27` for the different hours after spin-up\n",
    "- Files `<n>_MLvalue_<l>.npy` where `n` is the experiment number and `l` is the level index (for higher levels it is succeeded by `_0` or `_1`)"
   ]
  },
  {
   "cell_type": "code",
   "execution_count": 3,
   "metadata": {},
   "outputs": [],
   "source": [
    "fcount = 0\n",
    "for f in os.listdir(os.path.join(source_paths[0], \"0\")):\n",
    "    if f.startswith(\"0_\"):\n",
    "        fcount += 1\n",
    "\n",
    "l_max = int((fcount-1)/2)"
   ]
  },
  {
   "cell_type": "markdown",
   "metadata": {},
   "source": [
    "The data in the files has the shape $3 \\times 24 \\times N_e^l$ for all 3 variables and for all 24 locations "
   ]
  },
  {
   "cell_type": "markdown",
   "metadata": {},
   "source": [
    "Rank Histogram Utils"
   ]
  },
  {
   "cell_type": "code",
   "execution_count": 4,
   "metadata": {},
   "outputs": [],
   "source": [
    "def loadMLvalues(source_path, T, n):\n",
    "    MLvalues = []\n",
    "    MLvalues.append(np.load(source_path+\"/\"+str(T)+\"/\"+str(n)+\"_MLvalues_0.npy\"))\n",
    "    for l_idx in range(1, l_max+1):\n",
    "        MLvalues.append([np.load(source_path+\"/\"+str(T)+\"/\"+str(n)+\"_MLvalues_\"+str(l_idx)+\"_0.npy\"),\n",
    "                            np.load(source_path+\"/\"+str(T)+\"/\"+str(n)+\"_MLvalues_\"+str(l_idx)+\"_1.npy\")])\n",
    "    return MLvalues"
   ]
  },
  {
   "cell_type": "code",
   "execution_count": 5,
   "metadata": {},
   "outputs": [],
   "source": [
    "def loadTruth(source_path, T, n):\n",
    "    return np.load(source_path+\"/\"+str(T)+\"/\"+str(n)+\"_TRUEvalues.npy\")"
   ]
  },
  {
   "cell_type": "code",
   "execution_count": 6,
   "metadata": {},
   "outputs": [],
   "source": [
    "def MLrank(ensemble_values, true_values, R=None,\n",
    "           func=lambda ensemble_values, true_values: 1*(ensemble_values < true_values)):\n",
    "    # true reference\n",
    "    true_values = true_values[:,:,np.newaxis]\n",
    "    if R is not None:\n",
    "        true_values += np.random.normal(0, R)\n",
    "\n",
    "    if not isinstance(func, list):\n",
    "        func = len(ensemble_values)*[[func,func,func]]\n",
    "\n",
    "    # level 0 \n",
    "    if R is not None:\n",
    "        ensemble_values[0] += np.random.multivariate_normal(np.zeros(3), np.diag(R), size=ensemble_values[0].shape[-1]).T\n",
    "\n",
    "    ML_Fy = np.zeros((3,ensemble_values[0].shape[-2]))\n",
    "    for i in range(3):\n",
    "        ML_Fy[i] = 1/(ensemble_values[0].shape[-1])*np.sum(func[0][i](ensemble_values[0][i], true_values[i]), axis=-1)\n",
    "\n",
    "    # higher levels\n",
    "    for l_idx in range(1, len(ensemble_values)):\n",
    "        ensemble_values0 = ensemble_values[l_idx][0]\n",
    "        ensemble_values1 = ensemble_values[l_idx][1]\n",
    "\n",
    "        if R is not None:\n",
    "            lvl_perts = np.random.multivariate_normal(np.zeros(3), np.diag(R), size=len(ensemble_values0)).T\n",
    "            ensemble_values0 += lvl_perts\n",
    "            ensemble_values1 += lvl_perts\n",
    "\n",
    "        for i in range(3):\n",
    "            ML_Fy[i] += 1/(ensemble_values0.shape[-1]) * \\\n",
    "                                        np.sum( func[l_idx][i](ensemble_values0[i], true_values[i]) \n",
    "                                        - func[l_idx][i](ensemble_values1[i], true_values[i]),\n",
    "                                            axis=-1 )\n",
    "        \n",
    "    return ML_Fy"
   ]
  },
  {
   "cell_type": "markdown",
   "metadata": {},
   "source": [
    "### Direct Evaluation"
   ]
  },
  {
   "cell_type": "code",
   "execution_count": 7,
   "metadata": {},
   "outputs": [],
   "source": [
    "def MLranks4T(T):\n",
    "    MLranks = np.array([]).reshape(0,3)\n",
    "    for p in range(len(source_paths)):\n",
    "        for n in range(50):\n",
    "            try: \n",
    "                MLensemble = loadMLvalues(source_paths[p], T, n)\n",
    "                truth = loadTruth(source_paths[p], T, n)\n",
    "                \n",
    "                MLranks = np.vstack([MLranks, MLrank(MLensemble, truth).T]) \n",
    "            except:\n",
    "                pass\n",
    "    \n",
    "    return MLranks"
   ]
  },
  {
   "cell_type": "code",
   "execution_count": 8,
   "metadata": {},
   "outputs": [],
   "source": [
    "MLranks = MLranks4T(27)"
   ]
  },
  {
   "cell_type": "code",
   "execution_count": 31,
   "metadata": {},
   "outputs": [],
   "source": [
    "c0 = (0, 68/255, 136/255)"
   ]
  },
  {
   "cell_type": "code",
   "execution_count": 53,
   "metadata": {},
   "outputs": [
    {
     "data": {
      "text/plain": [
       "array([-2.50000000e-01, -2.00000000e-01, -1.50000000e-01, -1.00000000e-01,\n",
       "       -5.00000000e-02, -5.55111512e-17,  5.00000000e-02,  1.00000000e-01,\n",
       "        1.50000000e-01,  2.00000000e-01,  2.50000000e-01,  3.00000000e-01,\n",
       "        3.50000000e-01,  4.00000000e-01,  4.50000000e-01,  5.00000000e-01,\n",
       "        5.50000000e-01,  6.00000000e-01,  6.50000000e-01,  7.00000000e-01,\n",
       "        7.50000000e-01,  8.00000000e-01,  8.50000000e-01,  9.00000000e-01,\n",
       "        9.50000000e-01,  1.00000000e+00,  1.05000000e+00,  1.10000000e+00,\n",
       "        1.15000000e+00,  1.20000000e+00,  1.25000000e+00])"
      ]
     },
     "execution_count": 53,
     "metadata": {},
     "output_type": "execute_result"
    }
   ],
   "source": [
    "np.arange(xlim[0],xlim[1]+1e-9, 0.05)"
   ]
  },
  {
   "cell_type": "code",
   "execution_count": 58,
   "metadata": {},
   "outputs": [
    {
     "data": {
      "image/png": "[encoded data removed]",
      "text/plain": [
       "<Figure size 1500x300 with 3 Axes>"
      ]
     },
     "metadata": {},
     "output_type": "display_data"
    }
   ],
   "source": [
    "fig, axs = plt.subplots(1, 3, figsize=(15,3), sharey=True, gridspec_kw={'wspace': 0.1})\n",
    "\n",
    "axs[0].set_title(r\"$\\eta$\", fontsize=16)\n",
    "axs[1].set_title(r\"$hu$\", fontsize=16)\n",
    "axs[2].set_title(r\"$hv$\", fontsize=16)\n",
    "\n",
    "axs[0].set_ylabel('Frequency', fontsize=14)\n",
    "axs[0].yaxis.set_label_coords(-.15, .5)\n",
    "\n",
    "xlim = (-0.25,1.25)\n",
    "bins_size = 0.05\n",
    "bins = np.arange(xlim[0],xlim[1]+1e-9, bins_size)\n",
    "\n",
    "for i in range(3):\n",
    "    ranks = np.maximum(xlim[0], MLranks[:,i])\n",
    "    ranks = np.minimum(ranks, xlim[1])\n",
    "    hist = np.histogram(ranks, bins=bins)\n",
    "    \n",
    "    axs[i].bar(0.5*(hist[1][1:]+hist[1][:-1]), hist[0]/len(MLranks[:,i])/bins_size, \n",
    "               width=bins_size, \n",
    "               color=c0, alpha=0.5, edgecolor=c0)\n",
    "    \n",
    "    axs[i].set_ylim((0,1.5))\n",
    "    axs[i].set_xlim(xlim)\n",
    "\n",
    "    axs[i].plot([0,1],[1,1], color=\"black\", ls=\"--\", lw=3)\n",
    "\n",
    "    axs[i].set_xlabel('Rank', fontsize=14)\n",
    "\n",
    "plt.savefig(\"DoubleJet-MLRanks-PostProcessing4paper.pdf\", bbox_inches=\"tight\", dpi=300)"
   ]
  },
  {
   "cell_type": "code",
   "execution_count": null,
   "metadata": {},
   "outputs": [],
   "source": []
  }
 ],
 "metadata": {
  "kernelspec": {
   "display_name": "Python 3",
   "language": "python",
   "name": "python3"
  },
  "language_info": {
   "codemirror_mode": {
    "name": "ipython",
    "version": 3
   },
   "file_extension": ".py",
   "mimetype": "text/x-python",
   "name": "python",
   "nbconvert_exporter": "python",
   "pygments_lexer": "ipython3",
   "version": "3.7.12"
  },
  "vscode": {
   "interpreter": {
    "hash": "3048633266a8aca5c85f16c1ee57ccad146141feb66febf24dcb8304467d1440"
   }
  }
 },
 "nbformat": 4,
 "nbformat_minor": 4
}
