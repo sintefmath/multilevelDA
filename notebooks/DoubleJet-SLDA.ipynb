{
 "cells": [
  {
   "attachments": {},
   "cell_type": "markdown",
   "metadata": {},
   "source": [
    "# Double Jet\n",
    "\n",
    "Single level EnKF showcasing"
   ]
  },
  {
   "cell_type": "code",
   "execution_count": 1,
   "metadata": {},
   "outputs": [],
   "source": [
    "from gpuocean.utils import IPythonMagic\n",
    "\n",
    "from importlib import reload\n",
    "\n",
    "import numpy as np\n",
    "import copy\n",
    "import pycuda.driver as cuda\n",
    "from matplotlib import pyplot as plt\n",
    "\n",
    "plt.rcParams[\"lines.color\"] = \"w\"\n",
    "plt.rcParams[\"text.color\"] = \"w\"\n",
    "plt.rcParams[\"axes.labelcolor\"] = \"w\"\n",
    "plt.rcParams[\"xtick.color\"] = \"w\"\n",
    "plt.rcParams[\"ytick.color\"] = \"w\"\n",
    "\n",
    "plt.rcParams[\"image.origin\"] = \"lower\"\n"
   ]
  },
  {
   "cell_type": "code",
   "execution_count": 2,
   "metadata": {},
   "outputs": [],
   "source": [
    "%cuda_context_handler gpu_ctx"
   ]
  },
  {
   "cell_type": "code",
   "execution_count": 3,
   "metadata": {},
   "outputs": [],
   "source": [
    "import sys, os\n",
    "sys.path.insert(0, os.path.abspath(os.path.join(os.getcwd(), '../')))"
   ]
  },
  {
   "attachments": {},
   "cell_type": "markdown",
   "metadata": {},
   "source": [
    "Get initial arguments from class"
   ]
  },
  {
   "cell_type": "code",
   "execution_count": 4,
   "metadata": {},
   "outputs": [],
   "source": [
    "from gpuocean.utils import DoubleJetCase"
   ]
  },
  {
   "attachments": {},
   "cell_type": "markdown",
   "metadata": {},
   "source": [
    "SL-Ensemble of DoubleJets"
   ]
  },
  {
   "cell_type": "code",
   "execution_count": 5,
   "metadata": {},
   "outputs": [],
   "source": [
    "doubleJetCase = DoubleJetCase.DoubleJetCase(gpu_ctx, DoubleJetCase.DoubleJetPerturbationType.SteadyState, ny=512, nx=1024)\n",
    "doubleJetCase_args, doubleJetCase_init, doubleJetCase_meargs = doubleJetCase.getInitConditions()"
   ]
  },
  {
   "cell_type": "code",
   "execution_count": 6,
   "metadata": {},
   "outputs": [],
   "source": [
    "doubleJetCase_meargs = {\n",
    "                        \"basis_x_start\": 2, \n",
    "                        \"basis_x_end\": 8,\n",
    "                        \"basis_y_start\": 1,\n",
    "                        \"basis_y_end\": 7,\n",
    "\n",
    "                        \"kl_decay\": 1.25,\n",
    "                        \"kl_scaling\": 0.025,\n",
    "                        }\n",
    "\n",
    "sim_model_error_time_step = 60.0                        "
   ]
  },
  {
   "cell_type": "code",
   "execution_count": 7,
   "metadata": {},
   "outputs": [],
   "source": [
    "from utils.DoubleJetSL import * \n",
    "SL_ensemble = initSLensemble(100, doubleJetCase_args, doubleJetCase_init, doubleJetCase_meargs, \n",
    "                             sim_model_error_time_step=sim_model_error_time_step)"
   ]
  },
  {
   "cell_type": "markdown",
   "metadata": {},
   "source": [
    "Preparation"
   ]
  },
  {
   "cell_type": "code",
   "execution_count": 8,
   "metadata": {},
   "outputs": [],
   "source": [
    "xdim = doubleJetCase_args[\"nx\"]*doubleJetCase_args[\"dx\"]\n",
    "ydim = doubleJetCase_args[\"ny\"]*doubleJetCase_args[\"dy\"]"
   ]
  },
  {
   "cell_type": "code",
   "execution_count": 9,
   "metadata": {},
   "outputs": [],
   "source": [
    "xs = np.linspace(0, xdim, 10, endpoint=False)\n",
    "ys = np.linspace(0, ydim, 5, endpoint=False)"
   ]
  },
  {
   "cell_type": "code",
   "execution_count": 10,
   "metadata": {},
   "outputs": [],
   "source": [
    "[obs_xs, obs_ys] = np.array(np.meshgrid(xs, ys)).T.reshape(-1, 2).T"
   ]
  },
  {
   "cell_type": "code",
   "execution_count": 11,
   "metadata": {},
   "outputs": [
    {
     "data": {
      "text/plain": [
       "(array([      0.,       0.,       0.,       0.,       0.,  133200.,\n",
       "         133200.,  133200.,  133200.,  133200.,  266400.,  266400.,\n",
       "         266400.,  266400.,  266400.,  399600.,  399600.,  399600.,\n",
       "         399600.,  399600.,  532800.,  532800.,  532800.,  532800.,\n",
       "         532800.,  666000.,  666000.,  666000.,  666000.,  666000.,\n",
       "         799200.,  799200.,  799200.,  799200.,  799200.,  932400.,\n",
       "         932400.,  932400.,  932400.,  932400., 1065600., 1065600.,\n",
       "        1065600., 1065600., 1065600., 1198800., 1198800., 1198800.,\n",
       "        1198800., 1198800.]),\n",
       " array([     0., 133200., 266400., 399600., 532800.,      0., 133200.,\n",
       "        266400., 399600., 532800.,      0., 133200., 266400., 399600.,\n",
       "        532800.,      0., 133200., 266400., 399600., 532800.,      0.,\n",
       "        133200., 266400., 399600., 532800.,      0., 133200., 266400.,\n",
       "        399600., 532800.,      0., 133200., 266400., 399600., 532800.,\n",
       "             0., 133200., 266400., 399600., 532800.,      0., 133200.,\n",
       "        266400., 399600., 532800.,      0., 133200., 266400., 399600.,\n",
       "        532800.]))"
      ]
     },
     "execution_count": 11,
     "metadata": {},
     "output_type": "execute_result"
    }
   ],
   "source": [
    "obs_xs, obs_ys"
   ]
  },
  {
   "cell_type": "code",
   "execution_count": 12,
   "metadata": {},
   "outputs": [],
   "source": [
    "from utils.DoubleJetParametersReplication import * "
   ]
  },
  {
   "cell_type": "markdown",
   "metadata": {},
   "source": [
    "Checking localisation radius, it was about 40km in the previous paper"
   ]
  },
  {
   "cell_type": "code",
   "execution_count": 13,
   "metadata": {},
   "outputs": [],
   "source": [
    "precomp_GC = []\n",
    "for obs_x, obs_y in zip(obs_xs, obs_ys):\n",
    "    precomp_GC.append( GCweights(SL_ensemble, obs_x, obs_y, r) )"
   ]
  },
  {
   "cell_type": "code",
   "execution_count": 14,
   "metadata": {},
   "outputs": [
    {
     "data": {
      "text/plain": [
       "(<matplotlib.image.AxesImage at 0x7f56e3d25f90>, 52031.25)"
      ]
     },
     "execution_count": 14,
     "metadata": {},
     "output_type": "execute_result"
    },
    {
     "data": {
      "image/png": "[encoded data removed]",
      "text/plain": [
       "<Figure size 432x288 with 1 Axes>"
      ]
     },
     "metadata": {
      "needs_background": "dark"
     },
     "output_type": "display_data"
    }
   ],
   "source": [
    "plt.imshow(precomp_GC[0][0:50,0:50]), 40*doubleJetCase_args[\"dx\"] "
   ]
  },
  {
   "cell_type": "code",
   "execution_count": 15,
   "metadata": {},
   "outputs": [
    {
     "data": {
      "text/plain": [
       "<matplotlib.image.AxesImage at 0x7f56e3c246d0>"
      ]
     },
     "execution_count": 15,
     "metadata": {},
     "output_type": "execute_result"
    },
    {
     "data": {
      "image/png": "[encoded data removed]",
      "text/plain": [
       "<Figure size 432x288 with 1 Axes>"
      ]
     },
     "metadata": {
      "needs_background": "dark"
     },
     "output_type": "display_data"
    }
   ],
   "source": [
    "plt.imshow(precomp_GC[0])"
   ]
  },
  {
   "cell_type": "code",
   "execution_count": 16,
   "metadata": {},
   "outputs": [
    {
     "data": {
      "text/plain": [
       "<matplotlib.image.AxesImage at 0x7f56e3b9c390>"
      ]
     },
     "execution_count": 16,
     "metadata": {},
     "output_type": "execute_result"
    },
    {
     "data": {
      "image/png": "[encoded data removed]",
      "text/plain": [
       "<Figure size 432x288 with 1 Axes>"
      ]
     },
     "metadata": {
      "needs_background": "dark"
     },
     "output_type": "display_data"
    }
   ],
   "source": [
    "plt.imshow(precomp_GC[27])"
   ]
  },
  {
   "cell_type": "code",
   "execution_count": 17,
   "metadata": {},
   "outputs": [],
   "source": [
    "N_y = len(obs_xs)\n",
    "\n",
    "# Assembling observation distance matrix\n",
    "obs_dist_mat = np.zeros((N_y, N_y))\n",
    "for i in range(N_y):\n",
    "    for j in range(N_y):\n",
    "        dx = np.abs(obs_xs[i] - obs_xs[j])\n",
    "        if dx > xdim/2:\n",
    "            dx = xdim - dx\n",
    "        dy = np.abs(obs_ys[i] - obs_ys[j])\n",
    "        if dy > ydim/2:\n",
    "            dy = ydim - dy \n",
    "        obs_dist_mat[i,j] = np.sqrt(dx**2+dy**2)\n",
    "# Heavy diagonal such that 0-distances are above every threshold\n",
    "np.fill_diagonal(obs_dist_mat, np.sqrt(xdim**2 + ydim**2))\n"
   ]
  },
  {
   "cell_type": "code",
   "execution_count": 18,
   "metadata": {},
   "outputs": [],
   "source": [
    "\n",
    "# Groups of \"un-correlated\" observation\n",
    "groups = list([list(np.arange(N_y, dtype=int))])\n",
    "# Observations are assumed to be uncorrelated, if distance bigger than threshold\n",
    "threshold = 2.0 * 1.5 * r\n",
    "\n",
    "g = 0 \n",
    "while obs_dist_mat[np.ix_(groups[g],groups[g])].min() < threshold:\n",
    "    while obs_dist_mat[np.ix_(groups[g],groups[g])].min() < threshold:\n",
    "        mask = np.ix_(groups[g],groups[g])\n",
    "        idx2move = groups[g][np.where(obs_dist_mat[mask] == obs_dist_mat[mask].min())[1][0]]\n",
    "        groups[g] = list(np.delete(groups[g], np.where(groups[g] == idx2move)))\n",
    "        if len(groups)<g+2: \n",
    "            groups.append([idx2move])\n",
    "        else:\n",
    "            groups[g+1].append(idx2move)\n",
    "    g = g + 1 "
   ]
  },
  {
   "cell_type": "code",
   "execution_count": 19,
   "metadata": {},
   "outputs": [
    {
     "data": {
      "text/plain": [
       "[[0, 2, 6, 8, 10, 12, 16, 18, 20, 22, 26, 28, 30, 32, 36, 38, 40, 42, 46, 48],\n",
       " [1, 4, 5, 45, 7, 47, 11, 13, 15, 17, 21, 23, 25, 27, 31, 33, 35, 37, 41, 43],\n",
       " [3, 9, 49, 19, 29, 39],\n",
       " [14, 44, 24, 34]]"
      ]
     },
     "execution_count": 19,
     "metadata": {},
     "output_type": "execute_result"
    }
   ],
   "source": [
    "groups"
   ]
  },
  {
   "cell_type": "code",
   "execution_count": 20,
   "metadata": {},
   "outputs": [
    {
     "data": {
      "image/png": "[encoded data removed]",
      "text/plain": [
       "<Figure size 432x288 with 1 Axes>"
      ]
     },
     "metadata": {
      "needs_background": "dark"
     },
     "output_type": "display_data"
    }
   ],
   "source": [
    "fig, ax = plt.subplots(1,1)\n",
    "ax.set_xlim((0, xdim))\n",
    "ax.set_ylim((0, ydim))\n",
    "\n",
    "for g_idx, group in enumerate(groups):\n",
    "    for o in group:\n",
    "        ax.scatter(obs_xs[o], obs_ys[o], c=\"C\"+str(g_idx))\n"
   ]
  },
  {
   "cell_type": "code",
   "execution_count": 21,
   "metadata": {},
   "outputs": [
    {
     "data": {
      "text/plain": [
       "<matplotlib.image.AxesImage at 0x7f56e39c04d0>"
      ]
     },
     "execution_count": 21,
     "metadata": {},
     "output_type": "execute_result"
    },
    {
     "data": {
      "image/png": "[encoded data removed]",
      "text/plain": [
       "<Figure size 432x288 with 1 Axes>"
      ]
     },
     "metadata": {
      "needs_background": "dark"
     },
     "output_type": "display_data"
    }
   ],
   "source": [
    "plt.imshow(np.sum(np.array(precomp_GC)[groups[0]], axis=0))"
   ]
  },
  {
   "attachments": {},
   "cell_type": "markdown",
   "metadata": {},
   "source": [
    "Generate observations"
   ]
  },
  {
   "cell_type": "code",
   "execution_count": 22,
   "metadata": {},
   "outputs": [],
   "source": [
    "truth = CDKLM16.CDKLM16(**doubleJetCase_args, **doubleJetCase_init)\n",
    "truth.updateDt()\n",
    "truth.setKLModelError(**doubleJetCase_meargs)\n",
    "truth.model_time_step = sim_model_error_time_step\n",
    "\n",
    "# truth.dataAssimilationStep(6*60*60)"
   ]
  },
  {
   "cell_type": "code",
   "execution_count": 23,
   "metadata": {},
   "outputs": [],
   "source": [
    "true_eta, true_hu, true_hv = truth.download(interior_domain_only=True)\n",
    "\n",
    "obses = np.zeros((len(obs_xs),3))\n",
    "for h, [obs_x, obs_y] in enumerate(zip(obs_xs, obs_ys)):\n",
    "    Hx, Hy = SLobsCoord2obsIdx([truth], obs_x, obs_y)\n",
    "    obses[h] = [true_eta[Hy,Hx], true_hu[Hy,Hx], true_hv[Hy,Hx]] + np.random.normal(0,R)\n"
   ]
  },
  {
   "attachments": {},
   "cell_type": "markdown",
   "metadata": {},
   "source": [
    "SL DA"
   ]
  },
  {
   "cell_type": "code",
   "execution_count": 24,
   "metadata": {},
   "outputs": [],
   "source": [
    "SL_prior = copy.deepcopy(SLdownload(SL_ensemble))"
   ]
  },
  {
   "cell_type": "code",
   "execution_count": 26,
   "metadata": {},
   "outputs": [
    {
     "name": "stdout",
     "output_type": "stream",
     "text": [
      "0\n",
      "1\n",
      "2\n",
      "3\n",
      "4\n",
      "5\n",
      "6\n",
      "7\n",
      "8\n",
      "9\n",
      "10\n",
      "11\n",
      "12\n",
      "13\n",
      "14\n",
      "15\n",
      "16\n",
      "17\n",
      "18\n",
      "19\n",
      "20\n",
      "21\n",
      "22\n",
      "23\n",
      "24\n",
      "25\n",
      "26\n",
      "27\n",
      "28\n",
      "29\n",
      "30\n",
      "31\n",
      "32\n",
      "33\n",
      "34\n",
      "35\n",
      "36\n",
      "37\n",
      "38\n",
      "39\n",
      "40\n",
      "41\n",
      "42\n",
      "43\n",
      "44\n",
      "45\n",
      "46\n",
      "47\n",
      "48\n",
      "49\n"
     ]
    }
   ],
   "source": [
    "SL_state = SLdownload(SL_ensemble)\n",
    "\n",
    "for h, [obs_x, obs_y] in enumerate(zip(obs_xs, obs_ys)):\n",
    "    print(h)\n",
    "    SL_state = SLEnKF(SL_state, obses[h], obs_x, obs_y, R, obs_var, \n",
    "                        relax_factor=relax_factor, localisation_weights=precomp_GC[h],\n",
    "                        dx=SL_ensemble[0].dx, dy=SL_ensemble[0].dy)\n",
    "    \n",
    "SLupload(SL_ensemble, SL_state)"
   ]
  },
  {
   "cell_type": "code",
   "execution_count": 27,
   "metadata": {},
   "outputs": [],
   "source": [
    "SL_posterior = copy.deepcopy(SLdownload(SL_ensemble))"
   ]
  },
  {
   "cell_type": "code",
   "execution_count": 28,
   "metadata": {},
   "outputs": [],
   "source": [
    "from utils.DoubleJetPlot import *"
   ]
  },
  {
   "cell_type": "code",
   "execution_count": 29,
   "metadata": {},
   "outputs": [
    {
     "data": {
      "text/plain": [
       "(<Figure size 1080x720 with 6 Axes>,\n",
       " array([<AxesSubplot:title={'center':'$\\\\eta$'}>,\n",
       "        <AxesSubplot:title={'center':'$hu$'}>,\n",
       "        <AxesSubplot:title={'center':'$hv$'}>], dtype=object))"
      ]
     },
     "execution_count": 29,
     "metadata": {},
     "output_type": "execute_result"
    },
    {
     "data": {
      "image/png": "[encoded data removed]",
      "text/plain": [
       "<Figure size 1080x720 with 6 Axes>"
      ]
     },
     "metadata": {
      "needs_background": "dark"
     },
     "output_type": "display_data"
    }
   ],
   "source": [
    "imshow3(SLestimate(SL_ensemble, np.mean), eta_vlim=3.5, huv_vlim=750)"
   ]
  },
  {
   "cell_type": "code",
   "execution_count": 30,
   "metadata": {},
   "outputs": [
    {
     "data": {
      "text/plain": [
       "(<Figure size 1080x720 with 6 Axes>,\n",
       " array([<AxesSubplot:title={'center':'$\\\\eta$'}>,\n",
       "        <AxesSubplot:title={'center':'$hu$'}>,\n",
       "        <AxesSubplot:title={'center':'$hv$'}>], dtype=object))"
      ]
     },
     "execution_count": 30,
     "metadata": {},
     "output_type": "execute_result"
    },
    {
     "data": {
      "image/png": "[encoded data removed]",
      "text/plain": [
       "<Figure size 1080x720 with 6 Axes>"
      ]
     },
     "metadata": {
      "needs_background": "dark"
     },
     "output_type": "display_data"
    }
   ],
   "source": [
    "imshow3var(SLestimate(SL_ensemble, np.std), eta_vlim=0.5, huv_vlim=100)"
   ]
  },
  {
   "cell_type": "code",
   "execution_count": null,
   "metadata": {},
   "outputs": [],
   "source": []
  }
 ],
 "metadata": {
  "kernelspec": {
   "display_name": "gpuocean",
   "language": "python",
   "name": "python3"
  },
  "language_info": {
   "codemirror_mode": {
    "name": "ipython",
    "version": 3
   },
   "file_extension": ".py",
   "mimetype": "text/x-python",
   "name": "python",
   "nbconvert_exporter": "python",
   "pygments_lexer": "ipython3",
   "version": "3.7.12"
  },
  "orig_nbformat": 4
 },
 "nbformat": 4,
 "nbformat_minor": 2
}
