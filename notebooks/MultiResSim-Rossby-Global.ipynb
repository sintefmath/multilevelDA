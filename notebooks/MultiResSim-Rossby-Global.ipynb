{
 "cells": [
  {
   "cell_type": "markdown",
   "metadata": {},
   "source": [
    "# Multi Resolution Simulation"
   ]
  },
  {
   "cell_type": "markdown",
   "metadata": {},
   "source": [
    "### Classes and modules"
   ]
  },
  {
   "cell_type": "code",
   "execution_count": 1,
   "metadata": {},
   "outputs": [],
   "source": [
    "#Lets have matplotlib \"inline\"\n",
    "%matplotlib inline\n",
    "\n",
    "import os\n",
    "import sys\n",
    "\n",
    "#Import packages we need\n",
    "import numpy as np\n",
    "import datetime\n",
    "from IPython.display import display\n",
    "import copy\n",
    "\n",
    "#For plotting\n",
    "import matplotlib\n",
    "from matplotlib import pyplot as plt\n",
    "from mpl_toolkits.axes_grid1 import make_axes_locatable\n",
    "\n",
    "plt.rcParams[\"lines.color\"] = \"w\"\n",
    "plt.rcParams[\"text.color\"] = \"w\"\n",
    "plt.rcParams[\"axes.labelcolor\"] = \"w\"\n",
    "plt.rcParams[\"xtick.color\"] = \"w\"\n",
    "plt.rcParams[\"ytick.color\"] = \"w\"\n",
    "\n",
    "plt.rcParams[\"image.origin\"] = \"lower\""
   ]
  },
  {
   "cell_type": "markdown",
   "metadata": {},
   "source": [
    "GPU Ocean-modules:"
   ]
  },
  {
   "cell_type": "code",
   "execution_count": 2,
   "metadata": {},
   "outputs": [],
   "source": [
    "from gpuocean.utils import IPythonMagic, Common, WindStress\n",
    "from gpuocean.SWEsimulators import CDKLM16"
   ]
  },
  {
   "cell_type": "code",
   "execution_count": 3,
   "metadata": {},
   "outputs": [],
   "source": [
    "%cuda_context_handler gpu_ctx"
   ]
  },
  {
   "cell_type": "code",
   "execution_count": 4,
   "metadata": {},
   "outputs": [],
   "source": [
    "%cuda_context_handler gpu_ctx0"
   ]
  },
  {
   "cell_type": "code",
   "execution_count": 5,
   "metadata": {},
   "outputs": [],
   "source": [
    "%cuda_context_handler gpu_ctx1"
   ]
  },
  {
   "cell_type": "code",
   "execution_count": 6,
   "metadata": {},
   "outputs": [],
   "source": [
    "%cuda_context_handler gpu_ctx2"
   ]
  },
  {
   "cell_type": "code",
   "execution_count": 7,
   "metadata": {},
   "outputs": [],
   "source": [
    "%cuda_context_handler gpu_ctx3"
   ]
  },
  {
   "cell_type": "code",
   "execution_count": 8,
   "metadata": {},
   "outputs": [],
   "source": [
    "%cuda_context_handler gpu_ctx4"
   ]
  },
  {
   "attachments": {},
   "cell_type": "markdown",
   "metadata": {},
   "source": [
    "## Setting-up case with different resolutions\n",
    "\n",
    "IC are the bump from the Rossby adjustment case"
   ]
  },
  {
   "cell_type": "code",
   "execution_count": 9,
   "metadata": {},
   "outputs": [],
   "source": [
    "def initBump(data_args, dataShape, d_shift=1e6,D=0.5*1e6):\n",
    "\n",
    "    eta0  = np.zeros(dataShape, dtype=np.float32, order='C')\n",
    "    hu0   = np.zeros(dataShape, dtype=np.float32, order='C')\n",
    "    hv0   = np.zeros(dataShape, dtype=np.float32, order='C')\n",
    "\n",
    "    x_center = data_args[\"dx\"]*(data_args[\"nx\"]+4)*0.5\n",
    "    y_center = data_args[\"dy\"]*(data_args[\"ny\"]+4)*0.5\n",
    "\n",
    "    scale = 1e9\n",
    "    for j in range(data_args[\"ny\"] + 4):\n",
    "        for i in range(data_args[\"nx\"] + 4):\n",
    "            x = data_args[\"dx\"]*i - x_center\n",
    "            y = data_args[\"dy\"]*j - y_center\n",
    "\n",
    "            d = np.sqrt(x**2 + y**2)\n",
    "            \n",
    "            eta0[j, i] += 0.1*(1.0+np.tanh(-(d-d_shift)/D))\n",
    "\n",
    "    return eta0, hu0, hv0"
   ]
  },
  {
   "cell_type": "code",
   "execution_count": 10,
   "metadata": {},
   "outputs": [],
   "source": [
    "def initLevel(l):\n",
    "    data_args = {}\n",
    "    data_args[\"nx\"] = 2**l\n",
    "    data_args[\"ny\"] = 2**l \n",
    "    dataShape = (data_args[\"ny\"] + 4, data_args[\"nx\"] + 4)\n",
    "\n",
    "    data_args[\"dx\"] = 2**(19-l)*100\n",
    "    data_args[\"dy\"] = 2**(19-l)*100\n",
    "\n",
    "    data_args[\"dt\"] = 0.0\n",
    "    data_args[\"g\"] = 9.81\n",
    "    data_args[\"f\"] = 1.2e-4\n",
    "    data_args[\"r\"] = 0.0\n",
    "    # data_args[\"boundary_conditions\"] = Common.BoundaryConditions(1,1,1,1)\n",
    "\n",
    "    data_args[\"eta0\"], data_args[\"hu0\"], data_args[\"hv0\"] = initBump(data_args, dataShape)\n",
    "    \n",
    "    H0 = 1000.0\n",
    "    data_args[\"H\"] = np.ma.array(np.ones((dataShape[0]+1, dataShape[1]+1), dtype=np.float32, order='C')*H0, mask=False)\n",
    "\n",
    "    return data_args"
   ]
  },
  {
   "cell_type": "code",
   "execution_count": 11,
   "metadata": {},
   "outputs": [],
   "source": [
    "ls = [6, 7, 8, 9, 10]"
   ]
  },
  {
   "cell_type": "code",
   "execution_count": 12,
   "metadata": {},
   "outputs": [
    {
     "data": {
      "text/plain": [
       "Text(0.5, 0.75, 'Initial Conditions')"
      ]
     },
     "execution_count": 12,
     "metadata": {},
     "output_type": "execute_result"
    },
    {
     "data": {
      "image/png": "[encoded data removed]",
      "text/plain": [
       "<Figure size 1440x720 with 10 Axes>"
      ]
     },
     "metadata": {
      "needs_background": "dark"
     },
     "output_type": "display_data"
    }
   ],
   "source": [
    "fig, axs = plt.subplots(1,len(ls), figsize=(20,10))\n",
    "\n",
    "for l_idx, l in enumerate(ls):\n",
    "    data_args = initLevel(l)\n",
    "    im = axs[l_idx].imshow(data_args[\"eta0\"])\n",
    "    plt.colorbar(im, ax=axs[l_idx], shrink=0.25)\n",
    "\n",
    "plt.suptitle(\"Initial Conditions\", y=0.75)"
   ]
  },
  {
   "attachments": {},
   "cell_type": "markdown",
   "metadata": {},
   "source": [
    "### (Deterministic) Simulation on different Resolutions"
   ]
  },
  {
   "cell_type": "code",
   "execution_count": 13,
   "metadata": {},
   "outputs": [],
   "source": [
    "for l_idx, l  in enumerate(ls):\n",
    "    data_args = initLevel(l)\n",
    "    exec(\"sim\"+str(l_idx)+\" = CDKLM16.CDKLM16(gpu_ctx\"+str(l_idx)+\", **data_args)\")\n",
    "    exec(\"sim\"+str(l_idx)+\".step(250000)\")"
   ]
  },
  {
   "cell_type": "code",
   "execution_count": null,
   "metadata": {},
   "outputs": [],
   "source": [
    "fig, axs = plt.subplots(len(ls),3, figsize=(15,15))\n",
    "\n",
    "for j in range(len(ls)):\n",
    "    for i in range(3):\n",
    "        if i == 0: \n",
    "            vlim = 0.05\n",
    "        else: \n",
    "            vlim = 1\n",
    "        im = axs[j,i].imshow(eval(\"sim\"+str(j)).download(interior_domain_only=True)[i], vmin=-vlim, vmax=vlim, cmap=\"coolwarm\")\n",
    "        plt.colorbar(im, ax=axs[j,i], shrink=0.5)\n",
    "plt.tight_layout()"
   ]
  },
  {
   "attachments": {},
   "cell_type": "markdown",
   "metadata": {},
   "source": [
    "### Perturbation from wind direction\n",
    "\n",
    "Wind field is faded out towards the walls. \n",
    "*So far only one random parameter but Matern field of wind intended.*"
   ]
  },
  {
   "cell_type": "code",
   "execution_count": null,
   "metadata": {},
   "outputs": [],
   "source": [
    "def wind_bump(ny, nx, sig = None):\n",
    "    dataShape = (ny, nx )\n",
    "    w = np.zeros(dataShape, dtype=np.float32, order='C')\n",
    "\n",
    "    x_center = 0.5*nx\n",
    "    y_center = 0.5*ny\n",
    "\n",
    "    if sig is None:\n",
    "        sig = nx**2/10\n",
    "\n",
    "    for j in range(ny):\n",
    "        for i in range(nx):\n",
    "            x = i - x_center\n",
    "            y = j - y_center\n",
    "\n",
    "            d = x**2 + y**2\n",
    "            \n",
    "            w[j, i] = np.exp(-1/2*d/sig)    \n",
    "    \n",
    "    return w\n"
   ]
  },
  {
   "cell_type": "code",
   "execution_count": null,
   "metadata": {},
   "outputs": [],
   "source": [
    "wind_N = 100\n",
    "wind_weight = wind_bump(wind_N,wind_N)"
   ]
  },
  {
   "cell_type": "code",
   "execution_count": null,
   "metadata": {},
   "outputs": [],
   "source": [
    "t_splits = 251"
   ]
  },
  {
   "cell_type": "code",
   "execution_count": null,
   "metadata": {},
   "outputs": [],
   "source": [
    "# ## Matern Gaussian Wind Fields\n",
    "\n",
    "# xdim = (data_args[\"nx\"]+4)*data_args[\"dx\"]\n",
    "\n",
    "# N = 100\n",
    "# axisMidpoints = np.linspace(xdim/(2*N), xdim*(1-1/(2*N)), N)\n",
    "# X, Y = np.meshgrid(axisMidpoints,axisMidpoints)\n",
    "\n",
    "# # -----\n",
    "\n",
    "# phi = 1e-7\n",
    "\n",
    "# Cov_ref = np.zeros((N**2,N**2))\n",
    "# for i0 in range(N):\n",
    "#     for j0 in range(N):\n",
    "#         i1 = 0\n",
    "#         for j1 in range(N):\n",
    "#             h = np.sqrt((X[i0,j0]-X[i1,j1])**2 + (Y[i0,j0]-Y[i1,j1])**2)\n",
    "#             Cov_ref[i1*N+j1,i0*N+j0] =  (1 + phi*h) * np.exp( -phi*h )\n",
    "\n",
    "# for i1 in range(1,N):\n",
    "#         Cov_ref[i1*N:(i1+1)*N,i1*N:] = Cov_ref[0:N,:N**2-i1*N] \n",
    "#         Cov_ref[i1*N:(i1+1)*N,:i1*N] = np.flip(Cov_ref[0:N,(i1+1)*N-1:N-1:-1],axis=0)\n",
    "\n",
    "# # -----\n",
    "\n",
    "# sig = 1.0\n",
    "\n",
    "# Cov = sig**2 * Cov_ref\n",
    "\n",
    "# # -----\n",
    "\n",
    "# chol = np.linalg.cholesky(Cov)\n",
    "\n",
    "# # -----\n",
    "\n",
    "# I = np.random.normal(size=N**2)\n",
    "# wind_u = np.reshape(2*chol@I,(N,N))[np.newaxis]\n",
    "# wind_v = np.reshape(2*chol@I,(N,N))[np.newaxis]\n",
    "# for t in range(t_splits-1):\n",
    "#     I = np.random.normal(size=N**2)\n",
    "#     wind_u = np.vstack([wind_u, (wind_u[-1] + np.reshape(0.25*chol@I,(N,N)))[np.newaxis]])\n",
    "#     I = np.random.normal(size=N**2)\n",
    "#     wind_v = np.vstack([wind_v, (wind_v[-1] + np.reshape(0.25*chol@I,(N,N)))[np.newaxis]])\n",
    "\n",
    "# wind_u = wind_u *np.repeat(wind_weight[np.newaxis,:,:], t_splits, axis=0)\n",
    "# wind_v = wind_v *np.repeat(wind_weight[np.newaxis,:,:], t_splits, axis=0)\n",
    "\n",
    "# ts = np.linspace(0,250000,t_splits)\n",
    "\n",
    "# wind = WindStress.WindStress(t=ts, wind_u=wind_u.astype(np.float32), wind_v=wind_v.astype(np.float32))"
   ]
  },
  {
   "cell_type": "code",
   "execution_count": null,
   "metadata": {},
   "outputs": [],
   "source": [
    "def KL_perturbations(t_splits, KL_N):\n",
    "    # Sampling random field based on Karhunen-Loeve expansions\n",
    "    \n",
    "    # t_splits (int) - number of how many KL-fields are generated\n",
    "\n",
    "    # Output: size=(t_splits, N, N) with t_splits-times a KL-field\n",
    "\n",
    "    KL_DECAY=1.05\n",
    "    KL_SCALING=0.15\n",
    "\n",
    "    KL_fields = np.zeros((t_splits,KL_N,KL_N))\n",
    "\n",
    "    rns = np.random.normal(size=(10,10,t_splits))\n",
    "\n",
    "    for n in range(1, rns.shape[1]+1):\n",
    "        for m in range(1, rns.shape[0]+1):\n",
    "            KL_fields += np.tile(KL_SCALING * m**(-KL_DECAY) * n**(-KL_DECAY) * np.outer(np.sin(m*np.pi*np.linspace(0,1,KL_N)), np.sin(n*np.pi*np.linspace(0,1,KL_N))), (t_splits,1,1)) * rns[m-1, n-1][:,np.newaxis,np.newaxis]\n",
    "\n",
    "    return KL_fields"
   ]
  },
  {
   "cell_type": "code",
   "execution_count": null,
   "metadata": {},
   "outputs": [],
   "source": [
    "## KL perturbed wind fields (much faster!)\n",
    "\n",
    "wind_degree = np.deg2rad(np.random.uniform(0,360))\n",
    "wind_speed  = 5.0\n",
    "\n",
    "init_wind_u = wind_speed * np.sin(wind_degree) * np.ones((wind_N,wind_N))\n",
    "init_wind_v = wind_speed * np.cos(wind_degree) * np.ones((wind_N,wind_N))\n",
    "\n",
    "KL_fields_u = KL_perturbations(t_splits, wind_N)\n",
    "KL_fields_v = KL_perturbations(t_splits, wind_N)\n",
    "\n",
    "wind_u = np.repeat(init_wind_u[np.newaxis,:,:], t_splits, axis=0) + np.cumsum(KL_fields_u, axis=0)\n",
    "wind_v = np.repeat(init_wind_v[np.newaxis,:,:], t_splits, axis=0) + np.cumsum(KL_fields_v, axis=0)\n",
    "\n",
    "wind_u = wind_u *np.repeat(wind_weight[np.newaxis,:,:], t_splits, axis=0)\n",
    "wind_v = wind_v *np.repeat(wind_weight[np.newaxis,:,:], t_splits, axis=0)\n",
    "\n",
    "ts = np.linspace(0,250000,t_splits)\n",
    "\n",
    "wind = WindStress.WindStress(t=ts, wind_u=wind_u.astype(np.float32), wind_v=wind_v.astype(np.float32))"
   ]
  },
  {
   "cell_type": "code",
   "execution_count": null,
   "metadata": {},
   "outputs": [],
   "source": [
    "fig, axs = plt.subplots(1,2, figsize=(15,10))\n",
    "\n",
    "im = axs[0].imshow(wind.wind_u[0], vmin=-10, vmax=10)\n",
    "plt.colorbar(im, ax=axs[0], shrink=0.5)\n",
    "axs[0].set_title(\"wind_u\")\n",
    "\n",
    "im = axs[1].imshow(wind.wind_v[0], vmin=-10, vmax=10)\n",
    "plt.colorbar(im, ax=axs[1], shrink=0.5)\n",
    "axs[1].set_title(\"wind_v\")\n"
   ]
  },
  {
   "cell_type": "code",
   "execution_count": null,
   "metadata": {},
   "outputs": [],
   "source": [
    "# Fine sim\n",
    "l = 10\n",
    "data_args = initLevel(l)\n",
    "sim0 = CDKLM16.CDKLM16(gpu_ctx, **data_args, wind=wind)\n",
    "sim0.step(250000)\n",
    "\n",
    "# Coarse partner\n",
    "data_args = initLevel(l-1)\n",
    "sim1 = CDKLM16.CDKLM16(gpu_ctx, **data_args, wind=wind)\n",
    "sim1.step(250000)\n",
    "\n",
    "\n",
    "fig, axs = plt.subplots(3,3, figsize=(15,10))\n",
    "labels = [\"eta\", \"hu\", \"hv\"]\n",
    "for i in range(3):\n",
    "    if i == 0: \n",
    "        vlim = 0.05\n",
    "    else: \n",
    "        vlim = 1\n",
    "    im = axs[i,0].imshow(sim0.download(interior_domain_only=True)[i], vmin=-vlim, vmax=vlim, cmap=\"coolwarm\")\n",
    "    plt.colorbar(im, ax=axs[i,0], shrink=0.25)\n",
    "    axs[i,0].set_title(\"Fine \"+labels[i])\n",
    "    im = axs[i,1].imshow(sim1.download(interior_domain_only=True)[i], vmin=-vlim, vmax=vlim, cmap=\"coolwarm\")\n",
    "    plt.colorbar(im, ax=axs[i,1], shrink=0.25)\n",
    "    axs[i,1].set_title(\"Coarse \"+labels[i])\n",
    "\n",
    "    im = axs[i,2].imshow(sim0.download(interior_domain_only=True)[i] - sim1.download(interior_domain_only=True)[i].repeat(2,0).repeat(2,1), vmin=-0.5*vlim, vmax=0.5*vlim, cmap=\"coolwarm\")\n",
    "    plt.colorbar(im, ax=axs[i,2], shrink=0.25)\n",
    "    axs[i,2].set_title(\"Difference \"+labels[i])"
   ]
  }
 ],
 "metadata": {
  "kernelspec": {
   "display_name": "Python 3.7.12 ('gpuocean_opendrift')",
   "language": "python",
   "name": "python3"
  },
  "language_info": {
   "codemirror_mode": {
    "name": "ipython",
    "version": 3
   },
   "file_extension": ".py",
   "mimetype": "text/x-python",
   "name": "python",
   "nbconvert_exporter": "python",
   "pygments_lexer": "ipython3",
   "version": "3.7.12"
  },
  "vscode": {
   "interpreter": {
    "hash": "3048633266a8aca5c85f16c1ee57ccad146141feb66febf24dcb8304467d1440"
   }
  }
 },
 "nbformat": 4,
 "nbformat_minor": 4
}
