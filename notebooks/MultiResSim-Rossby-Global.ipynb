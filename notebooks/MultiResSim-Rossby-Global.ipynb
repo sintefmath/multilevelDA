{
 "cells": [
  {
   "cell_type": "markdown",
   "metadata": {},
   "source": [
    "# Multi Resolution Simulation"
   ]
  },
  {
   "cell_type": "markdown",
   "metadata": {},
   "source": [
    "### Classes and modules"
   ]
  },
  {
   "cell_type": "code",
   "execution_count": 1,
   "metadata": {},
   "outputs": [],
   "source": [
    "#Lets have matplotlib \"inline\"\n",
    "%matplotlib inline\n",
    "\n",
    "import os\n",
    "import sys\n",
    "\n",
    "#Import packages we need\n",
    "import numpy as np\n",
    "import datetime\n",
    "from IPython.display import display\n",
    "import copy\n",
    "\n",
    "#For plotting\n",
    "import matplotlib\n",
    "from matplotlib import pyplot as plt\n",
    "from mpl_toolkits.axes_grid1 import make_axes_locatable\n",
    "\n",
    "plt.rcParams[\"lines.color\"] = \"w\"\n",
    "plt.rcParams[\"text.color\"] = \"w\"\n",
    "plt.rcParams[\"axes.labelcolor\"] = \"w\"\n",
    "plt.rcParams[\"xtick.color\"] = \"w\"\n",
    "plt.rcParams[\"ytick.color\"] = \"w\"\n",
    "\n",
    "plt.rcParams[\"image.origin\"] = \"lower\""
   ]
  },
  {
   "cell_type": "markdown",
   "metadata": {},
   "source": [
    "GPU Ocean-modules:"
   ]
  },
  {
   "cell_type": "code",
   "execution_count": 2,
   "metadata": {},
   "outputs": [
    {
     "ename": "ImportError",
     "evalue": "cannot import name 'CDKLM16pair' from 'gpuocean.SWEsimulators' (/home/florianb/havvarsel/gpuocean/src/gpuocean/SWEsimulators/__init__.py)",
     "output_type": "error",
     "traceback": [
      "\u001b[0;31m---------------------------------------------------------------------------\u001b[0m",
      "\u001b[0;31mImportError\u001b[0m                               Traceback (most recent call last)",
      "\u001b[0;32m/tmp/ipykernel_963164/3176379147.py\u001b[0m in \u001b[0;36m<module>\u001b[0;34m\u001b[0m\n\u001b[1;32m      1\u001b[0m \u001b[0;32mfrom\u001b[0m \u001b[0mgpuocean\u001b[0m\u001b[0;34m.\u001b[0m\u001b[0mutils\u001b[0m \u001b[0;32mimport\u001b[0m \u001b[0mIPythonMagic\u001b[0m\u001b[0;34m,\u001b[0m \u001b[0mCommon\u001b[0m\u001b[0;34m\u001b[0m\u001b[0;34m\u001b[0m\u001b[0m\n\u001b[0;32m----> 2\u001b[0;31m \u001b[0;32mfrom\u001b[0m \u001b[0mgpuocean\u001b[0m\u001b[0;34m.\u001b[0m\u001b[0mSWEsimulators\u001b[0m \u001b[0;32mimport\u001b[0m \u001b[0mCDKLM16\u001b[0m\u001b[0;34m,\u001b[0m \u001b[0mCDKLM16pair\u001b[0m\u001b[0;34m\u001b[0m\u001b[0;34m\u001b[0m\u001b[0m\n\u001b[0m",
      "\u001b[0;31mImportError\u001b[0m: cannot import name 'CDKLM16pair' from 'gpuocean.SWEsimulators' (/home/florianb/havvarsel/gpuocean/src/gpuocean/SWEsimulators/__init__.py)"
     ]
    }
   ],
   "source": [
    "from gpuocean.utils import IPythonMagic, Common\n",
    "from gpuocean.SWEsimulators import CDKLM16, CDKLM16pair"
   ]
  },
  {
   "cell_type": "code",
   "execution_count": null,
   "metadata": {},
   "outputs": [],
   "source": [
    "%cuda_context_handler gpu_ctx"
   ]
  },
  {
   "cell_type": "code",
   "execution_count": null,
   "metadata": {},
   "outputs": [],
   "source": [
    "%cuda_context_handler gpu_ctx0"
   ]
  },
  {
   "cell_type": "code",
   "execution_count": null,
   "metadata": {},
   "outputs": [],
   "source": [
    "%cuda_context_handler gpu_ctx1"
   ]
  },
  {
   "cell_type": "code",
   "execution_count": null,
   "metadata": {},
   "outputs": [],
   "source": [
    "%cuda_context_handler gpu_ctx2"
   ]
  },
  {
   "cell_type": "code",
   "execution_count": null,
   "metadata": {},
   "outputs": [],
   "source": [
    "%cuda_context_handler gpu_ctx3"
   ]
  },
  {
   "cell_type": "code",
   "execution_count": null,
   "metadata": {},
   "outputs": [],
   "source": [
    "%cuda_context_handler gpu_ctx4"
   ]
  },
  {
   "cell_type": "markdown",
   "metadata": {},
   "source": [
    "## Setting-up case "
   ]
  },
  {
   "cell_type": "code",
   "execution_count": null,
   "metadata": {},
   "outputs": [],
   "source": [
    "def initBump(data_args, dataShape, d_shift=1e6,D=0.5*1e6):\n",
    "\n",
    "    eta0  = np.zeros(dataShape, dtype=np.float32, order='C')\n",
    "    hu0   = np.zeros(dataShape, dtype=np.float32, order='C')\n",
    "    hv0   = np.zeros(dataShape, dtype=np.float32, order='C')\n",
    "\n",
    "    x_center = data_args[\"dx\"]*(data_args[\"nx\"]+4)*0.5\n",
    "    y_center = data_args[\"dy\"]*(data_args[\"ny\"]+4)*0.5\n",
    "\n",
    "    scale = 1e9\n",
    "    for j in range(data_args[\"ny\"] + 4):\n",
    "        for i in range(data_args[\"nx\"] + 4):\n",
    "            x = data_args[\"dx\"]*i - x_center\n",
    "            y = data_args[\"dy\"]*j - y_center\n",
    "\n",
    "            d = np.sqrt(x**2 + y**2)\n",
    "            \n",
    "            eta0[j, i] += 0.1*(1.0+np.tanh(-(d-d_shift)/D))\n",
    "\n",
    "    return eta0, hu0, hv0"
   ]
  },
  {
   "cell_type": "code",
   "execution_count": null,
   "metadata": {},
   "outputs": [],
   "source": [
    "def initLevel(l):\n",
    "    data_args = {}\n",
    "    data_args[\"nx\"] = 2**l - 4\n",
    "    data_args[\"ny\"] = 2**l - 4 \n",
    "    dataShape = (data_args[\"ny\"] + 4, data_args[\"nx\"] + 4)\n",
    "\n",
    "    data_args[\"dx\"] = 2**(19-l)*100\n",
    "    data_args[\"dy\"] = 2**(19-l)*100\n",
    "\n",
    "    data_args[\"dt\"] = 0.0\n",
    "    data_args[\"g\"] = 9.81\n",
    "    data_args[\"f\"] = 1.2e-4\n",
    "    data_args[\"r\"] = 0.0\n",
    "    data_args[\"boundary_conditions\"] = Common.BoundaryConditions(1,1,1,1)\n",
    "\n",
    "    data_args[\"eta0\"], data_args[\"hu0\"], data_args[\"hv0\"] = initBump(data_args, dataShape)\n",
    "    \n",
    "    H0 = 1000.0\n",
    "    data_args[\"H\"] = np.ma.array(np.ones((dataShape[0]+1, dataShape[1]+1), dtype=np.float32, order='C')*H0, mask=False)\n",
    "\n",
    "    return data_args"
   ]
  },
  {
   "cell_type": "code",
   "execution_count": null,
   "metadata": {},
   "outputs": [],
   "source": [
    "# fig, axs = plt.subplots(1,3, figsize=(20,10))\n",
    "\n",
    "# for i in range(3):\n",
    "#     data_args = initLevel(10+i)\n",
    "#     im = axs[i].imshow(data_args[\"eta0\"])\n",
    "#     plt.colorbar(im, ax=axs[i], shrink=0.5)"
   ]
  },
  {
   "cell_type": "code",
   "execution_count": null,
   "metadata": {},
   "outputs": [],
   "source": [
    "def runLevel(gpu_ctx, l, pert=False, T=250000):\n",
    "    if isinstance(l, dict):\n",
    "        data_args = l \n",
    "    else:\n",
    "        data_args = initLevel(l)\n",
    "    sim = CDKLM16.CDKLM16(gpu_ctx, **data_args)\n",
    "    if pert:\n",
    "        pert_args = {\n",
    "            \"small_scale_perturbation\" : True,\n",
    "            \"small_scale_perturbation_amplitude\": 1e-3,\n",
    "            \"small_scale_perturbation_interpolation_factor\" : 31,\n",
    "            \"small_scale_perturbation_dx\" : 2**7 *100,\n",
    "            \"small_scale_perturbation_dy\" : 2**7 *100,\n",
    "            }\n",
    "        sim_pair = CDKLM16pair.CDKLM16pair(sim, **pert_args)\n",
    "        sim_pair.perturbSimPair()\n",
    "        sim_pair.step(T)\n",
    "        return sim_pair.sim\n",
    "    else:\n",
    "        sim.step(T)\n",
    "        return sim "
   ]
  },
  {
   "cell_type": "code",
   "execution_count": null,
   "metadata": {},
   "outputs": [],
   "source": [
    "sim0 = runLevel(gpu_ctx0, 7)"
   ]
  },
  {
   "cell_type": "code",
   "execution_count": null,
   "metadata": {},
   "outputs": [],
   "source": [
    "sim1 = runLevel(gpu_ctx1, 8)"
   ]
  },
  {
   "cell_type": "code",
   "execution_count": null,
   "metadata": {},
   "outputs": [],
   "source": [
    "sim2 = runLevel(gpu_ctx2, 9)"
   ]
  },
  {
   "cell_type": "code",
   "execution_count": null,
   "metadata": {},
   "outputs": [],
   "source": [
    "sim3 = runLevel(gpu_ctx3, 10)"
   ]
  },
  {
   "cell_type": "code",
   "execution_count": null,
   "metadata": {},
   "outputs": [],
   "source": [
    "sim4 = runLevel(gpu_ctx4, 11)"
   ]
  },
  {
   "cell_type": "code",
   "execution_count": null,
   "metadata": {},
   "outputs": [],
   "source": [
    "fig, axs = plt.subplots(5,3, figsize=(15,15))\n",
    "\n",
    "for j in range(5):\n",
    "    for i in range(3):\n",
    "        im = axs[j,i].imshow(eval(\"sim\"+str(j)).download()[i])\n",
    "        plt.colorbar(im, ax=axs[j,i], shrink=0.5)\n",
    "plt.tight_layout()"
   ]
  },
  {
   "cell_type": "code",
   "execution_count": null,
   "metadata": {},
   "outputs": [],
   "source": [
    "ls = [7, 8, 9, 10, 11]"
   ]
  },
  {
   "cell_type": "code",
   "execution_count": null,
   "metadata": {},
   "outputs": [],
   "source": [
    "N_var = 2\n",
    "\n",
    "est_vars = np.zeros((len(ls), 3))\n",
    "\n",
    "for l_idx, l in enumerate(ls):\n",
    "    print(\"Level \", l_idx)\n",
    "    data_args = initLevel(l)\n",
    "    est_mean = np.zeros((3,data_args[\"ny\"],data_args[\"nx\"]))\n",
    "\n",
    "    samples = np.zeros((3,data_args[\"ny\"],data_args[\"nx\"],N_var))    \n",
    "    for i in range(N_var):\n",
    "        print(\"Sample \", i)\n",
    "        sim = runLevel(gpu_ctx, data_args, pert=True)\n",
    "        eta, hu, hv = sim.download(interior_domain_only=True)\n",
    "        samples[0,:,:,i] = eta\n",
    "        samples[1,:,:,i] = hu\n",
    "        samples[2,:,:,i] = hv\n",
    "        sim.cleanUp()\n",
    "    est_vars[l,0] = np.sqrt(np.average(np.var(samples[0], axis=-1)**2))\n",
    "    est_vars[l,1] = np.sqrt(np.average(np.var(samples[1], axis=-1)**2))\n",
    "    est_vars[l,2] = np.sqrt(np.average(np.var(samples[2], axis=-1)**2))"
   ]
  }
 ],
 "metadata": {
  "kernelspec": {
   "display_name": "Python 3.7.12 ('gpuocean_opendrift')",
   "language": "python",
   "name": "python3"
  },
  "language_info": {
   "codemirror_mode": {
    "name": "ipython",
    "version": 3
   },
   "file_extension": ".py",
   "mimetype": "text/x-python",
   "name": "python",
   "nbconvert_exporter": "python",
   "pygments_lexer": "ipython3",
   "version": "3.7.12"
  },
  "vscode": {
   "interpreter": {
    "hash": "3048633266a8aca5c85f16c1ee57ccad146141feb66febf24dcb8304467d1440"
   }
  }
 },
 "nbformat": 4,
 "nbformat_minor": 4
}
