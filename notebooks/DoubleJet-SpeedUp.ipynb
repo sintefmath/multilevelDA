{
 "cells": [
  {
   "attachments": {},
   "cell_type": "markdown",
   "metadata": {},
   "source": [
    "# MultiL-Level Speed-UP"
   ]
  },
  {
   "attachments": {},
   "cell_type": "markdown",
   "metadata": {},
   "source": [
    "### Classes and modules"
   ]
  },
  {
   "cell_type": "code",
   "execution_count": 1,
   "metadata": {},
   "outputs": [],
   "source": [
    "#Lets have matplotlib \"inline\"\n",
    "%matplotlib inline\n",
    "\n",
    "import os\n",
    "import sys\n",
    "\n",
    "#Import packages we need\n",
    "import numpy as np\n",
    "import datetime\n",
    "from IPython.display import display\n",
    "import copy\n",
    "\n",
    "#For plotting\n",
    "import matplotlib\n",
    "from matplotlib import pyplot as plt\n",
    "from mpl_toolkits.axes_grid1 import make_axes_locatable\n",
    "\n",
    "plt.style.use('dark_background')\n",
    "\n",
    "plt.rcParams[\"image.origin\"] = \"lower\"\n",
    "\n",
    "import pycuda.driver as cuda"
   ]
  },
  {
   "attachments": {},
   "cell_type": "markdown",
   "metadata": {},
   "source": [
    "GPU Ocean-modules:"
   ]
  },
  {
   "cell_type": "code",
   "execution_count": 2,
   "metadata": {},
   "outputs": [],
   "source": [
    "from gpuocean.utils import IPythonMagic, Common"
   ]
  },
  {
   "cell_type": "code",
   "execution_count": 3,
   "metadata": {},
   "outputs": [],
   "source": [
    "%cuda_context_handler gpu_ctx"
   ]
  },
  {
   "cell_type": "code",
   "execution_count": 4,
   "metadata": {},
   "outputs": [],
   "source": [
    "ls = [6, 7, 8, 9]"
   ]
  },
  {
   "cell_type": "code",
   "execution_count": 5,
   "metadata": {},
   "outputs": [],
   "source": [
    "from gpuocean.utils import DoubleJetCase\n",
    "\n",
    "args_list = []\n",
    "init_list = []\n",
    "\n",
    "for l in ls:\n",
    "    doubleJetCase = DoubleJetCase.DoubleJetCase(gpu_ctx, DoubleJetCase.DoubleJetPerturbationType.SteadyState, ny=2**l, nx=2**(l+1))\n",
    "    doubleJetCase_args, doubleJetCase_init, _ = doubleJetCase.getInitConditions()\n",
    "\n",
    "    args_list.append(doubleJetCase_args)\n",
    "    init_list.append(doubleJetCase_init)"
   ]
  },
  {
   "cell_type": "markdown",
   "metadata": {},
   "source": [
    "### Set Work (pracical or theoretical)"
   ]
  },
  {
   "cell_type": "code",
   "execution_count": 6,
   "metadata": {},
   "outputs": [],
   "source": [
    "work_path = \"/home/florianb/havvarsel/multilevelDA/doublejet/scripts/PracticalCost/2023-09-18T12_54_47\"\n",
    "\n",
    "works = np.mean(np.load(work_path+\"/costsPure.npy\"), axis=-1)\n",
    "diff_works = np.mean(np.load(work_path+\"/costsPartnered.npy\"), axis=-1)[1:]"
   ]
  },
  {
   "cell_type": "markdown",
   "metadata": {},
   "source": [
    "Comment next cell to use practical work"
   ]
  },
  {
   "cell_type": "code",
   "execution_count": 7,
   "metadata": {},
   "outputs": [],
   "source": [
    "# works = [1/(8**3), 1/(8**2), 1/(8), 1]\n",
    "# diff_works = [1/(8**2), 1/(8), 1]"
   ]
  },
  {
   "cell_type": "code",
   "execution_count": 8,
   "metadata": {},
   "outputs": [
    {
     "data": {
      "text/plain": [
       "(array([0.33697817, 0.48686108, 1.1457611 , 7.20046325]),\n",
       " array([0.86028268, 1.4491079 , 8.37040459]))"
      ]
     },
     "execution_count": 8,
     "metadata": {},
     "output_type": "execute_result"
    }
   ],
   "source": [
    "works, diff_works"
   ]
  },
  {
   "cell_type": "markdown",
   "metadata": {},
   "source": [
    "### Set variances (practical)"
   ]
  },
  {
   "cell_type": "code",
   "execution_count": 9,
   "metadata": {},
   "outputs": [],
   "source": [
    "source_path = \"/home/florianb/havvarsel/multilevelDA/doublejet/scripts/VarianceLevelsDA/2023-10-27T17_43_20mean\"\n",
    "# source_path = \"/home/florianb/havvarsel/multilevelDA/doublejet/scripts/VarianceLevelsDA/2023-10-27T17_43_20var\""
   ]
  },
  {
   "cell_type": "code",
   "execution_count": 10,
   "metadata": {},
   "outputs": [],
   "source": [
    "vars = np.load(source_path+\"/vars_\"+str(10*24*3600)+\".npy\")\n",
    "diff_vars = np.load(source_path+\"/diff_vars_\"+str(10*24*3600)+\".npy\")"
   ]
  },
  {
   "cell_type": "markdown",
   "metadata": {},
   "source": [
    "## Ensembles with equal error $\\tau$"
   ]
  },
  {
   "cell_type": "code",
   "execution_count": 11,
   "metadata": {},
   "outputs": [],
   "source": [
    "# var_idx = 0 ->  eta\n",
    "# var_idx = 1 ->  hu\n",
    "# var_idx = 2 ->  hv"
   ]
  },
  {
   "cell_type": "code",
   "execution_count": 12,
   "metadata": {},
   "outputs": [],
   "source": [
    "def speedUp(var_idx, SL_Ne = 50, N_l=None):\n",
    "    if N_l is None:\n",
    "        N_l = len(vars)\n",
    "    # vars only for one variable\n",
    "    v_vars = vars[:,var_idx][-N_l:]\n",
    "    v_diff_vars = diff_vars[:,var_idx][-N_l+1:]\n",
    "\n",
    "    v_works = works[-N_l:]\n",
    "    v_diff_works = diff_works[-N_l+1:]\n",
    "\n",
    "    # tau corresponding to SL with SL_Ne\n",
    "    tau = np.sqrt(v_vars[-1]/SL_Ne)\n",
    "\n",
    "    # ML ensemble size\n",
    "    allwork = np.sqrt(v_vars[0] * v_works[0])\n",
    "    for k_idx in range(1, N_l):\n",
    "        allwork += np.sqrt(v_diff_vars[k_idx-1] * v_diff_works[k_idx-1])\n",
    "\n",
    "    ML_Ne = np.zeros(N_l)\n",
    "    ML_Ne[0] = 1/(tau**2)*np.sqrt(v_vars[0]/v_works[0]) * allwork\n",
    "    for l_idx in range(1, N_l):\n",
    "        ML_Ne[l_idx] = 1/(tau**2)*np.sqrt(v_diff_vars[l_idx-1]/v_diff_works[l_idx-1]) * allwork\n",
    "\n",
    "    ML_Ne = np.ceil(ML_Ne).astype(int)\n",
    "\n",
    "    # SL work \n",
    "    # = SL_Ne * work(SL)\n",
    "    SLwork = SL_Ne * v_works[-1]\n",
    "\n",
    "    # ML work\n",
    "    MLwork = ML_Ne[0]*v_works[0]\n",
    "    for l_idx in range(1, len(ML_Ne)):\n",
    "        MLwork += ML_Ne[l_idx]*v_diff_works[l_idx-1]\n",
    "\n",
    "    # speed up\n",
    "    speed_up = SLwork/MLwork\n",
    "    \n",
    "    return ML_Ne, speed_up, tau"
   ]
  },
  {
   "cell_type": "code",
   "execution_count": 13,
   "metadata": {},
   "outputs": [
    {
     "name": "stdout",
     "output_type": "stream",
     "text": [
      "(array([88, 23]), 0.9818380097944566, 32.70781514982313)\n",
      "(array([114,  57,  25]), 0.8291609451596401, 32.70781514982313)\n",
      "(array([96, 66, 61, 27]), 0.7137562284543462, 32.70781514982313)\n",
      "(array([69, 11]), 1.6830200468051075, 6008.537659031522)\n",
      "(array([88, 37, 12]), 1.4627237487568343, 6008.537659031522)\n",
      "(array([63, 55, 41, 13]), 1.2164287695686349, 6008.537659031522)\n",
      "(array([69, 12]), 1.6045388621181638, 5387.469016152204)\n",
      "(array([84, 36, 12]), 1.4883980883671801, 5387.469016152204)\n",
      "(array([68, 48, 39, 13]), 1.254771921616325, 5387.469016152204)\n"
     ]
    }
   ],
   "source": [
    "for i in range(3):\n",
    "    for N_l in range(2, len(ls)+1):\n",
    "        print(speedUp(i, N_l=N_l, SL_Ne=40))"
   ]
  }
 ],
 "metadata": {
  "kernelspec": {
   "display_name": "Python 3",
   "language": "python",
   "name": "python3"
  },
  "language_info": {
   "codemirror_mode": {
    "name": "ipython",
    "version": 3
   },
   "file_extension": ".py",
   "mimetype": "text/x-python",
   "name": "python",
   "nbconvert_exporter": "python",
   "pygments_lexer": "ipython3",
   "version": "3.7.12"
  },
  "vscode": {
   "interpreter": {
    "hash": "3048633266a8aca5c85f16c1ee57ccad146141feb66febf24dcb8304467d1440"
   }
  }
 },
 "nbformat": 4,
 "nbformat_minor": 4
}
