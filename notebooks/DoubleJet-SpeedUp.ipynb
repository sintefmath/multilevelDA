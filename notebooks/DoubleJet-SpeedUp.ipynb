{
 "cells": [
  {
   "attachments": {},
   "cell_type": "markdown",
   "metadata": {},
   "source": [
    "# Variance-level plots"
   ]
  },
  {
   "attachments": {},
   "cell_type": "markdown",
   "metadata": {},
   "source": [
    "### Classes and modules"
   ]
  },
  {
   "cell_type": "code",
   "execution_count": 1,
   "metadata": {},
   "outputs": [],
   "source": [
    "#Lets have matplotlib \"inline\"\n",
    "%matplotlib inline\n",
    "\n",
    "import os\n",
    "import sys\n",
    "\n",
    "#Import packages we need\n",
    "import numpy as np\n",
    "import datetime\n",
    "from IPython.display import display\n",
    "import copy\n",
    "\n",
    "#For plotting\n",
    "import matplotlib\n",
    "from matplotlib import pyplot as plt\n",
    "from mpl_toolkits.axes_grid1 import make_axes_locatable\n",
    "\n",
    "# plt.rcParams[\"lines.color\"] = \"w\"\n",
    "# plt.rcParams[\"text.color\"] = \"w\"\n",
    "# plt.rcParams[\"axes.labelcolor\"] = \"w\"\n",
    "# plt.rcParams[\"xtick.color\"] = \"w\"\n",
    "# plt.rcParams[\"ytick.color\"] = \"w\"\n",
    "\n",
    "plt.rcParams[\"image.origin\"] = \"lower\"\n",
    "\n",
    "import pycuda.driver as cuda"
   ]
  },
  {
   "attachments": {},
   "cell_type": "markdown",
   "metadata": {},
   "source": [
    "GPU Ocean-modules:"
   ]
  },
  {
   "cell_type": "code",
   "execution_count": 2,
   "metadata": {},
   "outputs": [],
   "source": [
    "from gpuocean.utils import IPythonMagic, Common"
   ]
  },
  {
   "cell_type": "code",
   "execution_count": 3,
   "metadata": {},
   "outputs": [],
   "source": [
    "%cuda_context_handler gpu_ctx"
   ]
  },
  {
   "cell_type": "code",
   "execution_count": 4,
   "metadata": {},
   "outputs": [],
   "source": [
    "ls = [6, 7, 8, 9]"
   ]
  },
  {
   "cell_type": "code",
   "execution_count": 5,
   "metadata": {},
   "outputs": [],
   "source": [
    "from gpuocean.utils import DoubleJetCase\n",
    "\n",
    "args_list = []\n",
    "init_list = []\n",
    "\n",
    "for l in ls:\n",
    "    doubleJetCase = DoubleJetCase.DoubleJetCase(gpu_ctx, DoubleJetCase.DoubleJetPerturbationType.SteadyState, ny=2**l, nx=2**(l+1))\n",
    "    doubleJetCase_args, doubleJetCase_init, _ = doubleJetCase.getInitConditions()\n",
    "\n",
    "    args_list.append(doubleJetCase_args)\n",
    "    init_list.append(doubleJetCase_init)"
   ]
  },
  {
   "cell_type": "markdown",
   "metadata": {},
   "source": [
    "### Set Work (theoretical)"
   ]
  },
  {
   "cell_type": "code",
   "execution_count": 6,
   "metadata": {},
   "outputs": [],
   "source": [
    "works = [1/(8**3), 1/(8**2), 1/(8), 1]\n",
    "diff_works = [1/(8**2), 1/(8), 1]"
   ]
  },
  {
   "cell_type": "code",
   "execution_count": 7,
   "metadata": {},
   "outputs": [
    {
     "data": {
      "text/plain": [
       "([0.001953125, 0.015625, 0.125, 1], [0.015625, 0.125, 1])"
      ]
     },
     "execution_count": 7,
     "metadata": {},
     "output_type": "execute_result"
    }
   ],
   "source": [
    "works, diff_works"
   ]
  },
  {
   "cell_type": "markdown",
   "metadata": {},
   "source": [
    "### Set variances (practical)"
   ]
  },
  {
   "cell_type": "code",
   "execution_count": 8,
   "metadata": {},
   "outputs": [],
   "source": [
    "source_path = \"/home/florianb/havvarsel/multilevelDA/doublejet/scripts/VarianceLevelsDA/2023-10-27T17_43_20mean\""
   ]
  },
  {
   "cell_type": "code",
   "execution_count": 9,
   "metadata": {},
   "outputs": [],
   "source": [
    "vars = np.load(source_path+\"/vars_\"+str(10*24*3600)+\".npy\")\n",
    "diff_vars = np.load(source_path+\"/diff_vars_\"+str(10*24*3600)+\".npy\")"
   ]
  },
  {
   "cell_type": "markdown",
   "metadata": {},
   "source": [
    "## Ensembles with equal error $\\tau$"
   ]
  },
  {
   "cell_type": "code",
   "execution_count": 10,
   "metadata": {},
   "outputs": [],
   "source": [
    "def speedup(tau, vars, diff_vars):\n",
    "\n",
    "    allwork = np.sqrt(vars[0] * works[0])\n",
    "    for k_idx in range(1, len(ls)):\n",
    "        allwork += np.sqrt(diff_vars[k_idx-1] * diff_works[k_idx-1])\n",
    "\n",
    "    ML_Ne = np.zeros(len(ls))\n",
    "    ML_Ne[0] = 1/(tau**2)*np.sqrt(vars[0]/works[0]) * allwork\n",
    "    for l_idx in range(1, len(ls)):\n",
    "        ML_Ne[l_idx] = 1/(tau**2)*np.sqrt(diff_vars[l_idx-1]/diff_works[l_idx-1]) * allwork\n",
    "\n",
    "    MLwork = ML_Ne[0]*works[0]\n",
    "    for l_idx in range(1, len(ML_Ne)):\n",
    "        MLwork += ML_Ne[l_idx]*diff_works[l_idx-1]\n",
    "\n",
    "    SLwork = vars[-1]/(tau**2) * works[-1]\n",
    "\n",
    "    su = SLwork/MLwork\n",
    "\n",
    "    print(\"tau = \", tau, \n",
    "            \" SL_Ne = \", (vars[-1]/(tau**2)).astype(int),\n",
    "            \" ML_Ne = \", ML_Ne.astype(int), \n",
    "            \" speedup = \", su, \n",
    "            \" ML_work = \", MLwork)\n",
    "\n",
    "    return su\n"
   ]
  },
  {
   "cell_type": "code",
   "execution_count": 12,
   "metadata": {},
   "outputs": [
    {
     "name": "stdout",
     "output_type": "stream",
     "text": [
      "tau =  500  SL_Ne =  4643  ML_Ne =  [27722 11037  4093  1159]  speedup =  2.4464849862395135  ML_work =  1898.2219838341366\n",
      "tau =  600  SL_Ne =  3224  ML_Ne =  [19251  7665  2842   805]  speedup =  2.446484986239513  ML_work =  1318.2097109959284\n",
      "tau =  700  SL_Ne =  2369  ML_Ne =  [14144  5631  2088   591]  speedup =  2.4464849862395135  ML_work =  968.4806039970085\n",
      "tau =  800  SL_Ne =  1814  ML_Ne =  [10829  4311  1598   453]  speedup =  2.4464849862395135  ML_work =  741.4929624352097\n",
      "tau =  900  SL_Ne =  1433  ML_Ne =  [8556 3406 1263  358]  speedup =  2.4464849862395135  ML_work =  585.870982664857\n",
      "tau =  1000  SL_Ne =  1160  ML_Ne =  [6930 2759 1023  289]  speedup =  2.4464849862395135  ML_work =  474.55549595853415\n",
      "tau =  1100  SL_Ne =  959  ML_Ne =  [5727 2280  845  239]  speedup =  2.4464849862395135  ML_work =  392.19462475911916\n",
      "tau =  1200  SL_Ne =  806  ML_Ne =  [4812 1916  710  201]  speedup =  2.446484986239513  ML_work =  329.5524277489821\n",
      "tau =  1300  SL_Ne =  686  ML_Ne =  [4100 1632  605  171]  speedup =  2.446484986239514  ML_work =  280.8020686145172\n",
      "tau =  1400  SL_Ne =  592  ML_Ne =  [3536 1407  522  147]  speedup =  2.4464849862395135  ML_work =  242.12015099925213\n",
      "tau =  1500  SL_Ne =  515  ML_Ne =  [3080 1226  454  128]  speedup =  2.4464849862395135  ML_work =  210.91355375934853\n",
      "tau =  1600  SL_Ne =  453  ML_Ne =  [2707 1077  399  113]  speedup =  2.4464849862395135  ML_work =  185.37324060880243\n",
      "tau =  1700  SL_Ne =  401  ML_Ne =  [2398  954  354  100]  speedup =  2.446484986239513  ML_work =  164.20605396489074\n",
      "tau =  1800  SL_Ne =  358  ML_Ne =  [2139  851  315   89]  speedup =  2.4464849862395135  ML_work =  146.46774566621426\n",
      "tau =  1900  SL_Ne =  321  ML_Ne =  [1919  764  283   80]  speedup =  2.4464849862395135  ML_work =  131.45581605499564\n",
      "tau =  2000  SL_Ne =  290  ML_Ne =  [1732  689  255   72]  speedup =  2.4464849862395135  ML_work =  118.63887398963354\n",
      "tau =  2100  SL_Ne =  263  ML_Ne =  [1571  625  232   65]  speedup =  2.4464849862395135  ML_work =  107.60895599966761\n",
      "tau =  2200  SL_Ne =  239  ML_Ne =  [1431  570  211   59]  speedup =  2.4464849862395135  ML_work =  98.04865618977979\n",
      "tau =  2300  SL_Ne =  219  ML_Ne =  [1310  521  193   54]  speedup =  2.4464849862395135  ML_work =  89.70803326248284\n",
      "tau =  2400  SL_Ne =  201  ML_Ne =  [1203  479  177   50]  speedup =  2.446484986239513  ML_work =  82.38810693724552\n",
      "tau =  2500  SL_Ne =  185  ML_Ne =  [1108  441  163   46]  speedup =  2.446484986239513  ML_work =  75.92887935336547\n",
      "tau =  2600  SL_Ne =  171  ML_Ne =  [1025  408  151   42]  speedup =  2.446484986239514  ML_work =  70.2005171536293\n",
      "tau =  2700  SL_Ne =  159  ML_Ne =  [950 378 140  39]  speedup =  2.4464849862395135  ML_work =  65.09677585165078\n",
      "tau =  2800  SL_Ne =  148  ML_Ne =  [884 351 130  36]  speedup =  2.4464849862395135  ML_work =  60.53003774981303\n",
      "tau =  2900  SL_Ne =  138  ML_Ne =  [824 328 121  34]  speedup =  2.446484986239513  ML_work =  56.42752627330966\n",
      "tau =  3000  SL_Ne =  128  ML_Ne =  [770 306 113  32]  speedup =  2.4464849862395135  ML_work =  52.72838843983713\n",
      "tau =  3100  SL_Ne =  120  ML_Ne =  [721 287 106  30]  speedup =  2.4464849862395135  ML_work =  49.381425177787115\n",
      "tau =  3200  SL_Ne =  113  ML_Ne =  [676 269  99  28]  speedup =  2.4464849862395135  ML_work =  46.34331015220061\n",
      "tau =  3300  SL_Ne =  106  ML_Ne =  [636 253  93  26]  speedup =  2.4464849862395135  ML_work =  43.57718052879102\n",
      "tau =  3400  SL_Ne =  100  ML_Ne =  [599 238  88  25]  speedup =  2.446484986239513  ML_work =  41.051513491222686\n",
      "tau =  3500  SL_Ne =  94  ML_Ne =  [565 225  83  23]  speedup =  2.446484986239513  ML_work =  38.73922415988035\n",
      "tau =  3600  SL_Ne =  89  ML_Ne =  [534 212  78  22]  speedup =  2.4464849862395135  ML_work =  36.616936416553564\n",
      "tau =  3700  SL_Ne =  84  ML_Ne =  [506 201  74  21]  speedup =  2.446484986239513  ML_work =  34.66438977052843\n",
      "tau =  3800  SL_Ne =  80  ML_Ne =  [479 191  70  20]  speedup =  2.4464849862395135  ML_work =  32.86395401374891\n",
      "tau =  3900  SL_Ne =  76  ML_Ne =  [455 181  67  19]  speedup =  2.4464849862395135  ML_work =  31.20022984605748\n",
      "tau =  4000  SL_Ne =  72  ML_Ne =  [433 172  63  18]  speedup =  2.4464849862395135  ML_work =  29.659718497408385\n",
      "tau =  4100  SL_Ne =  69  ML_Ne =  [412 164  60  17]  speedup =  2.4464849862395135  ML_work =  28.230547052857474\n",
      "tau =  4200  SL_Ne =  65  ML_Ne =  [392 156  58  16]  speedup =  2.4464849862395135  ML_work =  26.902238999916904\n",
      "tau =  4300  SL_Ne =  62  ML_Ne =  [374 149  55  15]  speedup =  2.4464849862395135  ML_work =  25.665521685155987\n",
      "tau =  4400  SL_Ne =  59  ML_Ne =  [357 142  52  14]  speedup =  2.4464849862395135  ML_work =  24.512164047444948\n",
      "tau =  4500  SL_Ne =  57  ML_Ne =  [342 136  50  14]  speedup =  2.446484986239513  ML_work =  23.434839306594284\n",
      "tau =  4600  SL_Ne =  54  ML_Ne =  [327 130  48  13]  speedup =  2.4464849862395135  ML_work =  22.42700831562071\n",
      "tau =  4700  SL_Ne =  52  ML_Ne =  [313 124  46  13]  speedup =  2.446484986239513  ML_work =  21.482820097715447\n",
      "tau =  4800  SL_Ne =  50  ML_Ne =  [300 119  44  12]  speedup =  2.446484986239513  ML_work =  20.59702673431138\n",
      "tau =  4900  SL_Ne =  48  ML_Ne =  [288 114  42  12]  speedup =  2.446484986239513  ML_work =  19.764910285653237\n",
      "tau =  5000  SL_Ne =  46  ML_Ne =  [277 110  40  11]  speedup =  2.446484986239513  ML_work =  18.98221983834137\n",
      "tau =  5100  SL_Ne =  44  ML_Ne =  [266 106  39  11]  speedup =  2.446484986239514  ML_work =  18.245117107210078\n",
      "tau =  5200  SL_Ne =  42  ML_Ne =  [256 102  37  10]  speedup =  2.446484986239514  ML_work =  17.550129288407327\n",
      "tau =  5300  SL_Ne =  41  ML_Ne =  [246  98  36  10]  speedup =  2.4464849862395135  ML_work =  16.8941080796915\n",
      "tau =  5400  SL_Ne =  39  ML_Ne =  [237  94  35   9]  speedup =  2.4464849862395135  ML_work =  16.274193962912694\n",
      "tau =  5500  SL_Ne =  38  ML_Ne =  [229  91  33   9]  speedup =  2.4464849862395135  ML_work =  15.687784990364769\n",
      "tau =  5600  SL_Ne =  37  ML_Ne =  [221  87  32   9]  speedup =  2.4464849862395135  ML_work =  15.132509437453258\n",
      "tau =  5700  SL_Ne =  35  ML_Ne =  [213  84  31   8]  speedup =  2.4464849862395135  ML_work =  14.606201783888402\n",
      "tau =  5800  SL_Ne =  34  ML_Ne =  [206  82  30   8]  speedup =  2.446484986239513  ML_work =  14.106881568327415\n",
      "tau =  5900  SL_Ne =  33  ML_Ne =  [199  79  29   8]  speedup =  2.4464849862395135  ML_work =  13.632734730207819\n",
      "tau =  6000  SL_Ne =  32  ML_Ne =  [192  76  28   8]  speedup =  2.4464849862395135  ML_work =  13.182097109959283\n",
      "tau =  6100  SL_Ne =  31  ML_Ne =  [186  74  27   7]  speedup =  2.446484986239513  ML_work =  12.753439826888854\n",
      "tau =  6200  SL_Ne =  30  ML_Ne =  [180  71  26   7]  speedup =  2.4464849862395135  ML_work =  12.345356294446779\n",
      "tau =  6300  SL_Ne =  29  ML_Ne =  [174  69  25   7]  speedup =  2.446484986239513  ML_work =  11.956550666629736\n",
      "tau =  6400  SL_Ne =  28  ML_Ne =  [169  67  24   7]  speedup =  2.4464849862395135  ML_work =  11.585827538050152\n",
      "tau =  6500  SL_Ne =  27  ML_Ne =  [164  65  24   6]  speedup =  2.4464849862395135  ML_work =  11.23208274458069\n",
      "tau =  6600  SL_Ne =  26  ML_Ne =  [159  63  23   6]  speedup =  2.4464849862395135  ML_work =  10.894295132197755\n",
      "tau =  6700  SL_Ne =  25  ML_Ne =  [154  61  22   6]  speedup =  2.4464849862395135  ML_work =  10.57151917929459\n",
      "tau =  6800  SL_Ne =  25  ML_Ne =  [149  59  22   6]  speedup =  2.446484986239513  ML_work =  10.262878372805671\n",
      "tau =  6900  SL_Ne =  24  ML_Ne =  [145  57  21   6]  speedup =  2.446484986239513  ML_work =  9.967559251386982\n",
      "tau =  7000  SL_Ne =  23  ML_Ne =  [141  56  20   5]  speedup =  2.446484986239513  ML_work =  9.684806039970088\n",
      "tau =  7100  SL_Ne =  23  ML_Ne =  [137  54  20   5]  speedup =  2.446484986239513  ML_work =  9.413915809532519\n",
      "tau =  7200  SL_Ne =  22  ML_Ne =  [133  53  19   5]  speedup =  2.4464849862395135  ML_work =  9.154234104138391\n",
      "tau =  7300  SL_Ne =  21  ML_Ne =  [130  51  19   5]  speedup =  2.4464849862395135  ML_work =  8.905150984397338\n",
      "tau =  7400  SL_Ne =  21  ML_Ne =  [126  50  18   5]  speedup =  2.446484986239513  ML_work =  8.666097442632108\n",
      "tau =  7500  SL_Ne =  20  ML_Ne =  [123  49  18   5]  speedup =  2.446484986239513  ML_work =  8.436542150373942\n",
      "tau =  7600  SL_Ne =  20  ML_Ne =  [119  47  17   5]  speedup =  2.4464849862395135  ML_work =  8.215988503437227\n",
      "tau =  7700  SL_Ne =  19  ML_Ne =  [116  46  17   4]  speedup =  2.4464849862395135  ML_work =  8.003971933859575\n",
      "tau =  7800  SL_Ne =  19  ML_Ne =  [113  45  16   4]  speedup =  2.4464849862395135  ML_work =  7.80005746151437\n",
      "tau =  7900  SL_Ne =  18  ML_Ne =  [111  44  16   4]  speedup =  2.4464849862395135  ML_work =  7.603837461280791\n",
      "tau =  8000  SL_Ne =  18  ML_Ne =  [108  43  15   4]  speedup =  2.4464849862395135  ML_work =  7.414929624352096\n",
      "tau =  8100  SL_Ne =  17  ML_Ne =  [105  42  15   4]  speedup =  2.4464849862395135  ML_work =  7.232975094627864\n",
      "tau =  8200  SL_Ne =  17  ML_Ne =  [103  41  15   4]  speedup =  2.4464849862395135  ML_work =  7.057636763214369\n",
      "tau =  8300  SL_Ne =  16  ML_Ne =  [100  40  14   4]  speedup =  2.446484986239513  ML_work =  6.888597705886692\n",
      "tau =  8400  SL_Ne =  16  ML_Ne =  [98 39 14  4]  speedup =  2.4464849862395135  ML_work =  6.725559749979226\n",
      "tau =  8500  SL_Ne =  16  ML_Ne =  [95 38 14  4]  speedup =  2.4464849862395135  ML_work =  6.568242158595629\n",
      "tau =  8600  SL_Ne =  15  ML_Ne =  [93 37 13  3]  speedup =  2.4464849862395135  ML_work =  6.416380421288997\n",
      "tau =  8700  SL_Ne =  15  ML_Ne =  [91 36 13  3]  speedup =  2.4464849862395135  ML_work =  6.269725141478851\n",
      "tau =  8800  SL_Ne =  14  ML_Ne =  [89 35 13  3]  speedup =  2.4464849862395135  ML_work =  6.128041011861237\n",
      "tau =  8900  SL_Ne =  14  ML_Ne =  [87 34 12  3]  speedup =  2.4464849862395135  ML_work =  5.9911058699474085\n",
      "tau =  9000  SL_Ne =  14  ML_Ne =  [85 34 12  3]  speedup =  2.446484986239513  ML_work =  5.858709826648571\n",
      "tau =  9100  SL_Ne =  14  ML_Ne =  [83 33 12  3]  speedup =  2.4464849862395135  ML_work =  5.730654461520761\n",
      "tau =  9200  SL_Ne =  13  ML_Ne =  [81 32 12  3]  speedup =  2.4464849862395135  ML_work =  5.606752078905178\n",
      "tau =  9300  SL_Ne =  13  ML_Ne =  [80 31 11  3]  speedup =  2.446484986239513  ML_work =  5.486825019754125\n",
      "tau =  9400  SL_Ne =  13  ML_Ne =  [78 31 11  3]  speedup =  2.446484986239513  ML_work =  5.370705024428862\n",
      "tau =  9500  SL_Ne =  12  ML_Ne =  [76 30 11  3]  speedup =  2.446484986239513  ML_work =  5.258232642199825\n",
      "tau =  9600  SL_Ne =  12  ML_Ne =  [75 29 11  3]  speedup =  2.446484986239513  ML_work =  5.149256683577845\n",
      "tau =  9700  SL_Ne =  12  ML_Ne =  [73 29 10  3]  speedup =  2.4464849862395135  ML_work =  5.043633711962315\n",
      "tau =  9800  SL_Ne =  12  ML_Ne =  [72 28 10  3]  speedup =  2.446484986239513  ML_work =  4.941227571413309\n",
      "tau =  9900  SL_Ne =  11  ML_Ne =  [70 28 10  2]  speedup =  2.4464849862395135  ML_work =  4.8419089476434465\n"
     ]
    },
    {
     "data": {
      "text/plain": [
       "Text(0, 0.5, 'speedup')"
      ]
     },
     "execution_count": 12,
     "metadata": {},
     "output_type": "execute_result"
    },
    {
     "data": {
      "image/png": "[encoded data removed]",
      "text/plain": [
       "<Figure size 640x480 with 1 Axes>"
      ]
     },
     "metadata": {},
     "output_type": "display_data"
    }
   ],
   "source": [
    "# var_idx = 0 # eta\n",
    "var_idx = 1 # hu\n",
    "var_idx = 2 # hv\n",
    "\n",
    "if var_idx == 0:\n",
    "    taus = np.arange(5, 50, 2) # for eta    \n",
    "else:\n",
    "    taus = np.arange(500, 10000, 100) # for hu, hv \n",
    "\n",
    "sus = np.zeros_like(taus)\n",
    "for t in range(len(taus)):\n",
    "    sus[t] = speedup(taus[t], vars[:,var_idx], diff_vars[:,var_idx])\n",
    "\n",
    "plt.plot(taus, sus)\n",
    "plt.ylim((0,3))\n",
    "plt.xlabel(\"theoretical error\")\n",
    "plt.ylabel(\"speedup\")"
   ]
  },
  {
   "cell_type": "code",
   "execution_count": null,
   "metadata": {},
   "outputs": [],
   "source": []
  },
  {
   "cell_type": "code",
   "execution_count": null,
   "metadata": {},
   "outputs": [],
   "source": []
  }
 ],
 "metadata": {
  "kernelspec": {
   "display_name": "Python 3",
   "language": "python",
   "name": "python3"
  },
  "language_info": {
   "codemirror_mode": {
    "name": "ipython",
    "version": 3
   },
   "file_extension": ".py",
   "mimetype": "text/x-python",
   "name": "python",
   "nbconvert_exporter": "python",
   "pygments_lexer": "ipython3",
   "version": "3.7.12"
  },
  "vscode": {
   "interpreter": {
    "hash": "3048633266a8aca5c85f16c1ee57ccad146141feb66febf24dcb8304467d1440"
   }
  }
 },
 "nbformat": 4,
 "nbformat_minor": 4
}
