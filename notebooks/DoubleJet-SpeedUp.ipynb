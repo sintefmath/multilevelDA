{
 "cells": [
  {
   "attachments": {},
   "cell_type": "markdown",
   "metadata": {},
   "source": [
    "# Variance-level plots"
   ]
  },
  {
   "attachments": {},
   "cell_type": "markdown",
   "metadata": {},
   "source": [
    "### Classes and modules"
   ]
  },
  {
   "cell_type": "code",
   "execution_count": 1,
   "metadata": {},
   "outputs": [],
   "source": [
    "#Lets have matplotlib \"inline\"\n",
    "%matplotlib inline\n",
    "\n",
    "import os\n",
    "import sys\n",
    "\n",
    "#Import packages we need\n",
    "import numpy as np\n",
    "import datetime\n",
    "from IPython.display import display\n",
    "import copy\n",
    "\n",
    "#For plotting\n",
    "import matplotlib\n",
    "from matplotlib import pyplot as plt\n",
    "from mpl_toolkits.axes_grid1 import make_axes_locatable\n",
    "\n",
    "# plt.rcParams[\"lines.color\"] = \"w\"\n",
    "# plt.rcParams[\"text.color\"] = \"w\"\n",
    "# plt.rcParams[\"axes.labelcolor\"] = \"w\"\n",
    "# plt.rcParams[\"xtick.color\"] = \"w\"\n",
    "# plt.rcParams[\"ytick.color\"] = \"w\"\n",
    "\n",
    "plt.rcParams[\"image.origin\"] = \"lower\"\n",
    "\n",
    "import pycuda.driver as cuda"
   ]
  },
  {
   "attachments": {},
   "cell_type": "markdown",
   "metadata": {},
   "source": [
    "GPU Ocean-modules:"
   ]
  },
  {
   "cell_type": "code",
   "execution_count": 2,
   "metadata": {},
   "outputs": [],
   "source": [
    "from gpuocean.utils import IPythonMagic, Common"
   ]
  },
  {
   "cell_type": "code",
   "execution_count": 3,
   "metadata": {},
   "outputs": [],
   "source": [
    "%cuda_context_handler gpu_ctx"
   ]
  },
  {
   "cell_type": "code",
   "execution_count": 4,
   "metadata": {},
   "outputs": [],
   "source": [
    "ls = [6, 7, 8, 9]"
   ]
  },
  {
   "cell_type": "code",
   "execution_count": 5,
   "metadata": {},
   "outputs": [],
   "source": [
    "from gpuocean.utils import DoubleJetCase\n",
    "\n",
    "args_list = []\n",
    "init_list = []\n",
    "\n",
    "for l in ls:\n",
    "    doubleJetCase = DoubleJetCase.DoubleJetCase(gpu_ctx, DoubleJetCase.DoubleJetPerturbationType.SteadyState, ny=2**l, nx=2**(l+1))\n",
    "    doubleJetCase_args, doubleJetCase_init, _ = doubleJetCase.getInitConditions()\n",
    "\n",
    "    args_list.append(doubleJetCase_args)\n",
    "    init_list.append(doubleJetCase_init)"
   ]
  },
  {
   "cell_type": "markdown",
   "metadata": {},
   "source": [
    "### Set Work (theoretical)"
   ]
  },
  {
   "cell_type": "code",
   "execution_count": 8,
   "metadata": {},
   "outputs": [],
   "source": [
    "works = [1/(8**3), 1/(8**2), 1/(8), 1]\n",
    "diff_works = [1/(8**2), 1/(8), 1]"
   ]
  },
  {
   "cell_type": "code",
   "execution_count": 9,
   "metadata": {},
   "outputs": [
    {
     "data": {
      "text/plain": [
       "([0.001953125, 0.015625, 0.125, 1], [0.015625, 0.125, 1])"
      ]
     },
     "execution_count": 9,
     "metadata": {},
     "output_type": "execute_result"
    }
   ],
   "source": [
    "works, diff_works"
   ]
  },
  {
   "cell_type": "markdown",
   "metadata": {},
   "source": [
    "### Set variances (practical)"
   ]
  },
  {
   "cell_type": "code",
   "execution_count": 10,
   "metadata": {},
   "outputs": [],
   "source": [
    "source_path = \"/home/florianb/havvarsel/multilevelDA/doublejet/scripts/VarianceLevelsDA/2023-10-27T17_43_20mean\""
   ]
  },
  {
   "cell_type": "code",
   "execution_count": 15,
   "metadata": {},
   "outputs": [],
   "source": [
    "vars = np.load(source_path+\"/vars_\"+str(10*24*3600)+\".npy\")\n",
    "diff_vars = np.load(source_path+\"/diff_vars_\"+str(10*24*3600)+\".npy\")"
   ]
  },
  {
   "cell_type": "markdown",
   "metadata": {},
   "source": [
    "## Ensembles with equal error $\\tau$"
   ]
  },
  {
   "cell_type": "code",
   "execution_count": 79,
   "metadata": {},
   "outputs": [],
   "source": [
    "def speedup(tau, vars, diff_vars):\n",
    "\n",
    "    allwork = np.sqrt(vars[0] * works[0])\n",
    "    for k_idx in range(1, len(ls)):\n",
    "        allwork += np.sqrt(diff_vars[k_idx-1] * diff_works[k_idx-1])\n",
    "\n",
    "    ML_Ne = np.zeros(len(ls))\n",
    "    ML_Ne[0] = 1/(tau**2)*np.sqrt(vars[0]/works[0]) * allwork\n",
    "    for l_idx in range(1, len(ls)):\n",
    "        ML_Ne[l_idx] = 1/(tau**2)*np.sqrt(diff_vars[l_idx-1]/diff_works[l_idx-1]) * allwork\n",
    "\n",
    "    MLwork = ML_Ne[0]*works[0]\n",
    "    for l_idx in range(1, len(ML_Ne)):\n",
    "        MLwork += ML_Ne[l_idx]*diff_works[l_idx-1]\n",
    "\n",
    "    SLwork = vars[-1]/(tau**2) * works[-1]\n",
    "\n",
    "    su = SLwork/MLwork\n",
    "\n",
    "    print(\"tau = \", tau, \n",
    "            \" SL_Ne = \", (vars[-1]/(tau**2)).astype(int),\n",
    "            \" ML_Ne = \", ML_Ne.astype(int), \n",
    "            \" speedup = \", su, \n",
    "            \" ML_work = \", MLwork)\n",
    "\n",
    "    return su\n"
   ]
  },
  {
   "cell_type": "code",
   "execution_count": 86,
   "metadata": {},
   "outputs": [
    {
     "name": "stdout",
     "output_type": "stream",
     "text": [
      "tau =  500  SL_Ne =  5776  ML_Ne =  [31726 15461  5245  1426]  speedup =  2.4213155212719664  ML_work =  2385.6469416119453\n",
      "tau =  600  SL_Ne =  4011  ML_Ne =  [22032 10737  3642   990]  speedup =  2.421315521271967  ML_work =  1656.6992650082952\n",
      "tau =  700  SL_Ne =  2947  ML_Ne =  [16186  7888  2676   727]  speedup =  2.421315521271967  ML_work =  1217.16680694487\n",
      "tau =  800  SL_Ne =  2256  ML_Ne =  [12393  6039  2049   557]  speedup =  2.4213155212719664  ML_work =  931.8933365671661\n",
      "tau =  900  SL_Ne =  1782  ML_Ne =  [9792 4772 1618  440]  speedup =  2.4213155212719664  ML_work =  736.3107844481312\n",
      "tau =  1000  SL_Ne =  1444  ML_Ne =  [7931 3865 1311  356]  speedup =  2.4213155212719664  ML_work =  596.4117354029863\n",
      "tau =  1100  SL_Ne =  1193  ML_Ne =  [6554 3194 1083  294]  speedup =  2.421315521271967  ML_work =  492.90226066362504\n",
      "tau =  1200  SL_Ne =  1002  ML_Ne =  [5508 2684  910  247]  speedup =  2.421315521271967  ML_work =  414.1748162520738\n",
      "tau =  1300  SL_Ne =  854  ML_Ne =  [4693 2287  775  211]  speedup =  2.4213155212719673  ML_work =  352.9063523094593\n",
      "tau =  1400  SL_Ne =  736  ML_Ne =  [4046 1972  669  181]  speedup =  2.421315521271967  ML_work =  304.2917017362175\n",
      "tau =  1500  SL_Ne =  641  ML_Ne =  [3525 1717  582  158]  speedup =  2.421315521271967  ML_work =  265.07188240132723\n",
      "tau =  1600  SL_Ne =  564  ML_Ne =  [3098 1509  512  139]  speedup =  2.4213155212719664  ML_work =  232.97333414179153\n",
      "tau =  1700  SL_Ne =  499  ML_Ne =  [2744 1337  453  123]  speedup =  2.421315521271967  ML_work =  206.37084269999525\n",
      "tau =  1800  SL_Ne =  445  ML_Ne =  [2448 1193  404  110]  speedup =  2.4213155212719664  ML_work =  184.0776961120328\n",
      "tau =  1900  SL_Ne =  400  ML_Ne =  [2197 1070  363   98]  speedup =  2.421315521271966  ML_work =  165.21100703683834\n",
      "tau =  2000  SL_Ne =  361  ML_Ne =  [1982  966  327   89]  speedup =  2.4213155212719664  ML_work =  149.10293385074658\n",
      "tau =  2100  SL_Ne =  327  ML_Ne =  [1798  876  297   80]  speedup =  2.4213155212719664  ML_work =  135.24075632720778\n",
      "tau =  2200  SL_Ne =  298  ML_Ne =  [1638  798  270   73]  speedup =  2.421315521271967  ML_work =  123.22556516590626\n",
      "tau =  2300  SL_Ne =  272  ML_Ne =  [1499  730  247   67]  speedup =  2.4213155212719664  ML_work =  112.74323920661368\n",
      "tau =  2400  SL_Ne =  250  ML_Ne =  [1377  671  227   61]  speedup =  2.421315521271967  ML_work =  103.54370406301845\n",
      "tau =  2500  SL_Ne =  231  ML_Ne =  [1269  618  209   57]  speedup =  2.421315521271967  ML_work =  95.42587766447781\n",
      "tau =  2600  SL_Ne =  213  ML_Ne =  [1173  571  193   52]  speedup =  2.4213155212719673  ML_work =  88.22658807736482\n",
      "tau =  2700  SL_Ne =  198  ML_Ne =  [1088  530  179   48]  speedup =  2.421315521271967  ML_work =  81.8123093831257\n",
      "tau =  2800  SL_Ne =  184  ML_Ne =  [1011  493  167   45]  speedup =  2.421315521271967  ML_work =  76.07292543405437\n",
      "tau =  2900  SL_Ne =  171  ML_Ne =  [943 459 155  42]  speedup =  2.421315521271967  ML_work =  70.91697210499242\n",
      "tau =  3000  SL_Ne =  160  ML_Ne =  [881 429 145  39]  speedup =  2.421315521271967  ML_work =  66.26797060033181\n",
      "tau =  3100  SL_Ne =  150  ML_Ne =  [825 402 136  37]  speedup =  2.421315521271967  ML_work =  62.06157496389035\n",
      "tau =  3200  SL_Ne =  141  ML_Ne =  [774 377 128  34]  speedup =  2.4213155212719664  ML_work =  58.24333353544788\n",
      "tau =  3300  SL_Ne =  132  ML_Ne =  [728 354 120  32]  speedup =  2.4213155212719664  ML_work =  54.766917851513895\n",
      "tau =  3400  SL_Ne =  124  ML_Ne =  [686 334 113  30]  speedup =  2.421315521271967  ML_work =  51.59271067499881\n",
      "tau =  3500  SL_Ne =  117  ML_Ne =  [647 315 107  29]  speedup =  2.421315521271967  ML_work =  48.6866722777948\n",
      "tau =  3600  SL_Ne =  111  ML_Ne =  [612 298 101  27]  speedup =  2.4213155212719664  ML_work =  46.0194240280082\n",
      "tau =  3700  SL_Ne =  105  ML_Ne =  [579 282  95  26]  speedup =  2.421315521271967  ML_work =  43.5655029512773\n",
      "tau =  3800  SL_Ne =  100  ML_Ne =  [549 267  90  24]  speedup =  2.421315521271966  ML_work =  41.302751759209585\n",
      "tau =  3900  SL_Ne =  94  ML_Ne =  [521 254  86  23]  speedup =  2.4213155212719664  ML_work =  39.21181692327326\n",
      "tau =  4000  SL_Ne =  90  ML_Ne =  [495 241  81  22]  speedup =  2.4213155212719664  ML_work =  37.275733462686645\n",
      "tau =  4100  SL_Ne =  85  ML_Ne =  [471 229  78  21]  speedup =  2.421315521271967  ML_work =  35.47957973842869\n",
      "tau =  4200  SL_Ne =  81  ML_Ne =  [449 219  74  20]  speedup =  2.4213155212719664  ML_work =  33.810189081801944\n",
      "tau =  4300  SL_Ne =  78  ML_Ne =  [428 209  70  19]  speedup =  2.421315521271967  ML_work =  32.25590780978833\n",
      "tau =  4400  SL_Ne =  74  ML_Ne =  [409 199  67  18]  speedup =  2.421315521271967  ML_work =  30.806391291476565\n",
      "tau =  4500  SL_Ne =  71  ML_Ne =  [391 190  64  17]  speedup =  2.4213155212719664  ML_work =  29.45243137792525\n",
      "tau =  4600  SL_Ne =  68  ML_Ne =  [374 182  61  16]  speedup =  2.4213155212719664  ML_work =  28.18580980165342\n",
      "tau =  4700  SL_Ne =  65  ML_Ne =  [359 174  59  16]  speedup =  2.4213155212719664  ML_work =  26.99917317351681\n",
      "tau =  4800  SL_Ne =  62  ML_Ne =  [344 167  56  15]  speedup =  2.421315521271967  ML_work =  25.885926015754613\n",
      "tau =  4900  SL_Ne =  60  ML_Ne =  [330 160  54  14]  speedup =  2.421315521271967  ML_work =  24.840138917242243\n",
      "tau =  5000  SL_Ne =  57  ML_Ne =  [317 154  52  14]  speedup =  2.421315521271967  ML_work =  23.856469416119452\n",
      "tau =  5100  SL_Ne =  55  ML_Ne =  [304 148  50  13]  speedup =  2.421315521271967  ML_work =  22.930093633332806\n",
      "tau =  5200  SL_Ne =  53  ML_Ne =  [293 142  48  13]  speedup =  2.4213155212719673  ML_work =  22.056647019341206\n",
      "tau =  5300  SL_Ne =  51  ML_Ne =  [282 137  46  12]  speedup =  2.4213155212719664  ML_work =  21.23217285165491\n",
      "tau =  5400  SL_Ne =  49  ML_Ne =  [272 132  44  12]  speedup =  2.421315521271967  ML_work =  20.453077345781423\n",
      "tau =  5500  SL_Ne =  47  ML_Ne =  [262 127  43  11]  speedup =  2.421315521271967  ML_work =  19.716090426545\n",
      "tau =  5600  SL_Ne =  46  ML_Ne =  [252 123  41  11]  speedup =  2.421315521271967  ML_work =  19.018231358513592\n",
      "tau =  5700  SL_Ne =  44  ML_Ne =  [244 118  40  10]  speedup =  2.421315521271967  ML_work =  18.3567785596487\n",
      "tau =  5800  SL_Ne =  42  ML_Ne =  [235 114  38  10]  speedup =  2.421315521271967  ML_work =  17.729243026248106\n",
      "tau =  5900  SL_Ne =  41  ML_Ne =  [227 111  37  10]  speedup =  2.421315521271967  ML_work =  17.13334488373991\n",
      "tau =  6000  SL_Ne =  40  ML_Ne =  [220 107  36   9]  speedup =  2.421315521271967  ML_work =  16.566992650082952\n",
      "tau =  6100  SL_Ne =  38  ML_Ne =  [213 103  35   9]  speedup =  2.4213155212719664  ML_work =  16.028264858989154\n",
      "tau =  6200  SL_Ne =  37  ML_Ne =  [206 100  34   9]  speedup =  2.421315521271967  ML_work =  15.515393740972588\n",
      "tau =  6300  SL_Ne =  36  ML_Ne =  [199  97  33   8]  speedup =  2.4213155212719664  ML_work =  15.026750703023087\n",
      "tau =  6400  SL_Ne =  35  ML_Ne =  [193  94  32   8]  speedup =  2.4213155212719664  ML_work =  14.56083338386197\n",
      "tau =  6500  SL_Ne =  34  ML_Ne =  [187  91  31   8]  speedup =  2.421315521271967  ML_work =  14.116254092378373\n",
      "tau =  6600  SL_Ne =  33  ML_Ne =  [182  88  30   8]  speedup =  2.4213155212719664  ML_work =  13.691729462878474\n",
      "tau =  6700  SL_Ne =  32  ML_Ne =  [176  86  29   7]  speedup =  2.421315521271967  ML_work =  13.286071182958036\n",
      "tau =  6800  SL_Ne =  31  ML_Ne =  [171  83  28   7]  speedup =  2.421315521271967  ML_work =  12.898177668749703\n",
      "tau =  6900  SL_Ne =  30  ML_Ne =  [166  81  27   7]  speedup =  2.421315521271967  ML_work =  12.52702657851263\n",
      "tau =  7000  SL_Ne =  29  ML_Ne =  [161  78  26   7]  speedup =  2.421315521271967  ML_work =  12.1716680694487\n",
      "tau =  7100  SL_Ne =  28  ML_Ne =  [157  76  26   7]  speedup =  2.421315521271967  ML_work =  11.831218714600006\n",
      "tau =  7200  SL_Ne =  27  ML_Ne =  [153  74  25   6]  speedup =  2.4213155212719664  ML_work =  11.50485600700205\n",
      "tau =  7300  SL_Ne =  27  ML_Ne =  [148  72  24   6]  speedup =  2.421315521271967  ML_work =  11.19181338718308\n",
      "tau =  7400  SL_Ne =  26  ML_Ne =  [144  70  23   6]  speedup =  2.421315521271967  ML_work =  10.891375737819326\n",
      "tau =  7500  SL_Ne =  25  ML_Ne =  [141  68  23   6]  speedup =  2.421315521271967  ML_work =  10.602875296053089\n",
      "tau =  7600  SL_Ne =  25  ML_Ne =  [137  66  22   6]  speedup =  2.421315521271966  ML_work =  10.325687939802396\n",
      "tau =  7700  SL_Ne =  24  ML_Ne =  [133  65  22   6]  speedup =  2.4213155212719673  ML_work =  10.059229809461733\n",
      "tau =  7800  SL_Ne =  23  ML_Ne =  [130  63  21   5]  speedup =  2.4213155212719664  ML_work =  9.802954230818315\n",
      "tau =  7900  SL_Ne =  23  ML_Ne =  [127  61  21   5]  speedup =  2.4213155212719673  ML_work =  9.556348908876561\n",
      "tau =  8000  SL_Ne =  22  ML_Ne =  [123  60  20   5]  speedup =  2.4213155212719664  ML_work =  9.318933365671661\n",
      "tau =  8100  SL_Ne =  22  ML_Ne =  [120  58  19   5]  speedup =  2.421315521271967  ML_work =  9.090256598125077\n",
      "tau =  8200  SL_Ne =  21  ML_Ne =  [117  57  19   5]  speedup =  2.421315521271967  ML_work =  8.869894934607172\n",
      "tau =  8300  SL_Ne =  20  ML_Ne =  [115  56  19   5]  speedup =  2.421315521271967  ML_work =  8.657450071171233\n",
      "tau =  8400  SL_Ne =  20  ML_Ne =  [112  54  18   5]  speedup =  2.4213155212719664  ML_work =  8.452547270450486\n",
      "tau =  8500  SL_Ne =  19  ML_Ne =  [109  53  18   4]  speedup =  2.421315521271967  ML_work =  8.25483370799981\n",
      "tau =  8600  SL_Ne =  19  ML_Ne =  [107  52  17   4]  speedup =  2.421315521271967  ML_work =  8.063976952447083\n",
      "tau =  8700  SL_Ne =  19  ML_Ne =  [104  51  17   4]  speedup =  2.421315521271967  ML_work =  7.879663567221381\n",
      "tau =  8800  SL_Ne =  18  ML_Ne =  [102  49  16   4]  speedup =  2.421315521271967  ML_work =  7.701597822869141\n",
      "tau =  8900  SL_Ne =  18  ML_Ne =  [100  48  16   4]  speedup =  2.421315521271967  ML_work =  7.529500510074312\n",
      "tau =  9000  SL_Ne =  17  ML_Ne =  [97 47 16  4]  speedup =  2.4213155212719664  ML_work =  7.363107844481313\n",
      "tau =  9100  SL_Ne =  17  ML_Ne =  [95 46 15  4]  speedup =  2.4213155212719664  ML_work =  7.2021704552950885\n",
      "tau =  9200  SL_Ne =  17  ML_Ne =  [93 45 15  4]  speedup =  2.4213155212719664  ML_work =  7.046452450413355\n",
      "tau =  9300  SL_Ne =  16  ML_Ne =  [91 44 15  4]  speedup =  2.4213155212719664  ML_work =  6.895730551543373\n",
      "tau =  9400  SL_Ne =  16  ML_Ne =  [89 43 14  4]  speedup =  2.4213155212719664  ML_work =  6.749793293379202\n",
      "tau =  9500  SL_Ne =  16  ML_Ne =  [87 42 14  3]  speedup =  2.421315521271967  ML_work =  6.608440281473532\n",
      "tau =  9600  SL_Ne =  15  ML_Ne =  [86 41 14  3]  speedup =  2.421315521271967  ML_work =  6.471481503938653\n",
      "tau =  9700  SL_Ne =  15  ML_Ne =  [84 41 13  3]  speedup =  2.421315521271967  ML_work =  6.338736692560169\n",
      "tau =  9800  SL_Ne =  15  ML_Ne =  [82 40 13  3]  speedup =  2.421315521271967  ML_work =  6.210034729310561\n",
      "tau =  9900  SL_Ne =  14  ML_Ne =  [80 39 13  3]  speedup =  2.4213155212719664  ML_work =  6.085213094612655\n"
     ]
    },
    {
     "data": {
      "text/plain": [
       "Text(0, 0.5, 'speedup')"
      ]
     },
     "execution_count": 86,
     "metadata": {},
     "output_type": "execute_result"
    },
    {
     "data": {
      "image/png": "[encoded data removed]",
      "text/plain": [
       "<Figure size 640x480 with 1 Axes>"
      ]
     },
     "metadata": {},
     "output_type": "display_data"
    }
   ],
   "source": [
    "# var_idx = 0 # eta\n",
    "var_idx = 1 # hu\n",
    "# var_idx = 2 # hv\n",
    "\n",
    "if var_idx == 0:\n",
    "    taus = np.arange(5, 50, 2) # for eta    \n",
    "else:\n",
    "    taus = np.arange(500, 10000, 100) # for hu, hv \n",
    "\n",
    "sus = np.zeros_like(taus)\n",
    "for t in range(len(taus)):\n",
    "    sus[t] = speedup(taus[t], vars[:,var_idx], diff_vars[:,var_idx])\n",
    "\n",
    "plt.plot(taus, sus)\n",
    "plt.ylim((0,3))\n",
    "plt.xlabel(\"theoretical error\")\n",
    "plt.ylabel(\"speedup\")"
   ]
  },
  {
   "cell_type": "code",
   "execution_count": null,
   "metadata": {},
   "outputs": [],
   "source": []
  },
  {
   "cell_type": "code",
   "execution_count": null,
   "metadata": {},
   "outputs": [],
   "source": []
  }
 ],
 "metadata": {
  "kernelspec": {
   "display_name": "Python 3",
   "language": "python",
   "name": "python3"
  },
  "language_info": {
   "codemirror_mode": {
    "name": "ipython",
    "version": 3
   },
   "file_extension": ".py",
   "mimetype": "text/x-python",
   "name": "python",
   "nbconvert_exporter": "python",
   "pygments_lexer": "ipython3",
   "version": "3.7.12"
  },
  "vscode": {
   "interpreter": {
    "hash": "3048633266a8aca5c85f16c1ee57ccad146141feb66febf24dcb8304467d1440"
   }
  }
 },
 "nbformat": 4,
 "nbformat_minor": 4
}
