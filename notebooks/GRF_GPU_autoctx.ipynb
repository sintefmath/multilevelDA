{
 "cells": [
  {
   "cell_type": "markdown",
   "metadata": {},
   "source": [
    "## Classes and modules"
   ]
  },
  {
   "cell_type": "code",
   "execution_count": 1,
   "metadata": {},
   "outputs": [],
   "source": [
    "#Lets have matplotlib \"inline\"\n",
    "%matplotlib inline\n",
    "\n",
    "import os\n",
    "import sys\n",
    "\n",
    "#Import packages we need\n",
    "import numpy as np\n",
    "from netCDF4 import Dataset\n",
    "import datetime\n",
    "from IPython.display import display\n",
    "\n",
    "#For plotting\n",
    "import matplotlib\n",
    "from matplotlib import pyplot as plt\n",
    "from mpl_toolkits.axes_grid1 import make_axes_locatable\n",
    "\n",
    "plt.rcParams[\"lines.color\"] = \"w\"\n",
    "plt.rcParams[\"text.color\"] = \"w\"\n",
    "plt.rcParams[\"axes.labelcolor\"] = \"w\"\n",
    "plt.rcParams[\"xtick.color\"] = \"w\"\n",
    "plt.rcParams[\"ytick.color\"] = \"w\""
   ]
  },
  {
   "cell_type": "markdown",
   "metadata": {},
   "source": [
    "Basically, we only need the context and stream"
   ]
  },
  {
   "cell_type": "code",
   "execution_count": 2,
   "metadata": {},
   "outputs": [],
   "source": [
    "import pycuda.autoprimaryctx"
   ]
  },
  {
   "cell_type": "code",
   "execution_count": 3,
   "metadata": {},
   "outputs": [],
   "source": [
    "import pycuda.driver as cuda\n",
    "gpu_stream = cuda.Stream()"
   ]
  },
  {
   "cell_type": "markdown",
   "metadata": {},
   "source": [
    "# Sampling GRF: FFT Approach"
   ]
  },
  {
   "cell_type": "markdown",
   "metadata": {},
   "source": [
    "Use GPU for sampling random numbers (first step of immense speed-up)"
   ]
  },
  {
   "cell_type": "code",
   "execution_count": 4,
   "metadata": {},
   "outputs": [],
   "source": [
    "nx = 10#630\n",
    "ny = 5#315"
   ]
  },
  {
   "cell_type": "code",
   "execution_count": 5,
   "metadata": {},
   "outputs": [],
   "source": [
    "from gpuocean.utils import Common\n",
    "\n",
    "u_gpu = Common.CUDAArray2D(gpu_stream, nx, ny, 0, 0, np.zeros((ny,nx), dtype=np.float32))"
   ]
  },
  {
   "cell_type": "code",
   "execution_count": 6,
   "metadata": {},
   "outputs": [],
   "source": [
    "from pycuda.curandom import XORWOWRandomNumberGenerator\n",
    "rng = XORWOWRandomNumberGenerator()"
   ]
  },
  {
   "cell_type": "code",
   "execution_count": 7,
   "metadata": {},
   "outputs": [],
   "source": [
    "rng.fill_normal(u_gpu.data, stream=gpu_stream)"
   ]
  },
  {
   "cell_type": "code",
   "execution_count": 8,
   "metadata": {},
   "outputs": [],
   "source": [
    "u = u_gpu.download(gpu_stream)"
   ]
  },
  {
   "cell_type": "code",
   "execution_count": 9,
   "metadata": {},
   "outputs": [
    {
     "data": {
      "text/plain": [
       "(5, 10)"
      ]
     },
     "execution_count": 9,
     "metadata": {},
     "output_type": "execute_result"
    }
   ],
   "source": [
    "u.shape"
   ]
  },
  {
   "cell_type": "code",
   "execution_count": 10,
   "metadata": {},
   "outputs": [
    {
     "data": {
      "image/png": "[encoded data removed]",
      "text/plain": [
       "<Figure size 432x288 with 1 Axes>"
      ]
     },
     "metadata": {
      "needs_background": "dark"
     },
     "output_type": "display_data"
    }
   ],
   "source": [
    "_ = plt.hist(u.flatten(), bins=50)"
   ]
  },
  {
   "cell_type": "markdown",
   "metadata": {},
   "source": [
    "Only one row of distance matrix needed"
   ]
  },
  {
   "cell_type": "code",
   "execution_count": 11,
   "metadata": {},
   "outputs": [],
   "source": [
    "dist = np.zeros((nx*ny))\n",
    "for j in range(ny):\n",
    "    for i in range(nx):\n",
    "        dist[j*nx+i] = np.sqrt(i**2+j**2)\n",
    "        dist[j*nx+i] = min([np.sqrt(i**2+j**2),np.sqrt((i-nx)**2+j**2),np.sqrt(i**2+(j-ny)**2),np.sqrt((i-nx)**2+(j-ny)**2)]) # only periodic!! Otherwise complex fft values!!"
   ]
  },
  {
   "cell_type": "code",
   "execution_count": 12,
   "metadata": {},
   "outputs": [],
   "source": [
    "phi = 0.1\n",
    "corr = np.exp(-phi*dist**2)"
   ]
  },
  {
   "cell_type": "code",
   "execution_count": 13,
   "metadata": {},
   "outputs": [],
   "source": [
    "cov_toepitz = np.reshape(corr, (ny, nx))"
   ]
  },
  {
   "cell_type": "code",
   "execution_count": 14,
   "metadata": {},
   "outputs": [
    {
     "data": {
      "text/plain": [
       "<matplotlib.colorbar.Colorbar at 0x7fb4e9b6bd10>"
      ]
     },
     "execution_count": 14,
     "metadata": {},
     "output_type": "execute_result"
    },
    {
     "data": {
      "image/png": "[encoded data removed]",
      "text/plain": [
       "<Figure size 432x288 with 2 Axes>"
      ]
     },
     "metadata": {
      "needs_background": "dark"
     },
     "output_type": "display_data"
    }
   ],
   "source": [
    "plt.imshow(cov_toepitz)\n",
    "plt.colorbar()"
   ]
  },
  {
   "cell_type": "markdown",
   "metadata": {},
   "source": [
    "## FFT on the CPU"
   ]
  },
  {
   "cell_type": "code",
   "execution_count": 15,
   "metadata": {},
   "outputs": [],
   "source": [
    "# ctf = np.fft.fft2(cov_toepitz)\n",
    "# ctfsm = np.sqrt(np.maximum(0,ctf))\n",
    "# uf = np.fft.fft2(u)\n",
    "# grf = np.fft.ifft2(ctfsm*uf).real"
   ]
  },
  {
   "cell_type": "code",
   "execution_count": 16,
   "metadata": {},
   "outputs": [],
   "source": [
    "ctf = np.fft.rfft2(cov_toepitz)\n",
    "ctfsm = np.sqrt(np.maximum(0,ctf))\n",
    "uf = np.fft.rfft2(u)\n",
    "grf = np.fft.irfft2(ctfsm*uf).real"
   ]
  },
  {
   "cell_type": "code",
   "execution_count": 17,
   "metadata": {},
   "outputs": [
    {
     "data": {
      "text/plain": [
       "<matplotlib.colorbar.Colorbar at 0x7fb4e9a53210>"
      ]
     },
     "execution_count": 17,
     "metadata": {},
     "output_type": "execute_result"
    },
    {
     "data": {
      "image/png": "[encoded data removed]",
      "text/plain": [
       "<Figure size 720x360 with 2 Axes>"
      ]
     },
     "metadata": {
      "needs_background": "dark"
     },
     "output_type": "display_data"
    }
   ],
   "source": [
    "plt.figure(figsize=(10,5))\n",
    "plt.imshow(grf, vmin=-2, vmax=2)\n",
    "plt.colorbar(shrink=0.7)"
   ]
  },
  {
   "cell_type": "markdown",
   "metadata": {},
   "source": [
    "##### Alternative code as in advectionDiffusion (same result upside down)"
   ]
  },
  {
   "cell_type": "code",
   "execution_count": 18,
   "metadata": {},
   "outputs": [],
   "source": [
    "cmf = np.real(np.fft.fft2(cov_toepitz))\n",
    "uif = np.fft.ifft2(u)\n",
    "xf = np.real(np.fft.fft2(np.sqrt(np.maximum(cmf,0))*uif))"
   ]
  },
  {
   "cell_type": "code",
   "execution_count": 19,
   "metadata": {},
   "outputs": [
    {
     "data": {
      "text/plain": [
       "<matplotlib.colorbar.Colorbar at 0x7fb4e9993e90>"
      ]
     },
     "execution_count": 19,
     "metadata": {},
     "output_type": "execute_result"
    },
    {
     "data": {
      "image/png": "[encoded data removed]",
      "text/plain": [
       "<Figure size 720x360 with 2 Axes>"
      ]
     },
     "metadata": {
      "needs_background": "dark"
     },
     "output_type": "display_data"
    }
   ],
   "source": [
    "plt.figure(figsize=(10,5))\n",
    "plt.imshow(xf, origin=\"lower\", vmin=-2, vmax=2)\n",
    "plt.colorbar(shrink=0.7)"
   ]
  },
  {
   "cell_type": "markdown",
   "metadata": {},
   "source": [
    "## FFT via skcuda (2D!)"
   ]
  },
  {
   "cell_type": "code",
   "execution_count": 20,
   "metadata": {},
   "outputs": [],
   "source": [
    "import numpy as np\n",
    "\n",
    "import pycuda.driver as cuda\n",
    "from pycuda.tools import make_default_context\n",
    "import pycuda.gpuarray as gpuarray"
   ]
  },
  {
   "cell_type": "code",
   "execution_count": 21,
   "metadata": {},
   "outputs": [],
   "source": [
    "from gpuocean.utils import IPythonMagic"
   ]
  },
  {
   "cell_type": "code",
   "execution_count": 22,
   "metadata": {},
   "outputs": [],
   "source": [
    "%cuda_context_handler gpu_ctx"
   ]
  },
  {
   "cell_type": "code",
   "execution_count": 23,
   "metadata": {},
   "outputs": [
    {
     "name": "stderr",
     "output_type": "stream",
     "text": [
      "/home/florianb/miniconda3/envs/gpuocean_opendrift/lib/python3.7/site-packages/skcuda/cublas.py:284: UserWarning: creating CUBLAS context to get version number\n",
      "  warnings.warn('creating CUBLAS context to get version number')\n"
     ]
    }
   ],
   "source": [
    "from skcuda.fft import fft, ifft, Plan"
   ]
  },
  {
   "cell_type": "markdown",
   "metadata": {},
   "source": [
    "##### Start with sanity checks"
   ]
  },
  {
   "cell_type": "code",
   "execution_count": 24,
   "metadata": {},
   "outputs": [
    {
     "name": "stdout",
     "output_type": "stream",
     "text": [
      "[[-0.52710431 -1.11471687  0.49376394  0.8460334 ]\n",
      " [ 1.27400574 -0.32932747 -0.47151107  0.3941378 ]\n",
      " [ 0.5421381   0.70243583  0.41856754  0.08802374]\n",
      " [-0.03068851  0.59133888  0.34739635 -2.00417128]]\n"
     ]
    },
    {
     "data": {
      "text/plain": [
       "array([[-0.5271043 , -1.1147169 ,  0.49376398,  0.84603333],\n",
       "       [ 1.2740057 , -0.32932743, -0.47151113,  0.39413786],\n",
       "       [ 0.54213816,  0.70243585,  0.41856754,  0.08802384],\n",
       "       [-0.03068852,  0.5913389 ,  0.3473963 , -2.0041714 ]],\n",
       "      dtype=float32)"
      ]
     },
     "execution_count": 24,
     "metadata": {},
     "output_type": "execute_result"
    }
   ],
   "source": [
    "# https://forums.developer.nvidia.com/t/how-to-apply-scikit-cuda-2d-fft-pycuda/33055\n",
    "\n",
    "data = np.random.randn(4,4)\n",
    "print(data)\n",
    "\n",
    "data_gpu = gpuarray.to_gpu(data.astype(np.float32))\n",
    "out_gpu = gpuarray.empty(data.shape, np.complex64)\n",
    "\n",
    "plan = Plan(data.shape, np.complex64, np.complex64)\n",
    "fft(data_gpu, out_gpu, plan)\n",
    "ifft(out_gpu, data_gpu, plan)\n",
    "\n",
    "data_gpu.get()/np.product(data.shape)"
   ]
  },
  {
   "cell_type": "code",
   "execution_count": 25,
   "metadata": {},
   "outputs": [
    {
     "name": "stdout",
     "output_type": "stream",
     "text": [
      "[[  1. 101. 221. 239.]\n",
      " [176. 247. 154. 197.]\n",
      " [ 58. 126.  20. 204.]\n",
      " [  8.  57. 119.  33.]]\n",
      "[[1961.  +0.j -271.+142.j -447.  +0.j -271.-142.j]\n",
      " [ 154.-557.j -284. -73.j  134.+151.j -232.-193.j]\n",
      " [ -21.  +0.j  -93.+290.j -293.  +0.j  -93.-290.j]\n",
      " [ 154.+557.j -232.+193.j  134.-151.j -284. +73.j]]\n",
      "[[1961.  +0.j -271.+142.j -447.  +0.j]\n",
      " [ 154.-557.j -284. -73.j  134.+151.j]\n",
      " [ -21.  +0.j  -93.+290.j -293.  +0.j]]\n",
      "[[  1. 101. 221. 239.]\n",
      " [176. 247. 154. 197.]\n",
      " [ 58. 126.  20. 204.]\n",
      " [  8.  57. 119.  33.]]\n",
      "[[  1. 101. 221. 239.]\n",
      " [176. 247. 154. 197.]\n",
      " [ 58. 126.  20. 204.]\n",
      " [  8.  57. 119.  33.]]\n"
     ]
    }
   ],
   "source": [
    "# https://github.com/lebedov/scikit-cuda/issues/253\n",
    "N = 4\n",
    "array = np.random.randint(255, size=(N, N)).astype(np.float32)\n",
    "print(array)\n",
    "array_gpu = gpuarray.to_gpu(array)\n",
    "ft = np.fft.fft2(array)\n",
    "print(ft)\n",
    "\n",
    "ft_gpu = gpuarray.empty((N//2+1, N//2+1), dtype=np.complex64)\n",
    "plan = Plan((N, N), np.float32, np.complex64)\n",
    "fft(array_gpu, ft_gpu, plan)\n",
    "print(ft_gpu.get())\n",
    "\n",
    "\n",
    "plan_inv = Plan((N, N), np.complex64, np.float32)\n",
    "ifft(ft_gpu, array_gpu, plan_inv)\n",
    "print(array)\n",
    "print(array_gpu.get()/np.product(array_gpu.shape))"
   ]
  },
  {
   "cell_type": "markdown",
   "metadata": {},
   "source": [
    "##### Now, with RF from above"
   ]
  },
  {
   "cell_type": "code",
   "execution_count": 26,
   "metadata": {},
   "outputs": [],
   "source": [
    "# https://www.idtools.com.au/gpu-accelerated-fft-compatible-with-numpy/\n",
    "ct_gpu = gpuarray.to_gpu(cov_toepitz.astype(np.float32))\n",
    "ctf_gpu = gpuarray.empty((ny//2+1, nx//2+1), np.complex64)\n",
    "plan = Plan(ct_gpu.shape, np.float32, np.complex64)\n",
    "fft(ct_gpu, ctf_gpu, plan)"
   ]
  },
  {
   "cell_type": "code",
   "execution_count": 27,
   "metadata": {},
   "outputs": [
    {
     "data": {
      "text/plain": [
       "(array([[ 2.26164451e+01,  9.20666009e+00,  9.81136172e-02,\n",
       "          2.35391517e-01, -1.78852369e-01,  1.64078442e-01],\n",
       "        [ 2.58636024e+00,  1.05285068e+00,  1.12200285e-02,\n",
       "          2.69187866e-02, -2.04531107e-02,  1.87636013e-02],\n",
       "        [-2.71252094e-01, -1.10420794e-01, -1.17673330e-03,\n",
       "         -2.82318647e-03,  2.14507979e-03, -1.96788756e-03]]),\n",
       " array([[ 2.26164455e+01,  9.20666027e+00,  9.81135145e-02,\n",
       "          2.35391587e-01, -1.78852320e-01,  1.64078474e-01],\n",
       "        [ 2.58636045e+00,  1.05285072e+00,  1.12201069e-02,\n",
       "          2.69187540e-02, -2.04531010e-02,  1.87638532e-02],\n",
       "        [-2.71252424e-01, -1.10421054e-01, -1.17668614e-03,\n",
       "         -2.82320986e-03,  2.14505964e-03, -1.96785852e-03]], dtype=float32))"
      ]
     },
     "execution_count": 27,
     "metadata": {},
     "output_type": "execute_result"
    }
   ],
   "source": [
    "ctf.real[0:ny//2+1,0:nx//2+1], ctf_gpu.real"
   ]
  },
  {
   "cell_type": "code",
   "execution_count": 28,
   "metadata": {},
   "outputs": [],
   "source": [
    "# https://www.idtools.com.au/gpu-accelerated-fft-compatible-with-numpy/\n",
    "u_gpu = gpuarray.to_gpu(u.astype(np.float32))\n",
    "uf_gpu = gpuarray.empty((ny//2+1,nx//2+1), np.complex64)\n",
    "plan = Plan(u_gpu.shape, np.float32, np.complex64)\n",
    "fft(u_gpu, uf_gpu, plan)"
   ]
  },
  {
   "cell_type": "code",
   "execution_count": 29,
   "metadata": {},
   "outputs": [
    {
     "data": {
      "text/plain": [
       "array([[-6.1572866  +0.j        , -1.4530427  -1.1152256j ,\n",
       "         9.285352   +4.2708397j , 13.21337    -6.3415484j ,\n",
       "         2.6311967  +2.4533238j ,  9.308914   +0.j        ],\n",
       "       [ 2.72899    -0.44709578j,  0.7878747 +13.150061j  ,\n",
       "        -1.2367804  -2.503229j  ,  0.81087434 +1.8447115j ,\n",
       "         2.7828016  -4.823086j  , -0.9274023  -2.5051045j ],\n",
       "       [-3.6065614  +6.0153522j ,  4.36658    -0.7276274j ,\n",
       "        -2.9823487  +2.8939822j , -5.217624   -0.80629855j,\n",
       "        -0.574566   +1.6654599j , -2.8368278  +4.7695j    ]],\n",
       "      dtype=complex64)"
      ]
     },
     "execution_count": 29,
     "metadata": {},
     "output_type": "execute_result"
    }
   ],
   "source": [
    "uf_gpu"
   ]
  },
  {
   "cell_type": "code",
   "execution_count": 30,
   "metadata": {},
   "outputs": [
    {
     "data": {
      "text/plain": [
       "array([[-6.15728664 +0.j        , -1.45304277 -1.11522554j,\n",
       "         9.28535147 +4.27083923j, 13.21337041 -6.34154849j,\n",
       "         2.63119737 +2.45332401j,  9.30891489 +0.j        ],\n",
       "       [ 2.72899016 -0.44709563j,  0.78787458+13.15006043j,\n",
       "        -1.23677997 -2.50322838j,  0.81087422 +1.84471166j,\n",
       "         2.78280187 -4.82308613j, -0.92740218 -2.50510444j],\n",
       "       [-3.60656139 +6.01535193j,  4.36657992 -0.72762776j,\n",
       "        -2.98234856 +2.8939823j , -5.2176241  -0.80629819j,\n",
       "        -0.5745662  +1.66545979j, -2.83682788 +4.76949975j]])"
      ]
     },
     "execution_count": 30,
     "metadata": {},
     "output_type": "execute_result"
    }
   ],
   "source": [
    "uf[0:ny//2+1,0:nx//2+1]"
   ]
  },
  {
   "cell_type": "code",
   "execution_count": 31,
   "metadata": {},
   "outputs": [],
   "source": [
    "# import pycuda.cumath as cumath\n",
    "tmp_gpu = gpuarray.to_gpu((np.sqrt(np.maximum(ctf_gpu.get().real,0)) * uf_gpu.get()).astype(np.complex64))\n",
    "\n",
    "grf_gpu = gpuarray.empty((ny,nx), np.float32)\n",
    "plan_inv = Plan(grf_gpu.shape, np.complex64, np.float32)\n",
    "ifft(tmp_gpu, grf_gpu, plan_inv)"
   ]
  },
  {
   "cell_type": "code",
   "execution_count": 32,
   "metadata": {},
   "outputs": [
    {
     "data": {
      "text/plain": [
       "<matplotlib.colorbar.Colorbar at 0x7fb4e8eff990>"
      ]
     },
     "execution_count": 32,
     "metadata": {},
     "output_type": "execute_result"
    },
    {
     "data": {
      "image/png": "[encoded data removed]",
      "text/plain": [
       "<Figure size 720x360 with 2 Axes>"
      ]
     },
     "metadata": {
      "needs_background": "dark"
     },
     "output_type": "display_data"
    }
   ],
   "source": [
    "plt.figure(figsize=(10,5))\n",
    "# ATTENTION: Inverse cuFFT needs scaling!\n",
    "plt.imshow(grf_gpu.get()/nx/ny, vmin=-2, vmax=2)\n",
    "plt.colorbar(shrink=0.7)"
   ]
  },
  {
   "cell_type": "markdown",
   "metadata": {},
   "source": [
    "## Testing"
   ]
  },
  {
   "cell_type": "code",
   "execution_count": 33,
   "metadata": {},
   "outputs": [],
   "source": [
    "def grf_CPU(cov_toepitz):\n",
    "    ny, nx = cov_toepitz.shape\n",
    "    \n",
    "    u = np.random.normal(size=(ny,nx))\n",
    "\n",
    "    ctf = np.fft.rfft2(cov_toepitz)\n",
    "    ctfsm = np.sqrt(np.maximum(0,ctf))\n",
    "    uf = np.fft.rfft2(u)\n",
    "    grf = np.fft.irfft2(ctfsm*uf).real\n",
    "\n",
    "    return grf"
   ]
  },
  {
   "cell_type": "code",
   "execution_count": 34,
   "metadata": {},
   "outputs": [],
   "source": [
    "def grf_GPU(cov_toepitz):\n",
    "    gpu_ctx = Common.CUDAContext()\n",
    "    gpu_stream = cuda.Stream()\n",
    "\n",
    "    ny, nx = cov_toepitz.shape\n",
    "    u_gpu = gpuarray.empty((ny,nx), np.float32)\n",
    "\n",
    "    rng = XORWOWRandomNumberGenerator()\n",
    "    rng.fill_normal(u_gpu, stream=gpu_stream)\n",
    "\n",
    "    ct_gpu = gpuarray.to_gpu(cov_toepitz.astype(np.float32))\n",
    "    ctf_gpu = gpuarray.empty((ny//2+1, nx//2+1), np.complex64)\n",
    "    plan = Plan((ny,nx), np.float32, np.complex64, stream=gpu_stream)\n",
    "    fft(ct_gpu, ctf_gpu, plan)\n",
    "\n",
    "    uf_gpu = gpuarray.empty((ny//2+1,nx//2+1), np.complex64)\n",
    "    plan = Plan((ny,nx), np.float32, np.complex64, stream=gpu_stream)\n",
    "    fft(u_gpu, uf_gpu, plan)\n",
    "\n",
    "    tmp_gpu = gpuarray.to_gpu((np.sqrt(np.maximum(ctf_gpu.get().real,0)) * uf_gpu.get()).astype(np.complex64))\n",
    "\n",
    "    grf_gpu = gpuarray.empty((ny,nx), np.float32)\n",
    "    plan_inv = Plan(grf_gpu.shape, np.complex64, np.float32, stream=gpu_stream)\n",
    "    ifft(tmp_gpu, grf_gpu, plan_inv)\n",
    "\n",
    "    grf = grf_gpu.get()\n",
    "\n",
    "    # https://github.com/lebedov/scikit-cuda/issues/308\n",
    "\n",
    "    return grf"
   ]
  },
  {
   "cell_type": "code",
   "execution_count": 35,
   "metadata": {},
   "outputs": [],
   "source": [
    "N = 10"
   ]
  },
  {
   "cell_type": "code",
   "execution_count": 36,
   "metadata": {},
   "outputs": [],
   "source": [
    "mean_cpu = np.zeros_like(cov_toepitz)\n",
    "\n",
    "for t in range(N):\n",
    "    mean_cpu += grf_CPU(cov_toepitz)/N"
   ]
  },
  {
   "cell_type": "code",
   "execution_count": null,
   "metadata": {},
   "outputs": [],
   "source": []
  },
  {
   "cell_type": "code",
   "execution_count": 49,
   "metadata": {},
   "outputs": [
    {
     "data": {
      "text/plain": [
       "<matplotlib.colorbar.Colorbar at 0x7fb4d3d1d510>"
      ]
     },
     "execution_count": 49,
     "metadata": {},
     "output_type": "execute_result"
    },
    {
     "data": {
      "image/png": "[encoded data removed]",
      "text/plain": [
       "<Figure size 432x288 with 2 Axes>"
      ]
     },
     "metadata": {
      "needs_background": "dark"
     },
     "output_type": "display_data"
    }
   ],
   "source": [
    "plt.imshow(mean_cpu, vmin=-1, vmax=1, cmap=\"coolwarm\")\n",
    "plt.colorbar()"
   ]
  },
  {
   "cell_type": "code",
   "execution_count": 39,
   "metadata": {},
   "outputs": [
    {
     "data": {
      "text/plain": [
       "<matplotlib.colorbar.Colorbar at 0x7fb4e8d7c690>"
      ]
     },
     "execution_count": 39,
     "metadata": {},
     "output_type": "execute_result"
    },
    {
     "data": {
      "image/png": "[encoded data removed]",
      "text/plain": [
       "<Figure size 432x288 with 2 Axes>"
      ]
     },
     "metadata": {
      "needs_background": "dark"
     },
     "output_type": "display_data"
    }
   ],
   "source": [
    "plt.imshow(mean_gpu, vmax=1)\n",
    "plt.colorbar()"
   ]
  },
  {
   "cell_type": "markdown",
   "metadata": {},
   "source": [
    "#### FFT via PyCuda Kernels (fails)"
   ]
  },
  {
   "cell_type": "code",
   "execution_count": 40,
   "metadata": {},
   "outputs": [],
   "source": [
    "import pycuda.driver as cuda\n",
    "from pycuda.compiler import SourceModule\n",
    "import pycuda.autoinit"
   ]
  },
  {
   "cell_type": "code",
   "execution_count": 41,
   "metadata": {},
   "outputs": [
    {
     "name": "stdout",
     "output_type": "stream",
     "text": [
      "[[-1.5003844   0.2500524   0.9855176   0.6651797 ]\n",
      " [ 1.041063    0.00748707  0.49805215 -2.7207828 ]\n",
      " [-0.6500904  -0.6256787   0.14705338  0.29121545]\n",
      " [ 1.1848817  -0.57358164 -1.1954104   0.561714  ]] \n",
      "\n",
      " [[-3.000769    0.5001048   1.9710352   1.3303595 ]\n",
      " [ 2.082126    0.01497414  0.9961043  -5.4415655 ]\n",
      " [-1.3001808  -1.2513574   0.29410675  0.5824309 ]\n",
      " [ 2.3697634  -1.1471633  -2.3908207   1.123428  ]]\n"
     ]
    }
   ],
   "source": [
    "import numpy\n",
    "a = numpy.random.randn(4,4)\n",
    "a = a.astype(numpy.float32)\n",
    "\n",
    "a_gpu = cuda.mem_alloc(a.nbytes)\n",
    "cuda.memcpy_htod(a_gpu, a)\n",
    "\n",
    "mod = SourceModule(\"\"\"\n",
    "  __global__ void doublify(float *a)\n",
    "  {\n",
    "    int idx = threadIdx.x + threadIdx.y*4;\n",
    "    a[idx] *= 2;\n",
    "  }\n",
    "  \"\"\")\n",
    "#Allocate,generateandtransfer\n",
    "func = mod.get_function(\"doublify\")\n",
    "func(a_gpu, block=(4,4,1))\n",
    "\n",
    "a_doubled = numpy.empty_like(a)\n",
    "cuda.memcpy_dtoh(a_doubled,a_gpu)\n",
    "print(a, \"\\n\\n\", a_doubled)"
   ]
  },
  {
   "cell_type": "code",
   "execution_count": 42,
   "metadata": {},
   "outputs": [],
   "source": [
    "kernel = gpu_ctx.get_kernel(\"fft.cu\")"
   ]
  },
  {
   "cell_type": "code",
   "execution_count": 43,
   "metadata": {},
   "outputs": [],
   "source": [
    "func = kernel.get_function(\"doublify\")"
   ]
  },
  {
   "cell_type": "code",
   "execution_count": 44,
   "metadata": {},
   "outputs": [
    {
     "data": {
      "text/plain": [
       "<pycuda._driver.Function at 0x7fb4e8f91880>"
      ]
     },
     "execution_count": 44,
     "metadata": {},
     "output_type": "execute_result"
    }
   ],
   "source": [
    "func.prepare(\"f\")"
   ]
  },
  {
   "cell_type": "code",
   "execution_count": 45,
   "metadata": {},
   "outputs": [
    {
     "name": "stderr",
     "output_type": "stream",
     "text": [
      "Exception caught: Resetting to CUDA context gpu_ctx\n",
      "Traceback (most recent call last):\n",
      "  File \"/home/florianb/miniconda3/envs/gpuocean_opendrift/lib/python3.7/site-packages/IPython/core/interactiveshell.py\", line 3552, in run_code\n",
      "    exec(code_obj, self.user_global_ns, self.user_ns)\n",
      "  File \"/tmp/ipykernel_413333/348589211.py\", line 1, in <module>\n",
      "    func.prepared_async_call((4,4),(1,1,1),gpu_stream, a)\n",
      "  File \"/home/florianb/miniconda3/envs/gpuocean_opendrift/lib/python3.7/site-packages/pycuda/driver.py\", line 625, in function_prepared_async_call\n",
      "    arg_buf = pack(func.arg_format, *args)\n",
      "struct.error: required argument is not a float\n"
     ]
    },
    {
     "ename": "error",
     "evalue": "required argument is not a float",
     "output_type": "error",
     "traceback": [
      "\u001b[0;31m---------------------------------------------------------------------------\u001b[0m",
      "\u001b[0;31merror\u001b[0m                                     Traceback (most recent call last)",
      "\u001b[0;32m/tmp/ipykernel_413333/348589211.py\u001b[0m in \u001b[0;36m<module>\u001b[0;34m\u001b[0m\n\u001b[0;32m----> 1\u001b[0;31m \u001b[0mfunc\u001b[0m\u001b[0;34m.\u001b[0m\u001b[0mprepared_async_call\u001b[0m\u001b[0;34m(\u001b[0m\u001b[0;34m(\u001b[0m\u001b[0;36m4\u001b[0m\u001b[0;34m,\u001b[0m\u001b[0;36m4\u001b[0m\u001b[0;34m)\u001b[0m\u001b[0;34m,\u001b[0m\u001b[0;34m(\u001b[0m\u001b[0;36m1\u001b[0m\u001b[0;34m,\u001b[0m\u001b[0;36m1\u001b[0m\u001b[0;34m,\u001b[0m\u001b[0;36m1\u001b[0m\u001b[0;34m)\u001b[0m\u001b[0;34m,\u001b[0m\u001b[0mgpu_stream\u001b[0m\u001b[0;34m,\u001b[0m \u001b[0ma\u001b[0m\u001b[0;34m)\u001b[0m\u001b[0;34m\u001b[0m\u001b[0;34m\u001b[0m\u001b[0m\n\u001b[0m",
      "\u001b[0;32m~/miniconda3/envs/gpuocean_opendrift/lib/python3.7/site-packages/pycuda/driver.py\u001b[0m in \u001b[0;36mfunction_prepared_async_call\u001b[0;34m(func, grid, block, stream, *args, **kwargs)\u001b[0m\n\u001b[1;32m    623\u001b[0m         \u001b[0;32mfrom\u001b[0m \u001b[0mpycuda\u001b[0m\u001b[0;34m.\u001b[0m\u001b[0m_pvt_struct\u001b[0m \u001b[0;32mimport\u001b[0m \u001b[0mpack\u001b[0m\u001b[0;34m\u001b[0m\u001b[0;34m\u001b[0m\u001b[0m\n\u001b[1;32m    624\u001b[0m \u001b[0;34m\u001b[0m\u001b[0m\n\u001b[0;32m--> 625\u001b[0;31m         \u001b[0marg_buf\u001b[0m \u001b[0;34m=\u001b[0m \u001b[0mpack\u001b[0m\u001b[0;34m(\u001b[0m\u001b[0mfunc\u001b[0m\u001b[0;34m.\u001b[0m\u001b[0marg_format\u001b[0m\u001b[0;34m,\u001b[0m \u001b[0;34m*\u001b[0m\u001b[0margs\u001b[0m\u001b[0;34m)\u001b[0m\u001b[0;34m\u001b[0m\u001b[0;34m\u001b[0m\u001b[0m\n\u001b[0m\u001b[1;32m    626\u001b[0m \u001b[0;34m\u001b[0m\u001b[0m\n\u001b[1;32m    627\u001b[0m         \u001b[0;32mfor\u001b[0m \u001b[0mtexref\u001b[0m \u001b[0;32min\u001b[0m \u001b[0mfunc\u001b[0m\u001b[0;34m.\u001b[0m\u001b[0mtexrefs\u001b[0m\u001b[0;34m:\u001b[0m\u001b[0;34m\u001b[0m\u001b[0;34m\u001b[0m\u001b[0m\n",
      "\u001b[0;31merror\u001b[0m: required argument is not a float"
     ]
    }
   ],
   "source": [
    "func.prepared_async_call((4,4),(1,1,1),gpu_stream, a)"
   ]
  }
 ],
 "metadata": {
  "kernelspec": {
   "display_name": "Python 3.7.12 ('gpuocean_opendrift')",
   "language": "python",
   "name": "python3"
  },
  "language_info": {
   "codemirror_mode": {
    "name": "ipython",
    "version": 3
   },
   "file_extension": ".py",
   "mimetype": "text/x-python",
   "name": "python",
   "nbconvert_exporter": "python",
   "pygments_lexer": "ipython3",
   "version": "3.7.12"
  },
  "vscode": {
   "interpreter": {
    "hash": "3048633266a8aca5c85f16c1ee57ccad146141feb66febf24dcb8304467d1440"
   }
  }
 },
 "nbformat": 4,
 "nbformat_minor": 4
}
