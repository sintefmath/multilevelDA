{
 "cells": [
  {
   "attachments": {},
   "cell_type": "markdown",
   "metadata": {},
   "source": [
    "# ML Rank Histograms"
   ]
  },
  {
   "attachments": {},
   "cell_type": "markdown",
   "metadata": {},
   "source": [
    "### Classes and modules"
   ]
  },
  {
   "cell_type": "code",
   "execution_count": 1,
   "metadata": {},
   "outputs": [],
   "source": [
    "#Lets have matplotlib \"inline\"\n",
    "%matplotlib inline\n",
    "\n",
    "import os\n",
    "import sys\n",
    "\n",
    "#Import packages we need\n",
    "import numpy as np\n",
    "import datetime\n",
    "from IPython.display import display\n",
    "import copy\n",
    "\n",
    "#For plotting\n",
    "import matplotlib\n",
    "from matplotlib import pyplot as plt\n",
    "from mpl_toolkits.axes_grid1 import make_axes_locatable\n",
    "\n",
    "plt.rcParams[\"image.origin\"] = \"lower\"\n"
   ]
  },
  {
   "attachments": {},
   "cell_type": "markdown",
   "metadata": {},
   "source": [
    "Input a file path"
   ]
  },
  {
   "cell_type": "code",
   "execution_count": 2,
   "metadata": {},
   "outputs": [],
   "source": [
    "source_paths = [\"/home/florianb/havvarsel/multilevelDA/doublejet/scripts/RankHistograms/2023-11-28T11_12_26\",\n",
    "                \"/home/florianb/havvarsel/multilevelDA/doublejet/scripts/RankHistograms/2023-11-28T11_14_15\",\n",
    "                \"/home/florianb/havvarsel/multilevelDA/doublejet/scripts/RankHistograms/2023-11-28T11_17_09\",\n",
    "                \"/home/florianb/havvarsel/multilevelDA/doublejet/scripts/RankHistograms/2023-11-28T11_55_23\",\n",
    "                \"/home/florianb/havvarsel/multilevelDA/doublejet/scripts/RankHistograms/2023-11-28T13_30_38\",\n",
    "                \"/home/florianb/havvarsel/multilevelDA/doublejet/scripts/RankHistograms/2023-11-28T14_24_40\"]"
   ]
  },
  {
   "cell_type": "markdown",
   "metadata": {},
   "source": [
    "See the files in the directory\n",
    "\n",
    "The different job result follow the output structure:\n",
    "- Folders `0`, `1`, `6`, `12`, `24`, `27` for the different hours after spin-up\n",
    "- Files `<n>_MLvalue_<l>.npy` where `n` is the experiment number and `l` is the level index (for higher levels it is succeeded by `_0` or `_1`)"
   ]
  },
  {
   "cell_type": "code",
   "execution_count": 3,
   "metadata": {},
   "outputs": [],
   "source": [
    "fcount = 0\n",
    "for f in os.listdir(os.path.join(source_paths[0], \"0\")):\n",
    "    if f.startswith(\"0_\"):\n",
    "        fcount += 1\n",
    "\n",
    "l_max = int((fcount-1)/2)"
   ]
  },
  {
   "cell_type": "markdown",
   "metadata": {},
   "source": [
    "The data in the files has the shape $3 \\times 24 \\times N_e^l$ for all 3 variables and for all 24 locations "
   ]
  },
  {
   "cell_type": "markdown",
   "metadata": {},
   "source": [
    "Rank Histogram Utils"
   ]
  },
  {
   "cell_type": "code",
   "execution_count": 4,
   "metadata": {},
   "outputs": [],
   "source": [
    "def loadMLvalues(source_path, T, n):\n",
    "    MLvalues = []\n",
    "    MLvalues.append(np.load(source_path+\"/\"+str(T)+\"/\"+str(n)+\"_MLvalues_0.npy\"))\n",
    "    for l_idx in range(1, l_max+1):\n",
    "        MLvalues.append([np.load(source_path+\"/\"+str(T)+\"/\"+str(n)+\"_MLvalues_\"+str(l_idx)+\"_0.npy\"),\n",
    "                            np.load(source_path+\"/\"+str(T)+\"/\"+str(n)+\"_MLvalues_\"+str(l_idx)+\"_1.npy\")])\n",
    "    return MLvalues"
   ]
  },
  {
   "cell_type": "code",
   "execution_count": 5,
   "metadata": {},
   "outputs": [],
   "source": [
    "def loadTruth(source_path, T, n):\n",
    "    return np.load(source_path+\"/\"+str(T)+\"/\"+str(n)+\"_TRUEvalues.npy\")"
   ]
  },
  {
   "cell_type": "code",
   "execution_count": 6,
   "metadata": {},
   "outputs": [],
   "source": [
    "def resample(MLensemble, newN, obs_idxs):\n",
    "    newEnsemble = np.zeros(newN)\n",
    "\n",
    "    ML_Ne = np.zeros(len(MLensemble))\n",
    "    ML_Ne[0] = MLensemble[0].shape[-1]\n",
    "    for l_idx in range(1, len(MLensemble)):\n",
    "        ML_Ne[l_idx] = MLensemble[l_idx][0].shape[-1]\n",
    "\n",
    "    for n in range(newN):\n",
    "        u = np.random.uniform(0,1)\n",
    "        newX = np.sort(MLensemble[0][obs_idxs[0]])[np.ceil(ML_Ne[0]*u).astype(int)-1] \n",
    "        for l_idx in range(1, len(ls)):\n",
    "            newX += np.sort(MLensemble[l_idx][0][obs_idxs[l_idx]])[np.ceil(ML_Ne[l_idx]*u).astype(int)-1] - np.sort(MLensemble[l_idx][1][obs_idxs[l_idx]])[np.ceil(ML_Ne[l_idx]*u).astype(int)-1]\n",
    "        newEnsemble[n] = newX\n",
    "    \n",
    "    return newEnsemble"
   ]
  },
  {
   "cell_type": "code",
   "execution_count": 7,
   "metadata": {},
   "outputs": [],
   "source": [
    "def resample(ensemble_values, resampleN):\n",
    "    resample_values = np.zeros((3,24,resampleN))\n",
    "\n",
    "    ML_Ne = np.zeros(len(ensemble_values))\n",
    "    ML_Ne[0] = ensemble_values[0].shape[-1]\n",
    "    for l_idx in range(1, len(ensemble_values)):\n",
    "        ML_Ne[l_idx] = ensemble_values[l_idx][0].shape[-1]\n",
    "\n",
    "    for j in range(24):\n",
    "        for n in range(resampleN):\n",
    "            u = np.random.uniform(0,1)\n",
    "            for i in range(3):\n",
    "                newX = np.sort(ensemble_values[0][i,j])[np.ceil(ML_Ne[0]*u).astype(int)-1] \n",
    "                for l_idx in range(1, len(ML_Ne)):\n",
    "                    newX += np.sort(ensemble_values[l_idx][0][i,j])[np.ceil(ML_Ne[l_idx]*u).astype(int)-1] - np.sort(ensemble_values[l_idx][1][i,j])[np.ceil(ML_Ne[l_idx]*u).astype(int)-1]\n",
    "                resample_values[i,j,n] = newX\n",
    "    \n",
    "    return resample_values"
   ]
  },
  {
   "cell_type": "code",
   "execution_count": 8,
   "metadata": {},
   "outputs": [],
   "source": [
    "def SLrank(ensemble_values, true_values):\n",
    "    ML_Fy = 1/(ensemble_values.shape[-1])*np.sum(1*(ensemble_values < true_values[:,:,np.newaxis]), axis=-1)\n",
    "    return ML_Fy"
   ]
  },
  {
   "cell_type": "code",
   "execution_count": 9,
   "metadata": {},
   "outputs": [],
   "source": [
    "def MLranks4T(T):\n",
    "    ranks = np.array([]).reshape(0,3)\n",
    "    for p in range(len(source_paths)):\n",
    "        for n in range(50):\n",
    "            try: \n",
    "                MLensemble = loadMLvalues(source_paths[p], T, n)\n",
    "                MLresample = resample(MLensemble, 1000)\n",
    "                truth = loadTruth(source_paths[p], T, n)\n",
    "                \n",
    "                ranks = np.vstack([ranks, SLrank(MLresample, truth).T]) \n",
    "            except:\n",
    "                pass\n",
    "    \n",
    "    return ranks"
   ]
  },
  {
   "cell_type": "code",
   "execution_count": 10,
   "metadata": {},
   "outputs": [],
   "source": [
    "MLranks = MLranks4T(27)"
   ]
  },
  {
   "cell_type": "code",
   "execution_count": 11,
   "metadata": {},
   "outputs": [],
   "source": [
    "c0 = (0, 68/255, 136/255)"
   ]
  },
  {
   "cell_type": "code",
   "execution_count": 12,
   "metadata": {},
   "outputs": [
    {
     "data": {
      "image/png": "[encoded data removed]",
      "text/plain": [
       "<Figure size 1500x300 with 3 Axes>"
      ]
     },
     "metadata": {},
     "output_type": "display_data"
    }
   ],
   "source": [
    "fig, axs = plt.subplots(1, 3, figsize=(15,3), sharey=True, gridspec_kw={'wspace': 0.1})\n",
    "\n",
    "axs[0].set_title(r\"$\\eta$\", fontsize=16)\n",
    "axs[1].set_title(r\"$hu$\", fontsize=16)\n",
    "axs[2].set_title(r\"$hv$\", fontsize=16)\n",
    "\n",
    "axs[0].set_ylabel('Frequency', fontsize=14)\n",
    "axs[0].yaxis.set_label_coords(-.15, .5)\n",
    "\n",
    "xlim = (0.0,1.0)\n",
    "bins_size = 0.05\n",
    "bins = np.arange(xlim[0],xlim[1]+1e-9, bins_size)\n",
    "\n",
    "for i in range(3):\n",
    "    ranks = np.maximum(xlim[0], MLranks[:,i])\n",
    "    ranks = np.minimum(ranks, xlim[1])\n",
    "    hist = np.histogram(ranks, bins=bins)\n",
    "    \n",
    "    axs[i].bar(0.5*(hist[1][1:]+hist[1][:-1]), hist[0]/len(MLranks[:,i])/bins_size, \n",
    "               width=bins_size, \n",
    "               color=c0, alpha=0.5, edgecolor=c0)\n",
    "    \n",
    "    axs[i].set_ylim((0,1.5))\n",
    "    axs[i].set_xlim(xlim)\n",
    "\n",
    "    axs[i].plot([0,1],[1,1], color=\"black\", ls=\"--\", lw=3)\n",
    "\n",
    "    axs[i].set_xlabel('Rank', fontsize=14)\n",
    "\n",
    "plt.savefig(\"DoubleJet-MLRanks-PostProcessing4paperNEW.pdf\", bbox_inches=\"tight\", dpi=300)"
   ]
  },
  {
   "cell_type": "code",
   "execution_count": null,
   "metadata": {},
   "outputs": [],
   "source": []
  }
 ],
 "metadata": {
  "kernelspec": {
   "display_name": "Python 3",
   "language": "python",
   "name": "python3"
  },
  "language_info": {
   "codemirror_mode": {
    "name": "ipython",
    "version": 3
   },
   "file_extension": ".py",
   "mimetype": "text/x-python",
   "name": "python",
   "nbconvert_exporter": "python",
   "pygments_lexer": "ipython3",
   "version": "3.7.12"
  },
  "vscode": {
   "interpreter": {
    "hash": "3048633266a8aca5c85f16c1ee57ccad146141feb66febf24dcb8304467d1440"
   }
  }
 },
 "nbformat": 4,
 "nbformat_minor": 4
}
