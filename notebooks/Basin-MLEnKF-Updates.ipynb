{
 "cells": [
  {
   "attachments": {},
   "cell_type": "markdown",
   "metadata": {},
   "source": [
    "# MLDA experiment in Basin"
   ]
  },
  {
   "attachments": {},
   "cell_type": "markdown",
   "metadata": {},
   "source": [
    "### Classes and modules"
   ]
  },
  {
   "cell_type": "code",
   "execution_count": 1,
   "metadata": {},
   "outputs": [],
   "source": [
    "#Lets have matplotlib \"inline\"\n",
    "%matplotlib inline\n",
    "\n",
    "import os\n",
    "import sys\n",
    "\n",
    "#Import packages we need\n",
    "import numpy as np\n",
    "import datetime\n",
    "from IPython.display import display\n",
    "import copy\n",
    "\n",
    "#For plotting\n",
    "import matplotlib\n",
    "from matplotlib import pyplot as plt\n",
    "from mpl_toolkits.axes_grid1 import make_axes_locatable\n",
    "\n",
    "plt.rcParams[\"lines.color\"] = \"w\"\n",
    "plt.rcParams[\"text.color\"] = \"w\"\n",
    "plt.rcParams[\"axes.labelcolor\"] = \"w\"\n",
    "plt.rcParams[\"xtick.color\"] = \"w\"\n",
    "plt.rcParams[\"ytick.color\"] = \"w\"\n",
    "\n",
    "plt.rcParams[\"image.origin\"] = \"lower\"\n",
    "\n",
    "import pycuda.driver as cuda"
   ]
  },
  {
   "cell_type": "code",
   "execution_count": 2,
   "metadata": {},
   "outputs": [],
   "source": [
    "import datetime\n",
    "timestamp = datetime.datetime.now().strftime(\"%Y-%m-%dT%H_%M_%S\")\n"
   ]
  },
  {
   "attachments": {},
   "cell_type": "markdown",
   "metadata": {},
   "source": [
    "GPU Ocean-modules:"
   ]
  },
  {
   "cell_type": "code",
   "execution_count": 3,
   "metadata": {},
   "outputs": [],
   "source": [
    "from gpuocean.utils import IPythonMagic, Common\n",
    "from gpuocean.SWEsimulators import CDKLM16, ModelErrorKL"
   ]
  },
  {
   "cell_type": "code",
   "execution_count": 4,
   "metadata": {},
   "outputs": [],
   "source": [
    "%cuda_context_handler gpu_ctx"
   ]
  },
  {
   "cell_type": "code",
   "execution_count": 5,
   "metadata": {},
   "outputs": [],
   "source": [
    "gpu_stream = cuda.Stream()"
   ]
  },
  {
   "attachments": {},
   "cell_type": "markdown",
   "metadata": {},
   "source": [
    "Utils"
   ]
  },
  {
   "cell_type": "code",
   "execution_count": 6,
   "metadata": {},
   "outputs": [],
   "source": [
    "sys.path.insert(0, os.path.abspath(os.path.join(os.getcwd(), '../')))\n",
    "from utils.BasinInit import *\n",
    "from utils.BasinPlot import *"
   ]
  },
  {
   "cell_type": "code",
   "execution_count": 7,
   "metadata": {},
   "outputs": [],
   "source": [
    "truth_path = \"/home/florianb/havvarsel/multilevelDA/scripts/DataAssimilation/BasinTruth/2023-06-22T13_47_48\""
   ]
  },
  {
   "attachments": {},
   "cell_type": "markdown",
   "metadata": {},
   "source": [
    "## Case "
   ]
  },
  {
   "cell_type": "code",
   "execution_count": 8,
   "metadata": {},
   "outputs": [],
   "source": [
    "ls = [6, 7, 8, 9]"
   ]
  },
  {
   "cell_type": "code",
   "execution_count": 9,
   "metadata": {},
   "outputs": [],
   "source": [
    "from utils.BasinParameters import * "
   ]
  },
  {
   "cell_type": "code",
   "execution_count": 10,
   "metadata": {},
   "outputs": [],
   "source": [
    "args_list = []\n",
    "\n",
    "for l in ls:\n",
    "    lvl_grid_args = initGridSpecs(l)\n",
    "    args_list.append( {\n",
    "        \"nx\": lvl_grid_args[\"nx\"],\n",
    "        \"ny\": lvl_grid_args[\"ny\"],\n",
    "        \"dx\": lvl_grid_args[\"dx\"],\n",
    "        \"dy\": lvl_grid_args[\"dy\"],\n",
    "        \"gpu_ctx\": gpu_ctx,\n",
    "        \"gpu_stream\": gpu_stream,\n",
    "        \"boundary_conditions\": Common.BoundaryConditions(2,2,2,2)\n",
    "        } )"
   ]
  },
  {
   "cell_type": "code",
   "execution_count": 11,
   "metadata": {},
   "outputs": [],
   "source": [
    "data_args_list = []\n",
    "for l_idx in range(len(args_list)): \n",
    "    data_args_list.append( make_init_steady_state(args_list[l_idx], a=steady_state_bump_a, bump_fractal_dist=steady_state_bump_fractal_dist) )\n"
   ]
  },
  {
   "cell_type": "code",
   "execution_count": 12,
   "metadata": {},
   "outputs": [],
   "source": [
    "Nes = [100, 50, 25, 15]"
   ]
  },
  {
   "cell_type": "code",
   "execution_count": 13,
   "metadata": {},
   "outputs": [],
   "source": [
    "from gpuocean.ensembles import MultiLevelOceanEnsemble\n",
    "MLOceanEnsemble = MultiLevelOceanEnsemble.MultiLevelOceanEnsembleCase(Nes, args_list, data_args_list, sample_args, make_sim,\n",
    "                            init_model_error_basis_args=init_model_error_basis_args, \n",
    "                            sim_model_error_basis_args=sim_model_error_basis_args, sim_model_error_timestep=sim_model_error_timestep)\n",
    "\n",
    "from gpuocean.dataassimilation import MLEnKFOcean\n",
    "MLEnKF = MLEnKFOcean.MLEnKFOcean(MLOceanEnsemble)"
   ]
  },
  {
   "cell_type": "code",
   "execution_count": 14,
   "metadata": {},
   "outputs": [],
   "source": [
    "MLOceanEnsemble.stepToObservation(da_timestep)"
   ]
  },
  {
   "cell_type": "code",
   "execution_count": 15,
   "metadata": {},
   "outputs": [],
   "source": [
    "from utils.BasinSL import *\n",
    "\n",
    "def g_functionalExp(SL_state):\n",
    "    \"\"\"\n",
    "    L_g functional as in notation of Kjetil's PhD thesis.\n",
    "    This should be the functional that is under investigation for the variance level plot\n",
    "\n",
    "    Input a ndarray of size (3, ny, nx, Ne)\n",
    "\n",
    "    Returns a ndarray of same size as SL_state (3, ny, nx, Ne)\n",
    "    \"\"\"\n",
    "    return SL_state\n",
    "\n",
    "def g_functionalVar(SL_state):\n",
    "    \"\"\"\n",
    "    L_g functional as in notation of Kjetil's PhD thesis.\n",
    "    This should be the functional that is under investigation for the variance level plot\n",
    "\n",
    "    Input a ndarray of size (3, ny, nx, Ne)\n",
    "\n",
    "    Returns a ndarray of same size as SL_state (3, ny, nx, Ne)\n",
    "    \"\"\"\n",
    "    return (SL_state - np.mean(SL_state, axis=-1)[:,:,:,np.newaxis])**2\n",
    "    \n",
    "def L2norm(field, lvl_grid_args):\n",
    "    \"\"\"\n",
    "    integral_D(f dx)\n",
    "    where D are uniform finite volumes\n",
    "\n",
    "    Input:\n",
    "    field           - ndarray of shape (3,ny,nx,..)\n",
    "    lvl_grid_args   - dict with nx, ny and dx, dy information\n",
    "\n",
    "    Output:\n",
    "    L2norm          - ndarray of shape (3,...)\n",
    "    \"\"\"\n",
    "    # assert field.shape[1:3] == (lvl_grid_args[\"ny\"], lvl_grid_args[\"nx\"]), \"field has wrong resolution\"\n",
    "    return np.sqrt(np.sum((field)**2 * lvl_grid_args[\"dx\"]*lvl_grid_args[\"dy\"], axis=(1,2)))\n",
    "\n"
   ]
  },
  {
   "cell_type": "code",
   "execution_count": 16,
   "metadata": {},
   "outputs": [],
   "source": [
    "ML_state = MLOceanEnsemble.download()"
   ]
  },
  {
   "cell_type": "code",
   "execution_count": 17,
   "metadata": {},
   "outputs": [],
   "source": [
    "centers = []\n",
    "for l_idx in range(len(ls)): \n",
    "    center_N = int(args_list[l_idx][\"nx\"]/8)\n",
    "    center_x = int(args_list[l_idx][\"nx\"]/2)\n",
    "    center_y = int(args_list[l_idx][\"ny\"]/2)\n",
    "    centers.append( np.s_[:, center_y-center_N:center_y+center_N, center_x-center_N:center_x+center_N,:] )"
   ]
  },
  {
   "cell_type": "code",
   "execution_count": 18,
   "metadata": {},
   "outputs": [],
   "source": [
    "prior_gExp = np.zeros((len(ls),3))\n",
    "prior_gVar = np.zeros((len(ls),3))\n",
    "prior_gExp_diff = np.zeros((len(ls),3))\n",
    "prior_gVar_diff = np.zeros((len(ls),3))"
   ]
  },
  {
   "cell_type": "code",
   "execution_count": 19,
   "metadata": {},
   "outputs": [],
   "source": [
    "prior_gExp[0] = L2norm(np.var(g_functionalExp(ML_state[0][centers[l_idx]]),ddof=1, axis=-1), args_list[0])\n",
    "prior_gVar[0] = L2norm(np.var(g_functionalVar(ML_state[0][centers[l_idx]]),ddof=1, axis=-1), args_list[0])\n",
    "\n",
    "for l_idx in range(1,len(ls)):\n",
    "    prior_gExp[l_idx] = L2norm(np.var(g_functionalExp(ML_state[l_idx][0][centers[l_idx]]),ddof=1, axis=-1), args_list[l_idx])\n",
    "    prior_gVar[l_idx] = L2norm(np.var(g_functionalVar(ML_state[l_idx][0][centers[l_idx]]),ddof=1, axis=-1), args_list[l_idx])\n",
    "\n",
    "    prior_gExp_diff[l_idx] = L2norm(np.var(g_functionalExp(ML_state[l_idx][0][centers[l_idx]]) - g_functionalExp(ML_state[l_idx][1].repeat(2,1).repeat(2,2)[centers[l_idx]]),ddof=1, axis=-1), args_list[l_idx])\n",
    "    prior_gVar_diff[l_idx] = L2norm(np.var(g_functionalVar(ML_state[l_idx][0][centers[l_idx]]) - g_functionalVar(ML_state[l_idx][1].repeat(2,1).repeat(2,2)[centers[l_idx]]),ddof=1, axis=-1), args_list[l_idx])\n"
   ]
  },
  {
   "cell_type": "code",
   "execution_count": 20,
   "metadata": {},
   "outputs": [
    {
     "data": {
      "text/plain": [
       "(array([[0.00000000e+00, 0.00000000e+00, 0.00000000e+00],\n",
       "        [3.21091652e+00, 2.58521640e+07, 3.54165960e+07],\n",
       "        [1.30335438e+00, 2.47143620e+07, 3.75225280e+07],\n",
       "        [1.27588344e+00, 1.00351150e+07, 2.42372520e+07]]),\n",
       " array([[0.00000000e+00, 0.00000000e+00, 0.00000000e+00],\n",
       "        [1.86251681e-02, 2.30306828e+05, 6.18456125e+05],\n",
       "        [2.82924855e-03, 4.18170938e+04, 1.31463266e+05],\n",
       "        [4.70763276e-04, 6.64177051e+03, 2.14345137e+04]]))"
      ]
     },
     "execution_count": 20,
     "metadata": {},
     "output_type": "execute_result"
    }
   ],
   "source": [
    "prior_gVar, prior_gVar_diff"
   ]
  },
  {
   "cell_type": "markdown",
   "metadata": {},
   "source": [
    "Data Assimilation"
   ]
  },
  {
   "cell_type": "code",
   "execution_count": 21,
   "metadata": {},
   "outputs": [],
   "source": [
    "truth = make_sim(args_list[-1], sample_args, data_args_list[-1])\n",
    "init_mekl = ModelErrorKL.ModelErrorKL(**args_list[-1], **init_model_error_basis_args) \n",
    "init_mekl.perturbSim(truth)\n",
    "truth.setKLModelError(**sim_model_error_basis_args)\n",
    "truth.model_time_step = sim_model_error_timestep"
   ]
  },
  {
   "cell_type": "code",
   "execution_count": 22,
   "metadata": {},
   "outputs": [],
   "source": [
    "precomp_GC = []\n",
    "for obs_x, obs_y in zip(obs_xs, obs_ys):\n",
    "    precomp_GC.append( MLEnKF.GCweights(obs_x, obs_y, r) )"
   ]
  },
  {
   "cell_type": "code",
   "execution_count": 23,
   "metadata": {},
   "outputs": [],
   "source": [
    "# DA step\n",
    "truth.dataAssimilationStep(MLOceanEnsemble.t)\n",
    "true_eta, true_hu, true_hv = truth.download()\n",
    "\n",
    "for h, [obs_x, obs_y] in enumerate(zip(obs_xs, obs_ys)):\n",
    "    Hx, Hy = MLOceanEnsemble.obsLoc2obsIdx(obs_x, obs_y)\n",
    "    obs = [true_eta[Hy,Hx], true_hu[Hy,Hx], true_hv[Hy,Hx]] + np.random.normal(0,R)\n",
    "    \n",
    "    prior = copy.deepcopy(MLOceanEnsemble.download())\n",
    "\n",
    "    ML_K = MLEnKF.assimilate(MLOceanEnsemble, obs, obs_x, obs_y, R, \n",
    "                            r=r, obs_var=slice(1,3), relax_factor=relax_factor, \n",
    "                            min_localisation_level=0,\n",
    "                            precomp_GC=precomp_GC[h])"
   ]
  },
  {
   "cell_type": "code",
   "execution_count": 24,
   "metadata": {},
   "outputs": [],
   "source": [
    "ML_state = MLOceanEnsemble.download()"
   ]
  },
  {
   "cell_type": "code",
   "execution_count": 25,
   "metadata": {},
   "outputs": [],
   "source": [
    "posterior_gExp = np.zeros((len(ls),3))\n",
    "posterior_gVar = np.zeros((len(ls),3))\n",
    "posterior_gExp_diff = np.zeros((len(ls),3))\n",
    "posterior_gVar_diff = np.zeros((len(ls),3))"
   ]
  },
  {
   "cell_type": "code",
   "execution_count": 26,
   "metadata": {},
   "outputs": [],
   "source": [
    "posterior_gExp[0] = L2norm(np.var(g_functionalExp(ML_state[0][centers[l_idx]]),ddof=1, axis=-1), args_list[0])\n",
    "posterior_gVar[0] = L2norm(np.var(g_functionalVar(ML_state[0][centers[l_idx]]),ddof=1, axis=-1), args_list[0])\n",
    "\n",
    "for l_idx in range(1,len(ls)):\n",
    "    posterior_gExp[l_idx] = L2norm(np.var(g_functionalExp(ML_state[l_idx][0][centers[l_idx]]),ddof=1, axis=-1), args_list[l_idx])\n",
    "    posterior_gVar[l_idx] = L2norm(np.var(g_functionalVar(ML_state[l_idx][0][centers[l_idx]]),ddof=1, axis=-1), args_list[l_idx])\n",
    "    \n",
    "    posterior_gExp_diff[l_idx] = L2norm(np.var(g_functionalExp(ML_state[l_idx][0][centers[l_idx]]) - g_functionalExp(ML_state[l_idx][1].repeat(2,1).repeat(2,2)[centers[l_idx]]),ddof=1, axis=-1), args_list[l_idx])\n",
    "    posterior_gVar_diff[l_idx] = L2norm(np.var(g_functionalVar(ML_state[l_idx][0][centers[l_idx]]) - g_functionalVar(ML_state[l_idx][1].repeat(2,1).repeat(2,2)[centers[l_idx]]),ddof=1, axis=-1), args_list[l_idx])\n"
   ]
  },
  {
   "cell_type": "code",
   "execution_count": 27,
   "metadata": {},
   "outputs": [
    {
     "data": {
      "text/plain": [
       "(array([[0.00000000e+00, 0.00000000e+00, 0.00000000e+00],\n",
       "        [2.53713536e+00, 1.97956720e+07, 3.01548220e+07],\n",
       "        [1.06447840e+00, 2.01055580e+07, 3.04119620e+07],\n",
       "        [1.02510226e+00, 7.75062000e+06, 2.03808600e+07]]),\n",
       " array([[0.00000000e+00, 0.00000000e+00, 0.00000000e+00],\n",
       "        [1.46782510e-02, 1.75124125e+05, 5.30847250e+05],\n",
       "        [2.29230267e-03, 3.40063320e+04, 1.08209828e+05],\n",
       "        [3.54260672e-04, 5.11849121e+03, 1.79668047e+04]]))"
      ]
     },
     "execution_count": 27,
     "metadata": {},
     "output_type": "execute_result"
    }
   ],
   "source": [
    "posterior_gVar, posterior_gVar_diff"
   ]
  },
  {
   "cell_type": "markdown",
   "metadata": {},
   "source": [
    "Comparison"
   ]
  },
  {
   "cell_type": "code",
   "execution_count": 28,
   "metadata": {},
   "outputs": [
    {
     "name": "stderr",
     "output_type": "stream",
     "text": [
      "c:\\Users\\florianb\\Miniconda3\\envs\\gpuocean_opendrift\\lib\\site-packages\\ipykernel_launcher.py:1: RuntimeWarning: invalid value encountered in true_divide\n",
      "  \"\"\"Entry point for launching an IPython kernel.\n"
     ]
    },
    {
     "data": {
      "text/plain": [
       "array([[       nan,        nan,        nan],\n",
       "       [0.79015924, 0.76572592, 0.85143197],\n",
       "       [0.81672215, 0.81351718, 0.81049875],\n",
       "       [0.80344507, 0.77234989, 0.84088988]])"
      ]
     },
     "execution_count": 28,
     "metadata": {},
     "output_type": "execute_result"
    }
   ],
   "source": [
    "posterior_gVar/prior_gVar"
   ]
  },
  {
   "cell_type": "code",
   "execution_count": 29,
   "metadata": {},
   "outputs": [
    {
     "name": "stderr",
     "output_type": "stream",
     "text": [
      "c:\\Users\\florianb\\Miniconda3\\envs\\gpuocean_opendrift\\lib\\site-packages\\ipykernel_launcher.py:1: RuntimeWarning: invalid value encountered in true_divide\n",
      "  \"\"\"Entry point for launching an IPython kernel.\n"
     ]
    },
    {
     "data": {
      "text/plain": [
       "array([[       nan,        nan,        nan],\n",
       "       [0.7880869 , 0.76039485, 0.85834262],\n",
       "       [0.81021608, 0.81321606, 0.82311836],\n",
       "       [0.75252402, 0.77065162, 0.83821844]])"
      ]
     },
     "execution_count": 29,
     "metadata": {},
     "output_type": "execute_result"
    }
   ],
   "source": [
    "posterior_gVar_diff/prior_gVar_diff"
   ]
  },
  {
   "cell_type": "markdown",
   "metadata": {},
   "source": [
    "Over time"
   ]
  },
  {
   "cell_type": "code",
   "execution_count": 30,
   "metadata": {},
   "outputs": [
    {
     "name": "stderr",
     "output_type": "stream",
     "text": [
      "c:\\Users\\florianb\\Miniconda3\\envs\\gpuocean_opendrift\\lib\\site-packages\\ipykernel_launcher.py:1: RuntimeWarning: invalid value encountered in true_divide\n",
      "  \"\"\"Entry point for launching an IPython kernel.\n"
     ]
    }
   ],
   "source": [
    "updates_gVar = [posterior_gVar/prior_gVar]\n",
    "updates_gVar_diff = [posterior_gVar_diff[1:]/prior_gVar_diff[1:]]\n",
    "\n",
    "list_posterior_gVar = [posterior_gVar]\n",
    "list_posterior_gVar_diff = [posterior_gVar_diff]"
   ]
  },
  {
   "cell_type": "code",
   "execution_count": 31,
   "metadata": {},
   "outputs": [
    {
     "name": "stdout",
     "output_type": "stream",
     "text": [
      "1800.0\n"
     ]
    },
    {
     "name": "stderr",
     "output_type": "stream",
     "text": [
      "c:\\Users\\florianb\\Miniconda3\\envs\\gpuocean_opendrift\\lib\\site-packages\\ipykernel_launcher.py:63: RuntimeWarning: invalid value encountered in true_divide\n"
     ]
    },
    {
     "name": "stdout",
     "output_type": "stream",
     "text": [
      "2700.0\n",
      "3600.0\n",
      "4500.0\n",
      "5400.0\n",
      "6300.0\n",
      "7200.0\n",
      "8100.0\n",
      "9000.0\n",
      "9900.0\n",
      "10800.0\n",
      "11700.0\n",
      "12600.0\n",
      "13500.0\n",
      "14400.0\n",
      "15300.0\n",
      "16200.0\n",
      "17100.0\n",
      "18000.0\n",
      "18900.0\n",
      "19800.0\n",
      "20700.0\n",
      "21600.0\n"
     ]
    }
   ],
   "source": [
    "while MLOceanEnsemble.t < T_da:\n",
    "    # Forward step\n",
    "    MLOceanEnsemble.stepToObservation(MLOceanEnsemble.t + da_timestep)\n",
    "    print(MLOceanEnsemble.t)\n",
    "    \n",
    "    # DA step\n",
    "    truth.dataAssimilationStep(MLOceanEnsemble.t)\n",
    "    true_eta, true_hu, true_hv = truth.download()\n",
    "\n",
    "\n",
    "    ###############################\n",
    "    # Register prior\n",
    "    ML_state = MLOceanEnsemble.download()\n",
    "\n",
    "    prior_gExp = np.zeros((len(ls),3))\n",
    "    prior_gVar = np.zeros((len(ls),3))\n",
    "    prior_gExp_diff = np.zeros((len(ls),3))\n",
    "    prior_gVar_diff = np.zeros((len(ls),3))\n",
    "\n",
    "    prior_gExp[0] = L2norm(np.var(g_functionalExp(ML_state[0][centers[l_idx]]),ddof=1, axis=-1), args_list[0])\n",
    "    prior_gVar[0] = L2norm(np.var(g_functionalVar(ML_state[0][centers[l_idx]]),ddof=1, axis=-1), args_list[0])\n",
    "\n",
    "    for l_idx in range(1,len(ls)):\n",
    "        prior_gExp[l_idx] = L2norm(np.var(g_functionalExp(ML_state[l_idx][0][centers[l_idx]]),ddof=1, axis=-1), args_list[l_idx])\n",
    "        prior_gVar[l_idx] = L2norm(np.var(g_functionalVar(ML_state[l_idx][0][centers[l_idx]]),ddof=1, axis=-1), args_list[l_idx])\n",
    "\n",
    "        prior_gExp_diff[l_idx] = L2norm(np.var(g_functionalExp(ML_state[l_idx][0][centers[l_idx]]) - g_functionalExp(ML_state[l_idx][1].repeat(2,1).repeat(2,2)[centers[l_idx]]),ddof=1, axis=-1), args_list[l_idx])\n",
    "        prior_gVar_diff[l_idx] = L2norm(np.var(g_functionalVar(ML_state[l_idx][0][centers[l_idx]]) - g_functionalVar(ML_state[l_idx][1].repeat(2,1).repeat(2,2)[centers[l_idx]]),ddof=1, axis=-1), args_list[l_idx])\n",
    "\n",
    "\n",
    "    # Update \n",
    "    for h, [obs_x, obs_y] in enumerate(zip(obs_xs, obs_ys)):\n",
    "        Hx, Hy = MLOceanEnsemble.obsLoc2obsIdx(obs_x, obs_y)\n",
    "        obs = [true_eta[Hy,Hx], true_hu[Hy,Hx], true_hv[Hy,Hx]] + np.random.normal(0,R)\n",
    "        \n",
    "        prior = copy.deepcopy(MLOceanEnsemble.download())\n",
    "\n",
    "        ML_K = MLEnKF.assimilate(MLOceanEnsemble, obs, obs_x, obs_y, R, \n",
    "                                r=r, obs_var=slice(1,3), relax_factor=relax_factor, \n",
    "                                min_localisation_level=0,\n",
    "                                precomp_GC=precomp_GC[h])\n",
    "        \n",
    "    ################################\n",
    "    # Register posterior\n",
    "    ML_state = MLOceanEnsemble.download()\n",
    "\n",
    "    posterior_gExp = np.zeros((len(ls),3))\n",
    "    posterior_gVar = np.zeros((len(ls),3))\n",
    "    posterior_gExp_diff = np.zeros((len(ls),3))\n",
    "    posterior_gVar_diff = np.zeros((len(ls),3))\n",
    "\n",
    "    posterior_gExp[0] = L2norm(np.var(g_functionalExp(ML_state[0][centers[l_idx]]),ddof=1, axis=-1), args_list[0])\n",
    "    posterior_gVar[0] = L2norm(np.var(g_functionalVar(ML_state[0][centers[l_idx]]),ddof=1, axis=-1), args_list[0])\n",
    "\n",
    "    for l_idx in range(1,len(ls)):\n",
    "        posterior_gExp[l_idx] = L2norm(np.var(g_functionalExp(ML_state[l_idx][0][centers[l_idx]]),ddof=1, axis=-1), args_list[l_idx])\n",
    "        posterior_gVar[l_idx] = L2norm(np.var(g_functionalVar(ML_state[l_idx][0][centers[l_idx]]),ddof=1, axis=-1), args_list[l_idx])\n",
    "        \n",
    "        posterior_gExp_diff[l_idx] = L2norm(np.var(g_functionalExp(ML_state[l_idx][0][centers[l_idx]]) - g_functionalExp(ML_state[l_idx][1].repeat(2,1).repeat(2,2)[centers[l_idx]]),ddof=1, axis=-1), args_list[l_idx])\n",
    "        posterior_gVar_diff[l_idx] = L2norm(np.var(g_functionalVar(ML_state[l_idx][0][centers[l_idx]]) - g_functionalVar(ML_state[l_idx][1].repeat(2,1).repeat(2,2)[centers[l_idx]]),ddof=1, axis=-1), args_list[l_idx])\n",
    "\n",
    "\n",
    "    updates_gVar.append(posterior_gVar/prior_gVar)\n",
    "    updates_gVar_diff.append(posterior_gVar_diff[1:]/prior_gVar_diff[1:])\n",
    "\n",
    "    list_posterior_gVar.append(posterior_gVar)\n",
    "    list_posterior_gVar_diff.append(posterior_gVar_diff)"
   ]
  },
  {
   "cell_type": "markdown",
   "metadata": {},
   "source": [
    "Post Processing"
   ]
  },
  {
   "cell_type": "code",
   "execution_count": 32,
   "metadata": {},
   "outputs": [],
   "source": [
    "updates_gVar = np.array(updates_gVar)\n",
    "updates_gVar_diff = np.array(updates_gVar_diff)"
   ]
  },
  {
   "cell_type": "code",
   "execution_count": 33,
   "metadata": {},
   "outputs": [
    {
     "data": {
      "image/png": "[encoded data removed]",
      "text/plain": [
       "<Figure size 1080x216 with 3 Axes>"
      ]
     },
     "metadata": {
      "needs_background": "dark"
     },
     "output_type": "display_data"
    }
   ],
   "source": [
    "fig, axs = plt.subplots(1,3, figsize=(15,3))\n",
    "\n",
    "for i in range(3):\n",
    "    axs[i].set_ylim((0.5,1))\n",
    "    line_var_list = []\n",
    "    line_var_diff_list = []\n",
    "    for l_idx in range(1,len(ls)):\n",
    "        line_var, = axs[i].plot(updates_gVar[:,l_idx,i], c=\"blue\", alpha=(0.25+0.75*(l_idx-1)/(len(ls)-1)), label=r\"$v^l$\")\n",
    "        line_var_list.append(line_var)\n",
    "        line_var_diff, = axs[i].plot(updates_gVar_diff[:,l_idx-1,i], c=\"red\", alpha=(0.25+0.75*(l_idx-1)/(len(ls)-1)), label=r\"$V^l$\")\n",
    "        line_var_diff_list.append(line_var_diff)\n",
    "\n",
    "fig.suptitle(\"Influence of DA on the variance-level-eligibility: posterior-over-prior ratio\", y=1.1)\n",
    "\n",
    "axs[0].set_title(\"eta\")\n",
    "axs[1].set_title(\"hu\")\n",
    "axs[2].set_title(\"hv\")\n",
    "\n",
    "axs[0].legend(handles=[line_var,line_var_diff], labelcolor=\"black\", title=\"Type\")\n",
    "axs[0].get_legend().get_title().set_color('black')\n",
    "\n",
    "axs[1].legend(handles=line_var_list, labels=[1, 2, 3], title=\"Levels\", labelcolor=\"black\", ncol = len(ls))\n",
    "axs[1].get_legend().get_title().set_color('black')"
   ]
  },
  {
   "cell_type": "markdown",
   "metadata": {},
   "source": [
    "MC for reference"
   ]
  },
  {
   "cell_type": "code",
   "execution_count": 34,
   "metadata": {},
   "outputs": [],
   "source": [
    "MLMCOceanEnsemble = MultiLevelOceanEnsemble.MultiLevelOceanEnsembleCase(Nes, args_list, data_args_list, sample_args, make_sim,\n",
    "                            init_model_error_basis_args=init_model_error_basis_args, \n",
    "                            sim_model_error_basis_args=sim_model_error_basis_args, sim_model_error_timestep=sim_model_error_timestep)"
   ]
  },
  {
   "cell_type": "code",
   "execution_count": 35,
   "metadata": {},
   "outputs": [],
   "source": [
    "MC_gExp = np.zeros((24,len(ls),3))\n",
    "MC_gVar = np.zeros((24,len(ls),3))\n",
    "MC_gExp_diff = np.zeros((24,len(ls),3))\n",
    "MC_gVar_diff = np.zeros((24,len(ls),3))\n",
    "\n",
    "t_idx = 0"
   ]
  },
  {
   "cell_type": "code",
   "execution_count": 36,
   "metadata": {},
   "outputs": [
    {
     "name": "stdout",
     "output_type": "stream",
     "text": [
      "900.0\n",
      "1800.0\n",
      "2700.0\n",
      "3600.0\n",
      "4500.0\n",
      "5400.0\n",
      "6300.0\n",
      "7200.0\n",
      "8100.0\n",
      "9000.0\n",
      "9900.0\n",
      "10800.0\n",
      "11700.0\n",
      "12600.0\n",
      "13500.0\n",
      "14400.0\n",
      "15300.0\n",
      "16200.0\n",
      "17100.0\n",
      "18000.0\n",
      "18900.0\n",
      "19800.0\n",
      "20700.0\n",
      "21600.0\n"
     ]
    }
   ],
   "source": [
    "while MLMCOceanEnsemble.t < T_da:\n",
    "    # Forward step\n",
    "    MLMCOceanEnsemble.stepToObservation(MLMCOceanEnsemble.t + da_timestep)\n",
    "    print(MLMCOceanEnsemble.t)\n",
    "    \n",
    "    ###############################\n",
    "    # Register prior\n",
    "    ML_state = MLMCOceanEnsemble.download()\n",
    "\n",
    "    MC_gExp[t_idx,0,:] = L2norm(np.var(g_functionalExp(ML_state[0][centers[l_idx]]),ddof=1, axis=-1), args_list[0])\n",
    "    MC_gVar[t_idx,0,:] = L2norm(np.var(g_functionalVar(ML_state[0][centers[l_idx]]),ddof=1, axis=-1), args_list[0])\n",
    "\n",
    "    for l_idx in range(1,len(ls)):\n",
    "        MC_gExp[t_idx,l_idx:] = L2norm(np.var(g_functionalExp(ML_state[l_idx][0][centers[l_idx]]),ddof=1, axis=-1), args_list[l_idx])\n",
    "        MC_gVar[t_idx,l_idx:] = L2norm(np.var(g_functionalVar(ML_state[l_idx][0][centers[l_idx]]),ddof=1, axis=-1), args_list[l_idx])\n",
    "\n",
    "        MC_gExp_diff[t_idx,l_idx:] = L2norm(np.var(g_functionalExp(ML_state[l_idx][0][centers[l_idx]]) - g_functionalExp(ML_state[l_idx][1].repeat(2,1).repeat(2,2)[centers[l_idx]]),ddof=1, axis=-1), args_list[l_idx])\n",
    "        MC_gVar_diff[t_idx,l_idx:] = L2norm(np.var(g_functionalVar(ML_state[l_idx][0][centers[l_idx]]) - g_functionalVar(ML_state[l_idx][1].repeat(2,1).repeat(2,2)[centers[l_idx]]),ddof=1, axis=-1), args_list[l_idx])\n",
    "\n",
    "    t_idx += 1\n"
   ]
  },
  {
   "cell_type": "code",
   "execution_count": 37,
   "metadata": {},
   "outputs": [],
   "source": [
    "posterior_gVar = np.array(list_posterior_gVar)\n",
    "posterior_gVar_diff = np.array(list_posterior_gVar_diff)"
   ]
  },
  {
   "cell_type": "code",
   "execution_count": 38,
   "metadata": {},
   "outputs": [
    {
     "data": {
      "image/png": "[encoded data removed]",
      "text/plain": [
       "<Figure size 1080x216 with 3 Axes>"
      ]
     },
     "metadata": {
      "needs_background": "dark"
     },
     "output_type": "display_data"
    }
   ],
   "source": [
    "fig, axs = plt.subplots(1,3, figsize=(15,3))\n",
    "\n",
    "for i in range(3):\n",
    "    axs[i].set_yscale(\"log\") \n",
    "    line_var_list = []\n",
    "    line_var_diff_list = []\n",
    "    line_var_mc_list = []\n",
    "    line_var_mc_diff_list = []\n",
    "    for l_idx in range(1,len(ls)):\n",
    "        line_var, = axs[i].plot(posterior_gVar[:,l_idx,i], c=\"blue\", alpha=(0.25+0.75*(l_idx-1)/(len(ls)-1)))\n",
    "        line_var_list.append(line_var)\n",
    "        line_var_diff, = axs[i].plot(posterior_gVar_diff[:,l_idx-1,i], c=\"red\", alpha=(0.25+0.75*(l_idx-1)/(len(ls)-1)))\n",
    "        line_var_diff_list.append(line_var_diff)\n",
    "\n",
    "        \n",
    "        line_var_mc, = axs[i].plot(MC_gVar[:,l_idx,i], ls=\"--\", c=\"blue\", alpha=(0.25+0.75*(l_idx-1)/(len(ls)-1)))\n",
    "        line_var_mc_list.append(line_var_mc)\n",
    "        line_var_mc_diff, = axs[i].plot(MC_gVar_diff[:,l_idx,i], ls=\"--\", c=\"red\", alpha=(0.25+0.75*(l_idx-1)/(len(ls)-1)))\n",
    "        line_var_mc_diff_list.append(line_var_mc_diff)\n",
    "\n",
    "fig.suptitle(\"Influence of DA on the variance-level-eligibility: MC vs DA\", y=1.1)\n",
    "\n",
    "axs[0].set_title(\"eta\")\n",
    "axs[1].set_title(\"hu\")\n",
    "axs[2].set_title(\"hv\")\n",
    "\n",
    "axs[0].legend(handles=[line_var,line_var_diff], labels=[r\"$v^l$\", r\"$V^l$\"],  labelcolor=\"black\", title=\"Type\")\n",
    "axs[0].get_legend().get_title().set_color('black')\n",
    "\n",
    "axs[1].legend(handles=line_var_list, labels=[1, 2, 3], title=\"Levels\", labelcolor=\"black\", ncol = len(ls))\n",
    "axs[1].get_legend().get_title().set_color('black')\n",
    "\n",
    "axs[2].legend(handles=[line_var, line_var_mc], labels=[\"DA\", \"MC\"], title=\"Method\", labelcolor=\"black\", ncol = 2)\n",
    "axs[2].get_legend().get_title().set_color('black')"
   ]
  },
  {
   "cell_type": "code",
   "execution_count": null,
   "metadata": {},
   "outputs": [],
   "source": []
  }
 ],
 "metadata": {
  "kernelspec": {
   "display_name": "Python 3",
   "language": "python",
   "name": "python3"
  },
  "language_info": {
   "codemirror_mode": {
    "name": "ipython",
    "version": 3
   },
   "file_extension": ".py",
   "mimetype": "text/x-python",
   "name": "python",
   "nbconvert_exporter": "python",
   "pygments_lexer": "ipython3",
   "version": "3.7.12"
  },
  "vscode": {
   "interpreter": {
    "hash": "3048633266a8aca5c85f16c1ee57ccad146141feb66febf24dcb8304467d1440"
   }
  }
 },
 "nbformat": 4,
 "nbformat_minor": 4
}
