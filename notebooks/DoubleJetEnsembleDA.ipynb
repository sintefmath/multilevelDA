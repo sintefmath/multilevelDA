{
 "cells": [
  {
   "attachments": {},
   "cell_type": "markdown",
   "metadata": {},
   "source": [
    "# Double Jet\n",
    "\n",
    "With various grid sizes"
   ]
  },
  {
   "cell_type": "code",
   "execution_count": 1,
   "metadata": {},
   "outputs": [],
   "source": [
    "from gpuocean.SWEsimulators import ModelErrorKL, CDKLM16\n",
    "from gpuocean.utils import Common, IPythonMagic\n",
    "\n",
    "from importlib import reload\n",
    "\n",
    "import numpy as np\n",
    "import pycuda.driver as cuda\n",
    "from matplotlib import pyplot as plt\n",
    "\n",
    "plt.rcParams[\"lines.color\"] = \"w\"\n",
    "plt.rcParams[\"text.color\"] = \"w\"\n",
    "plt.rcParams[\"axes.labelcolor\"] = \"w\"\n",
    "plt.rcParams[\"xtick.color\"] = \"w\"\n",
    "plt.rcParams[\"ytick.color\"] = \"w\"\n",
    "\n",
    "plt.rcParams[\"image.origin\"] = \"lower\"\n"
   ]
  },
  {
   "cell_type": "code",
   "execution_count": 2,
   "metadata": {},
   "outputs": [],
   "source": [
    "%cuda_context_handler gpu_ctx"
   ]
  },
  {
   "cell_type": "code",
   "execution_count": 3,
   "metadata": {},
   "outputs": [],
   "source": [
    "gpu_stream = cuda.Stream()"
   ]
  },
  {
   "cell_type": "code",
   "execution_count": 4,
   "metadata": {},
   "outputs": [],
   "source": [
    "import sys, os\n",
    "sys.path.insert(0, os.path.abspath(os.path.join(os.getcwd(), '../')))\n",
    "from utils.BasinInit import *"
   ]
  },
  {
   "attachments": {},
   "cell_type": "markdown",
   "metadata": {},
   "source": [
    "Get initial arguments from class"
   ]
  },
  {
   "cell_type": "code",
   "execution_count": 5,
   "metadata": {},
   "outputs": [],
   "source": [
    "from gpuocean.utils import DoubleJetCase"
   ]
  },
  {
   "attachments": {},
   "cell_type": "markdown",
   "metadata": {},
   "source": [
    "SL-Ensemble of DoubleJets"
   ]
  },
  {
   "cell_type": "code",
   "execution_count": 6,
   "metadata": {},
   "outputs": [],
   "source": [
    "doubleJetCase = DoubleJetCase.DoubleJetCase(gpu_ctx, DoubleJetCase.DoubleJetPerturbationType.SteadyState, ny=512, nx=1024)\n",
    "doubleJetCase_args, doubleJetCase_init = doubleJetCase.getInitConditions()"
   ]
  },
  {
   "cell_type": "code",
   "execution_count": 7,
   "metadata": {},
   "outputs": [],
   "source": [
    "args = {key: doubleJetCase_args[key] for key in ('nx', 'ny', 'dx', 'dy', 'gpu_ctx', 'boundary_conditions')}\n",
    "args[\"gpu_stream\"] = gpu_stream"
   ]
  },
  {
   "cell_type": "code",
   "execution_count": 8,
   "metadata": {},
   "outputs": [],
   "source": [
    "data_args = {\"eta\" : doubleJetCase_init[\"eta0\"],\n",
    "             \"hu\" : doubleJetCase_init[\"hu0\"],\n",
    "             \"hv\" : doubleJetCase_init[\"hv0\"],\n",
    "             \"Hi\" : doubleJetCase_args[\"H\"]}"
   ]
  },
  {
   "cell_type": "code",
   "execution_count": 9,
   "metadata": {},
   "outputs": [],
   "source": [
    "sample_args = {\"f\": doubleJetCase_args[\"f\"], \"g\": doubleJetCase_args[\"g\"]}"
   ]
  },
  {
   "cell_type": "code",
   "execution_count": 10,
   "metadata": {},
   "outputs": [],
   "source": [
    "sim_model_error_basis_args = {\n",
    "                            \"basis_x_start\": 2, \n",
    "                            \"basis_x_end\": 8,\n",
    "                            \"basis_y_start\": 1,\n",
    "                            \"basis_y_end\": 7,\n",
    "\n",
    "                            \"kl_decay\": 1.25,\n",
    "                            \"kl_scaling\": 0.025,\n",
    "                            }\n",
    "\n",
    "sim_model_error_time_step = 60.0                        "
   ]
  },
  {
   "cell_type": "code",
   "execution_count": 11,
   "metadata": {},
   "outputs": [],
   "source": [
    "from utils.DoubleJetSL import * \n",
    "SL_ensemble = initSLensemble(100, args, data_args, sample_args, \n",
    "                    init_model_error_basis_args=None, \n",
    "                    sim_model_error_basis_args=sim_model_error_basis_args, sim_model_error_time_step=sim_model_error_time_step)"
   ]
  },
  {
   "attachments": {},
   "cell_type": "markdown",
   "metadata": {},
   "source": [
    "Two-level ensemble"
   ]
  },
  {
   "cell_type": "code",
   "execution_count": 12,
   "metadata": {},
   "outputs": [],
   "source": [
    "coarse_doubleJetCase = DoubleJetCase.DoubleJetCase(gpu_ctx, DoubleJetCase.DoubleJetPerturbationType.SteadyState, ny=256, nx=512)\n",
    "coarse_doubleJetCase_args, coarse_doubleJetCase_init = coarse_doubleJetCase.getInitConditions()"
   ]
  },
  {
   "cell_type": "code",
   "execution_count": 13,
   "metadata": {},
   "outputs": [],
   "source": [
    "coarse_args = {key: coarse_doubleJetCase_args[key] for key in ('nx', 'ny', 'dx', 'dy', 'gpu_ctx', 'boundary_conditions')}\n",
    "coarse_args[\"gpu_stream\"] = gpu_stream"
   ]
  },
  {
   "cell_type": "code",
   "execution_count": 14,
   "metadata": {},
   "outputs": [],
   "source": [
    "coarse_data_args = {\"eta\" : coarse_doubleJetCase_init[\"eta0\"],\n",
    "             \"hu\" : coarse_doubleJetCase_init[\"hu0\"],\n",
    "             \"hv\" : coarse_doubleJetCase_init[\"hv0\"],\n",
    "             \"Hi\" : coarse_doubleJetCase_args[\"H\"]}"
   ]
  },
  {
   "cell_type": "code",
   "execution_count": 15,
   "metadata": {},
   "outputs": [],
   "source": [
    "ML_Nes = [100, 50]\n",
    "args_list = [coarse_args, args]\n",
    "data_args_list = [coarse_data_args, data_args]"
   ]
  },
  {
   "cell_type": "code",
   "execution_count": 16,
   "metadata": {},
   "outputs": [],
   "source": [
    "sim_mekls = []\n",
    "for l_idx in range(len(args_list)): \n",
    "    sim_mekls.append( ModelErrorKL.ModelErrorKL(**args_list[l_idx], **sim_model_error_basis_args) )"
   ]
  },
  {
   "cell_type": "code",
   "execution_count": 17,
   "metadata": {},
   "outputs": [
    {
     "name": "stdout",
     "output_type": "stream",
     "text": [
      "0\n",
      "1\n"
     ]
    }
   ],
   "source": [
    "## MultiLevel ensemble\n",
    "ML_ensemble = []\n",
    "\n",
    "# 0-level\n",
    "lvl_ensemble = []\n",
    "for i in range(ML_Nes[0]):\n",
    "    if i % 100 == 0: print(i)\n",
    "    sim = make_sim(args_list[0], sample_args, init_fields=data_args_list[0])\n",
    "\n",
    "    sim.model_error = sim_mekls[0]\n",
    "    sim.model_time_step = sim_model_error_time_step\n",
    "    lvl_ensemble.append( sim )\n",
    "\n",
    "ML_ensemble.append(lvl_ensemble)\n",
    "\n",
    "# diff-levels\n",
    "for l_idx in range(1,len(ML_Nes)):\n",
    "    print(l_idx)\n",
    "    lvl_ensemble0 = []\n",
    "    lvl_ensemble1 = []\n",
    "    \n",
    "    for e in range(ML_Nes[l_idx]):\n",
    "        sim0 = make_sim(args_list[l_idx], sample_args, init_fields=data_args_list[l_idx])\n",
    "        sim1 = make_sim(args_list[l_idx-1], sample_args, init_fields=data_args_list[l_idx-1])\n",
    "\n",
    "        sim0.model_error = sim_mekls[l_idx]\n",
    "        sim1.model_error = sim_mekls[l_idx-1]\n",
    "\n",
    "        sim0.model_time_step = sim_model_error_time_step\n",
    "        sim1.model_time_step = sim_model_error_time_step\n",
    "\n",
    "        lvl_ensemble0.append(sim0)\n",
    "        lvl_ensemble1.append(sim1)\n",
    "    \n",
    "    ML_ensemble.append([lvl_ensemble0,lvl_ensemble1])"
   ]
  },
  {
   "cell_type": "code",
   "execution_count": 18,
   "metadata": {},
   "outputs": [],
   "source": [
    "from gpuocean.ensembles import MultiLevelOceanEnsemble\n",
    "MLOceanEnsemble = MultiLevelOceanEnsemble.MultiLevelOceanEnsemble(ML_ensemble)"
   ]
  },
  {
   "attachments": {},
   "cell_type": "markdown",
   "metadata": {},
   "source": [
    "Generate observations"
   ]
  },
  {
   "cell_type": "code",
   "execution_count": 19,
   "metadata": {},
   "outputs": [],
   "source": [
    "truth = CDKLM16.CDKLM16(**doubleJetCase_args, **doubleJetCase_init)\n",
    "truth.updateDt()\n",
    "\n",
    "grid_args = {\"nx\" : doubleJetCase_args[\"nx\"],\n",
    "             \"ny\" : doubleJetCase_args[\"ny\"],\n",
    "             \"dx\" : doubleJetCase_args[\"dx\"],\n",
    "             \"dy\" : doubleJetCase_args[\"dy\"],\n",
    "             \"gpu_ctx\" : doubleJetCase_args[\"gpu_ctx\"],\n",
    "             \"gpu_stream\": truth.gpu_stream,\n",
    "             \"boundary_conditions\" : doubleJetCase_args[\"boundary_conditions\"]\n",
    "             }\n",
    "\n",
    "truth_mekl = ModelErrorKL.ModelErrorKL(**grid_args, **sim_model_error_basis_args)\n",
    "truth.model_error = truth_mekl\n",
    "truth.model_time_step = sim_model_error_time_step\n",
    "\n",
    "# truth.dataAssimilationStep(6*60*60)"
   ]
  },
  {
   "cell_type": "code",
   "execution_count": 20,
   "metadata": {},
   "outputs": [],
   "source": [
    "from utils.DoubleJetPlot import *"
   ]
  },
  {
   "cell_type": "code",
   "execution_count": 21,
   "metadata": {},
   "outputs": [
    {
     "data": {
      "text/plain": [
       "(<Figure size 1080x720 with 6 Axes>,\n",
       " array([<AxesSubplot:title={'center':'$\\\\eta$'}>,\n",
       "        <AxesSubplot:title={'center':'$hu$'}>,\n",
       "        <AxesSubplot:title={'center':'$hv$'}>], dtype=object))"
      ]
     },
     "execution_count": 21,
     "metadata": {},
     "output_type": "execute_result"
    },
    {
     "data": {
      "image/png": "[encoded data removed]",
      "text/plain": [
       "<Figure size 1080x720 with 6 Axes>"
      ]
     },
     "metadata": {
      "needs_background": "dark"
     },
     "output_type": "display_data"
    }
   ],
   "source": [
    "imshowSim(truth, eta_vlim=3.5, huv_vlim=750)"
   ]
  },
  {
   "cell_type": "code",
   "execution_count": 22,
   "metadata": {},
   "outputs": [],
   "source": [
    "xdim = args[\"nx\"]*args[\"dx\"]\n",
    "ydim = args[\"ny\"]*args[\"dy\"]"
   ]
  },
  {
   "cell_type": "code",
   "execution_count": 23,
   "metadata": {},
   "outputs": [],
   "source": [
    "xs = np.linspace(0, xdim, 10, endpoint=False)\n",
    "ys = np.linspace(0, ydim, 5, endpoint=False)"
   ]
  },
  {
   "cell_type": "code",
   "execution_count": 24,
   "metadata": {},
   "outputs": [],
   "source": [
    "[obs_xs, obs_ys] = np.array(np.meshgrid(xs, ys)).T.reshape(-1, 2).T"
   ]
  },
  {
   "cell_type": "code",
   "execution_count": 25,
   "metadata": {},
   "outputs": [],
   "source": [
    "R = [0.05, 1.0, 1.0]"
   ]
  },
  {
   "cell_type": "code",
   "execution_count": 26,
   "metadata": {},
   "outputs": [],
   "source": [
    "from gpuocean.dataassimilation import MLEnKFOcean\n",
    "MLEnKF = MLEnKFOcean.MLEnKFOcean(MLOceanEnsemble)"
   ]
  },
  {
   "cell_type": "code",
   "execution_count": 27,
   "metadata": {},
   "outputs": [
    {
     "data": {
      "text/plain": [
       "<module 'gpuocean.dataassimilation.MLEnKFOcean' from '/home/florianb/havvarsel/gpuocean/src/gpuocean/dataassimilation/MLEnKFOcean.py'>"
      ]
     },
     "execution_count": 27,
     "metadata": {},
     "output_type": "execute_result"
    }
   ],
   "source": [
    "from importlib import reload\n",
    "reload(MLEnKFOcean)"
   ]
  },
  {
   "cell_type": "code",
   "execution_count": 28,
   "metadata": {},
   "outputs": [],
   "source": [
    "precomp_GC = []\n",
    "r = 5e4\n",
    "for obs_x, obs_y in zip(obs_xs, obs_ys):\n",
    "    precomp_GC.append( MLEnKF.GCweights(obs_x, obs_y, r) )"
   ]
  },
  {
   "cell_type": "code",
   "execution_count": 51,
   "metadata": {},
   "outputs": [
    {
     "data": {
      "text/plain": [
       "(<matplotlib.image.AxesImage at 0x7fe6d02c7810>, 52031.25)"
      ]
     },
     "execution_count": 51,
     "metadata": {},
     "output_type": "execute_result"
    },
    {
     "data": {
      "image/png": "[encoded data removed]",
      "text/plain": [
       "<Figure size 432x288 with 1 Axes>"
      ]
     },
     "metadata": {
      "needs_background": "dark"
     },
     "output_type": "display_data"
    }
   ],
   "source": [
    "plt.imshow(MLEnKF.GCweights(obs_xs[0], obs_ys[0], 5e4)[0:50,0:50]), 40*doubleJetCase_args[\"dx\"] "
   ]
  },
  {
   "cell_type": "code",
   "execution_count": 47,
   "metadata": {},
   "outputs": [
    {
     "data": {
      "text/plain": [
       "<matplotlib.image.AxesImage at 0x7fe6d14a4a90>"
      ]
     },
     "execution_count": 47,
     "metadata": {},
     "output_type": "execute_result"
    },
    {
     "data": {
      "image/png": "[encoded data removed]",
      "text/plain": [
       "<Figure size 432x288 with 1 Axes>"
      ]
     },
     "metadata": {
      "needs_background": "dark"
     },
     "output_type": "display_data"
    }
   ],
   "source": [
    "plt.imshow(precomp_GC[0])"
   ]
  },
  {
   "cell_type": "code",
   "execution_count": 30,
   "metadata": {},
   "outputs": [
    {
     "data": {
      "text/plain": [
       "<matplotlib.image.AxesImage at 0x7fe76ae3fbd0>"
      ]
     },
     "execution_count": 30,
     "metadata": {},
     "output_type": "execute_result"
    },
    {
     "data": {
      "image/png": "[encoded data removed]",
      "text/plain": [
       "<Figure size 432x288 with 1 Axes>"
      ]
     },
     "metadata": {
      "needs_background": "dark"
     },
     "output_type": "display_data"
    }
   ],
   "source": [
    "plt.imshow(precomp_GC[27])"
   ]
  },
  {
   "cell_type": "code",
   "execution_count": 31,
   "metadata": {},
   "outputs": [],
   "source": [
    "true_eta, true_hu, true_hv = truth.download(interior_domain_only=True)\n",
    "obses = np.zeros((len(obs_xs),3))\n",
    "for h, [obs_x, obs_y] in enumerate(zip(obs_xs, obs_ys)):\n",
    "    Hx, Hy = SLobsCoord2obsIdx(SL_ensemble, obs_x, obs_y)\n",
    "    obses[h] = [true_eta[Hy,Hx], true_hu[Hy,Hx], true_hv[Hy,Hx]] + np.random.normal(0,R)"
   ]
  },
  {
   "attachments": {},
   "cell_type": "markdown",
   "metadata": {},
   "source": [
    "SL DA"
   ]
  },
  {
   "cell_type": "code",
   "execution_count": 32,
   "metadata": {},
   "outputs": [],
   "source": [
    "SL_prior = copy.deepcopy(SLdownload(SL_ensemble))\n",
    "# SLupload(SL_ensemble, SL_prior)"
   ]
  },
  {
   "cell_type": "code",
   "execution_count": 33,
   "metadata": {},
   "outputs": [
    {
     "name": "stdout",
     "output_type": "stream",
     "text": [
      "0\n",
      "1\n",
      "2\n",
      "3\n",
      "4\n",
      "5\n",
      "6\n",
      "7\n",
      "8\n",
      "9\n",
      "10\n",
      "11\n",
      "12\n",
      "13\n",
      "14\n",
      "15\n",
      "16\n",
      "17\n",
      "18\n",
      "19\n",
      "20\n",
      "21\n",
      "22\n",
      "23\n",
      "24\n",
      "25\n",
      "26\n",
      "27\n",
      "28\n",
      "29\n",
      "30\n",
      "31\n",
      "32\n",
      "33\n",
      "34\n",
      "35\n",
      "36\n",
      "37\n",
      "38\n",
      "39\n",
      "40\n",
      "41\n",
      "42\n",
      "43\n",
      "44\n",
      "45\n",
      "46\n",
      "47\n",
      "48\n",
      "49\n"
     ]
    }
   ],
   "source": [
    "for h, [obs_x, obs_y] in enumerate(zip(obs_xs, obs_ys)):\n",
    "    print(h)\n",
    "    obs = obses[h]\n",
    "\n",
    "    SL_K = SLEnKF(SL_ensemble, obs, obs_x, obs_y, R=R, obs_var=slice(1,3), \n",
    "            relax_factor=0.5, localisation_weights=precomp_GC[h])"
   ]
  },
  {
   "cell_type": "code",
   "execution_count": 34,
   "metadata": {},
   "outputs": [
    {
     "data": {
      "text/plain": [
       "(<Figure size 1080x720 with 6 Axes>,\n",
       " array([<AxesSubplot:title={'center':'$\\\\eta$'}>,\n",
       "        <AxesSubplot:title={'center':'$hu$'}>,\n",
       "        <AxesSubplot:title={'center':'$hv$'}>], dtype=object))"
      ]
     },
     "execution_count": 34,
     "metadata": {},
     "output_type": "execute_result"
    },
    {
     "data": {
      "image/png": "[encoded data removed]",
      "text/plain": [
       "<Figure size 1080x720 with 6 Axes>"
      ]
     },
     "metadata": {
      "needs_background": "dark"
     },
     "output_type": "display_data"
    }
   ],
   "source": [
    "imshow3(SLestimate(SL_ensemble, np.mean), eta_vlim=3.5, huv_vlim=750)"
   ]
  },
  {
   "cell_type": "code",
   "execution_count": 35,
   "metadata": {},
   "outputs": [
    {
     "data": {
      "text/plain": [
       "(<Figure size 1080x720 with 6 Axes>,\n",
       " array([<AxesSubplot:title={'center':'$\\\\eta$'}>,\n",
       "        <AxesSubplot:title={'center':'$hu$'}>,\n",
       "        <AxesSubplot:title={'center':'$hv$'}>], dtype=object))"
      ]
     },
     "execution_count": 35,
     "metadata": {},
     "output_type": "execute_result"
    },
    {
     "data": {
      "image/png": "[encoded data removed]",
      "text/plain": [
       "<Figure size 1080x720 with 6 Axes>"
      ]
     },
     "metadata": {
      "needs_background": "dark"
     },
     "output_type": "display_data"
    }
   ],
   "source": [
    "imshow3var(SLestimate(SL_ensemble, np.std), eta_vlim=0.5, huv_vlim=100)"
   ]
  },
  {
   "attachments": {},
   "cell_type": "markdown",
   "metadata": {},
   "source": [
    "ML DA"
   ]
  },
  {
   "cell_type": "code",
   "execution_count": 36,
   "metadata": {},
   "outputs": [],
   "source": [
    "ML_prior = copy.deepcopy(MLOceanEnsemble.download())"
   ]
  },
  {
   "cell_type": "code",
   "execution_count": 37,
   "metadata": {},
   "outputs": [
    {
     "name": "stdout",
     "output_type": "stream",
     "text": [
      "0\n",
      "1\n",
      "2\n",
      "3\n",
      "4\n",
      "5\n",
      "6\n",
      "7\n",
      "8\n",
      "9\n",
      "10\n",
      "11\n",
      "12\n",
      "13\n",
      "14\n",
      "15\n",
      "16\n",
      "17\n",
      "18\n",
      "19\n",
      "20\n",
      "21\n",
      "22\n",
      "23\n",
      "24\n",
      "25\n",
      "26\n",
      "27\n",
      "28\n",
      "29\n",
      "30\n",
      "31\n",
      "32\n",
      "33\n",
      "34\n",
      "35\n",
      "36\n",
      "37\n",
      "38\n",
      "39\n",
      "40\n",
      "41\n",
      "42\n",
      "43\n",
      "44\n",
      "45\n",
      "46\n",
      "47\n",
      "48\n",
      "49\n"
     ]
    }
   ],
   "source": [
    "true_eta, true_hu, true_hv = truth.download(interior_domain_only=True)\n",
    "for h, [obs_x, obs_y] in enumerate(zip(obs_xs, obs_ys)):\n",
    "    print(h)\n",
    "    obs = obses[h]\n",
    "    \n",
    "    ML_K = MLEnKF.assimilate(MLOceanEnsemble, obs, obs_x, obs_y, R, \n",
    "                            r=r, obs_var=slice(1,3), relax_factor=0.5, \n",
    "                            min_localisation_level=0,\n",
    "                            precomp_GC=precomp_GC[h])"
   ]
  },
  {
   "cell_type": "code",
   "execution_count": 38,
   "metadata": {},
   "outputs": [
    {
     "data": {
      "text/plain": [
       "(<Figure size 1080x720 with 6 Axes>,\n",
       " array([<AxesSubplot:title={'center':'$\\\\eta$'}>,\n",
       "        <AxesSubplot:title={'center':'$hu$'}>,\n",
       "        <AxesSubplot:title={'center':'$hv$'}>], dtype=object))"
      ]
     },
     "execution_count": 38,
     "metadata": {},
     "output_type": "execute_result"
    },
    {
     "data": {
      "image/png": "[encoded data removed]",
      "text/plain": [
       "<Figure size 1080x720 with 6 Axes>"
      ]
     },
     "metadata": {
      "needs_background": "dark"
     },
     "output_type": "display_data"
    }
   ],
   "source": [
    "imshow3(MLOceanEnsemble.estimate(np.mean), eta_vlim=3.5, huv_vlim=750)"
   ]
  },
  {
   "cell_type": "code",
   "execution_count": 39,
   "metadata": {},
   "outputs": [
    {
     "data": {
      "text/plain": [
       "(<Figure size 1080x720 with 6 Axes>,\n",
       " array([<AxesSubplot:title={'center':'$\\\\eta$'}>,\n",
       "        <AxesSubplot:title={'center':'$hu$'}>,\n",
       "        <AxesSubplot:title={'center':'$hv$'}>], dtype=object))"
      ]
     },
     "execution_count": 39,
     "metadata": {},
     "output_type": "execute_result"
    },
    {
     "data": {
      "image/png": "[encoded data removed]",
      "text/plain": [
       "<Figure size 1080x720 with 6 Axes>"
      ]
     },
     "metadata": {
      "needs_background": "dark"
     },
     "output_type": "display_data"
    }
   ],
   "source": [
    "imshow3var(MLOceanEnsemble.estimate(np.std), eta_vlim=0.5, huv_vlim=100)"
   ]
  },
  {
   "cell_type": "code",
   "execution_count": null,
   "metadata": {},
   "outputs": [],
   "source": []
  }
 ],
 "metadata": {
  "kernelspec": {
   "display_name": "gpuocean",
   "language": "python",
   "name": "python3"
  },
  "language_info": {
   "codemirror_mode": {
    "name": "ipython",
    "version": 3
   },
   "file_extension": ".py",
   "mimetype": "text/x-python",
   "name": "python",
   "nbconvert_exporter": "python",
   "pygments_lexer": "ipython3",
   "version": "3.7.12"
  },
  "orig_nbformat": 4
 },
 "nbformat": 4,
 "nbformat_minor": 2
}
