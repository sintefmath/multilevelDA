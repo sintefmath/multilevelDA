{
 "cells": [
  {
   "cell_type": "markdown",
   "metadata": {},
   "source": [
    "## Classes and modules"
   ]
  },
  {
   "cell_type": "code",
   "execution_count": 1,
   "metadata": {},
   "outputs": [],
   "source": [
    "#Lets have matplotlib \"inline\"\n",
    "%matplotlib inline\n",
    "\n",
    "import os\n",
    "import sys\n",
    "\n",
    "#Import packages we need\n",
    "import numpy as np\n",
    "from netCDF4 import Dataset\n",
    "import datetime\n",
    "from IPython.display import display\n",
    "\n",
    "#For plotting\n",
    "import matplotlib\n",
    "from matplotlib import pyplot as plt\n",
    "from mpl_toolkits.axes_grid1 import make_axes_locatable\n",
    "\n",
    "plt.rcParams[\"lines.color\"] = \"w\"\n",
    "plt.rcParams[\"text.color\"] = \"w\"\n",
    "plt.rcParams[\"axes.labelcolor\"] = \"w\"\n",
    "plt.rcParams[\"xtick.color\"] = \"w\"\n",
    "plt.rcParams[\"ytick.color\"] = \"w\""
   ]
  },
  {
   "cell_type": "markdown",
   "metadata": {},
   "source": [
    "GPU Ocean-modules:"
   ]
  },
  {
   "cell_type": "code",
   "execution_count": 2,
   "metadata": {},
   "outputs": [],
   "source": [
    "from gpuocean.ensembles import MultiResOceanStateEnsemble\n",
    "from gpuocean.utils import IPythonMagic, NetCDFInitialization"
   ]
  },
  {
   "cell_type": "code",
   "execution_count": 3,
   "metadata": {},
   "outputs": [],
   "source": [
    "%cuda_context_handler gpu_ctx"
   ]
  },
  {
   "cell_type": "markdown",
   "metadata": {},
   "source": [
    "## Selecting Area"
   ]
  },
  {
   "cell_type": "markdown",
   "metadata": {},
   "source": [
    "As initial and boundary conditions to the simulation, we use data from the Norkyst800 s-level files:"
   ]
  },
  {
   "cell_type": "code",
   "execution_count": 4,
   "metadata": {},
   "outputs": [
    {
     "data": {
      "text/plain": [
       "dict_keys(['sponge_cells', 'NX', 'NY', 'nx', 'ny', 'dx', 'dy', 'g', 'r', 'H', 'eta0', 'hu0', 'hv0', 'angle', 'latitude', 'f', 'boundary_conditions_data', 'boundary_conditions', 'wind_stress', 'wind', 'note', 't0', 'timesteps'])"
      ]
     },
     "execution_count": 4,
     "metadata": {},
     "output_type": "execute_result"
    }
   ],
   "source": [
    "nk800_url  = [\"/sintef/data/NorKyst800/ocean_his.an.20190716.nc\"]\n",
    "\n",
    "data_args = NetCDFInitialization.getInitialConditions(nk800_url, 1396, 2048, 446, 774, download_data=False, norkyst_data=False)\n",
    "data_args.keys()"
   ]
  },
  {
   "cell_type": "markdown",
   "metadata": {},
   "source": [
    "We assume that the wind and boundary conditions (namely the global textures are equal for all ensembles)!"
   ]
  },
  {
   "cell_type": "code",
   "execution_count": 5,
   "metadata": {},
   "outputs": [],
   "source": [
    "sim_args = {\n",
    "    \"dt\": 0.0,\n",
    "    \"write_netcdf\":False,\n",
    "    \"model_time_step\": 60,\n",
    "    \"small_scale_perturbation\":True,\n",
    "     }"
   ]
  },
  {
   "cell_type": "markdown",
   "metadata": {},
   "source": [
    "A big issue with rescaling is that the model error is constructed with an interpolation factor that has to devide `nx` and `ny`, what in flexible cases is only fulfilled by 1 - thats however a bad correlation scale (basically white noise). "
   ]
  },
  {
   "cell_type": "markdown",
   "metadata": {},
   "source": [
    "## Ensemble"
   ]
  },
  {
   "cell_type": "code",
   "execution_count": 6,
   "metadata": {},
   "outputs": [],
   "source": [
    "levels = [0.25, 0.5, 1.0, 2.0, 4.0]\n",
    "\n",
    "numParticles_per_level = [20, 25, 10, 5, 2]\n",
    "\n",
    "sim_argses = [sim_args]*len(levels)\n",
    "\n",
    "sim_argses[0][\"small_scale_perturbation_interpolation_factor\"] = 3\n",
    "sim_argses[0][\"small_scale_perturbation_amplitude\"] = 0.0005\n",
    "sim_argses[1][\"small_scale_perturbation_interpolation_factor\"] = 3\n",
    "sim_argses[1][\"small_scale_perturbation_amplitude\"] = 0.0005\n",
    "sim_argses[2][\"small_scale_perturbation_interpolation_factor\"] = 9\n",
    "sim_argses[2][\"small_scale_perturbation_amplitude\"] = 0.00025\n",
    "sim_argses[3][\"small_scale_perturbation_interpolation_factor\"] = 9\n",
    "sim_argses[3][\"small_scale_perturbation_amplitude\"] = 0.0001\n",
    "sim_argses[4][\"small_scale_perturbation_interpolation_factor\"] = 27\n",
    "sim_argses[4][\"small_scale_perturbation_amplitude\"] = 0.00005"
   ]
  },
  {
   "cell_type": "code",
   "execution_count": 7,
   "metadata": {},
   "outputs": [
    {
     "name": "stderr",
     "output_type": "stream",
     "text": [
      "This will give inaccurate angle along the border!\n",
      "This will give inaccurate coriolis along the border!\n"
     ]
    },
    {
     "name": "stdout",
     "output_type": "stream",
     "text": [
      "ensemnble 0\n"
     ]
    },
    {
     "name": "stderr",
     "output_type": "stream",
     "text": [
      "This will give inaccurate angle along the border!\n",
      "This will give inaccurate coriolis along the border!\n",
      "This will give inaccurate angle along the border!\n",
      "This will give inaccurate coriolis along the border!\n",
      "This will give inaccurate angle along the border!\n",
      "This will give inaccurate coriolis along the border!\n",
      "This will give inaccurate angle along the border!\n",
      "This will give inaccurate coriolis along the border!\n",
      "This will give inaccurate angle along the border!\n",
      "This will give inaccurate coriolis along the border!\n",
      "This will give inaccurate angle along the border!\n",
      "This will give inaccurate coriolis along the border!\n",
      "This will give inaccurate angle along the border!\n",
      "This will give inaccurate coriolis along the border!\n",
      "This will give inaccurate angle along the border!\n",
      "This will give inaccurate coriolis along the border!\n",
      "This will give inaccurate angle along the border!\n",
      "This will give inaccurate coriolis along the border!\n",
      "This will give inaccurate angle along the border!\n",
      "This will give inaccurate coriolis along the border!\n",
      "This will give inaccurate angle along the border!\n",
      "This will give inaccurate coriolis along the border!\n",
      "This will give inaccurate angle along the border!\n",
      "This will give inaccurate coriolis along the border!\n",
      "This will give inaccurate angle along the border!\n",
      "This will give inaccurate coriolis along the border!\n",
      "This will give inaccurate angle along the border!\n",
      "This will give inaccurate coriolis along the border!\n",
      "This will give inaccurate angle along the border!\n",
      "This will give inaccurate coriolis along the border!\n",
      "This will give inaccurate angle along the border!\n",
      "This will give inaccurate coriolis along the border!\n",
      "This will give inaccurate angle along the border!\n",
      "This will give inaccurate coriolis along the border!\n",
      "This will give inaccurate angle along the border!\n",
      "This will give inaccurate coriolis along the border!\n",
      "This will give inaccurate angle along the border!\n",
      "This will give inaccurate coriolis along the border!\n",
      "This will give inaccurate angle along the border!\n",
      "This will give inaccurate coriolis along the border!\n",
      "This will give inaccurate angle along the border!\n",
      "This will give inaccurate coriolis along the border!\n"
     ]
    },
    {
     "name": "stdout",
     "output_type": "stream",
     "text": [
      "ensemnble 1\n"
     ]
    },
    {
     "name": "stderr",
     "output_type": "stream",
     "text": [
      "This will give inaccurate angle along the border!\n",
      "This will give inaccurate coriolis along the border!\n",
      "This will give inaccurate angle along the border!\n",
      "This will give inaccurate coriolis along the border!\n",
      "This will give inaccurate angle along the border!\n",
      "This will give inaccurate coriolis along the border!\n",
      "This will give inaccurate angle along the border!\n",
      "This will give inaccurate coriolis along the border!\n",
      "This will give inaccurate angle along the border!\n",
      "This will give inaccurate coriolis along the border!\n",
      "This will give inaccurate angle along the border!\n",
      "This will give inaccurate coriolis along the border!\n",
      "This will give inaccurate angle along the border!\n",
      "This will give inaccurate coriolis along the border!\n",
      "This will give inaccurate angle along the border!\n",
      "This will give inaccurate coriolis along the border!\n",
      "This will give inaccurate angle along the border!\n",
      "This will give inaccurate coriolis along the border!\n",
      "This will give inaccurate angle along the border!\n",
      "This will give inaccurate coriolis along the border!\n",
      "This will give inaccurate angle along the border!\n",
      "This will give inaccurate coriolis along the border!\n",
      "This will give inaccurate angle along the border!\n",
      "This will give inaccurate coriolis along the border!\n",
      "This will give inaccurate angle along the border!\n",
      "This will give inaccurate coriolis along the border!\n",
      "This will give inaccurate angle along the border!\n",
      "This will give inaccurate coriolis along the border!\n",
      "This will give inaccurate angle along the border!\n",
      "This will give inaccurate coriolis along the border!\n",
      "This will give inaccurate angle along the border!\n",
      "This will give inaccurate coriolis along the border!\n",
      "This will give inaccurate angle along the border!\n",
      "This will give inaccurate coriolis along the border!\n",
      "This will give inaccurate angle along the border!\n",
      "This will give inaccurate coriolis along the border!\n",
      "This will give inaccurate angle along the border!\n",
      "This will give inaccurate coriolis along the border!\n",
      "This will give inaccurate angle along the border!\n",
      "This will give inaccurate coriolis along the border!\n",
      "This will give inaccurate angle along the border!\n",
      "This will give inaccurate coriolis along the border!\n",
      "This will give inaccurate angle along the border!\n",
      "This will give inaccurate coriolis along the border!\n",
      "This will give inaccurate angle along the border!\n",
      "This will give inaccurate coriolis along the border!\n",
      "This will give inaccurate angle along the border!\n",
      "This will give inaccurate coriolis along the border!\n",
      "This will give inaccurate angle along the border!\n",
      "This will give inaccurate coriolis along the border!\n"
     ]
    },
    {
     "name": "stdout",
     "output_type": "stream",
     "text": [
      "ensemnble 2\n"
     ]
    },
    {
     "name": "stderr",
     "output_type": "stream",
     "text": [
      "This will give inaccurate angle along the border!\n",
      "This will give inaccurate coriolis along the border!\n",
      "This will give inaccurate angle along the border!\n",
      "This will give inaccurate coriolis along the border!\n",
      "This will give inaccurate angle along the border!\n",
      "This will give inaccurate coriolis along the border!\n",
      "This will give inaccurate angle along the border!\n",
      "This will give inaccurate coriolis along the border!\n",
      "This will give inaccurate angle along the border!\n",
      "This will give inaccurate coriolis along the border!\n",
      "This will give inaccurate angle along the border!\n",
      "This will give inaccurate coriolis along the border!\n",
      "This will give inaccurate angle along the border!\n",
      "This will give inaccurate coriolis along the border!\n",
      "This will give inaccurate angle along the border!\n",
      "This will give inaccurate coriolis along the border!\n"
     ]
    },
    {
     "name": "stdout",
     "output_type": "stream",
     "text": [
      "ensemnble 3\n"
     ]
    },
    {
     "name": "stderr",
     "output_type": "stream",
     "text": [
      "This will give inaccurate angle along the border!\n",
      "This will give inaccurate coriolis along the border!\n",
      "This will give inaccurate angle along the border!\n",
      "This will give inaccurate coriolis along the border!\n",
      "This will give inaccurate angle along the border!\n",
      "This will give inaccurate coriolis along the border!\n",
      "This will give inaccurate angle along the border!\n",
      "This will give inaccurate coriolis along the border!\n",
      "This will give inaccurate angle along the border!\n",
      "This will give inaccurate coriolis along the border!\n"
     ]
    },
    {
     "name": "stdout",
     "output_type": "stream",
     "text": [
      "ensemnble 4\n"
     ]
    },
    {
     "name": "stderr",
     "output_type": "stream",
     "text": [
      "This will give inaccurate angle along the border!\n",
      "This will give inaccurate coriolis along the border!\n",
      "This will give inaccurate angle along the border!\n",
      "This will give inaccurate coriolis along the border!\n"
     ]
    }
   ],
   "source": [
    "from importlib import reload\n",
    "reload(MultiResOceanStateEnsemble)\n",
    "\n",
    "multires_ensemble = MultiResOceanStateEnsemble.MulitResOceanStateEnsemble(gpu_ctx, sim_argses, data_args, levels, numParticles_per_level)"
   ]
  },
  {
   "cell_type": "code",
   "execution_count": 8,
   "metadata": {},
   "outputs": [],
   "source": [
    "multires_ensemble.stepToObservation(600)"
   ]
  },
  {
   "cell_type": "code",
   "execution_count": null,
   "metadata": {},
   "outputs": [],
   "source": [
    "def plot6(X_mean, X_std, mask, frame=[0,None,0,None], diff_mode=False, suptitle=None):\n",
    "    \n",
    "    fig, axs = plt.subplots(2,3, figsize=(24,6))\n",
    "\n",
    "    vmin = -0.5\n",
    "    vmax = 0.5\n",
    "    if diff_mode:\n",
    "        vmin = -0.1\n",
    "        vmax = 0.1\n",
    "    im = axs[0,0].imshow(np.ma.array(X_mean[0], mask=mask)[frame[0]:frame[1],frame[2]:frame[3]], origin=\"lower\", vmin=vmin, vmax=vmax, cmap=\"coolwarm\")\n",
    "    plt.colorbar(im, ax=axs[0,0], shrink=0.5)\n",
    "    axs[0,0].set_ylabel(\"MEAN\")\n",
    "    axs[0,0].set_title(\"eta\")\n",
    "\n",
    "    vmin = -200\n",
    "    vmax = 200\n",
    "    if diff_mode:\n",
    "        vmin = -20\n",
    "        vmax = 20\n",
    "    im = axs[0,1].imshow(np.ma.array(X_mean[1], mask=mask)[frame[0]:frame[1],frame[2]:frame[3]], origin=\"lower\", vmin=vmin, vmax=vmax, cmap=\"coolwarm\")\n",
    "    plt.colorbar(im, ax=axs[0,1], shrink=0.5)\n",
    "    axs[0,1].set_title(\"hu\")\n",
    "\n",
    "    im = axs[0,2].imshow(np.ma.array(X_mean[2], mask=mask)[frame[0]:frame[1],frame[2]:frame[3]], origin=\"lower\", vmin=vmin, vmax=vmax, cmap=\"coolwarm\")\n",
    "    plt.colorbar(im, ax=axs[0,2], shrink=0.5)\n",
    "    axs[0,2].set_title(\"hv\")\n",
    "\n",
    "    vmin = 0.0\n",
    "    vmax = 0.25\n",
    "    cmap = \"Reds\"\n",
    "    if diff_mode:\n",
    "        vmin = -0.1\n",
    "        vmax = 0.1\n",
    "        cmap = \"coolwarm\"\n",
    "    im = axs[1,0].imshow(np.ma.array(X_std[0], mask=mask)[frame[0]:frame[1],frame[2]:frame[3]], origin=\"lower\", vmin=vmin, vmax=vmax, cmap=cmap)\n",
    "    plt.colorbar(im, ax=axs[1,0], shrink=0.5)\n",
    "    axs[1,0].set_ylabel(\"STD\")\n",
    "    axs[1,0].set_title(\"eta\")\n",
    "\n",
    "    vmin = 0.0\n",
    "    vmax = 100\n",
    "    cmap = \"Reds\"\n",
    "    if diff_mode:\n",
    "        vmin = -10\n",
    "        vmax = 10\n",
    "        cmap = \"coolwarm\"\n",
    "    im = axs[1,1].imshow(np.ma.array(X_std[1], mask=mask)[frame[0]:frame[1],frame[2]:frame[3]], origin=\"lower\", vmin=vmin, vmax=vmax, cmap=cmap)\n",
    "    plt.colorbar(im, ax=axs[1,1], shrink=0.5)\n",
    "    axs[1,1].set_title(\"hu\")\n",
    "\n",
    "    im = axs[1,2].imshow(np.ma.array(X_std[2], mask=mask)[frame[0]:frame[1],frame[2]:frame[3]], origin=\"lower\", vmin=vmin, vmax=vmax, cmap=cmap)\n",
    "    plt.colorbar(im, ax=axs[1,2], shrink=0.5)\n",
    "    axs[1,2].set_title(\"hv\")\n",
    "    \n",
    "    if suptitle is not None:\n",
    "        plt.suptitle(suptitle)\n",
    "\n",
    "    plt.tight_layout()\n",
    "\n",
    "\n",
    "def plot_statistics(ensemble, frame=[0,None,0,None], suptitle=None):\n",
    "\n",
    "    X = np.zeros((ensemble.numParticles,3,ensemble.ny,ensemble.nx))\n",
    "\n",
    "    for e in range(ensemble.numParticles):\n",
    "        eta, hu, hv = ensemble.particles[e].download(interior_domain_only=True)\n",
    "        X[e,0,:,:] = eta \n",
    "        X[e,1,:,:] = hu\n",
    "        X[e,2,:,:] = hv\n",
    "\n",
    "    X_mean = np.nanmean(X, axis=0 )\n",
    "    X_std = np.std(X[:,:,:,:], axis=0)\n",
    "\n",
    "    mask = ensemble.particles[e].download(interior_domain_only=True)[0].mask\n",
    "    plot6(X_mean, X_std, mask, frame=frame, suptitle=suptitle)\n",
    "\n",
    "    return X_mean, X_std"
   ]
  },
  {
   "cell_type": "code",
   "execution_count": null,
   "metadata": {},
   "outputs": [],
   "source": [
    "for l in range(len(levels)):\n",
    "    plot_statistics(multires_ensemble.ensembles[l], suptitle=\"Level \"+str(l))"
   ]
  },
  {
   "cell_type": "code",
   "execution_count": null,
   "metadata": {},
   "outputs": [],
   "source": []
  }
 ],
 "metadata": {
  "kernelspec": {
   "display_name": "Python 3.7.12 ('gpuocean_opendrift')",
   "language": "python",
   "name": "python3"
  },
  "language_info": {
   "codemirror_mode": {
    "name": "ipython",
    "version": 3
   },
   "file_extension": ".py",
   "mimetype": "text/x-python",
   "name": "python",
   "nbconvert_exporter": "python",
   "pygments_lexer": "ipython3",
   "version": "3.7.12"
  },
  "vscode": {
   "interpreter": {
    "hash": "3048633266a8aca5c85f16c1ee57ccad146141feb66febf24dcb8304467d1440"
   }
  }
 },
 "nbformat": 4,
 "nbformat_minor": 4
}
