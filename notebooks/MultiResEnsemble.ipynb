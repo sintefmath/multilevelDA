{
 "cells": [
  {
   "cell_type": "markdown",
   "metadata": {},
   "source": [
    "## Classes and modules"
   ]
  },
  {
   "cell_type": "code",
   "execution_count": 1,
   "metadata": {},
   "outputs": [],
   "source": [
    "#Lets have matplotlib \"inline\"\n",
    "%matplotlib inline\n",
    "\n",
    "import os\n",
    "import sys\n",
    "\n",
    "#Import packages we need\n",
    "import numpy as np\n",
    "from netCDF4 import Dataset\n",
    "import datetime\n",
    "from IPython.display import display\n",
    "\n",
    "#For plotting\n",
    "import matplotlib\n",
    "from matplotlib import pyplot as plt\n",
    "from mpl_toolkits.axes_grid1 import make_axes_locatable\n",
    "\n",
    "plt.rcParams[\"lines.color\"] = \"w\"\n",
    "plt.rcParams[\"text.color\"] = \"w\"\n",
    "plt.rcParams[\"axes.labelcolor\"] = \"w\"\n",
    "plt.rcParams[\"xtick.color\"] = \"w\"\n",
    "plt.rcParams[\"ytick.color\"] = \"w\""
   ]
  },
  {
   "cell_type": "markdown",
   "metadata": {},
   "source": [
    "GPU Ocean-modules:"
   ]
  },
  {
   "cell_type": "code",
   "execution_count": 2,
   "metadata": {},
   "outputs": [],
   "source": [
    "from gpuocean.ensembles import MultiResOceanStateEnsemble\n",
    "from gpuocean.utils import IPythonMagic, NetCDFInitialization"
   ]
  },
  {
   "cell_type": "code",
   "execution_count": 3,
   "metadata": {},
   "outputs": [],
   "source": [
    "%cuda_context_handler gpu_ctx"
   ]
  },
  {
   "cell_type": "markdown",
   "metadata": {},
   "source": [
    "## Selecting Area"
   ]
  },
  {
   "cell_type": "markdown",
   "metadata": {},
   "source": [
    "As initial and boundary conditions to the simulation, we use data from the Norkyst800 s-level files:"
   ]
  },
  {
   "cell_type": "code",
   "execution_count": 4,
   "metadata": {},
   "outputs": [
    {
     "data": {
      "text/plain": [
       "'lofoten'"
      ]
     },
     "execution_count": 4,
     "metadata": {},
     "output_type": "execute_result"
    }
   ],
   "source": [
    "casename = 'lofoten'\n",
    "\n",
    "case_info = NetCDFInitialization.getCaseLocation(casename)\n",
    "case_info.pop(\"name\")"
   ]
  },
  {
   "cell_type": "code",
   "execution_count": 5,
   "metadata": {},
   "outputs": [],
   "source": [
    "locals().update(case_info)"
   ]
  },
  {
   "cell_type": "markdown",
   "metadata": {},
   "source": [
    "## Construct initial conditions"
   ]
  },
  {
   "cell_type": "code",
   "execution_count": 6,
   "metadata": {},
   "outputs": [],
   "source": [
    "s_source_url = [\"/sintef/data/NorKyst800/ocean_his.an.20190716.nc\"]"
   ]
  },
  {
   "cell_type": "code",
   "execution_count": 7,
   "metadata": {},
   "outputs": [
    {
     "data": {
      "text/plain": [
       "dict_keys(['sponge_cells', 'NX', 'NY', 'nx', 'ny', 'dx', 'dy', 'g', 'r', 'H', 'eta0', 'hu0', 'hv0', 'angle', 'latitude', 'f', 'boundary_conditions_data', 'boundary_conditions', 'wind_stress', 'wind', 'note', 't0', 'timesteps'])"
      ]
     },
     "execution_count": 7,
     "metadata": {},
     "output_type": "execute_result"
    }
   ],
   "source": [
    "data_args = NetCDFInitialization.getInitialConditions(s_source_url, x0, x1, y0, y1, download_data=False, norkyst_data=False)\n",
    "data_args.keys()"
   ]
  },
  {
   "cell_type": "markdown",
   "metadata": {},
   "source": [
    "We assume that the wind and boundary conditions (namely the global textures are equal for all ensembles)!"
   ]
  },
  {
   "cell_type": "code",
   "execution_count": 15,
   "metadata": {},
   "outputs": [],
   "source": [
    "sim_args = {\n",
    "    \"dt\": 0.0,\n",
    "    \"write_netcdf\":False,\n",
    "    \"model_time_step\": 60,\n",
    "    \"small_scale_perturbation\":True,\n",
    "    \"small_scale_perturbation_interpolation_factor\":1,\n",
    "    \"small_scale_perturbation_amplitude\": 0.00025\n",
    "     }"
   ]
  },
  {
   "cell_type": "markdown",
   "metadata": {},
   "source": [
    "A big issue with rescaling is that the model error is constructed with an interpolation factor that has to devide `nx` and `ny`, what in flexible cases is only fulfilled by 1 - thats however a bad correlation scale (basically white noise). "
   ]
  },
  {
   "cell_type": "markdown",
   "metadata": {},
   "source": [
    "## Ensemble"
   ]
  },
  {
   "cell_type": "code",
   "execution_count": 16,
   "metadata": {},
   "outputs": [],
   "source": [
    "sim_argses = [sim_args]*3\n",
    "\n",
    "levels = [0.5, 1, 2.0]\n",
    "\n",
    "numParticles_per_level = [20, 10, 5]"
   ]
  },
  {
   "cell_type": "code",
   "execution_count": 17,
   "metadata": {},
   "outputs": [
    {
     "name": "stderr",
     "output_type": "stream",
     "text": [
      "This will give inaccurate angle along the border!\n",
      "This will give inaccurate coriolis along the border!\n",
      "This will give inaccurate angle along the border!\n",
      "This will give inaccurate coriolis along the border!\n",
      "This will give inaccurate angle along the border!\n",
      "This will give inaccurate coriolis along the border!\n",
      "This will give inaccurate angle along the border!\n",
      "This will give inaccurate coriolis along the border!\n",
      "This will give inaccurate angle along the border!\n",
      "This will give inaccurate coriolis along the border!\n",
      "This will give inaccurate angle along the border!\n",
      "This will give inaccurate coriolis along the border!\n",
      "This will give inaccurate angle along the border!\n",
      "This will give inaccurate coriolis along the border!\n",
      "This will give inaccurate angle along the border!\n",
      "This will give inaccurate coriolis along the border!\n",
      "This will give inaccurate angle along the border!\n",
      "This will give inaccurate coriolis along the border!\n",
      "This will give inaccurate angle along the border!\n",
      "This will give inaccurate coriolis along the border!\n",
      "This will give inaccurate angle along the border!\n",
      "This will give inaccurate coriolis along the border!\n",
      "This will give inaccurate angle along the border!\n",
      "This will give inaccurate coriolis along the border!\n",
      "This will give inaccurate angle along the border!\n",
      "This will give inaccurate coriolis along the border!\n",
      "This will give inaccurate angle along the border!\n",
      "This will give inaccurate coriolis along the border!\n",
      "This will give inaccurate angle along the border!\n",
      "This will give inaccurate coriolis along the border!\n",
      "This will give inaccurate angle along the border!\n",
      "This will give inaccurate coriolis along the border!\n",
      "This will give inaccurate angle along the border!\n",
      "This will give inaccurate coriolis along the border!\n",
      "This will give inaccurate angle along the border!\n",
      "This will give inaccurate coriolis along the border!\n",
      "This will give inaccurate angle along the border!\n",
      "This will give inaccurate coriolis along the border!\n",
      "This will give inaccurate angle along the border!\n",
      "This will give inaccurate coriolis along the border!\n",
      "This will give inaccurate angle along the border!\n",
      "This will give inaccurate coriolis along the border!\n",
      "This will give inaccurate angle along the border!\n",
      "This will give inaccurate coriolis along the border!\n",
      "This will give inaccurate angle along the border!\n",
      "This will give inaccurate coriolis along the border!\n",
      "This will give inaccurate angle along the border!\n",
      "This will give inaccurate coriolis along the border!\n",
      "This will give inaccurate angle along the border!\n",
      "This will give inaccurate coriolis along the border!\n",
      "This will give inaccurate angle along the border!\n",
      "This will give inaccurate coriolis along the border!\n",
      "This will give inaccurate angle along the border!\n",
      "This will give inaccurate coriolis along the border!\n",
      "This will give inaccurate angle along the border!\n",
      "This will give inaccurate coriolis along the border!\n",
      "This will give inaccurate angle along the border!\n",
      "This will give inaccurate coriolis along the border!\n",
      "This will give inaccurate angle along the border!\n",
      "This will give inaccurate coriolis along the border!\n",
      "This will give inaccurate angle along the border!\n",
      "This will give inaccurate coriolis along the border!\n",
      "This will give inaccurate angle along the border!\n",
      "This will give inaccurate coriolis along the border!\n",
      "This will give inaccurate angle along the border!\n",
      "This will give inaccurate coriolis along the border!\n",
      "This will give inaccurate angle along the border!\n",
      "This will give inaccurate coriolis along the border!\n",
      "This will give inaccurate angle along the border!\n",
      "This will give inaccurate coriolis along the border!\n"
     ]
    }
   ],
   "source": [
    "from importlib import reload\n",
    "reload(MultiResOceanStateEnsemble)\n",
    "\n",
    "multires_ensemble = MultiResOceanStateEnsemble.MulitResOceanStateEnsemble(gpu_ctx, sim_argses, data_args, levels, numParticles_per_level)"
   ]
  },
  {
   "cell_type": "code",
   "execution_count": 18,
   "metadata": {},
   "outputs": [],
   "source": [
    "multires_ensemble.stepToObservation(60)"
   ]
  },
  {
   "cell_type": "code",
   "execution_count": null,
   "metadata": {},
   "outputs": [],
   "source": [
    "for p in multires_ensemble.ensembles[0].particles:\n",
    "    eta, hu, hv = p.download()"
   ]
  },
  {
   "cell_type": "code",
   "execution_count": null,
   "metadata": {},
   "outputs": [],
   "source": []
  }
 ],
 "metadata": {
  "kernelspec": {
   "display_name": "Python 3.7.12 ('gpuocean_opendrift')",
   "language": "python",
   "name": "python3"
  },
  "language_info": {
   "codemirror_mode": {
    "name": "ipython",
    "version": 3
   },
   "file_extension": ".py",
   "mimetype": "text/x-python",
   "name": "python",
   "nbconvert_exporter": "python",
   "pygments_lexer": "ipython3",
   "version": "3.7.12"
  },
  "vscode": {
   "interpreter": {
    "hash": "3048633266a8aca5c85f16c1ee57ccad146141feb66febf24dcb8304467d1440"
   }
  }
 },
 "nbformat": 4,
 "nbformat_minor": 4
}
