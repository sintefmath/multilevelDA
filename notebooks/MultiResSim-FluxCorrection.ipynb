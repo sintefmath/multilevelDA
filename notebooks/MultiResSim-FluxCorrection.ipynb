{
 "cells": [
  {
   "cell_type": "markdown",
   "metadata": {},
   "source": [
    "# Multi Resolution Simulation"
   ]
  },
  {
   "cell_type": "markdown",
   "metadata": {},
   "source": [
    "### Classes and modules"
   ]
  },
  {
   "cell_type": "code",
   "execution_count": 1,
   "metadata": {},
   "outputs": [],
   "source": [
    "#Lets have matplotlib \"inline\"\n",
    "%matplotlib inline\n",
    "\n",
    "import os\n",
    "import sys\n",
    "\n",
    "#Import packages we need\n",
    "import numpy as np\n",
    "import datetime\n",
    "from IPython.display import display\n",
    "import copy\n",
    "\n",
    "#For plotting\n",
    "import matplotlib\n",
    "from matplotlib import pyplot as plt\n",
    "from mpl_toolkits.axes_grid1 import make_axes_locatable\n",
    "\n",
    "plt.rcParams[\"lines.color\"] = \"w\"\n",
    "plt.rcParams[\"text.color\"] = \"w\"\n",
    "plt.rcParams[\"axes.labelcolor\"] = \"w\"\n",
    "plt.rcParams[\"xtick.color\"] = \"w\"\n",
    "plt.rcParams[\"ytick.color\"] = \"w\"\n",
    "\n",
    "plt.rcParams[\"image.origin\"] = \"lower\""
   ]
  },
  {
   "cell_type": "markdown",
   "metadata": {},
   "source": [
    "GPU Ocean-modules:"
   ]
  },
  {
   "cell_type": "code",
   "execution_count": 2,
   "metadata": {},
   "outputs": [],
   "source": [
    "from gpuocean.utils import IPythonMagic, Common, NetCDFInitialization"
   ]
  },
  {
   "cell_type": "code",
   "execution_count": 3,
   "metadata": {},
   "outputs": [],
   "source": [
    "%cuda_context_handler gpu_ctx"
   ]
  },
  {
   "cell_type": "code",
   "execution_count": 4,
   "metadata": {},
   "outputs": [],
   "source": [
    "%cuda_context_handler gpu_ctx_refined"
   ]
  },
  {
   "cell_type": "markdown",
   "metadata": {},
   "source": [
    "## Selecting loc"
   ]
  },
  {
   "cell_type": "markdown",
   "metadata": {},
   "source": [
    "As initial and boundary conditions to the simulation, we use data from the Norkyst800 s-level files:"
   ]
  },
  {
   "cell_type": "code",
   "execution_count": 5,
   "metadata": {},
   "outputs": [
    {
     "data": {
      "text/plain": [
       "dict_keys(['nx', 'ny', 'dx', 'dy', 'g', 'r', 'H', 'eta0', 'hu0', 'hv0', 'angle', 'latitude', 'f', 'boundary_conditions_data', 'boundary_conditions', 'wind'])"
      ]
     },
     "execution_count": 5,
     "metadata": {},
     "output_type": "execute_result"
    }
   ],
   "source": [
    "nk800_url  = [\"/sintef/data/NorKyst800/ocean_his.an.20190716.nc\"]\n",
    "\n",
    "data_args = NetCDFInitialization.removeMetadata(NetCDFInitialization.getInitialConditionsNorKystCases(nk800_url, \"lofoten\", download_data=False, norkyst_data=False))\n",
    "data_args.keys()"
   ]
  },
  {
   "cell_type": "code",
   "execution_count": 6,
   "metadata": {},
   "outputs": [],
   "source": [
    "sim_args = {\n",
    "    \"dt\": 0.0,\n",
    "    \"write_netcdf\":False,\n",
    "    \"model_time_step\": 60\n",
    "     }"
   ]
  },
  {
   "cell_type": "markdown",
   "metadata": {},
   "source": [
    "## Simulation"
   ]
  },
  {
   "cell_type": "code",
   "execution_count": 7,
   "metadata": {},
   "outputs": [
    {
     "data": {
      "text/plain": [
       "<module 'gpuocean.SWEsimulators.CDKLM16' from '/home/florianb/havvarsel/gpuocean/src/gpuocean/SWEsimulators/CDKLM16.py'>"
      ]
     },
     "execution_count": 7,
     "metadata": {},
     "output_type": "execute_result"
    }
   ],
   "source": [
    "from gpuocean.SWEsimulators import CDKLM16\n",
    "\n",
    "from importlib import reload\n",
    "reload(CDKLM16)"
   ]
  },
  {
   "cell_type": "code",
   "execution_count": 8,
   "metadata": {},
   "outputs": [
    {
     "name": "stderr",
     "output_type": "stream",
     "text": [
      "This will give inaccurate angle along the border!\n",
      "This will give inaccurate coriolis along the border!\n",
      "This will give inaccurate angle along the border!\n",
      "This will give inaccurate coriolis along the border!\n"
     ]
    },
    {
     "name": "stdout",
     "output_type": "stream",
     "text": [
      "Use halo mask according to bathymetry\n",
      "Construct halo mask according to finer bathymetry information!\n"
     ]
    }
   ],
   "source": [
    "sim = CDKLM16.CDKLM16(gpu_ctx, **sim_args, **data_args)\n",
    "sim.give_birth(gpu_ctx_refined, [[100, 100], [200,300]], 1.2)"
   ]
  },
  {
   "cell_type": "code",
   "execution_count": 9,
   "metadata": {},
   "outputs": [
    {
     "data": {
      "text/plain": [
       "<pycuda._driver.Function at 0x7f1edc22aab0>"
      ]
     },
     "execution_count": 9,
     "metadata": {},
     "output_type": "execute_result"
    }
   ],
   "source": [
    "cdklm_swe_2D = sim.kernel.get_function(\"cdklm_swe_2D\")\n",
    "cdklm_swe_2D.prepare(\"fiPiPiPiPiPiPiPiPifffiPi\")"
   ]
  },
  {
   "cell_type": "code",
   "execution_count": 10,
   "metadata": {},
   "outputs": [],
   "source": [
    "fluxes_N = Common.CUDAArray2D(sim.gpu_stream, sim.nx, 3, 2, 0, np.zeros((3,sim.nx+4)))\n",
    "# Somehow the allocation is necessary to avoid storage issues?!?!\n",
    "fill = Common.CUDAArray2D(sim.gpu_stream, sim.nx, 300, 2, 0, np.zeros((300,sim.nx+4)))"
   ]
  },
  {
   "cell_type": "code",
   "execution_count": 11,
   "metadata": {},
   "outputs": [],
   "source": [
    "cdklm_swe_2D.prepared_async_call(sim.global_size, sim.local_size, sim.gpu_stream, \\\n",
    "                           np.float32(0.1), \\\n",
    "                           np.int32(1), \\\n",
    "                           sim.gpu_data.h0.data.gpudata, sim.gpu_data.h0.pitch, \\\n",
    "                           sim.gpu_data.hu0.data.gpudata, sim.gpu_data.hu0.pitch, \\\n",
    "                           sim.gpu_data.hv0.data.gpudata, sim.gpu_data.hv0.pitch, \\\n",
    "                           sim.gpu_data.h1.data.gpudata, sim.gpu_data.h1.pitch, \\\n",
    "                           sim.gpu_data.hu1.data.gpudata, sim.gpu_data.hu1.pitch, \\\n",
    "                           sim.gpu_data.hv1.data.gpudata, sim.gpu_data.hv1.pitch, \\\n",
    "                           sim.bathymetry.Bi.data.gpudata, sim.bathymetry.Bi.pitch, \\\n",
    "                           sim.bathymetry.Bm.data.gpudata, sim.bathymetry.Bm.pitch, \\\n",
    "                           sim.bathymetry.mask_value,\n",
    "                           np.float32(0), \\\n",
    "                           np.float32(0), \\\n",
    "                           np.int32(0),\n",
    "                           fluxes_N.data.gpudata, fluxes_N.pitch)"
   ]
  },
  {
   "cell_type": "code",
   "execution_count": 12,
   "metadata": {},
   "outputs": [
    {
     "data": {
      "text/plain": [
       "array([[  0.,   0.,   2., ..., 497.,   0.,   0.],\n",
       "       [  0.,   0.,   2., ..., 497.,   0.,   0.],\n",
       "       [  0.,   0.,   2., ..., 497.,   0.,   0.]], dtype=float32)"
      ]
     },
     "execution_count": 12,
     "metadata": {},
     "output_type": "execute_result"
    }
   ],
   "source": [
    "fluxes_N.download(sim.gpu_stream)"
   ]
  }
 ],
 "metadata": {
  "kernelspec": {
   "display_name": "Python 3.7.12 ('gpuocean_opendrift')",
   "language": "python",
   "name": "python3"
  },
  "language_info": {
   "codemirror_mode": {
    "name": "ipython",
    "version": 3
   },
   "file_extension": ".py",
   "mimetype": "text/x-python",
   "name": "python",
   "nbconvert_exporter": "python",
   "pygments_lexer": "ipython3",
   "version": "3.7.12"
  },
  "vscode": {
   "interpreter": {
    "hash": "3048633266a8aca5c85f16c1ee57ccad146141feb66febf24dcb8304467d1440"
   }
  }
 },
 "nbformat": 4,
 "nbformat_minor": 4
}
