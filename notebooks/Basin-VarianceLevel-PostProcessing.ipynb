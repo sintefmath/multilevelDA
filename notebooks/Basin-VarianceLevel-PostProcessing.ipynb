{
 "cells": [
  {
   "attachments": {},
   "cell_type": "markdown",
   "metadata": {},
   "source": [
    "# Perturbing initial conditions in the basin"
   ]
  },
  {
   "cell_type": "markdown",
   "metadata": {},
   "source": [
    "### Classes and modules"
   ]
  },
  {
   "cell_type": "code",
   "execution_count": 1,
   "metadata": {},
   "outputs": [],
   "source": [
    "#Lets have matplotlib \"inline\"\n",
    "%matplotlib inline\n",
    "\n",
    "import os\n",
    "import sys\n",
    "\n",
    "#Import packages we need\n",
    "import numpy as np\n",
    "import datetime\n",
    "from IPython.display import display\n",
    "import copy\n",
    "\n",
    "#For plotting\n",
    "import matplotlib\n",
    "from matplotlib import pyplot as plt\n",
    "from mpl_toolkits.axes_grid1 import make_axes_locatable\n",
    "\n",
    "plt.rcParams[\"lines.color\"] = \"w\"\n",
    "plt.rcParams[\"text.color\"] = \"w\"\n",
    "plt.rcParams[\"axes.labelcolor\"] = \"w\"\n",
    "plt.rcParams[\"xtick.color\"] = \"w\"\n",
    "plt.rcParams[\"ytick.color\"] = \"w\"\n",
    "\n",
    "plt.rcParams[\"image.origin\"] = \"lower\"\n",
    "\n",
    "import pycuda.driver as cuda"
   ]
  },
  {
   "cell_type": "markdown",
   "metadata": {},
   "source": [
    "GPU Ocean-modules:"
   ]
  },
  {
   "cell_type": "code",
   "execution_count": 2,
   "metadata": {},
   "outputs": [],
   "source": [
    "from gpuocean.utils import IPythonMagic, Common\n",
    "from gpuocean.SWEsimulators import CDKLM16, ModelErrorKL"
   ]
  },
  {
   "cell_type": "code",
   "execution_count": 3,
   "metadata": {},
   "outputs": [],
   "source": [
    "%cuda_context_handler gpu_ctx"
   ]
  },
  {
   "cell_type": "code",
   "execution_count": 4,
   "metadata": {},
   "outputs": [],
   "source": [
    "gpu_stream = cuda.Stream()"
   ]
  },
  {
   "attachments": {},
   "cell_type": "markdown",
   "metadata": {},
   "source": [
    "Utils"
   ]
  },
  {
   "cell_type": "code",
   "execution_count": 5,
   "metadata": {},
   "outputs": [],
   "source": [
    "sys.path.insert(0, os.path.abspath(os.path.join(os.getcwd(), '../')))\n",
    "from utils.BasinInit import *\n",
    "from utils.BasinAnalysis import *"
   ]
  },
  {
   "cell_type": "code",
   "execution_count": 6,
   "metadata": {},
   "outputs": [],
   "source": [
    "ls = [6, 7, 8, 9, 10]"
   ]
  },
  {
   "cell_type": "code",
   "execution_count": 7,
   "metadata": {},
   "outputs": [],
   "source": [
    "data_args_list = []\n",
    "\n",
    "for l in ls:\n",
    "    lvl_grid_args = initGridSpecs(l)\n",
    "    data_args_list.append( {\n",
    "        \"nx\": lvl_grid_args[\"nx\"],\n",
    "        \"ny\": lvl_grid_args[\"ny\"],\n",
    "        \"dx\": lvl_grid_args[\"dx\"],\n",
    "        \"dy\": lvl_grid_args[\"dy\"],\n",
    "        } )"
   ]
  },
  {
   "cell_type": "code",
   "execution_count": 8,
   "metadata": {},
   "outputs": [],
   "source": [
    "source_path = \"/home/florianb/havvarsel/multilevelDA/scripts/VarianceLevels/Basin/2023-05-05T14_03_12\""
   ]
  },
  {
   "cell_type": "code",
   "execution_count": 9,
   "metadata": {},
   "outputs": [],
   "source": [
    "vars_list = []\n",
    "diff_vars_list = []\n",
    "for f in os.listdir(source_path):\n",
    "    if f.startswith(\"diff_vars\"):\n",
    "        diff_vars_list.append( os.path.abspath(os.path.join(source_path, f)) )\n",
    "    if f.startswith(\"vars\"):\n",
    "        vars_list.append( os.path.abspath(os.path.join(source_path, f)) ) "
   ]
  },
  {
   "cell_type": "code",
   "execution_count": 10,
   "metadata": {},
   "outputs": [],
   "source": [
    "# Sorting by time\n",
    "vars_list = [f for _,f in sorted(zip([int(v.split(\"/\")[-1].split(\"_\")[1].split(\".\")[0]) for v in vars_list], vars_list)) ]\n",
    "diff_vars_list = [f for _,f in sorted(zip([int(v.split(\"/\")[-1].split(\"_\")[2].split(\".\")[0]) for v in diff_vars_list], diff_vars_list)) ]"
   ]
  },
  {
   "cell_type": "code",
   "execution_count": 11,
   "metadata": {},
   "outputs": [
    {
     "data": {
      "text/plain": [
       "array([[1.84971393e-05, 6.83591355e-02, 7.73360557e-02],\n",
       "       [1.95765564e-05, 7.29322612e-02, 8.20082065e-02],\n",
       "       [1.91566892e-05, 7.25724599e-02, 8.54843355e-02],\n",
       "       [1.87763543e-05, 7.38306831e-02, 8.24463400e-02],\n",
       "       [1.91764790e-05, 7.16453203e-02, 8.55789702e-02]])"
      ]
     },
     "execution_count": 11,
     "metadata": {},
     "output_type": "execute_result"
    }
   ],
   "source": [
    "np.load(vars_list[1])"
   ]
  },
  {
   "cell_type": "code",
   "execution_count": 12,
   "metadata": {},
   "outputs": [
    {
     "data": {
      "text/plain": [
       "array([[9.62375637e-08, 4.29077178e-04, 9.71085516e-04],\n",
       "       [1.88783174e-08, 1.03528229e-04, 2.41484721e-04],\n",
       "       [4.39467520e-09, 2.63480065e-05, 6.50642598e-05],\n",
       "       [1.12560940e-09, 6.32223997e-06, 2.92055043e-05]])"
      ]
     },
     "execution_count": 12,
     "metadata": {},
     "output_type": "execute_result"
    }
   ],
   "source": [
    "np.load(diff_vars_list[1])"
   ]
  },
  {
   "cell_type": "code",
   "execution_count": 13,
   "metadata": {},
   "outputs": [],
   "source": [
    "def plotLvlVarTs(source_path, suptitle=None, eta_lim=None, huv_lim=None):\n",
    "\n",
    "    # Read files\n",
    "    vars_list = []\n",
    "    diff_vars_list = []\n",
    "    for f in os.listdir(source_path):\n",
    "        if f.startswith(\"diff_vars\"):\n",
    "            diff_vars_list.append( os.path.abspath(os.path.join(source_path, f)) )\n",
    "        if f.startswith(\"vars\"):\n",
    "            vars_list.append( os.path.abspath(os.path.join(source_path, f)) ) \n",
    "\n",
    "    # Sort files \n",
    "    vars_list = [f for _,f in sorted(zip([int(v.split(\"/\")[-1].split(\"_\")[1].split(\".\")[0]) for v in vars_list], vars_list)) ]\n",
    "    diff_vars_list = [f for _,f in sorted(zip([int(v.split(\"/\")[-1].split(\"_\")[2].split(\".\")[0]) for v in diff_vars_list], diff_vars_list)) ]\n",
    "\n",
    "    # Plot\n",
    "    with plt.rc_context({'lines.color':'black', \n",
    "                    'text.color':'black', \n",
    "                    'axes.labelcolor':'black', \n",
    "                    'xtick.color':'black',\n",
    "                    'ytick.color':'black'}):\n",
    "        fig, axs = plt.subplots(1,3, figsize=(15,5))\n",
    "        fig.suptitle(suptitle)\n",
    "\n",
    "        axs[0].set_title(\"$\\eta$\", fontsize=15)\n",
    "        axs[1].set_title(\"$hu$\", fontsize=15)\n",
    "        axs[2].set_title(\"$hv$\", fontsize=15)\n",
    "\n",
    "        Nxs = [nx*ny for nx, ny in zip([da[\"nx\"] for da in data_args_list], [da[\"ny\"] for da in data_args_list])]\n",
    "\n",
    "        for T_idx in range(len(vars_list)):\n",
    "            vars = np.load(vars_list[T_idx])\n",
    "            diff_vars = np.load(diff_vars_list[T_idx])\n",
    "\n",
    "            diff_vars = diff_vars/vars[-1]\n",
    "            vars = vars/vars[-1]\n",
    "\n",
    "            for i in range(3):\n",
    "                axs[i].loglog(Nxs, vars[:,i], label=\"$|| Var[u^l] ||_{L^2}$\", linewidth=3, c=\"C0\", alpha=0.1+0.9*T_idx/len(vars_list))\n",
    "                axs[i].loglog(Nxs[1:], diff_vars[:,i], label=\"$|| Var[u^l-u^{l-1}] ||_{L^2}$\", linewidth=3, c=\"C1\", alpha=0.1+0.9*T_idx/len(vars_list))\n",
    "                axs[i].set_xlabel(\"# grid cells\", fontsize=15)\n",
    "\n",
    "                if T_idx+1 == len(vars_list):\n",
    "                    handles, labels = axs[i].get_legend_handles_labels()\n",
    "                    axs[i].legend(handles[-2:], labels[-2:], labelcolor=\"black\", loc=(0.2,0.65), fontsize=15)\n",
    "                    axs[i].set_xticks(Nxs)\n",
    "                    axs[i].xaxis.grid(True)\n",
    "\n",
    "\n",
    "        axs[0].set_ylim((eta_lim,2))\n",
    "        axs[1].set_ylim((huv_lim,2))\n",
    "        axs[2].set_ylim((huv_lim,2))\n",
    "\n",
    "\n"
   ]
  },
  {
   "cell_type": "code",
   "execution_count": 18,
   "metadata": {},
   "outputs": [
    {
     "name": "stderr",
     "output_type": "stream",
     "text": [
      "/home/florianb/miniconda3/envs/gpuocean_opendrift/lib/python3.7/site-packages/ipykernel_launcher.py:35: RuntimeWarning: invalid value encountered in true_divide\n",
      "/home/florianb/miniconda3/envs/gpuocean_opendrift/lib/python3.7/site-packages/ipykernel_launcher.py:36: RuntimeWarning: invalid value encountered in true_divide\n"
     ]
    },
    {
     "data": {
      "image/png": "[encoded data removed]",
      "text/plain": [
       "<Figure size 1080x360 with 3 Axes>"
      ]
     },
     "metadata": {
      "needs_background": "light"
     },
     "output_type": "display_data"
    }
   ],
   "source": [
    "plotLvlVarTs(source_path, suptitle=\"Double Bump\", huv_lim=1e-4)"
   ]
  },
  {
   "cell_type": "code",
   "execution_count": null,
   "metadata": {},
   "outputs": [],
   "source": []
  }
 ],
 "metadata": {
  "kernelspec": {
   "display_name": "Python 3",
   "language": "python",
   "name": "python3"
  },
  "language_info": {
   "codemirror_mode": {
    "name": "ipython",
    "version": 3
   },
   "file_extension": ".py",
   "mimetype": "text/x-python",
   "name": "python",
   "nbconvert_exporter": "python",
   "pygments_lexer": "ipython3",
   "version": "3.7.12"
  },
  "vscode": {
   "interpreter": {
    "hash": "3048633266a8aca5c85f16c1ee57ccad146141feb66febf24dcb8304467d1440"
   }
  }
 },
 "nbformat": 4,
 "nbformat_minor": 4
}
