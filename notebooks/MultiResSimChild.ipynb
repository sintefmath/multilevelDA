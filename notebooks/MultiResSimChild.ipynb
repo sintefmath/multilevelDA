{
 "cells": [
  {
   "cell_type": "markdown",
   "metadata": {},
   "source": [
    "# Multi Resolution Simulation"
   ]
  },
  {
   "cell_type": "markdown",
   "metadata": {},
   "source": [
    "### Classes and modules"
   ]
  },
  {
   "cell_type": "code",
   "execution_count": null,
   "metadata": {},
   "outputs": [],
   "source": [
    "#Lets have matplotlib \"inline\"\n",
    "%matplotlib inline\n",
    "\n",
    "import os\n",
    "import sys\n",
    "\n",
    "#Import packages we need\n",
    "import numpy as np\n",
    "import datetime\n",
    "from IPython.display import display\n",
    "import copy\n",
    "\n",
    "#For plotting\n",
    "import matplotlib\n",
    "from matplotlib import pyplot as plt\n",
    "from mpl_toolkits.axes_grid1 import make_axes_locatable\n",
    "\n",
    "plt.rcParams[\"lines.color\"] = \"w\"\n",
    "plt.rcParams[\"text.color\"] = \"w\"\n",
    "plt.rcParams[\"axes.labelcolor\"] = \"w\"\n",
    "plt.rcParams[\"xtick.color\"] = \"w\"\n",
    "plt.rcParams[\"ytick.color\"] = \"w\""
   ]
  },
  {
   "cell_type": "markdown",
   "metadata": {},
   "source": [
    "GPU Ocean-modules:"
   ]
  },
  {
   "cell_type": "code",
   "execution_count": null,
   "metadata": {},
   "outputs": [],
   "source": [
    "from gpuocean.ensembles import MultiResOceanStateEnsemble\n",
    "from gpuocean.utils import IPythonMagic, NetCDFInitialization"
   ]
  },
  {
   "cell_type": "code",
   "execution_count": null,
   "metadata": {},
   "outputs": [],
   "source": [
    "%cuda_context_handler gpu_ctx"
   ]
  },
  {
   "cell_type": "code",
   "execution_count": null,
   "metadata": {},
   "outputs": [],
   "source": [
    "%cuda_context_handler gpu_ctx_refined"
   ]
  },
  {
   "cell_type": "markdown",
   "metadata": {},
   "source": [
    "## Selecting loc"
   ]
  },
  {
   "cell_type": "markdown",
   "metadata": {},
   "source": [
    "As initial and boundary conditions to the simulation, we use data from the Norkyst800 s-level files:"
   ]
  },
  {
   "cell_type": "code",
   "execution_count": null,
   "metadata": {},
   "outputs": [],
   "source": [
    "nk800_url  = [\"../../../havvarsel-data/ocean_his.an.20190716.nc\"]\n",
    "\n",
    "data_args = NetCDFInitialization.removeMetadata(NetCDFInitialization.getInitialConditionsNorKystCases(nk800_url, \"lofoten\", download_data=False, norkyst_data=False))\n",
    "data_args.keys()"
   ]
  },
  {
   "cell_type": "code",
   "execution_count": null,
   "metadata": {},
   "outputs": [],
   "source": [
    "sim_args = {\n",
    "    \"dt\": 0.0,\n",
    "    \"write_netcdf\":False,\n",
    "    \"model_time_step\": 60\n",
    "     }"
   ]
  },
  {
   "cell_type": "markdown",
   "metadata": {},
   "source": [
    "## Simulation"
   ]
  },
  {
   "cell_type": "code",
   "execution_count": null,
   "metadata": {},
   "outputs": [],
   "source": [
    "from gpuocean.SWEsimulators import CDKLM16\n",
    "\n",
    "sim = CDKLM16.CDKLM16(gpu_ctx, **sim_args, **data_args)"
   ]
  },
  {
   "cell_type": "markdown",
   "metadata": {},
   "source": [
    "### Refined Simulation"
   ]
  },
  {
   "cell_type": "markdown",
   "metadata": {},
   "source": [
    "Defining local area"
   ]
  },
  {
   "cell_type": "code",
   "execution_count": null,
   "metadata": {},
   "outputs": [],
   "source": [
    "# [[y0,x0],[y1,x1]]\n",
    "loc = [[100, 100], [200,300]]"
   ]
  },
  {
   "cell_type": "code",
   "execution_count": null,
   "metadata": {},
   "outputs": [],
   "source": [
    "eta, hu, hv = sim.download()\n",
    "\n",
    "fig, ax = plt.subplots(1,1, figsize=(12,6))\n",
    "ax.imshow(eta, origin=\"lower\", vmin=-1, vmax=1, cmap=\"coolwarm\")\n",
    "\n",
    "import matplotlib.patches as patches\n",
    "area = patches.Rectangle((loc[0][0], loc[0][1]), loc[1][1]-loc[0][1], loc[1][0]-loc[0][0], edgecolor='black', facecolor='none', lw=3)\n",
    "ax.add_patch(area)"
   ]
  },
  {
   "cell_type": "markdown",
   "metadata": {},
   "source": [
    "Extract local IC"
   ]
  },
  {
   "cell_type": "code",
   "execution_count": null,
   "metadata": {},
   "outputs": [],
   "source": [
    "sim.give_birth(gpu_ctx_refined, loc, 1.2)"
   ]
  },
  {
   "cell_type": "code",
   "execution_count": null,
   "metadata": {},
   "outputs": [],
   "source": [
    "eta, hu, hv = sim.child.download()\n",
    "\n",
    "fig, ax = plt.subplots(1,1, figsize=(12,6))\n",
    "ax.imshow(eta, origin=\"lower\", vmin=-1, vmax=1, cmap=\"coolwarm\")"
   ]
  },
  {
   "cell_type": "code",
   "execution_count": null,
   "metadata": {},
   "outputs": [],
   "source": [
    "sim.child.step(60)"
   ]
  },
  {
   "cell_type": "markdown",
   "metadata": {},
   "source": [
    "### Time-Stepping\n",
    "\n",
    "First model time step"
   ]
  },
  {
   "cell_type": "code",
   "execution_count": null,
   "metadata": {},
   "outputs": [],
   "source": [
    "eta, hu, hv = sim.download()\n",
    "t0 = sim.t\n",
    "bc_data_north_t0 = [x[loc[1][0]+1, loc[0][1]:loc[1][1]] for x in [eta, hu, hv]]\n",
    "bc_data_south_t0 = [x[loc[0][0]-1, loc[0][1]:loc[1][1]] for x in [eta, hu, hv]]\n",
    "bc_data_west_t0 = [x[loc[0][0]:loc[1][0], loc[0][1]-1] for x in [eta, hu, hv]]\n",
    "bc_data_east_t0 = [x[loc[0][0]:loc[1][0], loc[1][1]+1] for x in [eta, hu, hv]]"
   ]
  },
  {
   "cell_type": "code",
   "execution_count": null,
   "metadata": {},
   "outputs": [],
   "source": [
    "sim.step(sim.model_time_step)"
   ]
  },
  {
   "cell_type": "code",
   "execution_count": null,
   "metadata": {},
   "outputs": [],
   "source": [
    "eta, hu, hv = sim.download()\n",
    "t1 = sim.t\n",
    "bc_data_north_t1 = [x[loc[1][0]+1, loc[0][1]:loc[1][1]] for x in [eta, hu, hv]]\n",
    "bc_data_south_t1 = [x[loc[0][0]-1, loc[0][1]:loc[1][1]] for x in [eta, hu, hv]]\n",
    "bc_data_west_t1 = [x[loc[0][0]:loc[1][0], loc[0][1]-1] for x in [eta, hu, hv]]\n",
    "bc_data_east_t1 = [x[loc[0][0]:loc[1][0], loc[1][1]+1] for x in [eta, hu, hv]]"
   ]
  },
  {
   "cell_type": "code",
   "execution_count": null,
   "metadata": {},
   "outputs": [],
   "source": [
    "from gpuocean.utils import Common\n",
    "t = [t0, t1]\n",
    "for cardinal in [\"north\", \"south\", \"east\", \"west\"]:\n",
    "    exec(\"{0} = Common.SingleBoundaryConditionData(h = [bc_data_{0}_t0[0], bc_data_{0}_t1[0]],\\\n",
    "                                            hu = [bc_data_{0}_t0[1], bc_data_{0}_t1[1]],\\\n",
    "                                            hv = [bc_data_{0}_t0[2], bc_data_{0}_t1[2]])\".format(cardinal))\n",
    "bc_data = Common.BoundaryConditionsData(t=t, north=north, south=south, east=east, west=west)"
   ]
  },
  {
   "cell_type": "code",
   "execution_count": null,
   "metadata": {},
   "outputs": [],
   "source": [
    "sim.child.bc_kernel = Common.BoundaryConditionsArakawaA(gpu_ctx_refined, sim.child.nx, sim.child.ny, 2, 2, \\\n",
    "                                                           sim.child.boundary_conditions, bc_data)\n"
   ]
  },
  {
   "cell_type": "code",
   "execution_count": null,
   "metadata": {},
   "outputs": [],
   "source": [
    "sim.child.step(sim.model_time_step)"
   ]
  },
  {
   "cell_type": "markdown",
   "metadata": {},
   "source": [
    "Repeated model time steps"
   ]
  },
  {
   "cell_type": "code",
   "execution_count": null,
   "metadata": {},
   "outputs": [],
   "source": [
    "while sim.t < 3600:\n",
    "    eta, hu, hv = sim.download()\n",
    "    t0 = sim.t\n",
    "    bc_data_north_t0 = [x[loc[1][0]+1, loc[0][1]:loc[1][1]] for x in [eta, hu, hv]]\n",
    "    bc_data_south_t0 = [x[loc[0][0]-1, loc[0][1]:loc[1][1]] for x in [eta, hu, hv]]\n",
    "    bc_data_west_t0 = [x[loc[0][0]:loc[1][0], loc[0][1]-1] for x in [eta, hu, hv]]\n",
    "    bc_data_east_t0 = [x[loc[0][0]:loc[1][0], loc[1][1]+1] for x in [eta, hu, hv]]\n",
    "\n",
    "    sim.step(sim.model_time_step)\n",
    "\n",
    "    eta, hu, hv = sim.download()\n",
    "    t1 = sim.t\n",
    "    bc_data_north_t1 = [x[loc[1][0]+1, loc[0][1]:loc[1][1]] for x in [eta, hu, hv]]\n",
    "    bc_data_south_t1 = [x[loc[0][0]-1, loc[0][1]:loc[1][1]] for x in [eta, hu, hv]]\n",
    "    bc_data_west_t1 = [x[loc[0][0]:loc[1][0], loc[0][1]-1] for x in [eta, hu, hv]]\n",
    "    bc_data_east_t1 = [x[loc[0][0]:loc[1][0], loc[1][1]+1] for x in [eta, hu, hv]]\n",
    "\n",
    "    t = [t0, t1]\n",
    "    for cardinal in [\"north\", \"south\", \"east\", \"west\"]:\n",
    "        exec(\"{0} = Common.SingleBoundaryConditionData(h = [bc_data_{0}_t0[0], bc_data_{0}_t1[0]],\\\n",
    "                                                hu = [bc_data_{0}_t0[1], bc_data_{0}_t1[1]],\\\n",
    "                                                hv = [bc_data_{0}_t0[2], bc_data_{0}_t1[2]])\".format(cardinal))\n",
    "    bc_data = Common.BoundaryConditionsData(t=t, north=north, south=south, east=east, west=west)\n",
    "\n",
    "    sim.child.bc_kernel = Common.BoundaryConditionsArakawaA(gpu_ctx_refined, sim.child.nx, sim.child.ny, 2, 2, \\\n",
    "                                                           sim.child.boundary_conditions, bc_data)\n",
    "\n",
    "    sim.child.step(sim.model_time_step)"
   ]
  },
  {
   "cell_type": "code",
   "execution_count": null,
   "metadata": {},
   "outputs": [],
   "source": [
    "eta, hu, hv = sim.download()\n",
    "eta_refined, hu_refined, hv_refined = sim.child.download()"
   ]
  },
  {
   "cell_type": "code",
   "execution_count": null,
   "metadata": {},
   "outputs": [],
   "source": [
    "fig, axs = plt.subplots(2,3,figsize=(12,6))\n",
    "\n",
    "axs[0,0].imshow(eta[loc[0][0]:loc[1][0],loc[0][1]:loc[1][1]], origin=\"lower\", vmin=-1, vmax=1, cmap=\"coolwarm\")\n",
    "axs[0,0].set_title(\"eta (coarse)\")\n",
    "axs[0,1].imshow(hu[loc[0][0]:loc[1][0],loc[0][1]:loc[1][1]], origin=\"lower\", vmin=-100, vmax=100, cmap=\"coolwarm\")\n",
    "axs[0,1].set_title(\"hu (coarse)\")\n",
    "axs[0,2].imshow(hv[loc[0][0]:loc[1][0],loc[0][1]:loc[1][1]], origin=\"lower\", vmin=-100, vmax=100, cmap=\"coolwarm\")\n",
    "axs[0,2].set_title(\"hv (coarse)\")\n",
    "\n",
    "axs[1,0].imshow(eta_refined, origin=\"lower\", vmin=-1, vmax=1, cmap=\"coolwarm\")\n",
    "axs[1,0].set_title(\"eta (refined)\")\n",
    "axs[1,1].imshow(hu_refined, origin=\"lower\", vmin=-100, vmax=100, cmap=\"coolwarm\")\n",
    "axs[1,1].set_title(\"hu (refined)\")\n",
    "axs[1,2].imshow(hv_refined, origin=\"lower\", vmin=-100, vmax=100, cmap=\"coolwarm\")\n",
    "axs[1,2].set_title(\"hv (refined)\")\n",
    "\n",
    "for ax_s in axs:\n",
    "    for ax in ax_s:\n",
    "        ax.get_xaxis().set_ticks([])\n",
    "        ax.get_yaxis().set_ticks([])"
   ]
  },
  {
   "cell_type": "code",
   "execution_count": null,
   "metadata": {},
   "outputs": [],
   "source": [
    "eta, hu, hv = sim_refined.download()\n",
    "\n",
    "fig, ax = plt.subplots(1,1, figsize=(12,6))\n",
    "ax.imshow(eta, origin=\"lower\", vmin=-1, vmax=1, cmap=\"coolwarm\")"
   ]
  },
  {
   "cell_type": "code",
   "execution_count": null,
   "metadata": {},
   "outputs": [],
   "source": []
  }
 ],
 "metadata": {
  "kernelspec": {
   "display_name": "Python 3.7.12 ('gpuocean_opendrift')",
   "language": "python",
   "name": "python3"
  },
  "language_info": {
   "codemirror_mode": {
    "name": "ipython",
    "version": 3
   },
   "file_extension": ".py",
   "mimetype": "text/x-python",
   "name": "python",
   "nbconvert_exporter": "python",
   "pygments_lexer": "ipython3",
   "version": "3.7.12"
  },
  "vscode": {
   "interpreter": {
    "hash": "136d62b6baec2e13b94e215094799f4deb1cc3eb095791a22508b56a9ed7e027"
   }
  }
 },
 "nbformat": 4,
 "nbformat_minor": 4
}
