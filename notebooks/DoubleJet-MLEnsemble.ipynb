{
 "cells": [
  {
   "attachments": {},
   "cell_type": "markdown",
   "metadata": {},
   "source": [
    "# Double Jet\n",
    "\n",
    "With various grid sizes"
   ]
  },
  {
   "cell_type": "code",
   "execution_count": 1,
   "metadata": {},
   "outputs": [],
   "source": [
    "from gpuocean.SWEsimulators import ModelErrorKL, CDKLM16\n",
    "from gpuocean.utils import Common, IPythonMagic\n",
    "\n",
    "from importlib import reload\n",
    "\n",
    "import numpy as np\n",
    "import pycuda.driver as cuda\n",
    "from matplotlib import pyplot as plt\n",
    "\n",
    "plt.rcParams[\"lines.color\"] = \"w\"\n",
    "plt.rcParams[\"text.color\"] = \"w\"\n",
    "plt.rcParams[\"axes.labelcolor\"] = \"w\"\n",
    "plt.rcParams[\"xtick.color\"] = \"w\"\n",
    "plt.rcParams[\"ytick.color\"] = \"w\"\n",
    "\n",
    "plt.rcParams[\"image.origin\"] = \"lower\"\n"
   ]
  },
  {
   "cell_type": "code",
   "execution_count": 2,
   "metadata": {},
   "outputs": [],
   "source": [
    "%cuda_context_handler gpu_ctx"
   ]
  },
  {
   "cell_type": "code",
   "execution_count": 3,
   "metadata": {},
   "outputs": [],
   "source": [
    "gpu_stream = cuda.Stream()"
   ]
  },
  {
   "cell_type": "code",
   "execution_count": 4,
   "metadata": {},
   "outputs": [],
   "source": [
    "import sys, os\n",
    "sys.path.insert(0, os.path.abspath(os.path.join(os.getcwd(), '../')))"
   ]
  },
  {
   "attachments": {},
   "cell_type": "markdown",
   "metadata": {},
   "source": [
    "Get initial arguments from class"
   ]
  },
  {
   "cell_type": "code",
   "execution_count": 5,
   "metadata": {},
   "outputs": [],
   "source": [
    "from gpuocean.utils import DoubleJetCase"
   ]
  },
  {
   "cell_type": "code",
   "execution_count": 6,
   "metadata": {},
   "outputs": [],
   "source": [
    "doubleJetCase = DoubleJetCase.DoubleJetCase(gpu_ctx, DoubleJetCase.DoubleJetPerturbationType.SteadyState, ny=512, nx=1024)\n",
    "doubleJetCase_args, doubleJetCase_init, doubleJetCase_meargs = doubleJetCase.getInitConditions()"
   ]
  },
  {
   "cell_type": "code",
   "execution_count": 7,
   "metadata": {},
   "outputs": [],
   "source": [
    "coarse_doubleJetCase = DoubleJetCase.DoubleJetCase(gpu_ctx, DoubleJetCase.DoubleJetPerturbationType.SteadyState, ny=256, nx=512)\n",
    "coarse_doubleJetCase_args, coarse_doubleJetCase_init, _ = coarse_doubleJetCase.getInitConditions()"
   ]
  },
  {
   "cell_type": "code",
   "execution_count": 8,
   "metadata": {},
   "outputs": [],
   "source": [
    "doubleJetCase_meargs = {\n",
    "                            \"basis_x_start\": 2, \n",
    "                            \"basis_x_end\": 8,\n",
    "                            \"basis_y_start\": 1,\n",
    "                            \"basis_y_end\": 7,\n",
    "\n",
    "                            \"kl_decay\": 1.25,\n",
    "                            \"kl_scaling\": 0.025,\n",
    "                            }\n",
    "\n",
    "sim_model_error_time_step = 60.0                       "
   ]
  },
  {
   "cell_type": "code",
   "execution_count": 18,
   "metadata": {},
   "outputs": [],
   "source": [
    "ML_Nes = [100, 50]\n",
    "doubleJetCase_args_list = [coarse_doubleJetCase_args, doubleJetCase_args]\n",
    "doubleJetCase_init_list = [coarse_doubleJetCase_init, doubleJetCase_init]"
   ]
  },
  {
   "cell_type": "code",
   "execution_count": 19,
   "metadata": {},
   "outputs": [],
   "source": [
    "mekls = []\n",
    "for l_idx in range(len(doubleJetCase_args_list)): \n",
    "    grid_args = {key: doubleJetCase_args_list[l_idx][key] for key in ('nx', 'ny', 'dx', 'dy', 'gpu_ctx', 'boundary_conditions')}\n",
    "    mekls.append( ModelErrorKL.ModelErrorKL(gpu_stream=gpu_stream, **grid_args, **doubleJetCase_meargs) )"
   ]
  },
  {
   "cell_type": "code",
   "execution_count": 20,
   "metadata": {},
   "outputs": [
    {
     "name": "stdout",
     "output_type": "stream",
     "text": [
      "0\n",
      "1\n"
     ]
    }
   ],
   "source": [
    "## MultiLevel ensemble\n",
    "ML_ensemble = []\n",
    "\n",
    "# 0-level\n",
    "lvl_ensemble = []\n",
    "for i in range(ML_Nes[0]):\n",
    "    if i % 100 == 0: print(i)\n",
    "    sim = CDKLM16.CDKLM16(**doubleJetCase_args_list[0], **doubleJetCase_init_list[0]) \n",
    "\n",
    "    sim.model_error = mekls[0]\n",
    "    sim.model_time_step = sim_model_error_time_step\n",
    "    lvl_ensemble.append( sim )\n",
    "\n",
    "ML_ensemble.append(lvl_ensemble)\n",
    "\n",
    "# diff-levels\n",
    "for l_idx in range(1,len(ML_Nes)):\n",
    "    print(l_idx)\n",
    "    lvl_ensemble0 = []\n",
    "    lvl_ensemble1 = []\n",
    "    \n",
    "    for e in range(ML_Nes[l_idx]):\n",
    "        sim0 = CDKLM16.CDKLM16(**doubleJetCase_args_list[l_idx], **doubleJetCase_init_list[l_idx]) \n",
    "        sim1 = CDKLM16.CDKLM16(**doubleJetCase_args_list[l_idx-1], **doubleJetCase_init_list[l_idx-1])\n",
    "\n",
    "        sim0.model_error = mekls[l_idx]\n",
    "        sim1.model_error = mekls[l_idx-1]\n",
    "\n",
    "        sim0.model_time_step = sim_model_error_time_step\n",
    "        sim1.model_time_step = sim_model_error_time_step\n",
    "\n",
    "        lvl_ensemble0.append(sim0)\n",
    "        lvl_ensemble1.append(sim1)\n",
    "    \n",
    "    ML_ensemble.append([lvl_ensemble0,lvl_ensemble1])"
   ]
  },
  {
   "cell_type": "code",
   "execution_count": 21,
   "metadata": {},
   "outputs": [],
   "source": [
    "from gpuocean.ensembles import MultiLevelOceanEnsemble\n",
    "MLOceanEnsemble = MultiLevelOceanEnsemble.MultiLevelOceanEnsemble(ML_ensemble)"
   ]
  },
  {
   "cell_type": "code",
   "execution_count": 29,
   "metadata": {},
   "outputs": [],
   "source": [
    "MLOceanEnsemble.stepToObservation(300)"
   ]
  },
  {
   "cell_type": "code",
   "execution_count": 22,
   "metadata": {},
   "outputs": [],
   "source": [
    "from utils.DoubleJetPlot import *"
   ]
  },
  {
   "cell_type": "code",
   "execution_count": 25,
   "metadata": {},
   "outputs": [
    {
     "data": {
      "text/plain": [
       "(<Figure size 1080x720 with 6 Axes>,\n",
       " array([<AxesSubplot:title={'center':'$\\\\eta$'}>,\n",
       "        <AxesSubplot:title={'center':'$hu$'}>,\n",
       "        <AxesSubplot:title={'center':'$hv$'}>], dtype=object))"
      ]
     },
     "execution_count": 25,
     "metadata": {},
     "output_type": "execute_result"
    },
    {
     "data": {
      "image/png": "[encoded data removed]",
      "text/plain": [
       "<Figure size 1080x720 with 6 Axes>"
      ]
     },
     "metadata": {
      "needs_background": "dark"
     },
     "output_type": "display_data"
    }
   ],
   "source": [
    "imshow3(MLOceanEnsemble.estimate(np.mean))"
   ]
  },
  {
   "cell_type": "code",
   "execution_count": 26,
   "metadata": {},
   "outputs": [
    {
     "data": {
      "text/plain": [
       "(<Figure size 1080x720 with 6 Axes>,\n",
       " array([<AxesSubplot:title={'center':'$\\\\eta$'}>,\n",
       "        <AxesSubplot:title={'center':'$hu$'}>,\n",
       "        <AxesSubplot:title={'center':'$hv$'}>], dtype=object))"
      ]
     },
     "execution_count": 26,
     "metadata": {},
     "output_type": "execute_result"
    },
    {
     "data": {
      "image/png": "[encoded data removed]",
      "text/plain": [
       "<Figure size 1080x720 with 6 Axes>"
      ]
     },
     "metadata": {
      "needs_background": "dark"
     },
     "output_type": "display_data"
    }
   ],
   "source": [
    "imshow3var(MLOceanEnsemble.estimate(np.std), eta_vlim=0.5, huv_vlim=100)"
   ]
  },
  {
   "cell_type": "code",
   "execution_count": 27,
   "metadata": {},
   "outputs": [
    {
     "data": {
      "text/plain": [
       "(<Figure size 1080x720 with 6 Axes>,\n",
       " array([<AxesSubplot:title={'center':'$\\\\eta$'}>,\n",
       "        <AxesSubplot:title={'center':'$hu$'}>,\n",
       "        <AxesSubplot:title={'center':'$hv$'}>], dtype=object))"
      ]
     },
     "execution_count": 27,
     "metadata": {},
     "output_type": "execute_result"
    },
    {
     "data": {
      "image/png": "[encoded data removed]",
      "text/plain": [
       "<Figure size 1080x720 with 6 Axes>"
      ]
     },
     "metadata": {
      "needs_background": "dark"
     },
     "output_type": "display_data"
    }
   ],
   "source": [
    "imshowSim(MLOceanEnsemble.ML_ensemble[1][0][1], eta_vlim=3.5, huv_vlim=750)"
   ]
  },
  {
   "cell_type": "code",
   "execution_count": 28,
   "metadata": {},
   "outputs": [
    {
     "data": {
      "text/plain": [
       "(<Figure size 1080x720 with 6 Axes>,\n",
       " array([<AxesSubplot:title={'center':'$\\\\eta$'}>,\n",
       "        <AxesSubplot:title={'center':'$hu$'}>,\n",
       "        <AxesSubplot:title={'center':'$hv$'}>], dtype=object))"
      ]
     },
     "execution_count": 28,
     "metadata": {},
     "output_type": "execute_result"
    },
    {
     "data": {
      "image/png": "[encoded data removed]",
      "text/plain": [
       "<Figure size 1080x720 with 6 Axes>"
      ]
     },
     "metadata": {
      "needs_background": "dark"
     },
     "output_type": "display_data"
    }
   ],
   "source": [
    "imshowSim(MLOceanEnsemble.ML_ensemble[1][1][1], eta_vlim=3.5, huv_vlim=750)"
   ]
  }
 ],
 "metadata": {
  "kernelspec": {
   "display_name": "gpuocean",
   "language": "python",
   "name": "python3"
  },
  "language_info": {
   "codemirror_mode": {
    "name": "ipython",
    "version": 3
   },
   "file_extension": ".py",
   "mimetype": "text/x-python",
   "name": "python",
   "nbconvert_exporter": "python",
   "pygments_lexer": "ipython3",
   "version": "3.7.12"
  },
  "orig_nbformat": 4
 },
 "nbformat": 4,
 "nbformat_minor": 2
}
