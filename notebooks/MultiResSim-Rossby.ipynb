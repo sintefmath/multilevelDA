{
 "cells": [
  {
   "cell_type": "markdown",
   "metadata": {},
   "source": [
    "# Multi Resolution Simulation"
   ]
  },
  {
   "cell_type": "markdown",
   "metadata": {},
   "source": [
    "### Classes and modules"
   ]
  },
  {
   "cell_type": "code",
   "execution_count": 1,
   "metadata": {},
   "outputs": [],
   "source": [
    "#Lets have matplotlib \"inline\"\n",
    "%matplotlib inline\n",
    "\n",
    "import os\n",
    "import sys\n",
    "\n",
    "#Import packages we need\n",
    "import numpy as np\n",
    "import datetime\n",
    "from IPython.display import display\n",
    "import copy\n",
    "\n",
    "#For plotting\n",
    "import matplotlib\n",
    "from matplotlib import pyplot as plt\n",
    "from mpl_toolkits.axes_grid1 import make_axes_locatable\n",
    "\n",
    "plt.rcParams[\"lines.color\"] = \"w\"\n",
    "plt.rcParams[\"text.color\"] = \"w\"\n",
    "plt.rcParams[\"axes.labelcolor\"] = \"w\"\n",
    "plt.rcParams[\"xtick.color\"] = \"w\"\n",
    "plt.rcParams[\"ytick.color\"] = \"w\"\n",
    "\n",
    "plt.rcParams[\"image.origin\"] = \"lower\""
   ]
  },
  {
   "cell_type": "markdown",
   "metadata": {},
   "source": [
    "GPU Ocean-modules:"
   ]
  },
  {
   "cell_type": "code",
   "execution_count": 2,
   "metadata": {},
   "outputs": [],
   "source": [
    "from gpuocean.utils import IPythonMagic, Common"
   ]
  },
  {
   "cell_type": "code",
   "execution_count": 3,
   "metadata": {},
   "outputs": [],
   "source": [
    "%cuda_context_handler gpu_ctx"
   ]
  },
  {
   "cell_type": "code",
   "execution_count": 4,
   "metadata": {},
   "outputs": [],
   "source": [
    "%cuda_context_handler gpu_ctx_refined"
   ]
  },
  {
   "cell_type": "code",
   "execution_count": 5,
   "metadata": {},
   "outputs": [],
   "source": [
    "%cuda_context_handler gpu_ctx_refined2"
   ]
  },
  {
   "cell_type": "markdown",
   "metadata": {},
   "source": [
    "## Setting-up case "
   ]
  },
  {
   "cell_type": "code",
   "execution_count": 6,
   "metadata": {},
   "outputs": [],
   "source": [
    "nx = 1000\n",
    "ny = 1000\n",
    "\n",
    "dx = 1000\n",
    "dy = 1000\n",
    "\n",
    "dt = 0.0\n",
    "g = 9.81\n",
    "f = 1.2e-4\n",
    "r = 0.0\n",
    "H0 = 1000.0\n",
    "\n",
    "bc = Common.BoundaryConditions(3,3,3,3, spongeCells={\"north\":10, \"south\":10, \"east\":10, \"west\":10})\n"
   ]
  },
  {
   "cell_type": "code",
   "execution_count": 7,
   "metadata": {},
   "outputs": [],
   "source": [
    "dataShape = (ny + 4, nx + 4)"
   ]
  },
  {
   "cell_type": "code",
   "execution_count": 8,
   "metadata": {},
   "outputs": [],
   "source": [
    "eta0  = np.zeros(dataShape, dtype=np.float32, order='C')\n",
    "hu0   = np.zeros(dataShape, dtype=np.float32, order='C');\n",
    "hv0   = np.zeros(dataShape, dtype=np.float32, order='C');\n",
    "\n",
    "Hi = np.ma.array(np.ones((dataShape[0]+1, dataShape[1]+1), dtype=np.float32, order='C')*H0, mask=False)\n"
   ]
  },
  {
   "cell_type": "code",
   "execution_count": 9,
   "metadata": {},
   "outputs": [],
   "source": [
    "x_center = dx*nx*0.5\n",
    "y_center = dy*ny*0.5\n",
    "\n",
    "size = 1e9\n",
    "for j in range(-2, ny + 2):\n",
    "    for i in range(-2, nx + 2):\n",
    "        x = dx*i - x_center\n",
    "        y = dy*j - y_center\n",
    "        \n",
    "        if (np.sqrt(x**2 + y**2) < size):\n",
    "            eta0[j+2, i+2] += 1.0*np.exp(-(x**2+y**2)/size)"
   ]
  },
  {
   "cell_type": "code",
   "execution_count": 10,
   "metadata": {},
   "outputs": [
    {
     "data": {
      "text/plain": [
       "1000000.0"
      ]
     },
     "execution_count": 10,
     "metadata": {},
     "output_type": "execute_result"
    }
   ],
   "source": [
    "size/dx"
   ]
  },
  {
   "cell_type": "code",
   "execution_count": 11,
   "metadata": {},
   "outputs": [
    {
     "data": {
      "text/plain": [
       "Text(0.5, 1.0, 'Init eta')"
      ]
     },
     "execution_count": 11,
     "metadata": {},
     "output_type": "execute_result"
    },
    {
     "data": {
      "image/png": "[encoded data removed]",
      "text/plain": [
       "<Figure size 432x288 with 2 Axes>"
      ]
     },
     "metadata": {
      "needs_background": "dark"
     },
     "output_type": "display_data"
    }
   ],
   "source": [
    "plt.imshow(eta0[400:600,400:600], vmin=0.0)\n",
    "plt.colorbar()\n",
    "plt.title(\"Init eta\")"
   ]
  },
  {
   "cell_type": "markdown",
   "metadata": {},
   "source": [
    "Mass Check"
   ]
  },
  {
   "cell_type": "code",
   "execution_count": 12,
   "metadata": {},
   "outputs": [],
   "source": [
    "N = 100\n",
    "sub_t = 25"
   ]
  },
  {
   "cell_type": "markdown",
   "metadata": {},
   "source": [
    "## One-Res Simulation"
   ]
  },
  {
   "cell_type": "code",
   "execution_count": 13,
   "metadata": {},
   "outputs": [],
   "source": [
    "from gpuocean.SWEsimulators import CDKLM16\n",
    "\n",
    "sim1 = CDKLM16.CDKLM16(gpu_ctx,\n",
    "                            eta0, hu0, hv0, \\\n",
    "                            Hi, \\\n",
    "                            nx, ny, \\\n",
    "                            dx, dy, dt, \\\n",
    "                            g, f, r, \\\n",
    "                            boundary_conditions=bc, \\\n",
    "                            write_netcdf=False)"
   ]
  },
  {
   "cell_type": "code",
   "execution_count": 14,
   "metadata": {},
   "outputs": [],
   "source": [
    "mass1 = np.zeros(N)\n",
    "\n",
    "for n in range(N):\n",
    "    mass1[n] = np.sum(sim1.download(interior_domain_only=True)[0])\n",
    "    sim1.step(sub_t)"
   ]
  },
  {
   "cell_type": "markdown",
   "metadata": {},
   "source": [
    "## Multi-Res Simulation"
   ]
  },
  {
   "cell_type": "markdown",
   "metadata": {},
   "source": [
    "Defining local area"
   ]
  },
  {
   "cell_type": "code",
   "execution_count": 26,
   "metadata": {},
   "outputs": [],
   "source": [
    "# [[y0,x0],[y1,x1]]\n",
    "loc = [[250, 250], [750,750]]\n",
    "\n",
    "scale = 2.0"
   ]
  },
  {
   "cell_type": "code",
   "execution_count": 27,
   "metadata": {},
   "outputs": [
    {
     "name": "stdout",
     "output_type": "stream",
     "text": [
      "The bathymetry is only intersection-rescaled and padded in the ghost cells: \n",
      "                Please implement a better informed bathymetry refinement! \n",
      "                and search for \"TODO: If bathymetry changes, this has to be adapted here!\" in the source code.\n"
     ]
    },
    {
     "name": "stderr",
     "output_type": "stream",
     "text": [
      "This will give inaccurate angle along the border!\n",
      "This will give inaccurate coriolis along the border!\n"
     ]
    }
   ],
   "source": [
    "sim2 = CDKLM16.CDKLM16(gpu_ctx,\n",
    "                            eta0, hu0, hv0, \\\n",
    "                            Hi, \\\n",
    "                            nx, ny, \\\n",
    "                            dx, dy, dt, \\\n",
    "                            g, f, r, \\\n",
    "                            boundary_conditions=bc, \\\n",
    "                            write_netcdf=False)\n",
    "sim2.give_birth(gpu_ctx_refined, loc, scale)"
   ]
  },
  {
   "cell_type": "code",
   "execution_count": 28,
   "metadata": {},
   "outputs": [],
   "source": [
    "mass2 = np.zeros(N)\n",
    "\n",
    "for n in range(N):\n",
    "    mass2[n] = np.sum(sim2.download(interior_domain_only=True)[0])\n",
    "    sim2.step(sub_t)"
   ]
  },
  {
   "cell_type": "markdown",
   "metadata": {},
   "source": [
    "### Three-Res Sim"
   ]
  },
  {
   "cell_type": "code",
   "execution_count": 29,
   "metadata": {},
   "outputs": [
    {
     "name": "stderr",
     "output_type": "stream",
     "text": [
      "This will give inaccurate angle along the border!\n",
      "This will give inaccurate coriolis along the border!\n"
     ]
    },
    {
     "name": "stdout",
     "output_type": "stream",
     "text": [
      "The bathymetry is only intersection-rescaled and padded in the ghost cells: \n",
      "                Please implement a better informed bathymetry refinement! \n",
      "                and search for \"TODO: If bathymetry changes, this has to be adapted here!\" in the source code.\n",
      "The bathymetry is only intersection-rescaled and padded in the ghost cells: \n",
      "                Please implement a better informed bathymetry refinement! \n",
      "                and search for \"TODO: If bathymetry changes, this has to be adapted here!\" in the source code.\n"
     ]
    },
    {
     "name": "stderr",
     "output_type": "stream",
     "text": [
      "This will give inaccurate angle along the border!\n",
      "This will give inaccurate coriolis along the border!\n"
     ]
    }
   ],
   "source": [
    "sim3 = CDKLM16.CDKLM16(gpu_ctx,\n",
    "                            eta0, hu0, hv0, \\\n",
    "                            Hi, \\\n",
    "                            nx, ny, \\\n",
    "                            dx, dy, dt, \\\n",
    "                            g, f, r, \\\n",
    "                            boundary_conditions=bc, \\\n",
    "                            write_netcdf=False)\n",
    "sim3.give_birth(gpu_ctx_refined, loc, scale)\n",
    "sim3.children[0].give_birth(gpu_ctx_refined2, loc, scale)"
   ]
  },
  {
   "cell_type": "code",
   "execution_count": 30,
   "metadata": {},
   "outputs": [],
   "source": [
    "mass3 = np.zeros(N)\n",
    "\n",
    "for n in range(N):\n",
    "    mass3[n] = np.sum(sim3.download(interior_domain_only=True)[0])\n",
    "    sim3.step(sub_t)"
   ]
  },
  {
   "cell_type": "markdown",
   "metadata": {},
   "source": [
    "Mass"
   ]
  },
  {
   "cell_type": "code",
   "execution_count": 31,
   "metadata": {},
   "outputs": [
    {
     "data": {
      "text/plain": [
       "<matplotlib.legend.Legend at 0x7f16cc2a7ad0>"
      ]
     },
     "execution_count": 31,
     "metadata": {},
     "output_type": "execute_result"
    },
    {
     "data": {
      "image/png": "[encoded data removed]",
      "text/plain": [
       "<Figure size 432x288 with 1 Axes>"
      ]
     },
     "metadata": {
      "needs_background": "dark"
     },
     "output_type": "display_data"
    }
   ],
   "source": [
    "ts = np.arange(N)*sub_t/(12*60)\n",
    "plt.plot(ts, mass1, label=\"1-Res Sim\")\n",
    "plt.plot(ts, mass2, label=\"2-Res Sim\")\n",
    "plt.plot(ts, mass3, label=\"3-Res Sim\")\n",
    "plt.title(\"Mass in system\")\n",
    "plt.xlabel(\"Time [h]\")\n",
    "plt.legend(labelcolor=\"black\")"
   ]
  },
  {
   "cell_type": "code",
   "execution_count": 33,
   "metadata": {},
   "outputs": [
    {
     "name": "stdout",
     "output_type": "stream",
     "text": [
      "Check whether mass loss co-incides with border crossing of the wave!!!\n"
     ]
    }
   ],
   "source": [
    "print(\"The mass deficiency co-incides with border crossing of the wave!!!\")"
   ]
  },
  {
   "cell_type": "code",
   "execution_count": 32,
   "metadata": {},
   "outputs": [
    {
     "data": {
      "text/plain": [
       "<matplotlib.image.AxesImage at 0x7f17f495a750>"
      ]
     },
     "execution_count": 32,
     "metadata": {},
     "output_type": "execute_result"
    },
    {
     "data": {
      "image/png": "[encoded data removed]",
      "text/plain": [
       "<Figure size 432x288 with 3 Axes>"
      ]
     },
     "metadata": {
      "needs_background": "dark"
     },
     "output_type": "display_data"
    }
   ],
   "source": [
    "fig, axs = plt.subplots(1,3)\n",
    "axs[0].imshow(sim3.download()[0])\n",
    "axs[1].imshow(sim3.children[0].download()[0])\n",
    "axs[2].imshow(sim3.children[0].children[0].download()[0])"
   ]
  },
  {
   "cell_type": "code",
   "execution_count": null,
   "metadata": {},
   "outputs": [],
   "source": []
  }
 ],
 "metadata": {
  "kernelspec": {
   "display_name": "Python 3.7.12 ('gpuocean_opendrift')",
   "language": "python",
   "name": "python3"
  },
  "language_info": {
   "codemirror_mode": {
    "name": "ipython",
    "version": 3
   },
   "file_extension": ".py",
   "mimetype": "text/x-python",
   "name": "python",
   "nbconvert_exporter": "python",
   "pygments_lexer": "ipython3",
   "version": "3.7.12"
  },
  "vscode": {
   "interpreter": {
    "hash": "3048633266a8aca5c85f16c1ee57ccad146141feb66febf24dcb8304467d1440"
   }
  }
 },
 "nbformat": 4,
 "nbformat_minor": 4
}
