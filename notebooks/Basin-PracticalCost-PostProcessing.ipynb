{
 "cells": [
  {
   "attachments": {},
   "cell_type": "markdown",
   "metadata": {},
   "source": [
    "# Practical Costs"
   ]
  },
  {
   "attachments": {},
   "cell_type": "markdown",
   "metadata": {},
   "source": [
    "### Classes and modules"
   ]
  },
  {
   "cell_type": "code",
   "execution_count": 1,
   "metadata": {},
   "outputs": [],
   "source": [
    "#Lets have matplotlib \"inline\"\n",
    "%matplotlib inline\n",
    "\n",
    "import os\n",
    "import sys\n",
    "\n",
    "#Import packages we need\n",
    "import numpy as np\n",
    "import datetime\n",
    "from IPython.display import display\n",
    "import copy\n",
    "\n",
    "#For plotting\n",
    "import matplotlib\n",
    "from matplotlib import pyplot as plt\n",
    "from mpl_toolkits.axes_grid1 import make_axes_locatable\n",
    "\n",
    "plt.rcParams[\"lines.color\"] = \"w\"\n",
    "plt.rcParams[\"text.color\"] = \"w\"\n",
    "plt.rcParams[\"axes.labelcolor\"] = \"w\"\n",
    "plt.rcParams[\"xtick.color\"] = \"w\"\n",
    "plt.rcParams[\"ytick.color\"] = \"w\"\n",
    "\n",
    "plt.rcParams[\"image.origin\"] = \"lower\"\n",
    "\n",
    "import pycuda.driver as cuda"
   ]
  },
  {
   "cell_type": "code",
   "execution_count": 2,
   "metadata": {},
   "outputs": [],
   "source": [
    "source_path = \"/home/florianb/havvarsel/multilevelDA/scripts/PracticalCost/Basin/2023-06-29T14_54_02\""
   ]
  },
  {
   "cell_type": "code",
   "execution_count": 3,
   "metadata": {},
   "outputs": [],
   "source": [
    "def raw2costs(filename):\n",
    "    rawCosts = np.load(source_path+\"/\"+filename)\n",
    "    return np.mean(np.sort(rawCosts)[:,2:-2], axis=1)"
   ]
  },
  {
   "cell_type": "code",
   "execution_count": 4,
   "metadata": {},
   "outputs": [],
   "source": [
    "def raw2costsEnsemble(filename):\n",
    "    rawCosts = np.load(source_path+\"/\"+filename)\n",
    "    return np.mean(np.sort(rawCosts), axis=1)"
   ]
  },
  {
   "cell_type": "code",
   "execution_count": 5,
   "metadata": {},
   "outputs": [],
   "source": [
    "costsPure = raw2costs(\"costsPure.npy\")"
   ]
  },
  {
   "cell_type": "code",
   "execution_count": 6,
   "metadata": {},
   "outputs": [],
   "source": [
    "costsPartnered = raw2costs(\"costsPartnered.npy\")"
   ]
  },
  {
   "cell_type": "code",
   "execution_count": 7,
   "metadata": {},
   "outputs": [
    {
     "data": {
      "text/plain": [
       "(array([ 0.25914847,  0.46620128,  0.86418175,  4.19011802, 30.50633669]),\n",
       " array([ 0.50031248,  0.91604156,  1.76888209,  5.16975355, 37.33078431]))"
      ]
     },
     "execution_count": 7,
     "metadata": {},
     "output_type": "execute_result"
    }
   ],
   "source": [
    "costsPure, costsPartnered"
   ]
  },
  {
   "cell_type": "code",
   "execution_count": 8,
   "metadata": {},
   "outputs": [],
   "source": [
    "costsPureEnsemble = raw2costsEnsemble(\"costsPureEnsemble.npy\")"
   ]
  },
  {
   "cell_type": "code",
   "execution_count": 9,
   "metadata": {},
   "outputs": [],
   "source": [
    "costsPartneredEnsemble = raw2costsEnsemble(\"costsPartneredEnsemble.npy\")"
   ]
  },
  {
   "cell_type": "code",
   "execution_count": 10,
   "metadata": {},
   "outputs": [
    {
     "data": {
      "text/plain": [
       "(array([ 0.26830138,  0.47963567,  0.90612308,  4.17513446, 30.45799354]),\n",
       " array([ 0.51794831,  0.96702473,  1.82382179,  5.16325644, 37.44260621]))"
      ]
     },
     "execution_count": 10,
     "metadata": {},
     "output_type": "execute_result"
    }
   ],
   "source": [
    "costsPureEnsemble, costsPartneredEnsemble"
   ]
  },
  {
   "cell_type": "code",
   "execution_count": 11,
   "metadata": {},
   "outputs": [],
   "source": [
    "ls = [6,7,8,9,10]"
   ]
  },
  {
   "cell_type": "code",
   "execution_count": 12,
   "metadata": {},
   "outputs": [
    {
     "data": {
      "text/plain": [
       "([<matplotlib.axis.XTick at 0x7fe191af0dd0>,\n",
       "  <matplotlib.axis.XTick at 0x7fe19843d210>,\n",
       "  <matplotlib.axis.XTick at 0x7fe19886b810>,\n",
       "  <matplotlib.axis.XTick at 0x7fe191a72b90>,\n",
       "  <matplotlib.axis.XTick at 0x7fe189a36090>],\n",
       " [Text(0, 0, ''),\n",
       "  Text(0, 0, ''),\n",
       "  Text(0, 0, ''),\n",
       "  Text(0, 0, ''),\n",
       "  Text(0, 0, '')])"
      ]
     },
     "execution_count": 12,
     "metadata": {},
     "output_type": "execute_result"
    },
    {
     "data": {
      "image/png": "[encoded data removed]",
      "text/plain": [
       "<Figure size 432x288 with 1 Axes>"
      ]
     },
     "metadata": {
      "needs_background": "dark"
     },
     "output_type": "display_data"
    }
   ],
   "source": [
    "plt.loglog(2*2**np.array(ls),costsPureEnsemble, label=\"Plain\", c=\"C0\")\n",
    "plt.loglog(2*2**np.array(ls),costsPure, c=\"C0\", ls=\"--\")\n",
    "plt.loglog(2*2**np.array(ls)[1:],costsPartneredEnsemble[1:], label=\"With partner\", c=\"C1\")\n",
    "plt.loglog(2*2**np.array(ls)[1:],costsPartnered[1:], c=\"C1\", ls=\"--\")\n",
    "plt.loglog(2*2**np.array(ls)[-2:], [8/8,8], c=\"black\")\n",
    "plt.xlabel(\"Grid cells\")\n",
    "plt.ylabel(\"Costs in Practise\")\n",
    "plt.legend(labelcolor=\"black\")\n",
    "plt.xticks(2*2**np.array(ls))"
   ]
  },
  {
   "cell_type": "code",
   "execution_count": 22,
   "metadata": {},
   "outputs": [],
   "source": [
    "np.savetxt(source_path+\"/costsTable.txt\" , np.vstack([2*2**np.array(ls),costsPureEnsemble, costsPartneredEnsemble]).T,\n",
    "            delimiter=\",\", header=\"grid_cells, costs_pure, costs_partnered\",\n",
    "            fmt=\"%10.5f\")"
   ]
  }
 ],
 "metadata": {
  "kernelspec": {
   "display_name": "Python 3",
   "language": "python",
   "name": "python3"
  },
  "language_info": {
   "codemirror_mode": {
    "name": "ipython",
    "version": 3
   },
   "file_extension": ".py",
   "mimetype": "text/x-python",
   "name": "python",
   "nbconvert_exporter": "python",
   "pygments_lexer": "ipython3",
   "version": "3.7.12"
  },
  "vscode": {
   "interpreter": {
    "hash": "3048633266a8aca5c85f16c1ee57ccad146141feb66febf24dcb8304467d1440"
   }
  }
 },
 "nbformat": 4,
 "nbformat_minor": 4
}
