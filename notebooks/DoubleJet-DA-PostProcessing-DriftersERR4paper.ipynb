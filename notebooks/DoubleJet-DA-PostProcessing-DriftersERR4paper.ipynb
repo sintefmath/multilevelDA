{
 "cells": [
  {
   "attachments": {},
   "cell_type": "markdown",
   "metadata": {},
   "source": [
    "# Double Jet\n",
    "\n",
    "With various grid sizes"
   ]
  },
  {
   "cell_type": "code",
   "execution_count": 1,
   "metadata": {},
   "outputs": [],
   "source": [
    "from gpuocean.SWEsimulators import ModelErrorKL, CDKLM16\n",
    "from gpuocean.utils import Common, IPythonMagic\n",
    "\n",
    "from importlib import reload\n",
    "\n",
    "import numpy as np\n",
    "import copy\n",
    "import pycuda.driver as cuda\n",
    "from matplotlib import pyplot as plt\n",
    "import matplotlib.gridspec as gridspec\n",
    "\n",
    "plt.rcParams[\"image.origin\"] = \"lower\"\n"
   ]
  },
  {
   "cell_type": "code",
   "execution_count": 2,
   "metadata": {},
   "outputs": [],
   "source": [
    "%cuda_context_handler gpu_ctx"
   ]
  },
  {
   "cell_type": "code",
   "execution_count": 3,
   "metadata": {},
   "outputs": [],
   "source": [
    "gpu_stream = cuda.Stream()"
   ]
  },
  {
   "cell_type": "code",
   "execution_count": 4,
   "metadata": {},
   "outputs": [],
   "source": [
    "import sys, os\n",
    "sys.path.insert(0, os.path.abspath(os.path.join(os.getcwd(), '../')))"
   ]
  },
  {
   "attachments": {},
   "cell_type": "markdown",
   "metadata": {},
   "source": [
    "Get initial arguments from class"
   ]
  },
  {
   "cell_type": "code",
   "execution_count": 5,
   "metadata": {},
   "outputs": [],
   "source": [
    "from gpuocean.utils import DoubleJetCase"
   ]
  },
  {
   "cell_type": "code",
   "execution_count": 6,
   "metadata": {},
   "outputs": [],
   "source": [
    "doubleJetCase = DoubleJetCase.DoubleJetCase(gpu_ctx, DoubleJetCase.DoubleJetPerturbationType.SteadyState, ny=512, nx=1024)\n",
    "doubleJetCase_args, doubleJetCase_init, _ = doubleJetCase.getInitConditions()"
   ]
  },
  {
   "cell_type": "markdown",
   "metadata": {},
   "source": [
    "## Truth"
   ]
  },
  {
   "cell_type": "code",
   "execution_count": 7,
   "metadata": {},
   "outputs": [],
   "source": [
    "from gpuocean.utils import Observation, DrifterPlotHelper"
   ]
  },
  {
   "cell_type": "code",
   "execution_count": 8,
   "metadata": {},
   "outputs": [],
   "source": [
    "truth_path = \"../scripts/DataAssimilation/DoubleJetTruth/2023-11-02T09_33_29\"\n",
    "\n",
    "true_trajectories = Observation.Observation(domain_size_x=doubleJetCase_args[\"nx\"]*doubleJetCase_args[\"dx\"],\n",
    "                                            domain_size_y=doubleJetCase_args[\"ny\"]*doubleJetCase_args[\"dy\"], \n",
    "                                            nx=doubleJetCase_args[\"nx\"], ny=doubleJetCase_args[\"ny\"])\n",
    "\n",
    "true_trajectories.read_pickle(os.path.join(truth_path, \"truth_trajectories.pickle\"))"
   ]
  },
  {
   "cell_type": "code",
   "execution_count": 9,
   "metadata": {},
   "outputs": [
    {
     "data": {
      "text/plain": [
       "100"
      ]
     },
     "execution_count": 9,
     "metadata": {},
     "output_type": "execute_result"
    }
   ],
   "source": [
    "true_trajectories.get_num_drifters()"
   ]
  },
  {
   "cell_type": "markdown",
   "metadata": {},
   "source": [
    "## Ensemble drifter"
   ]
  },
  {
   "cell_type": "code",
   "execution_count": 10,
   "metadata": {},
   "outputs": [],
   "source": [
    "slda_path = \"../scripts/DataAssimilation/DoubleJetSLDA/2023-11-10T11_44_24\"\n",
    "\n",
    "slda_drifter_path = os.path.join(slda_path, \"sldrifters_60\")\n",
    "\n",
    "slda_trajectories = []\n",
    "for f in os.listdir(slda_drifter_path):\n",
    "    if f.startswith(\"sl\"):\n",
    "        trajectory = Observation.Observation(domain_size_x=doubleJetCase_args[\"nx\"]*doubleJetCase_args[\"dx\"],\n",
    "                                                domain_size_y=doubleJetCase_args[\"ny\"]*doubleJetCase_args[\"dy\"], \n",
    "                                                nx=doubleJetCase_args[\"nx\"], ny=doubleJetCase_args[\"ny\"])\n",
    "\n",
    "        trajectory.read_pickle(os.path.join(slda_drifter_path,f))\n",
    "        \n",
    "        slda_trajectories.append(trajectory)\n",
    "\n",
    "\n",
    "\n",
    "slda_trajectories2 = []\n",
    "for f in os.listdir(slda_drifter_path):\n",
    "    if f.startswith(\"ml\"):\n",
    "        trajectory = Observation.Observation(domain_size_x=doubleJetCase_args[\"nx\"]*doubleJetCase_args[\"dx\"],\n",
    "                                                domain_size_y=doubleJetCase_args[\"ny\"]*doubleJetCase_args[\"dy\"], \n",
    "                                                nx=doubleJetCase_args[\"nx\"], ny=doubleJetCase_args[\"ny\"])\n",
    "\n",
    "        trajectory.read_pickle(os.path.join(slda_drifter_path,f))\n",
    "        \n",
    "        slda_trajectories2.append(trajectory)"
   ]
  },
  {
   "cell_type": "code",
   "execution_count": 12,
   "metadata": {},
   "outputs": [],
   "source": [
    "mlda_path = \"../scripts/DataAssimilation/DoubleJetMLDA/2023-11-09T18_07_14\"\n",
    "mlda_drifter_path = os.path.join(mlda_path, \"mldrifters_60\")\n",
    "\n",
    "# mlda_path = \"/home/florianb/havvarsel/multilevelDA/doublejet/scripts/DataAssimilation/DoubleJetMLDA/2023-11-08T15_45_28\"\n",
    "# mlda_drifter_path = os.path.join(mlda_path, \"mldrifters\")\n",
    "\n",
    "mlda_trajectories = []\n",
    "for f in os.listdir(mlda_drifter_path):\n",
    "    trajectory = Observation.Observation(domain_size_x=doubleJetCase_args[\"nx\"]*doubleJetCase_args[\"dx\"],\n",
    "                                            domain_size_y=doubleJetCase_args[\"ny\"]*doubleJetCase_args[\"dy\"], \n",
    "                                            nx=doubleJetCase_args[\"nx\"], ny=doubleJetCase_args[\"ny\"])\n",
    "\n",
    "    trajectory.read_pickle(os.path.join(mlda_drifter_path,f))\n",
    "    \n",
    "    mlda_trajectories.append(trajectory)"
   ]
  },
  {
   "cell_type": "markdown",
   "metadata": {},
   "source": [
    "## Drifters"
   ]
  },
  {
   "cell_type": "markdown",
   "metadata": {},
   "source": [
    "Drifter Calibration and Spread"
   ]
  },
  {
   "cell_type": "code",
   "execution_count": 13,
   "metadata": {},
   "outputs": [],
   "source": [
    "from scipy.spatial.distance import cdist"
   ]
  },
  {
   "cell_type": "code",
   "execution_count": 14,
   "metadata": {},
   "outputs": [],
   "source": [
    "ensemble_obs = slda_trajectories\n",
    "\n",
    "def drifter_statistics(ensemble_obs, true_trajectories):\n",
    "\n",
    "    width  = ensemble_obs[0].domain_size_x/1000\n",
    "    height = ensemble_obs[0].domain_size_y/1000\n",
    "\n",
    "    def center_around_true_postion(true_position, last_positions, width, height):\n",
    "        centered_positions = last_positions - true_position\n",
    "        centered_positions[:,0][centered_positions[:,0] < -0.5*width ] = centered_positions[:,0][centered_positions[:,0] < -0.5*width ] + width\n",
    "        centered_positions[:,0][centered_positions[:,0] > +0.5*width ] = centered_positions[:,0][centered_positions[:,0] > +0.5*width ] - width\n",
    "        centered_positions[:,1][centered_positions[:,1] < -0.5*height] = centered_positions[:,1][centered_positions[:,1] < -0.5*height] + height\n",
    "        centered_positions[:,1][centered_positions[:,1] > +0.5*height] = centered_positions[:,1][centered_positions[:,1] > +0.5*height] - height\n",
    "\n",
    "        return centered_positions\n",
    "\n",
    "    drifter_rmses = np.zeros(72)\n",
    "    drifter_stds  = np.zeros(72)\n",
    "\n",
    "    for t_idx in range(1,72):\n",
    "        drifter_t = true_trajectories.obs_df[\"time\"].iloc[4*t_idx]\n",
    "\n",
    "        rmse_t = 0.0\n",
    "        std_t  = 0.0\n",
    "\n",
    "        for drifter_id in range(100):\n",
    "            true_position = true_trajectories.get_drifter_path(drifter_id, 0, drifter_t)[-1][-1]\n",
    "\n",
    "            ## Get last postions\n",
    "            numTrajectories = len(ensemble_obs)\n",
    "\n",
    "            last_positions = np.zeros((numTrajectories,2))\n",
    "            for d in range(numTrajectories):\n",
    "                last_positions[d] = ensemble_obs[d].get_drifter_path(drifter_id, 0, drifter_t)[-1][-1]\n",
    "            last_positions = last_positions[~np.isnan(last_positions)].reshape(-1,2)\n",
    "\n",
    "            centered_positions = center_around_true_postion(true_position, last_positions, width, height)\n",
    "\n",
    "            rmse_t += 1/100 * np.sqrt(np.sum(np.mean(centered_positions, axis=0)**2)) # truth is at [0,0] after centering\n",
    "            std_t  += 1/100 * np.sqrt(np.sum(np.std(centered_positions, axis=0, ddof=1)**2))\n",
    "\n",
    "        drifter_rmses[t_idx] = rmse_t\n",
    "        drifter_stds [t_idx] = std_t\n",
    "\n",
    "    return drifter_rmses, drifter_stds"
   ]
  },
  {
   "cell_type": "code",
   "execution_count": 15,
   "metadata": {},
   "outputs": [],
   "source": [
    "slda_drifter_stats = drifter_statistics(slda_trajectories, true_trajectories)\n",
    "slda2_drifter_stats = drifter_statistics(slda_trajectories2[0:50], true_trajectories)\n",
    "mlda_drifter_stats = drifter_statistics(mlda_trajectories[0:50], true_trajectories)"
   ]
  },
  {
   "cell_type": "code",
   "execution_count": 17,
   "metadata": {},
   "outputs": [
    {
     "data": {
      "image/png": "[encoded data removed]",
      "text/plain": [
       "<Figure size 432x216 with 1 Axes>"
      ]
     },
     "metadata": {
      "needs_background": "light"
     },
     "output_type": "display_data"
    }
   ],
   "source": [
    "c0 = (0,0,0)\n",
    "c3 = (0, 68/255, 136/255)\n",
    "c1 = (187/255, 85/255, 102/255)\n",
    "c2= (221/255, 170/255, 51/255)\n",
    "\n",
    "\n",
    "fig, ax = plt.subplots(1,1, figsize=(6, 3))\n",
    "\n",
    "ax.plot(slda_drifter_stats[0], c=c0, label = \"SL (by member)\")\n",
    "ax.plot(slda_drifter_stats[1], c=c0, ls=\"dotted\", label = \"SL (by member)\")\n",
    "\n",
    "ax.plot(slda2_drifter_stats[0], c=c1, label = \"SL (by statistics)\")\n",
    "ax.plot(slda2_drifter_stats[1], c=c1, ls=\"dotted\", label = \"SL (by statistics)\")\n",
    "\n",
    "ax.plot(mlda_drifter_stats[0], c=c2, label = \"ML (by statistcs)\")\n",
    "ax.plot(mlda_drifter_stats[1], c=c2, ls=\"dotted\", label = \"ML (by statistcs)\")\n",
    "\n",
    "ax.tick_params(axis='x', labelsize=12)\n",
    "ax.tick_params(axis='y', labelsize=12)\n",
    "\n",
    "ax.set_xticks([0,24,48,72])\n",
    "ax.set_xticklabels([10, 11, 12, 13])\n",
    "ax.set_xlabel(\"days\", fontsize=12)\n",
    "ax.set_ylabel(\"[km]\", fontsize=12)\n",
    "\n",
    "ax.set_ylim((0,65))\n",
    "\n",
    "\n",
    "h, l = ax.get_legend_handles_labels()\n",
    "ph = [plt.plot([],marker=\"\", ls=\"\")[0]]*2\n",
    "\n",
    "handles = ph[:1] + h[::2] + ph[1:] + h[1::2]\n",
    "labels = [\"   ERR: \"] + l[::2] + [\"   STD:\"] + l[1::2]\n",
    "\n",
    "leg = fig.legend(handles, labels, loc=\"upper center\", bbox_to_anchor=(0.5,1.275), ncol=2, framealpha=1.0, fontsize=12)\n",
    "\n",
    "plt.savefig(\"DoubleJet-DA-PostProcessing-DriftersERR4paper.pdf\", bbox_inches=\"tight\", dpi=300)\n"
   ]
  },
  {
   "cell_type": "code",
   "execution_count": 16,
   "metadata": {},
   "outputs": [
    {
     "data": {
      "text/plain": [
       "2"
      ]
     },
     "execution_count": 16,
     "metadata": {},
     "output_type": "execute_result"
    }
   ],
   "source": [
    "1+1"
   ]
  }
 ],
 "metadata": {
  "kernelspec": {
   "display_name": "gpuocean",
   "language": "python",
   "name": "python3"
  },
  "language_info": {
   "codemirror_mode": {
    "name": "ipython",
    "version": 3
   },
   "file_extension": ".py",
   "mimetype": "text/x-python",
   "name": "python",
   "nbconvert_exporter": "python",
   "pygments_lexer": "ipython3",
   "version": "3.7.12"
  },
  "orig_nbformat": 4
 },
 "nbformat": 4,
 "nbformat_minor": 2
}
