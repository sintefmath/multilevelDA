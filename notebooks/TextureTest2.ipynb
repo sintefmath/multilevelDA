{
 "cells": [
  {
   "cell_type": "code",
   "execution_count": 1,
   "metadata": {},
   "outputs": [],
   "source": [
    "import numpy as np\n",
    "import pycuda.driver as cuda\n",
    "from gpuocean.utils import Common\n",
    "\n",
    "gpu_ctx = Common.CUDAContext()"
   ]
  },
  {
   "cell_type": "code",
   "execution_count": 2,
   "metadata": {},
   "outputs": [],
   "source": [
    "Nx = 100 # size with ghost cells \n",
    "Ny = 100 # size with ghost cells\n",
    "\n",
    "nx = Nx - 4 # size without ghost cells\n",
    "ny = Ny - 4 # size without ghost cells"
   ]
  },
  {
   "cell_type": "code",
   "execution_count": 3,
   "metadata": {},
   "outputs": [],
   "source": [
    "defines={'block_width': 12, 'block_height': 32,\n",
    "        'KPSIMULATOR_DESING_EPS': \"{:.12f}f\".format(0.1),\n",
    "        'KPSIMULATOR_FLUX_SLOPE_EPS': \"{:.12f}f\".format(0.1),\n",
    "        'KPSIMULATOR_DEPTH_CUTOFF': \"{:.12f}f\".format(1.0e-5),\n",
    "        'THETA': \"{:.12f}f\".format(1.3),\n",
    "        'RK_ORDER': int(2),\n",
    "        'NX': int(nx),\n",
    "        'NY': int(ny),\n",
    "        'DX': \"{:.12f}f\".format(100),\n",
    "        'DY': \"{:.12f}f\".format(100),\n",
    "        'GRAV': \"{:.12f}f\".format(10.0),\n",
    "        'FRIC': \"{:.12f}f\".format(0.0),\n",
    "        'RHO_O': \"{:.12f}f\".format(1025.0)\n",
    "        }"
   ]
  },
  {
   "cell_type": "code",
   "execution_count": 4,
   "metadata": {},
   "outputs": [
    {
     "name": "stderr",
     "output_type": "stream",
     "text": [
      "c:\\Users\\florianb\\Miniconda3\\envs\\gpuocean_opendrift\\lib\\site-packages\\ipykernel_launcher.py:7: UserWarning: The CUDA compiler succeeded, but said the following:\n",
      "kernel.cu\n",
      "\n",
      "  import sys\n"
     ]
    }
   ],
   "source": [
    "kernel = gpu_ctx.get_kernel(\"CDKLM16_kernel.cu\", \n",
    "                defines=defines, \n",
    "                compile_args={                          # default, fast_math, optimal\n",
    "                    'options' : [\"--ftz=true\",          # false,   true,      true\n",
    "                                 \"--prec-div=false\",    # true,    false,     false,\n",
    "                                 \"--prec-sqrt=false\",   # true,    false,     false\n",
    "                                 \"--fmad=false\"]        # true,    true,      false\n",
    "                })"
   ]
  },
  {
   "cell_type": "code",
   "execution_count": 5,
   "metadata": {},
   "outputs": [],
   "source": [
    "gpu_stream = cuda.Stream()"
   ]
  },
  {
   "cell_type": "code",
   "execution_count": 6,
   "metadata": {},
   "outputs": [],
   "source": [
    "field = np.repeat(np.arange(Nx)[np.newaxis], Ny, axis=0).astype(np.float32)"
   ]
  },
  {
   "cell_type": "code",
   "execution_count": 7,
   "metadata": {},
   "outputs": [],
   "source": [
    "## Set texture\n",
    "GPUtexref = kernel.get_texref(\"angle_tex\")\n",
    "\n",
    "gpu_stream.synchronize()\n",
    "gpu_ctx.synchronize()\n",
    "\n",
    "GPUtexref.set_array(cuda.np_to_array(field, order=\"C\"))\n",
    "GPUtexref.set_filter_mode(cuda.filter_mode.LINEAR) #bilinear interpolation\n",
    "GPUtexref.set_address_mode(0, cuda.address_mode.CLAMP) #no indexing outside domain\n",
    "GPUtexref.set_address_mode(1, cuda.address_mode.CLAMP)\n",
    "GPUtexref.set_flags(cuda.TRSF_NORMALIZED_COORDINATES) #Use [0, 1] indexing\n",
    "\n",
    "gpu_ctx.synchronize()"
   ]
  },
  {
   "cell_type": "code",
   "execution_count": 8,
   "metadata": {},
   "outputs": [],
   "source": [
    "## Sample texture\n",
    "local_size = (defines[\"block_width\"], defines[\"block_height\"], 1) \n",
    "global_size = (int(np.ceil(2*Nx / float(local_size[0]))), int(np.ceil(2*Ny / float(local_size[1]))) ) \n",
    "# ATTENTION: Ghost cells have to be included in the calculation of global_size\n",
    "\n",
    "\n",
    "texref = Common.CUDAArray2D(gpu_stream, 2*Nx, 2*Ny, 0, 0, np.zeros((2*Ny,2*Nx)))\n",
    "get_tex = kernel.get_function(\"sample_texture\")\n",
    "get_tex.prepare(\"Piffffii\")\n",
    "get_tex.prepared_async_call(global_size, local_size, gpu_stream, texref.data.gpudata, np.int32(0),\n",
    "                            np.float32(0.5/(2*Nx)), np.float32(1-0.5/(2*Nx)), np.float32(0.5/(2*Ny)), np.float32(1-0.5/(2*Ny)),\n",
    "                            np.int32(2*Nx), np.int32(2*Ny))"
   ]
  },
  {
   "cell_type": "code",
   "execution_count": 9,
   "metadata": {},
   "outputs": [
    {
     "data": {
      "text/plain": [
       "<matplotlib.colorbar.Colorbar at 0x1f6b8361488>"
      ]
     },
     "execution_count": 9,
     "metadata": {},
     "output_type": "execute_result"
    },
    {
     "data": {
      "image/png": "[encoded data removed]",
      "text/plain": [
       "<Figure size 432x288 with 2 Axes>"
      ]
     },
     "metadata": {
      "needs_background": "light"
     },
     "output_type": "display_data"
    }
   ],
   "source": [
    "from matplotlib import pyplot as plt\n",
    "\n",
    "plt.imshow(texref.data.get())\n",
    "plt.colorbar()"
   ]
  },
  {
   "cell_type": "code",
   "execution_count": 12,
   "metadata": {},
   "outputs": [],
   "source": [
    "texref_host = texref.data.get()[0]"
   ]
  },
  {
   "cell_type": "code",
   "execution_count": 11,
   "metadata": {},
   "outputs": [
    {
     "data": {
      "text/plain": [
       "array([ 1.,  2.,  3.,  4.,  5.,  6.,  7.,  8.,  9., 10., 11., 12., 13.,\n",
       "       14., 15., 16., 17., 18., 19., 20., 21., 22., 23., 24., 25., 26.,\n",
       "       27., 28., 29., 30., 31., 32., 33., 34., 35., 36., 37., 38., 39.,\n",
       "       40., 41., 42., 43., 44., 45., 46., 47., 48., 49., 50., 51., 52.,\n",
       "       53., 54., 55., 56., 57., 58., 59., 60., 61., 62., 63., 64., 65.,\n",
       "       66., 67., 68., 69., 70., 71., 72., 73., 74., 75., 76., 77., 78.,\n",
       "       79., 80., 81., 82., 83., 84., 85., 86., 87., 88., 89., 90., 91.,\n",
       "       92., 93., 94., 95., 96., 97., 98.], dtype=float32)"
      ]
     },
     "execution_count": 11,
     "metadata": {},
     "output_type": "execute_result"
    }
   ],
   "source": [
    "0.5*(texref_host[1:] + texref_host[:-1])[::2][1:-1]"
   ]
  }
 ],
 "metadata": {
  "kernelspec": {
   "display_name": "Python 3.7.12 ('gpuocean_opendrift')",
   "language": "python",
   "name": "python3"
  },
  "language_info": {
   "codemirror_mode": {
    "name": "ipython",
    "version": 3
   },
   "file_extension": ".py",
   "mimetype": "text/x-python",
   "name": "python",
   "nbconvert_exporter": "python",
   "pygments_lexer": "ipython3",
   "version": "3.7.12"
  },
  "orig_nbformat": 4,
  "vscode": {
   "interpreter": {
    "hash": "136d62b6baec2e13b94e215094799f4deb1cc3eb095791a22508b56a9ed7e027"
   }
  }
 },
 "nbformat": 4,
 "nbformat_minor": 2
}
