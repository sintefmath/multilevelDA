{
 "cells": [
  {
   "cell_type": "markdown",
   "metadata": {},
   "source": [
    "## Classes and modules"
   ]
  },
  {
   "cell_type": "code",
   "execution_count": 1,
   "metadata": {},
   "outputs": [],
   "source": [
    "#Lets have matplotlib \"inline\"\n",
    "%matplotlib inline\n",
    "\n",
    "import os\n",
    "import sys\n",
    "\n",
    "#Import packages we need\n",
    "import numpy as np\n",
    "from netCDF4 import Dataset\n",
    "import datetime\n",
    "from IPython.display import display\n",
    "\n",
    "#For plotting\n",
    "import matplotlib\n",
    "from matplotlib import pyplot as plt\n",
    "from mpl_toolkits.axes_grid1 import make_axes_locatable\n",
    "\n",
    "plt.rcParams[\"lines.color\"] = \"w\"\n",
    "plt.rcParams[\"text.color\"] = \"w\"\n",
    "plt.rcParams[\"axes.labelcolor\"] = \"w\"\n",
    "plt.rcParams[\"xtick.color\"] = \"w\"\n",
    "plt.rcParams[\"ytick.color\"] = \"w\""
   ]
  },
  {
   "cell_type": "markdown",
   "metadata": {},
   "source": [
    "GPU Ocean-modules:"
   ]
  },
  {
   "cell_type": "code",
   "execution_count": 2,
   "metadata": {},
   "outputs": [],
   "source": [
    "from gpuocean.utils import IPythonMagic"
   ]
  },
  {
   "cell_type": "markdown",
   "metadata": {},
   "source": [
    "Basically, we only need the context and stream"
   ]
  },
  {
   "cell_type": "code",
   "execution_count": 3,
   "metadata": {},
   "outputs": [],
   "source": [
    "%cuda_context_handler gpu_ctx"
   ]
  },
  {
   "cell_type": "code",
   "execution_count": 4,
   "metadata": {},
   "outputs": [],
   "source": [
    "import pycuda.driver as cuda\n",
    "gpu_stream = cuda.Stream()"
   ]
  },
  {
   "cell_type": "markdown",
   "metadata": {},
   "source": [
    "# Sampling GRF: FFT Approach"
   ]
  },
  {
   "cell_type": "markdown",
   "metadata": {},
   "source": [
    "Use GPU for sampling random numbers (first step of immense speed-up)"
   ]
  },
  {
   "cell_type": "code",
   "execution_count": 5,
   "metadata": {},
   "outputs": [],
   "source": [
    "nx = 10#630\n",
    "ny = 5#315"
   ]
  },
  {
   "cell_type": "code",
   "execution_count": 6,
   "metadata": {},
   "outputs": [],
   "source": [
    "from gpuocean.utils import Common\n",
    "\n",
    "random_numbers_host = np.zeros((nx,ny), dtype=np.float32, order='C')\n",
    "random_numbers = Common.CUDAArray2D(gpu_stream, ny, nx, 0, 0, random_numbers_host)"
   ]
  },
  {
   "cell_type": "code",
   "execution_count": 7,
   "metadata": {},
   "outputs": [],
   "source": [
    "from pycuda.curandom import XORWOWRandomNumberGenerator\n",
    "rng = XORWOWRandomNumberGenerator()"
   ]
  },
  {
   "cell_type": "code",
   "execution_count": 8,
   "metadata": {},
   "outputs": [],
   "source": [
    "rng.fill_normal(random_numbers.data, stream=gpu_stream)"
   ]
  },
  {
   "cell_type": "code",
   "execution_count": 9,
   "metadata": {},
   "outputs": [],
   "source": [
    "u = random_numbers.download(gpu_stream).T"
   ]
  },
  {
   "cell_type": "code",
   "execution_count": 10,
   "metadata": {},
   "outputs": [
    {
     "data": {
      "image/png": "[encoded data removed]",
      "text/plain": [
       "<Figure size 432x288 with 1 Axes>"
      ]
     },
     "metadata": {
      "needs_background": "dark"
     },
     "output_type": "display_data"
    }
   ],
   "source": [
    "_ = plt.hist(u.flatten(), bins=50)"
   ]
  },
  {
   "cell_type": "markdown",
   "metadata": {},
   "source": [
    "Only one row of distance matrix needed"
   ]
  },
  {
   "cell_type": "code",
   "execution_count": 11,
   "metadata": {},
   "outputs": [],
   "source": [
    "dist = np.zeros((nx*ny))\n",
    "for j in range(ny):\n",
    "    for i in range(nx):\n",
    "        dist[j*nx+i] = np.sqrt(i**2+j**2)\n",
    "        dist[j*nx+i] = min([np.sqrt(i**2+j**2),np.sqrt((i-nx)**2+j**2),np.sqrt(i**2+(j-ny)**2),np.sqrt((i-nx)**2+(j-ny)**2)]) # only periodic!! Otherwise complex fft values!!"
   ]
  },
  {
   "cell_type": "code",
   "execution_count": 12,
   "metadata": {},
   "outputs": [],
   "source": [
    "phi = 0.001\n",
    "corr = np.exp(-phi*dist**2)"
   ]
  },
  {
   "cell_type": "code",
   "execution_count": 13,
   "metadata": {},
   "outputs": [],
   "source": [
    "cov_toepitz = np.reshape(corr, (ny, nx))"
   ]
  },
  {
   "cell_type": "code",
   "execution_count": 14,
   "metadata": {},
   "outputs": [
    {
     "data": {
      "text/plain": [
       "<matplotlib.colorbar.Colorbar at 0x7ff4b7e28f50>"
      ]
     },
     "execution_count": 14,
     "metadata": {},
     "output_type": "execute_result"
    },
    {
     "data": {
      "image/png": "[encoded data removed]",
      "text/plain": [
       "<Figure size 432x288 with 2 Axes>"
      ]
     },
     "metadata": {
      "needs_background": "dark"
     },
     "output_type": "display_data"
    }
   ],
   "source": [
    "plt.imshow(cov_toepitz)\n",
    "plt.colorbar()"
   ]
  },
  {
   "cell_type": "markdown",
   "metadata": {},
   "source": [
    "#### FFT on the CPU"
   ]
  },
  {
   "cell_type": "code",
   "execution_count": 15,
   "metadata": {},
   "outputs": [
    {
     "data": {
      "text/plain": [
       "array([[ 4.94793232e+01+0.j,  2.58610377e-01+0.j, -7.06660663e-02+0.j,\n",
       "         3.72264977e-02+0.j, -2.69205218e-02+0.j,  2.43460411e-02+0.j,\n",
       "        -2.69205218e-02+0.j,  3.72264977e-02+0.j, -7.06660663e-02+0.j,\n",
       "         2.58610377e-01+0.j],\n",
       "       [ 5.79221811e-02+0.j,  3.02738117e-04+0.j, -8.27241043e-05+0.j,\n",
       "         4.35786063e-05+0.j, -3.15140799e-05+0.j,  2.85003050e-05+0.j,\n",
       "        -3.15140799e-05+0.j,  4.35786063e-05+0.j, -8.27241043e-05+0.j,\n",
       "         3.02738117e-04+0.j],\n",
       "       [-8.42804549e-03+0.j, -4.40503201e-05+0.j,  1.20368830e-05+0.j,\n",
       "        -6.34096419e-06+0.j,  4.58549892e-06+0.j, -4.14697553e-06+0.j,\n",
       "         4.58549892e-06+0.j, -6.34096419e-06+0.j,  1.20368830e-05+0.j,\n",
       "        -4.40503201e-05+0.j],\n",
       "       [-8.42804549e-03+0.j, -4.40503201e-05+0.j,  1.20368830e-05+0.j,\n",
       "        -6.34096419e-06+0.j,  4.58549892e-06+0.j, -4.14697553e-06+0.j,\n",
       "         4.58549892e-06+0.j, -6.34096419e-06+0.j,  1.20368830e-05+0.j,\n",
       "        -4.40503201e-05+0.j],\n",
       "       [ 5.79221811e-02+0.j,  3.02738117e-04+0.j, -8.27241043e-05+0.j,\n",
       "         4.35786063e-05+0.j, -3.15140799e-05+0.j,  2.85003050e-05+0.j,\n",
       "        -3.15140799e-05+0.j,  4.35786063e-05+0.j, -8.27241043e-05+0.j,\n",
       "         3.02738117e-04+0.j]])"
      ]
     },
     "execution_count": 15,
     "metadata": {},
     "output_type": "execute_result"
    }
   ],
   "source": [
    "np.fft.fft2(cov_toepitz)"
   ]
  },
  {
   "cell_type": "code",
   "execution_count": 16,
   "metadata": {},
   "outputs": [],
   "source": [
    "cmf = np.real(np.fft.fft2(cov_toepitz))\n",
    "uif = np.fft.ifft2(u)\n",
    "xf = np.real(np.fft.fft2(np.sqrt(np.maximum(cmf,0))*uif))"
   ]
  },
  {
   "cell_type": "code",
   "execution_count": 65,
   "metadata": {},
   "outputs": [
    {
     "data": {
      "text/plain": [
       "<matplotlib.colorbar.Colorbar at 0x7ff4aea24110>"
      ]
     },
     "execution_count": 65,
     "metadata": {},
     "output_type": "execute_result"
    },
    {
     "data": {
      "image/png": "[encoded data removed]",
      "text/plain": [
       "<Figure size 720x360 with 2 Axes>"
      ]
     },
     "metadata": {
      "needs_background": "dark"
     },
     "output_type": "display_data"
    }
   ],
   "source": [
    "plt.figure(figsize=(10,5))\n",
    "plt.imshow(xf, origin=\"lower\", vmin=-1, vmax=1)\n",
    "plt.colorbar(shrink=0.7)"
   ]
  },
  {
   "cell_type": "markdown",
   "metadata": {},
   "source": [
    "#### FFT via skcuda (1D vs 2D?)"
   ]
  },
  {
   "cell_type": "code",
   "execution_count": 18,
   "metadata": {},
   "outputs": [],
   "source": [
    "import numpy as np\n",
    "\n",
    "import pycuda.driver as cuda\n",
    "from pycuda.tools import make_default_context\n",
    "import pycuda.gpuarray as gpuarray"
   ]
  },
  {
   "cell_type": "code",
   "execution_count": 19,
   "metadata": {},
   "outputs": [
    {
     "name": "stderr",
     "output_type": "stream",
     "text": [
      "/home/florianb/miniconda3/envs/gpuocean_opendrift/lib/python3.7/site-packages/skcuda/cublas.py:284: UserWarning: creating CUBLAS context to get version number\n",
      "  warnings.warn('creating CUBLAS context to get version number')\n"
     ]
    }
   ],
   "source": [
    "from skcuda.fft import fft, ifft, Plan"
   ]
  },
  {
   "cell_type": "code",
   "execution_count": 66,
   "metadata": {},
   "outputs": [
    {
     "name": "stdout",
     "output_type": "stream",
     "text": [
      "[[ 0.30166586 -0.24611511 -0.97885645  0.18860965]\n",
      " [ 0.12647603 -0.45502664 -0.75042047 -2.3035164 ]\n",
      " [ 1.16495721  0.411279   -0.4642364  -1.40743975]\n",
      " [ 0.29997652 -0.77321212 -0.15671613 -0.07538854]]\n",
      "It s a god damn shit!!! \n"
     ]
    },
    {
     "data": {
      "text/plain": [
       "array([[ 0.30166584, -0.24611515, -0.97885644,  0.1886096 ],\n",
       "       [ 0.12647599, -0.4550267 , -0.75042045, -2.3035164 ],\n",
       "       [ 1.1649573 ,  0.411279  , -0.46423644, -1.4074397 ],\n",
       "       [ 0.2999766 , -0.7732122 , -0.15671623, -0.07538843]],\n",
       "      dtype=float32)"
      ]
     },
     "execution_count": 66,
     "metadata": {},
     "output_type": "execute_result"
    }
   ],
   "source": [
    "# https://forums.developer.nvidia.com/t/how-to-apply-scikit-cuda-2d-fft-pycuda/33055\n",
    "\n",
    "data = np.random.randn(4,4)\n",
    "print(data)\n",
    "\n",
    "data_gpu = gpuarray.to_gpu(data.astype(np.float32))\n",
    "out_gpu = gpuarray.empty(data.shape, np.complex64)\n",
    "\n",
    "plan = Plan(data.shape, np.complex64, np.complex64)\n",
    "fft(data_gpu, out_gpu, plan)\n",
    "ifft(out_gpu, data_gpu, plan)\n",
    "\n",
    "print(\"It s a god damn shit!!! \")\n",
    "data_gpu.get()/np.product(data.shape)"
   ]
  },
  {
   "cell_type": "code",
   "execution_count": 71,
   "metadata": {},
   "outputs": [
    {
     "name": "stdout",
     "output_type": "stream",
     "text": [
      "[[145. 221. 232. 106.]\n",
      " [ 10.  17. 144.  82.]\n",
      " [ 66.  83. 145.  68.]\n",
      " [143. 205.   2. 134.]]\n",
      "[[1803.  +0.j -159.-136.j  -29.  +0.j -159.+136.j]\n",
      " [ 342.+231.j  128.+175.j  -10.-249.j -144.+375.j]\n",
      " [ 329.  +0.j -173.-124.j  249.  +0.j -173.+124.j]\n",
      " [ 342.-231.j -144.-375.j  -10.+249.j  128.-175.j]]\n",
      "[[1803.  +0.j -159.-136.j  -29.  +0.j]\n",
      " [ 342.+231.j  128.+175.j  -10.-249.j]\n",
      " [ 329.  +0.j -173.-124.j  249.  +0.j]]\n",
      "[[145. 221. 232. 106.]\n",
      " [ 10.  17. 144.  82.]\n",
      " [ 66.  83. 145.  68.]\n",
      " [143. 205.   2. 134.]]\n",
      "[[145. 221. 232. 106.]\n",
      " [ 10.  17. 144.  82.]\n",
      " [ 66.  83. 145.  68.]\n",
      " [143. 205.   2. 134.]]\n"
     ]
    }
   ],
   "source": [
    "# https://github.com/lebedov/scikit-cuda/issues/253\n",
    "N = 4\n",
    "array = np.random.randint(255, size=(N, N)).astype(np.float32)\n",
    "print(array)\n",
    "array_gpu = gpuarray.to_gpu(array)\n",
    "ft = np.fft.fft2(array)\n",
    "print(ft)\n",
    "\n",
    "ft_gpu = gpuarray.empty((N//2+1, N//2+1), dtype=np.complex64)\n",
    "plan = Plan((N, N), np.float32, np.complex64)\n",
    "fft(array_gpu, ft_gpu, plan)\n",
    "print(ft_gpu.get())\n",
    "\n",
    "\n",
    "plan_inv = Plan((N, N), np.complex64, np.float32)\n",
    "ifft(ft_gpu, array_gpu, plan_inv)\n",
    "print(array)\n",
    "print(array_gpu.get()/np.product(array_gpu.shape))"
   ]
  },
  {
   "cell_type": "code",
   "execution_count": 25,
   "metadata": {},
   "outputs": [],
   "source": [
    "# is it 2D???"
   ]
  },
  {
   "cell_type": "code",
   "execution_count": 26,
   "metadata": {},
   "outputs": [],
   "source": [
    "toep_gpu = gpuarray.to_gpu(cov_toepitz.astype(np.float32))\n",
    "cmf_gpu = gpuarray.empty(np.array(toep_gpu.shape)//2+1, np.complex64)\n",
    "plan = Plan(toep_gpu.shape, np.float32, np.complex64)\n",
    "fft(toep_gpu, cmf_gpu, plan)"
   ]
  },
  {
   "cell_type": "code",
   "execution_count": 27,
   "metadata": {},
   "outputs": [
    {
     "data": {
      "text/plain": [
       "(array([[ 4.94793232e+01,  2.58610377e-01, -7.06660663e-02,\n",
       "          3.72264977e-02, -2.69205218e-02,  2.43460411e-02,\n",
       "         -2.69205218e-02,  3.72264977e-02, -7.06660663e-02,\n",
       "          2.58610377e-01],\n",
       "        [ 5.79221811e-02,  3.02738117e-04, -8.27241043e-05,\n",
       "          4.35786063e-05, -3.15140799e-05,  2.85003050e-05,\n",
       "         -3.15140799e-05,  4.35786063e-05, -8.27241043e-05,\n",
       "          3.02738117e-04],\n",
       "        [-8.42804549e-03, -4.40503201e-05,  1.20368830e-05,\n",
       "         -6.34096419e-06,  4.58549892e-06, -4.14697553e-06,\n",
       "          4.58549892e-06, -6.34096419e-06,  1.20368830e-05,\n",
       "         -4.40503201e-05],\n",
       "        [-8.42804549e-03, -4.40503201e-05,  1.20368830e-05,\n",
       "         -6.34096419e-06,  4.58549892e-06, -4.14697553e-06,\n",
       "          4.58549892e-06, -6.34096419e-06,  1.20368830e-05,\n",
       "         -4.40503201e-05],\n",
       "        [ 5.79221811e-02,  3.02738117e-04, -8.27241043e-05,\n",
       "          4.35786063e-05, -3.15140799e-05,  2.85003050e-05,\n",
       "         -3.15140799e-05,  4.35786063e-05, -8.27241043e-05,\n",
       "          3.02738117e-04]]),\n",
       " array([[ 4.9479324e+01,  2.5861007e-01, -7.0666201e-02,  3.7226599e-02,\n",
       "         -2.6920527e-02,  2.4344921e-02],\n",
       "        [ 5.7921495e-02,  3.0285981e-04, -8.2532046e-05,  4.3587374e-05,\n",
       "         -3.1407319e-05,  2.7914635e-05],\n",
       "        [-8.4281815e-03, -4.4116066e-05,  1.2161309e-05, -6.4434353e-06,\n",
       "          4.6115383e-06, -4.0727782e-06]], dtype=float32))"
      ]
     },
     "execution_count": 27,
     "metadata": {},
     "output_type": "execute_result"
    }
   ],
   "source": [
    "cmf, cmf_gpu.real"
   ]
  },
  {
   "cell_type": "code",
   "execution_count": 37,
   "metadata": {},
   "outputs": [
    {
     "data": {
      "text/plain": [
       "array([[ 0.10765737+0.00000000e+00j, -0.11839945-1.19189077e-01j,\n",
       "        -0.02387899+1.14167369e-01j,  0.09652482-1.50596020e-01j,\n",
       "         0.02610289+1.28033850e-01j,  0.10959656+1.33226763e-17j,\n",
       "         0.02610289-1.28033850e-01j,  0.09652482+1.50596020e-01j,\n",
       "        -0.02387899-1.14167369e-01j, -0.11839945+1.19189077e-01j],\n",
       "       [ 0.19425758+9.85641041e-02j, -0.01953117+2.89484201e-01j,\n",
       "         0.0665797 -7.01741066e-02j, -0.01249381-6.27542119e-02j,\n",
       "         0.08403675-1.42991545e-02j, -0.16832661+3.54313400e-02j,\n",
       "         0.10244239-9.11201817e-02j,  0.02884003-7.49249337e-02j,\n",
       "        -0.05362156-5.97139393e-02j,  0.07016676-7.39238952e-02j],\n",
       "       [ 0.12763886-1.66771888e-01j, -0.07500304-2.91382225e-02j,\n",
       "         0.11047469-1.19910110e-01j, -0.1060313 -3.25547352e-02j,\n",
       "         0.00848348+1.76334663e-01j,  0.02369788-1.05321590e-02j,\n",
       "        -0.18342419-4.41018829e-04j,  0.01124917-4.95739847e-02j,\n",
       "        -0.06239438+1.35530487e-01j,  0.02932905+1.61478766e-01j],\n",
       "       [ 0.12763886+1.66771888e-01j,  0.02932905-1.61478766e-01j,\n",
       "        -0.06239438-1.35530487e-01j,  0.01124917+4.95739847e-02j,\n",
       "        -0.18342419+4.41018829e-04j,  0.02369788+1.05321590e-02j,\n",
       "         0.00848348-1.76334663e-01j, -0.1060313 +3.25547352e-02j,\n",
       "         0.11047469+1.19910110e-01j, -0.07500304+2.91382225e-02j],\n",
       "       [ 0.19425758-9.85641041e-02j,  0.07016676+7.39238952e-02j,\n",
       "        -0.05362156+5.97139393e-02j,  0.02884003+7.49249337e-02j,\n",
       "         0.10244239+9.11201817e-02j, -0.16832661-3.54313400e-02j,\n",
       "         0.08403675+1.42991545e-02j, -0.01249381+6.27542119e-02j,\n",
       "         0.0665797 +7.01741066e-02j, -0.01953117-2.89484201e-01j]])"
      ]
     },
     "execution_count": 37,
     "metadata": {},
     "output_type": "execute_result"
    }
   ],
   "source": [
    "np.fft.ifft2(u)"
   ]
  },
  {
   "cell_type": "code",
   "execution_count": 83,
   "metadata": {},
   "outputs": [],
   "source": [
    "# https://www.idtools.com.au/gpu-accelerated-fft-compatible-with-numpy/\n",
    "u_gpu = gpuarray.to_gpu(u[0:ny//2+1, 0:nx//2+1].astype(np.complex64))\n",
    "plan_inv = Plan(u_gpu.shape, np.complex64, np.float32)\n",
    "uif_gpu = gpuarray.empty(u_gpu.shape, np.float32)\n",
    "ifft(u_gpu, uif_gpu, plan_inv)"
   ]
  },
  {
   "cell_type": "code",
   "execution_count": 84,
   "metadata": {},
   "outputs": [
    {
     "data": {
      "text/plain": [
       "array([[ 0.10765737+0.00000000e+00j, -0.11839945-1.19189077e-01j,\n",
       "        -0.02387899+1.14167369e-01j,  0.09652482-1.50596020e-01j,\n",
       "         0.02610289+1.28033850e-01j,  0.10959656+1.33226763e-17j,\n",
       "         0.02610289-1.28033850e-01j,  0.09652482+1.50596020e-01j,\n",
       "        -0.02387899-1.14167369e-01j, -0.11839945+1.19189077e-01j],\n",
       "       [ 0.19425758+9.85641041e-02j, -0.01953117+2.89484201e-01j,\n",
       "         0.0665797 -7.01741066e-02j, -0.01249381-6.27542119e-02j,\n",
       "         0.08403675-1.42991545e-02j, -0.16832661+3.54313400e-02j,\n",
       "         0.10244239-9.11201817e-02j,  0.02884003-7.49249337e-02j,\n",
       "        -0.05362156-5.97139393e-02j,  0.07016676-7.39238952e-02j],\n",
       "       [ 0.12763886-1.66771888e-01j, -0.07500304-2.91382225e-02j,\n",
       "         0.11047469-1.19910110e-01j, -0.1060313 -3.25547352e-02j,\n",
       "         0.00848348+1.76334663e-01j,  0.02369788-1.05321590e-02j,\n",
       "        -0.18342419-4.41018829e-04j,  0.01124917-4.95739847e-02j,\n",
       "        -0.06239438+1.35530487e-01j,  0.02932905+1.61478766e-01j],\n",
       "       [ 0.12763886+1.66771888e-01j,  0.02932905-1.61478766e-01j,\n",
       "        -0.06239438-1.35530487e-01j,  0.01124917+4.95739847e-02j,\n",
       "        -0.18342419+4.41018829e-04j,  0.02369788+1.05321590e-02j,\n",
       "         0.00848348-1.76334663e-01j, -0.1060313 +3.25547352e-02j,\n",
       "         0.11047469+1.19910110e-01j, -0.07500304+2.91382225e-02j],\n",
       "       [ 0.19425758-9.85641041e-02j,  0.07016676+7.39238952e-02j,\n",
       "        -0.05362156+5.97139393e-02j,  0.02884003+7.49249337e-02j,\n",
       "         0.10244239+9.11201817e-02j, -0.16832661-3.54313400e-02j,\n",
       "         0.08403675+1.42991545e-02j, -0.01249381+6.27542119e-02j,\n",
       "         0.0665797 +7.01741066e-02j, -0.01953117-2.89484201e-01j]])"
      ]
     },
     "execution_count": 84,
     "metadata": {},
     "output_type": "execute_result"
    }
   ],
   "source": [
    "uif"
   ]
  },
  {
   "cell_type": "code",
   "execution_count": 85,
   "metadata": {},
   "outputs": [
    {
     "data": {
      "text/plain": [
       "array([[ 0.1308213 ,  0.01498723, -0.00593272, -0.13716628, -0.00593272,\n",
       "         0.01498723],\n",
       "       [-0.02513632,  0.11928976,  0.0863387 , -0.00187058, -0.01076838,\n",
       "        -0.07821046],\n",
       "       [-0.02513632, -0.07821046, -0.01076838, -0.00187058,  0.0863387 ,\n",
       "         0.11928976]], dtype=float32)"
      ]
     },
     "execution_count": 85,
     "metadata": {},
     "output_type": "execute_result"
    }
   ],
   "source": [
    "uif_gpu.get()/nx/ny"
   ]
  },
  {
   "cell_type": "code",
   "execution_count": 102,
   "metadata": {},
   "outputs": [],
   "source": [
    "import pycuda.cumath as cumath\n",
    "prod_gpu = gpuarray.to_gpu((np.sqrt(np.maximum(cmf_gpu.get().real,0)) * uif_gpu.get()/nx/ny).astype(np.complex64))"
   ]
  },
  {
   "cell_type": "code",
   "execution_count": 103,
   "metadata": {},
   "outputs": [
    {
     "data": {
      "text/plain": [
       "array([[ 9.2021722e-01+0.j,  7.6215616e-03+0.j, -0.0000000e+00+0.j,\n",
       "        -2.6465129e-02+0.j, -0.0000000e+00+0.j,  2.3384360e-03+0.j],\n",
       "       [-6.0495296e-03+0.j,  2.0759839e-03+0.j,  0.0000000e+00+0.j,\n",
       "        -1.2349674e-05+0.j, -0.0000000e+00+0.j, -4.1321953e-04+0.j],\n",
       "       [-0.0000000e+00+0.j, -0.0000000e+00+0.j, -3.7552632e-05+0.j,\n",
       "        -0.0000000e+00+0.j,  1.8540797e-04+0.j,  0.0000000e+00+0.j]],\n",
       "      dtype=complex64)"
      ]
     },
     "execution_count": 103,
     "metadata": {},
     "output_type": "execute_result"
    }
   ],
   "source": [
    "prod_gpu"
   ]
  },
  {
   "cell_type": "code",
   "execution_count": 100,
   "metadata": {},
   "outputs": [
    {
     "data": {
      "text/plain": [
       "array([[ 7.57278501e-01+0.00000000e+00j, -6.02105591e-02-6.06121137e-02j,\n",
       "        -0.00000000e+00+0.00000000e+00j,  1.86236626e-02-2.90562513e-02j,\n",
       "         0.00000000e+00+0.00000000e+00j,  1.71005899e-02+2.07876622e-18j,\n",
       "         0.00000000e+00+0.00000000e+00j,  1.86236626e-02+2.90562513e-02j,\n",
       "         0.00000000e+00-0.00000000e+00j, -6.02105591e-02+6.06121137e-02j],\n",
       "       [ 4.67520244e-02+2.37214500e-02j, -3.39830141e-04+5.03684305e-03j,\n",
       "         0.00000000e+00+0.00000000e+00j, -8.24767611e-05-4.14266245e-04j,\n",
       "         0.00000000e+00+0.00000000e+00j, -8.98623019e-04+1.89152607e-04j,\n",
       "         0.00000000e+00+0.00000000e+00j,  1.90384836e-04-4.94610163e-04j,\n",
       "         0.00000000e+00-0.00000000e+00j,  1.22085754e-03-1.28622929e-03j],\n",
       "       [ 0.00000000e+00+0.00000000e+00j,  0.00000000e+00-0.00000000e+00j,\n",
       "         3.83283217e-04-4.16018668e-04j,  0.00000000e+00-0.00000000e+00j,\n",
       "         1.81663352e-05+3.77599135e-04j,  0.00000000e+00+0.00000000e+00j,\n",
       "        -3.92780487e-04-9.44387933e-07j,  0.00000000e+00+0.00000000e+00j,\n",
       "        -2.16472364e-04+4.70212334e-04j,  0.00000000e+00+0.00000000e+00j],\n",
       "       [ 0.00000000e+00+0.00000000e+00j,  0.00000000e+00+0.00000000e+00j,\n",
       "        -2.16472364e-04-4.70212334e-04j,  0.00000000e+00+0.00000000e+00j,\n",
       "        -3.92780487e-04+9.44387933e-07j,  0.00000000e+00+0.00000000e+00j,\n",
       "         1.81663352e-05-3.77599135e-04j, -0.00000000e+00+0.00000000e+00j,\n",
       "         3.83283217e-04+4.16018668e-04j, -0.00000000e+00+0.00000000e+00j],\n",
       "       [ 4.67520244e-02-2.37214500e-02j,  1.22085754e-03+1.28622929e-03j,\n",
       "        -0.00000000e+00+0.00000000e+00j,  1.90384836e-04+4.94610163e-04j,\n",
       "         0.00000000e+00+0.00000000e+00j, -8.98623019e-04-1.89152607e-04j,\n",
       "         0.00000000e+00+0.00000000e+00j, -8.24767611e-05+4.14266245e-04j,\n",
       "         0.00000000e+00+0.00000000e+00j, -3.39830141e-04-5.03684305e-03j]])"
      ]
     },
     "execution_count": 100,
     "metadata": {},
     "output_type": "execute_result"
    }
   ],
   "source": [
    "np.sqrt(np.maximum(cmf,0))*uif"
   ]
  },
  {
   "cell_type": "code",
   "execution_count": 104,
   "metadata": {},
   "outputs": [],
   "source": [
    "grf_gpu = gpuarray.empty(cov_toepitz.shape, np.float32)\n",
    "fft(prod_gpu, grf_gpu, plan)"
   ]
  },
  {
   "cell_type": "code",
   "execution_count": 105,
   "metadata": {},
   "outputs": [
    {
     "data": {
      "text/plain": [
       "<matplotlib.colorbar.Colorbar at 0x7ff4a660a590>"
      ]
     },
     "execution_count": 105,
     "metadata": {},
     "output_type": "execute_result"
    },
    {
     "data": {
      "image/png": "[encoded data removed]",
      "text/plain": [
       "<Figure size 432x288 with 2 Axes>"
      ]
     },
     "metadata": {
      "needs_background": "dark"
     },
     "output_type": "display_data"
    }
   ],
   "source": [
    "plt.imshow(grf_gpu.get())\n",
    "plt.colorbar()"
   ]
  },
  {
   "cell_type": "markdown",
   "metadata": {},
   "source": [
    "#### FFT via PyCuda Kernels (fails)"
   ]
  },
  {
   "cell_type": "code",
   "execution_count": null,
   "metadata": {},
   "outputs": [],
   "source": [
    "import pycuda.driver as cuda\n",
    "from pycuda.compiler import SourceModule\n",
    "import pycuda.autoinit"
   ]
  },
  {
   "cell_type": "code",
   "execution_count": null,
   "metadata": {},
   "outputs": [],
   "source": [
    "import numpy\n",
    "a = numpy.random.randn(4,4)\n",
    "a = a.astype(numpy.float32)\n",
    "\n",
    "a_gpu = cuda.mem_alloc(a.nbytes)\n",
    "cuda.memcpy_htod(a_gpu, a)\n",
    "\n",
    "mod = SourceModule(\"\"\"\n",
    "  __global__ void doublify(float *a)\n",
    "  {\n",
    "    int idx = threadIdx.x + threadIdx.y*4;\n",
    "    a[idx] *= 2;\n",
    "  }\n",
    "  \"\"\")\n",
    "#Allocate,generateandtransfer\n",
    "func = mod.get_function(\"doublify\")\n",
    "func(a_gpu, block=(4,4,1))\n",
    "\n",
    "a_doubled = numpy.empty_like(a)\n",
    "cuda.memcpy_dtoh(a_doubled,a_gpu)\n",
    "print(a, \"\\n\\n\", a_doubled)"
   ]
  },
  {
   "cell_type": "code",
   "execution_count": null,
   "metadata": {},
   "outputs": [],
   "source": [
    "kernel = gpu_ctx.get_kernel(\"fft.cu\")"
   ]
  },
  {
   "cell_type": "code",
   "execution_count": null,
   "metadata": {},
   "outputs": [],
   "source": [
    "func = kernel.get_function(\"doublify\")"
   ]
  },
  {
   "cell_type": "code",
   "execution_count": null,
   "metadata": {},
   "outputs": [],
   "source": [
    "func.prepare(\"f\")"
   ]
  },
  {
   "cell_type": "code",
   "execution_count": null,
   "metadata": {},
   "outputs": [],
   "source": [
    "func.prepared_async_call((4,4),(1,1,1),sim.gpu_stream, a)"
   ]
  }
 ],
 "metadata": {
  "kernelspec": {
   "display_name": "Python 3.7.12 ('gpuocean_opendrift')",
   "language": "python",
   "name": "python3"
  },
  "language_info": {
   "codemirror_mode": {
    "name": "ipython",
    "version": 3
   },
   "file_extension": ".py",
   "mimetype": "text/x-python",
   "name": "python",
   "nbconvert_exporter": "python",
   "pygments_lexer": "ipython3",
   "version": "3.7.12"
  },
  "vscode": {
   "interpreter": {
    "hash": "3048633266a8aca5c85f16c1ee57ccad146141feb66febf24dcb8304467d1440"
   }
  }
 },
 "nbformat": 4,
 "nbformat_minor": 4
}
