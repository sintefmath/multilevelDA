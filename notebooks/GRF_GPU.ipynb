{
 "cells": [
  {
   "cell_type": "markdown",
   "metadata": {},
   "source": [
    "## Classes and modules"
   ]
  },
  {
   "cell_type": "code",
   "execution_count": 1,
   "metadata": {},
   "outputs": [],
   "source": [
    "#Lets have matplotlib \"inline\"\n",
    "%matplotlib inline\n",
    "\n",
    "import os\n",
    "import sys\n",
    "\n",
    "#Import packages we need\n",
    "import numpy as np\n",
    "from netCDF4 import Dataset\n",
    "import datetime\n",
    "from IPython.display import display\n",
    "\n",
    "#For plotting\n",
    "import matplotlib\n",
    "from matplotlib import pyplot as plt\n",
    "from mpl_toolkits.axes_grid1 import make_axes_locatable\n",
    "\n",
    "plt.rcParams[\"lines.color\"] = \"w\"\n",
    "plt.rcParams[\"text.color\"] = \"w\"\n",
    "plt.rcParams[\"axes.labelcolor\"] = \"w\"\n",
    "plt.rcParams[\"xtick.color\"] = \"w\"\n",
    "plt.rcParams[\"ytick.color\"] = \"w\""
   ]
  },
  {
   "cell_type": "markdown",
   "metadata": {},
   "source": [
    "GPU Ocean-modules:"
   ]
  },
  {
   "cell_type": "code",
   "execution_count": 2,
   "metadata": {},
   "outputs": [],
   "source": [
    "from gpuocean.utils import IPythonMagic"
   ]
  },
  {
   "cell_type": "code",
   "execution_count": 3,
   "metadata": {},
   "outputs": [],
   "source": [
    "import pycuda.autoprimaryctx"
   ]
  },
  {
   "cell_type": "markdown",
   "metadata": {},
   "source": [
    "Basically, we only need the context and stream"
   ]
  },
  {
   "cell_type": "code",
   "execution_count": 4,
   "metadata": {},
   "outputs": [],
   "source": [
    "%cuda_context_handler gpu_ctx"
   ]
  },
  {
   "cell_type": "code",
   "execution_count": 5,
   "metadata": {},
   "outputs": [],
   "source": [
    "import pycuda.driver as cuda\n",
    "gpu_stream = cuda.Stream()"
   ]
  },
  {
   "cell_type": "markdown",
   "metadata": {},
   "source": [
    "# Sampling GRF: FFT Approach"
   ]
  },
  {
   "cell_type": "markdown",
   "metadata": {},
   "source": [
    "Use GPU for sampling random numbers (first step of immense speed-up)"
   ]
  },
  {
   "cell_type": "code",
   "execution_count": 6,
   "metadata": {},
   "outputs": [],
   "source": [
    "nx = 10#630\n",
    "ny = 5#315"
   ]
  },
  {
   "cell_type": "code",
   "execution_count": 7,
   "metadata": {},
   "outputs": [],
   "source": [
    "from gpuocean.utils import Common\n",
    "\n",
    "u_gpu = Common.CUDAArray2D(gpu_stream, nx, ny, 0, 0, np.zeros((ny,nx), dtype=np.float32))"
   ]
  },
  {
   "cell_type": "code",
   "execution_count": 8,
   "metadata": {},
   "outputs": [],
   "source": [
    "from pycuda.curandom import XORWOWRandomNumberGenerator\n",
    "rng = XORWOWRandomNumberGenerator()"
   ]
  },
  {
   "cell_type": "code",
   "execution_count": 9,
   "metadata": {},
   "outputs": [],
   "source": [
    "rng.fill_normal(u_gpu.data, stream=gpu_stream)"
   ]
  },
  {
   "cell_type": "code",
   "execution_count": 10,
   "metadata": {},
   "outputs": [],
   "source": [
    "u = u_gpu.download(gpu_stream)"
   ]
  },
  {
   "cell_type": "code",
   "execution_count": 11,
   "metadata": {},
   "outputs": [
    {
     "data": {
      "text/plain": [
       "(5, 10)"
      ]
     },
     "execution_count": 11,
     "metadata": {},
     "output_type": "execute_result"
    }
   ],
   "source": [
    "u.shape"
   ]
  },
  {
   "cell_type": "code",
   "execution_count": 12,
   "metadata": {},
   "outputs": [
    {
     "data": {
      "image/png": "[encoded data removed]",
      "text/plain": [
       "<Figure size 432x288 with 1 Axes>"
      ]
     },
     "metadata": {
      "needs_background": "dark"
     },
     "output_type": "display_data"
    }
   ],
   "source": [
    "_ = plt.hist(u.flatten(), bins=50)"
   ]
  },
  {
   "cell_type": "markdown",
   "metadata": {},
   "source": [
    "Only one row of distance matrix needed"
   ]
  },
  {
   "cell_type": "code",
   "execution_count": 13,
   "metadata": {},
   "outputs": [],
   "source": [
    "dist = np.zeros((nx*ny))\n",
    "for j in range(ny):\n",
    "    for i in range(nx):\n",
    "        dist[j*nx+i] = np.sqrt(i**2+j**2)\n",
    "        dist[j*nx+i] = min([np.sqrt(i**2+j**2),np.sqrt((i-nx)**2+j**2),np.sqrt(i**2+(j-ny)**2),np.sqrt((i-nx)**2+(j-ny)**2)]) # only periodic!! Otherwise complex fft values!!"
   ]
  },
  {
   "cell_type": "code",
   "execution_count": 14,
   "metadata": {},
   "outputs": [],
   "source": [
    "phi = 0.1\n",
    "corr = np.exp(-phi*dist**2)"
   ]
  },
  {
   "cell_type": "code",
   "execution_count": 15,
   "metadata": {},
   "outputs": [],
   "source": [
    "cov_toepitz = np.reshape(corr, (ny, nx))"
   ]
  },
  {
   "cell_type": "code",
   "execution_count": 16,
   "metadata": {},
   "outputs": [
    {
     "data": {
      "text/plain": [
       "<matplotlib.colorbar.Colorbar at 0x7fca3ac47b10>"
      ]
     },
     "execution_count": 16,
     "metadata": {},
     "output_type": "execute_result"
    },
    {
     "data": {
      "image/png": "[encoded data removed]",
      "text/plain": [
       "<Figure size 432x288 with 2 Axes>"
      ]
     },
     "metadata": {
      "needs_background": "dark"
     },
     "output_type": "display_data"
    }
   ],
   "source": [
    "plt.imshow(cov_toepitz)\n",
    "plt.colorbar()"
   ]
  },
  {
   "cell_type": "markdown",
   "metadata": {},
   "source": [
    "## FFT on the CPU"
   ]
  },
  {
   "cell_type": "code",
   "execution_count": 17,
   "metadata": {},
   "outputs": [],
   "source": [
    "# ctf = np.fft.fft2(cov_toepitz)\n",
    "# ctfsm = np.sqrt(np.maximum(0,ctf))\n",
    "# uf = np.fft.fft2(u)\n",
    "# grf = np.fft.ifft2(ctfsm*uf).real"
   ]
  },
  {
   "cell_type": "code",
   "execution_count": 18,
   "metadata": {},
   "outputs": [],
   "source": [
    "ctf = np.fft.rfft2(cov_toepitz)\n",
    "ctfsm = np.sqrt(np.maximum(0,ctf))\n",
    "uf = np.fft.rfft2(u)\n",
    "grf = np.fft.irfft2(ctfsm*uf).real"
   ]
  },
  {
   "cell_type": "code",
   "execution_count": 19,
   "metadata": {},
   "outputs": [
    {
     "data": {
      "text/plain": [
       "<matplotlib.colorbar.Colorbar at 0x7fcaffd16f50>"
      ]
     },
     "execution_count": 19,
     "metadata": {},
     "output_type": "execute_result"
    },
    {
     "data": {
      "image/png": "[encoded data removed]",
      "text/plain": [
       "<Figure size 720x360 with 2 Axes>"
      ]
     },
     "metadata": {
      "needs_background": "dark"
     },
     "output_type": "display_data"
    }
   ],
   "source": [
    "plt.figure(figsize=(10,5))\n",
    "plt.imshow(grf, vmin=-2, vmax=2)\n",
    "plt.colorbar(shrink=0.7)"
   ]
  },
  {
   "cell_type": "markdown",
   "metadata": {},
   "source": [
    "##### Alternative code as in advectionDiffusion (same result upside down)"
   ]
  },
  {
   "cell_type": "code",
   "execution_count": 20,
   "metadata": {},
   "outputs": [],
   "source": [
    "cmf = np.real(np.fft.fft2(cov_toepitz))\n",
    "uif = np.fft.ifft2(u)\n",
    "xf = np.real(np.fft.fft2(np.sqrt(np.maximum(cmf,0))*uif))"
   ]
  },
  {
   "cell_type": "code",
   "execution_count": 21,
   "metadata": {},
   "outputs": [
    {
     "data": {
      "text/plain": [
       "<matplotlib.colorbar.Colorbar at 0x7fcaffc5ec90>"
      ]
     },
     "execution_count": 21,
     "metadata": {},
     "output_type": "execute_result"
    },
    {
     "data": {
      "image/png": "[encoded data removed]",
      "text/plain": [
       "<Figure size 720x360 with 2 Axes>"
      ]
     },
     "metadata": {
      "needs_background": "dark"
     },
     "output_type": "display_data"
    }
   ],
   "source": [
    "plt.figure(figsize=(10,5))\n",
    "plt.imshow(xf, origin=\"lower\", vmin=-2, vmax=2)\n",
    "plt.colorbar(shrink=0.7)"
   ]
  },
  {
   "cell_type": "markdown",
   "metadata": {},
   "source": [
    "## FFT via skcuda (2D!)"
   ]
  },
  {
   "cell_type": "code",
   "execution_count": 22,
   "metadata": {},
   "outputs": [],
   "source": [
    "import numpy as np\n",
    "\n",
    "import pycuda.driver as cuda\n",
    "from pycuda.tools import make_default_context\n",
    "import pycuda.gpuarray as gpuarray"
   ]
  },
  {
   "cell_type": "code",
   "execution_count": 23,
   "metadata": {},
   "outputs": [
    {
     "name": "stderr",
     "output_type": "stream",
     "text": [
      "/home/florianb/miniconda3/envs/gpuocean_opendrift/lib/python3.7/site-packages/skcuda/cublas.py:284: UserWarning: creating CUBLAS context to get version number\n",
      "  warnings.warn('creating CUBLAS context to get version number')\n"
     ]
    }
   ],
   "source": [
    "from skcuda.fft import fft, ifft, Plan"
   ]
  },
  {
   "cell_type": "markdown",
   "metadata": {},
   "source": [
    "##### Start with sanity checks"
   ]
  },
  {
   "cell_type": "code",
   "execution_count": 24,
   "metadata": {},
   "outputs": [
    {
     "name": "stdout",
     "output_type": "stream",
     "text": [
      "[[ 0.23587117  0.26223236  0.6316631  -0.06556493]\n",
      " [ 1.75603489 -1.08832781  0.60210315 -1.94425511]\n",
      " [-0.46157348  0.57095756  0.61780114  1.49344211]\n",
      " [-0.06944917  0.8584152   0.04418086 -0.00581151]]\n"
     ]
    },
    {
     "data": {
      "text/plain": [
       "array([[-0.630041  ,  0.33764005,  0.00738998,  1.4071726 ],\n",
       "       [ 0.630041  , -0.33764005, -0.00738998, -1.4071726 ],\n",
       "       [-0.1960622 ,  0.        ,  0.        ,  0.7496268 ],\n",
       "       [ 0.1960622 ,  0.        ,  0.        , -0.7496268 ]],\n",
       "      dtype=float32)"
      ]
     },
     "execution_count": 24,
     "metadata": {},
     "output_type": "execute_result"
    }
   ],
   "source": [
    "# https://forums.developer.nvidia.com/t/how-to-apply-scikit-cuda-2d-fft-pycuda/33055\n",
    "\n",
    "data = np.random.randn(4,4)\n",
    "print(data)\n",
    "\n",
    "data_gpu = gpuarray.to_gpu(data.astype(np.float32))\n",
    "out_gpu = gpuarray.empty(data.shape, np.complex64)\n",
    "\n",
    "plan = Plan(data.shape, np.complex64, np.complex64)\n",
    "fft(data_gpu, out_gpu, plan)\n",
    "ifft(out_gpu, data_gpu, plan)\n",
    "\n",
    "data_gpu.get()/np.product(data.shape)"
   ]
  },
  {
   "cell_type": "code",
   "execution_count": 25,
   "metadata": {},
   "outputs": [
    {
     "name": "stdout",
     "output_type": "stream",
     "text": [
      "[[ 74. 237.  47.   2.]\n",
      " [ 20.  41. 100. 124.]\n",
      " [100. 161. 170.  10.]\n",
      " [ 51. 148. 228. 166.]]\n",
      "[[1679.  +0.j -300.-285.j  -99.  +0.j -300.+285.j]\n",
      " [ -81.+308.j  162.-181.j -217. +10.j   32. -13.j]\n",
      " [ -77.  +0.j  214.-487.j   61.  +0.j  214.+487.j]\n",
      " [ -81.-308.j   32. +13.j -217. -10.j  162.+181.j]]\n",
      "[[1679.  +0.j -300.-285.j  -99.  +0.j]\n",
      " [ -81.+308.j  162.-181.j -217. +10.j]\n",
      " [ -77.  +0.j  214.-487.j   61.  +0.j]]\n",
      "[[ 74. 237.  47.   2.]\n",
      " [ 20.  41. 100. 124.]\n",
      " [100. 161. 170.  10.]\n",
      " [ 51. 148. 228. 166.]]\n",
      "[[ 74. 237.  47.   2.]\n",
      " [ 20.  41. 100. 124.]\n",
      " [100. 161. 170.  10.]\n",
      " [ 51. 148. 228. 166.]]\n"
     ]
    }
   ],
   "source": [
    "# https://github.com/lebedov/scikit-cuda/issues/253\n",
    "N = 4\n",
    "array = np.random.randint(255, size=(N, N)).astype(np.float32)\n",
    "print(array)\n",
    "array_gpu = gpuarray.to_gpu(array)\n",
    "ft = np.fft.fft2(array)\n",
    "print(ft)\n",
    "\n",
    "ft_gpu = gpuarray.empty((N//2+1, N//2+1), dtype=np.complex64)\n",
    "plan = Plan((N, N), np.float32, np.complex64)\n",
    "fft(array_gpu, ft_gpu, plan)\n",
    "print(ft_gpu.get())\n",
    "\n",
    "\n",
    "plan_inv = Plan((N, N), np.complex64, np.float32)\n",
    "ifft(ft_gpu, array_gpu, plan_inv)\n",
    "print(array)\n",
    "print(array_gpu.get()/np.product(array_gpu.shape))"
   ]
  },
  {
   "cell_type": "markdown",
   "metadata": {},
   "source": [
    "##### Now, with RF from above"
   ]
  },
  {
   "cell_type": "code",
   "execution_count": 26,
   "metadata": {},
   "outputs": [],
   "source": [
    "# https://www.idtools.com.au/gpu-accelerated-fft-compatible-with-numpy/\n",
    "ct_gpu = gpuarray.to_gpu(cov_toepitz.astype(np.float32))\n",
    "ctf_gpu = gpuarray.empty((ny//2+1, nx//2+1), np.complex64)\n",
    "plan = Plan(ct_gpu.shape, np.float32, np.complex64)\n",
    "fft(ct_gpu, ctf_gpu, plan)"
   ]
  },
  {
   "cell_type": "code",
   "execution_count": 27,
   "metadata": {},
   "outputs": [
    {
     "data": {
      "text/plain": [
       "(array([[ 2.26164451e+01,  9.20666009e+00,  9.81136172e-02,\n",
       "          2.35391517e-01, -1.78852369e-01,  1.64078442e-01],\n",
       "        [ 2.58636024e+00,  1.05285068e+00,  1.12200285e-02,\n",
       "          2.69187866e-02, -2.04531107e-02,  1.87636013e-02],\n",
       "        [-2.71252094e-01, -1.10420794e-01, -1.17673330e-03,\n",
       "         -2.82318647e-03,  2.14507979e-03, -1.96788756e-03]]),\n",
       " array([[ 2.26164455e+01,  9.20666027e+00,  9.81135145e-02,\n",
       "          2.35391587e-01, -1.78852320e-01,  1.64078474e-01],\n",
       "        [ 2.58636045e+00,  1.05285072e+00,  1.12201069e-02,\n",
       "          2.69187540e-02, -2.04531010e-02,  1.87638532e-02],\n",
       "        [-2.71252424e-01, -1.10421054e-01, -1.17668614e-03,\n",
       "         -2.82320986e-03,  2.14505964e-03, -1.96785852e-03]], dtype=float32))"
      ]
     },
     "execution_count": 27,
     "metadata": {},
     "output_type": "execute_result"
    }
   ],
   "source": [
    "ctf.real[0:ny//2+1,0:nx//2+1], ctf_gpu.real"
   ]
  },
  {
   "cell_type": "code",
   "execution_count": 28,
   "metadata": {},
   "outputs": [],
   "source": [
    "# https://www.idtools.com.au/gpu-accelerated-fft-compatible-with-numpy/\n",
    "u_gpu = gpuarray.to_gpu(u.astype(np.float32))\n",
    "uf_gpu = gpuarray.empty((ny//2+1,nx//2+1), np.complex64)\n",
    "plan = Plan(u_gpu.shape, np.float32, np.complex64)\n",
    "fft(u_gpu, uf_gpu, plan)"
   ]
  },
  {
   "cell_type": "code",
   "execution_count": 29,
   "metadata": {},
   "outputs": [
    {
     "data": {
      "text/plain": [
       "array([[  1.3215647 +0.j        ,  -3.2806842 -5.440156j  ,\n",
       "          6.7786436 +4.5665913j ,  -0.6773279 -0.5146699j ,\n",
       "         -1.2907424 -5.482617j  ,  -1.4060235 +0.j        ],\n",
       "       [  0.01311387-5.8966384j ,   3.9027524 +1.4894857j ,\n",
       "        -12.382043  -8.885874j  ,  -4.402953  +9.284044j  ,\n",
       "          5.042242  -2.3212218j ,  10.522767  -0.97965705j],\n",
       "       [ -8.9243145 +0.32170197j,  -6.799259  +1.632837j  ,\n",
       "          3.1779692 +0.9987209j ,   2.4415948 -0.57684827j,\n",
       "         -1.4342569 -3.3447495j ,   8.977766  -9.664736j  ]],\n",
       "      dtype=complex64)"
      ]
     },
     "execution_count": 29,
     "metadata": {},
     "output_type": "execute_result"
    }
   ],
   "source": [
    "uf_gpu"
   ]
  },
  {
   "cell_type": "code",
   "execution_count": 30,
   "metadata": {},
   "outputs": [
    {
     "data": {
      "text/plain": [
       "array([[  1.32156456+0.j        ,  -3.28068427-5.44015592j,\n",
       "          6.77864333+4.56659117j,  -0.67732712-0.51467023j,\n",
       "         -1.29074214-5.48261652j,  -1.4060232 +0.j        ],\n",
       "       [  0.01311306-5.89663857j,   3.90275177+1.48948569j,\n",
       "        -12.38204206-8.88587346j,  -4.40295316+9.28404315j,\n",
       "          5.04224184-2.32122243j,  10.52276789-0.97965619j],\n",
       "       [ -8.92431365+0.32170181j,  -6.7992585 +1.6328373j ,\n",
       "          3.17796942+0.99872138j,   2.441595  -0.57684809j,\n",
       "         -1.43425639-3.34474916j,   8.97776604-9.66473554j]])"
      ]
     },
     "execution_count": 30,
     "metadata": {},
     "output_type": "execute_result"
    }
   ],
   "source": [
    "uf[0:ny//2+1,0:nx//2+1]"
   ]
  },
  {
   "cell_type": "code",
   "execution_count": 31,
   "metadata": {},
   "outputs": [],
   "source": [
    "# import pycuda.cumath as cumath\n",
    "tmp_gpu = gpuarray.to_gpu((np.sqrt(np.maximum(ctf_gpu.get().real,0)) * uf_gpu.get()).astype(np.complex64))\n",
    "\n",
    "grf_gpu = gpuarray.empty((ny,nx), np.float32)\n",
    "plan_inv = Plan(grf_gpu.shape, np.complex64, np.float32)\n",
    "ifft(tmp_gpu, grf_gpu, plan_inv)"
   ]
  },
  {
   "cell_type": "code",
   "execution_count": 32,
   "metadata": {},
   "outputs": [
    {
     "data": {
      "text/plain": [
       "<matplotlib.colorbar.Colorbar at 0x7fcaff3bce50>"
      ]
     },
     "execution_count": 32,
     "metadata": {},
     "output_type": "execute_result"
    },
    {
     "data": {
      "image/png": "[encoded data removed]",
      "text/plain": [
       "<Figure size 720x360 with 2 Axes>"
      ]
     },
     "metadata": {
      "needs_background": "dark"
     },
     "output_type": "display_data"
    }
   ],
   "source": [
    "plt.figure(figsize=(10,5))\n",
    "# ATTENTION: Inverse cuFFT needs scaling!\n",
    "plt.imshow(grf_gpu.get()/nx/ny, vmin=-2, vmax=2)\n",
    "plt.colorbar(shrink=0.7)"
   ]
  },
  {
   "cell_type": "markdown",
   "metadata": {},
   "source": [
    "#### FFT via PyCuda Kernels (fails)"
   ]
  },
  {
   "cell_type": "code",
   "execution_count": null,
   "metadata": {},
   "outputs": [],
   "source": [
    "import pycuda.driver as cuda\n",
    "from pycuda.compiler import SourceModule\n",
    "import pycuda.autoinit"
   ]
  },
  {
   "cell_type": "code",
   "execution_count": null,
   "metadata": {},
   "outputs": [],
   "source": [
    "import numpy\n",
    "a = numpy.random.randn(4,4)\n",
    "a = a.astype(numpy.float32)\n",
    "\n",
    "a_gpu = cuda.mem_alloc(a.nbytes)\n",
    "cuda.memcpy_htod(a_gpu, a)\n",
    "\n",
    "mod = SourceModule(\"\"\"\n",
    "  __global__ void doublify(float *a)\n",
    "  {\n",
    "    int idx = threadIdx.x + threadIdx.y*4;\n",
    "    a[idx] *= 2;\n",
    "  }\n",
    "  \"\"\")\n",
    "#Allocate,generateandtransfer\n",
    "func = mod.get_function(\"doublify\")\n",
    "func(a_gpu, block=(4,4,1))\n",
    "\n",
    "a_doubled = numpy.empty_like(a)\n",
    "cuda.memcpy_dtoh(a_doubled,a_gpu)\n",
    "print(a, \"\\n\\n\", a_doubled)"
   ]
  },
  {
   "cell_type": "code",
   "execution_count": null,
   "metadata": {},
   "outputs": [],
   "source": [
    "kernel = gpu_ctx.get_kernel(\"fft.cu\")"
   ]
  },
  {
   "cell_type": "code",
   "execution_count": null,
   "metadata": {},
   "outputs": [],
   "source": [
    "func = kernel.get_function(\"doublify\")"
   ]
  },
  {
   "cell_type": "code",
   "execution_count": null,
   "metadata": {},
   "outputs": [],
   "source": [
    "func.prepare(\"f\")"
   ]
  },
  {
   "cell_type": "code",
   "execution_count": null,
   "metadata": {},
   "outputs": [],
   "source": [
    "func.prepared_async_call((4,4),(1,1,1),gpu_stream, a)"
   ]
  }
 ],
 "metadata": {
  "kernelspec": {
   "display_name": "Python 3.7.12 ('gpuocean_opendrift')",
   "language": "python",
   "name": "python3"
  },
  "language_info": {
   "codemirror_mode": {
    "name": "ipython",
    "version": 3
   },
   "file_extension": ".py",
   "mimetype": "text/x-python",
   "name": "python",
   "nbconvert_exporter": "python",
   "pygments_lexer": "ipython3",
   "version": "3.7.12"
  },
  "vscode": {
   "interpreter": {
    "hash": "3048633266a8aca5c85f16c1ee57ccad146141feb66febf24dcb8304467d1440"
   }
  }
 },
 "nbformat": 4,
 "nbformat_minor": 4
}
