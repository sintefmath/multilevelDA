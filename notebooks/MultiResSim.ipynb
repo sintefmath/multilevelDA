{
 "cells": [
  {
   "cell_type": "markdown",
   "metadata": {},
   "source": [
    "# Multi Resolution Simulation"
   ]
  },
  {
   "cell_type": "markdown",
   "metadata": {},
   "source": [
    "### Classes and modules"
   ]
  },
  {
   "cell_type": "code",
   "execution_count": null,
   "metadata": {},
   "outputs": [],
   "source": [
    "#Lets have matplotlib \"inline\"\n",
    "%matplotlib inline\n",
    "\n",
    "import os\n",
    "import sys\n",
    "\n",
    "#Import packages we need\n",
    "import numpy as np\n",
    "import datetime\n",
    "from IPython.display import display\n",
    "import copy\n",
    "\n",
    "#For plotting\n",
    "import matplotlib\n",
    "from matplotlib import pyplot as plt\n",
    "from mpl_toolkits.axes_grid1 import make_axes_locatable\n",
    "\n",
    "plt.rcParams[\"lines.color\"] = \"w\"\n",
    "plt.rcParams[\"text.color\"] = \"w\"\n",
    "plt.rcParams[\"axes.labelcolor\"] = \"w\"\n",
    "plt.rcParams[\"xtick.color\"] = \"w\"\n",
    "plt.rcParams[\"ytick.color\"] = \"w\""
   ]
  },
  {
   "cell_type": "markdown",
   "metadata": {},
   "source": [
    "GPU Ocean-modules:"
   ]
  },
  {
   "cell_type": "code",
   "execution_count": null,
   "metadata": {},
   "outputs": [],
   "source": [
    "from gpuocean.ensembles import MultiResOceanStateEnsemble\n",
    "from gpuocean.utils import IPythonMagic, NetCDFInitialization"
   ]
  },
  {
   "cell_type": "code",
   "execution_count": null,
   "metadata": {},
   "outputs": [],
   "source": [
    "%cuda_context_handler gpu_ctx"
   ]
  },
  {
   "cell_type": "code",
   "execution_count": null,
   "metadata": {},
   "outputs": [],
   "source": [
    "%cuda_context_handler gpu_ctx_refined"
   ]
  },
  {
   "cell_type": "markdown",
   "metadata": {},
   "source": [
    "## Selecting loc"
   ]
  },
  {
   "cell_type": "markdown",
   "metadata": {},
   "source": [
    "As initial and boundary conditions to the simulation, we use data from the Norkyst800 s-level files:"
   ]
  },
  {
   "cell_type": "code",
   "execution_count": null,
   "metadata": {},
   "outputs": [],
   "source": [
    "nk800_url  = [\"/sintef/data/NorKyst800/ocean_his.an.20190716.nc\"]\n",
    "\n",
    "data_args = NetCDFInitialization.removeMetadata(NetCDFInitialization.getInitialConditionsNorKystCases(nk800_url, \"lofoten\", download_data=False, norkyst_data=False))\n",
    "data_args.keys()"
   ]
  },
  {
   "cell_type": "code",
   "execution_count": null,
   "metadata": {},
   "outputs": [],
   "source": [
    "sim_args = {\n",
    "    \"dt\": 0.0,\n",
    "    \"write_netcdf\":False,\n",
    "    \"model_time_step\": 60\n",
    "     }"
   ]
  },
  {
   "cell_type": "markdown",
   "metadata": {},
   "source": [
    "## Simulation"
   ]
  },
  {
   "cell_type": "code",
   "execution_count": null,
   "metadata": {},
   "outputs": [],
   "source": [
    "from gpuocean.SWEsimulators import CDKLM16\n",
    "\n",
    "sim = CDKLM16.CDKLM16(gpu_ctx, **sim_args, **data_args)"
   ]
  },
  {
   "cell_type": "markdown",
   "metadata": {},
   "source": [
    "### Refined Simulation"
   ]
  },
  {
   "cell_type": "markdown",
   "metadata": {},
   "source": [
    "Defining local area"
   ]
  },
  {
   "cell_type": "code",
   "execution_count": null,
   "metadata": {},
   "outputs": [],
   "source": [
    "# [[y0,x0],[y1,x1]]\n",
    "loc = [[100, 100], [200,300]]"
   ]
  },
  {
   "cell_type": "code",
   "execution_count": null,
   "metadata": {},
   "outputs": [],
   "source": [
    "eta, hu, hv = sim.download()\n",
    "\n",
    "fig, ax = plt.subplots(1,1, figsize=(12,6))\n",
    "ax.imshow(eta, origin=\"lower\", vmin=-1, vmax=1, cmap=\"coolwarm\")\n",
    "\n",
    "import matplotlib.patches as patches\n",
    "area = patches.Rectangle((loc[0][0], loc[0][1]), loc[1][1]-loc[0][1], loc[1][0]-loc[0][0], edgecolor='black', facecolor='none', lw=3)\n",
    "ax.add_patch(area)"
   ]
  },
  {
   "cell_type": "markdown",
   "metadata": {},
   "source": [
    "Extract local IC"
   ]
  },
  {
   "cell_type": "code",
   "execution_count": null,
   "metadata": {},
   "outputs": [],
   "source": [
    "data_args_loc = {}"
   ]
  },
  {
   "cell_type": "code",
   "execution_count": null,
   "metadata": {},
   "outputs": [],
   "source": [
    "data_args_loc[\"eta0\"], data_args_loc[\"hu0\"], data_args_loc[\"hv0\"] = [x[loc[0][0]:loc[1][0],loc[0][1]:loc[1][1]] for x in sim.download()]"
   ]
  },
  {
   "cell_type": "code",
   "execution_count": null,
   "metadata": {},
   "outputs": [],
   "source": [
    "data_args_loc[\"NY\"], data_args_loc[\"NX\"] = np.array(data_args_loc[\"eta0\"].shape)\n",
    "data_args_loc[\"ny\"], data_args_loc[\"nx\"] = np.array(data_args_loc[\"eta0\"].shape)-4"
   ]
  },
  {
   "cell_type": "code",
   "execution_count": null,
   "metadata": {},
   "outputs": [],
   "source": [
    "data_args_loc[\"dx\"], data_args_loc[\"dy\"] = data_args[\"dx\"], data_args[\"dy\"] "
   ]
  },
  {
   "cell_type": "code",
   "execution_count": null,
   "metadata": {},
   "outputs": [],
   "source": [
    "data_args_loc[\"H\"] = sim.downloadBathymetry()[0][loc[0][0]:loc[1][0]+1,loc[0][1]:loc[1][1]+1]"
   ]
  },
  {
   "cell_type": "code",
   "execution_count": null,
   "metadata": {},
   "outputs": [],
   "source": [
    "data_args_loc[\"g\"] = data_args[\"g\"]\n",
    "data_args_loc[\"r\"] = data_args[\"r\"]\n",
    "data_args_loc[\"f\"] = data_args[\"f\"]"
   ]
  },
  {
   "cell_type": "code",
   "execution_count": null,
   "metadata": {},
   "outputs": [],
   "source": [
    "data_args_loc[\"angle\"] = NetCDFInitialization.get_texture(sim, \"angle_tex\")[loc[0][0]:loc[1][0],loc[0][1]:loc[1][1]]"
   ]
  },
  {
   "cell_type": "code",
   "execution_count": null,
   "metadata": {},
   "outputs": [],
   "source": [
    "data_args_loc[\"latitude\"] = data_args[\"latitude\"][loc[0][0]:loc[1][0],loc[0][1]:loc[1][1]]"
   ]
  },
  {
   "cell_type": "code",
   "execution_count": null,
   "metadata": {},
   "outputs": [],
   "source": [
    "wind_y0 = np.floor(loc[0][0]/(sim.ny+4)*data_args[\"wind\"].wind_u.shape[1]).astype(int)\n",
    "wind_x0 = np.floor(loc[0][1]/(sim.nx+4)*data_args[\"wind\"].wind_u.shape[2]).astype(int)\n",
    "\n",
    "wind_y1 = np.ceil(loc[1][0]/(sim.ny+4)*data_args[\"wind\"].wind_u.shape[1]).astype(int)\n",
    "wind_x1 = np.ceil(loc[1][1]/(sim.nx+4)*data_args[\"wind\"].wind_u.shape[2]).astype(int)"
   ]
  },
  {
   "cell_type": "code",
   "execution_count": null,
   "metadata": {},
   "outputs": [],
   "source": [
    "from gpuocean.utils import WindStress\n",
    "\n",
    "data_args_loc[\"wind\"] = WindStress.WindStress(t=data_args[\"wind\"].t, wind_u=data_args[\"wind\"].wind_u[:,wind_y0:wind_y1,wind_x0:wind_x1], wind_v=data_args[\"wind\"].wind_v[:,wind_y0:wind_y1,wind_x0:wind_x1])"
   ]
  },
  {
   "cell_type": "code",
   "execution_count": null,
   "metadata": {},
   "outputs": [],
   "source": [
    "data_args[\"wind\"].wind_u[loc[0][0]:loc[1][0],loc[0][1]:loc[1][1]]"
   ]
  },
  {
   "cell_type": "code",
   "execution_count": null,
   "metadata": {},
   "outputs": [],
   "source": [
    "data_args_loc[\"boundary_conditions\"] = copy.deepcopy(data_args[\"boundary_conditions\"])"
   ]
  },
  {
   "cell_type": "markdown",
   "metadata": {},
   "source": [
    "Refined local IC"
   ]
  },
  {
   "cell_type": "code",
   "execution_count": null,
   "metadata": {},
   "outputs": [],
   "source": [
    "data_args_refined = NetCDFInitialization.removeMetadata(NetCDFInitialization.rescaleInitialConditions(data_args_loc, scale=1.2))"
   ]
  },
  {
   "cell_type": "markdown",
   "metadata": {},
   "source": [
    "NOTE: Later on, no relaxation (spongeCells=0) will be needed due to a flux correction term!"
   ]
  },
  {
   "cell_type": "code",
   "execution_count": null,
   "metadata": {},
   "outputs": [],
   "source": [
    "data_args_refined[\"boundary_conditions\"] = data_args_loc[\"boundary_conditions\"]"
   ]
  },
  {
   "cell_type": "markdown",
   "metadata": {},
   "source": [
    "Init new refined sim"
   ]
  },
  {
   "cell_type": "code",
   "execution_count": null,
   "metadata": {},
   "outputs": [],
   "source": [
    "sim_refined = CDKLM16.CDKLM16(gpu_ctx_refined, **sim_args, **data_args_refined)"
   ]
  },
  {
   "cell_type": "code",
   "execution_count": null,
   "metadata": {},
   "outputs": [],
   "source": [
    "eta, hu, hv = sim_refined.download()\n",
    "\n",
    "fig, ax = plt.subplots(1,1, figsize=(12,6))\n",
    "ax.imshow(eta, origin=\"lower\", vmin=-1, vmax=1, cmap=\"coolwarm\")"
   ]
  },
  {
   "cell_type": "markdown",
   "metadata": {},
   "source": [
    "### Time-Stepping\n",
    "\n",
    "First model time step"
   ]
  },
  {
   "cell_type": "code",
   "execution_count": null,
   "metadata": {},
   "outputs": [],
   "source": [
    "eta, hu, hv = sim.download()\n",
    "t0 = sim.t\n",
    "bc_data_north_t0 = [x[loc[1][0]+1, loc[0][1]:loc[1][1]] for x in [eta, hu, hv]]\n",
    "bc_data_south_t0 = [x[loc[0][0]-1, loc[0][1]:loc[1][1]] for x in [eta, hu, hv]]\n",
    "bc_data_west_t0 = [x[loc[0][0]:loc[1][0], loc[0][1]-1] for x in [eta, hu, hv]]\n",
    "bc_data_east_t0 = [x[loc[0][0]:loc[1][0], loc[1][1]+1] for x in [eta, hu, hv]]"
   ]
  },
  {
   "cell_type": "code",
   "execution_count": null,
   "metadata": {},
   "outputs": [],
   "source": [
    "sim.step(sim.model_time_step)"
   ]
  },
  {
   "cell_type": "code",
   "execution_count": null,
   "metadata": {},
   "outputs": [],
   "source": [
    "eta, hu, hv = sim.download()\n",
    "t1 = sim.t\n",
    "bc_data_north_t1 = [x[loc[1][0]+1, loc[0][1]:loc[1][1]] for x in [eta, hu, hv]]\n",
    "bc_data_south_t1 = [x[loc[0][0]-1, loc[0][1]:loc[1][1]] for x in [eta, hu, hv]]\n",
    "bc_data_west_t1 = [x[loc[0][0]:loc[1][0], loc[0][1]-1] for x in [eta, hu, hv]]\n",
    "bc_data_east_t1 = [x[loc[0][0]:loc[1][0], loc[1][1]+1] for x in [eta, hu, hv]]"
   ]
  },
  {
   "cell_type": "code",
   "execution_count": null,
   "metadata": {},
   "outputs": [],
   "source": [
    "from gpuocean.utils import Common\n",
    "t = [t0, t1]\n",
    "for cardinal in [\"north\", \"south\", \"east\", \"west\"]:\n",
    "    exec(\"{0} = Common.SingleBoundaryConditionData(h = [bc_data_{0}_t0[0], bc_data_{0}_t1[0]],\\\n",
    "                                            hu = [bc_data_{0}_t0[1], bc_data_{0}_t1[1]],\\\n",
    "                                            hv = [bc_data_{0}_t0[2], bc_data_{0}_t1[2]])\".format(cardinal))\n",
    "bc_data = Common.BoundaryConditionsData(t=t, north=north, south=south, east=east, west=west)"
   ]
  },
  {
   "cell_type": "code",
   "execution_count": null,
   "metadata": {},
   "outputs": [],
   "source": [
    "sim_refined.bc_kernel = Common.BoundaryConditionsArakawaA(gpu_ctx_refined, sim_refined.nx, sim_refined.ny, 2, 2, \\\n",
    "                                                           sim_refined.boundary_conditions, bc_data)\n"
   ]
  },
  {
   "cell_type": "code",
   "execution_count": null,
   "metadata": {},
   "outputs": [],
   "source": [
    "sim_refined.step(sim.model_time_step)"
   ]
  },
  {
   "cell_type": "markdown",
   "metadata": {},
   "source": [
    "Repeated model time steps"
   ]
  },
  {
   "cell_type": "code",
   "execution_count": null,
   "metadata": {},
   "outputs": [],
   "source": [
    "while sim.t < 3600:\n",
    "    eta, hu, hv = sim.download()\n",
    "    t0 = sim.t\n",
    "    bc_data_north_t0 = [x[loc[1][0]+1, loc[0][1]:loc[1][1]] for x in [eta, hu, hv]]\n",
    "    bc_data_south_t0 = [x[loc[0][0]-1, loc[0][1]:loc[1][1]] for x in [eta, hu, hv]]\n",
    "    bc_data_west_t0 = [x[loc[0][0]:loc[1][0], loc[0][1]-1] for x in [eta, hu, hv]]\n",
    "    bc_data_east_t0 = [x[loc[0][0]:loc[1][0], loc[1][1]+1] for x in [eta, hu, hv]]\n",
    "\n",
    "    sim.step(sim.model_time_step)\n",
    "\n",
    "    eta, hu, hv = sim.download()\n",
    "    t1 = sim.t\n",
    "    bc_data_north_t1 = [x[loc[1][0]+1, loc[0][1]:loc[1][1]] for x in [eta, hu, hv]]\n",
    "    bc_data_south_t1 = [x[loc[0][0]-1, loc[0][1]:loc[1][1]] for x in [eta, hu, hv]]\n",
    "    bc_data_west_t1 = [x[loc[0][0]:loc[1][0], loc[0][1]-1] for x in [eta, hu, hv]]\n",
    "    bc_data_east_t1 = [x[loc[0][0]:loc[1][0], loc[1][1]+1] for x in [eta, hu, hv]]\n",
    "\n",
    "    t = [t0, t1]\n",
    "    for cardinal in [\"north\", \"south\", \"east\", \"west\"]:\n",
    "        exec(\"{0} = Common.SingleBoundaryConditionData(h = [bc_data_{0}_t0[0], bc_data_{0}_t1[0]],\\\n",
    "                                                hu = [bc_data_{0}_t0[1], bc_data_{0}_t1[1]],\\\n",
    "                                                hv = [bc_data_{0}_t0[2], bc_data_{0}_t1[2]])\".format(cardinal))\n",
    "    bc_data = Common.BoundaryConditionsData(t=t, north=north, south=south, east=east, west=west)\n",
    "\n",
    "    sim_refined.bc_kernel = Common.BoundaryConditionsArakawaA(gpu_ctx_refined, sim_refined.nx, sim_refined.ny, 2, 2, \\\n",
    "                                                           sim_refined.boundary_conditions, bc_data)\n",
    "\n",
    "    sim_refined.step(sim.model_time_step)"
   ]
  },
  {
   "cell_type": "code",
   "execution_count": null,
   "metadata": {},
   "outputs": [],
   "source": [
    "eta, hu, hv = sim.download()\n",
    "eta_refined, hu_refined, hv_refined = sim_refined.download()"
   ]
  },
  {
   "cell_type": "code",
   "execution_count": null,
   "metadata": {},
   "outputs": [],
   "source": [
    "fig, axs = plt.subplots(2,3,figsize=(12,6))\n",
    "\n",
    "axs[0,0].imshow(eta[loc[0][0]:loc[1][0],loc[0][1]:loc[1][1]], origin=\"lower\", vmin=-1, vmax=1, cmap=\"coolwarm\")\n",
    "axs[0,0].set_title(\"eta (coarse)\")\n",
    "axs[0,1].imshow(hu[loc[0][0]:loc[1][0],loc[0][1]:loc[1][1]], origin=\"lower\", vmin=-100, vmax=100, cmap=\"coolwarm\")\n",
    "axs[0,1].set_title(\"hu (coarse)\")\n",
    "axs[0,2].imshow(hv[loc[0][0]:loc[1][0],loc[0][1]:loc[1][1]], origin=\"lower\", vmin=-100, vmax=100, cmap=\"coolwarm\")\n",
    "axs[0,2].set_title(\"hv (coarse)\")\n",
    "\n",
    "axs[1,0].imshow(eta_refined, origin=\"lower\", vmin=-1, vmax=1, cmap=\"coolwarm\")\n",
    "axs[1,0].set_title(\"eta (refined)\")\n",
    "axs[1,1].imshow(hu_refined, origin=\"lower\", vmin=-100, vmax=100, cmap=\"coolwarm\")\n",
    "axs[1,1].set_title(\"hu (refined)\")\n",
    "axs[1,2].imshow(hv_refined, origin=\"lower\", vmin=-100, vmax=100, cmap=\"coolwarm\")\n",
    "axs[1,2].set_title(\"hv (refined)\")\n",
    "\n",
    "for ax_s in axs:\n",
    "    for ax in ax_s:\n",
    "        ax.get_xaxis().set_ticks([])\n",
    "        ax.get_yaxis().set_ticks([])"
   ]
  }
 ],
 "metadata": {
  "kernelspec": {
   "display_name": "Python 3.7.12 ('gpuocean_opendrift')",
   "language": "python",
   "name": "python3"
  },
  "language_info": {
   "codemirror_mode": {
    "name": "ipython",
    "version": 3
   },
   "file_extension": ".py",
   "mimetype": "text/x-python",
   "name": "python",
   "nbconvert_exporter": "python",
   "pygments_lexer": "ipython3",
   "version": "3.7.12"
  },
  "vscode": {
   "interpreter": {
    "hash": "3048633266a8aca5c85f16c1ee57ccad146141feb66febf24dcb8304467d1440"
   }
  }
 },
 "nbformat": 4,
 "nbformat_minor": 4
}
