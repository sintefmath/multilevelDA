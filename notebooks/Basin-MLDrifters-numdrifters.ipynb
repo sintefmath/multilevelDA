{
 "cells": [
  {
   "attachments": {},
   "cell_type": "markdown",
   "metadata": {},
   "source": [
    "# MLOceanEnsemble with drifters for the Basin\n"
   ]
  },
  {
   "attachments": {},
   "cell_type": "markdown",
   "metadata": {},
   "source": [
    "### Classes and modules"
   ]
  },
  {
   "cell_type": "code",
   "execution_count": 1,
   "metadata": {},
   "outputs": [],
   "source": [
    "#Lets have matplotlib \"inline\"\n",
    "%matplotlib inline\n",
    "\n",
    "import os\n",
    "import sys\n",
    "\n",
    "#Import packages we need\n",
    "import numpy as np\n",
    "import datetime\n",
    "from IPython.display import display\n",
    "import copy\n",
    "\n",
    "#For plotting\n",
    "import matplotlib\n",
    "from matplotlib import pyplot as plt\n",
    "from mpl_toolkits.axes_grid1 import make_axes_locatable\n",
    "\n",
    "plt.rcParams[\"lines.color\"] = \"k\"\n",
    "plt.rcParams[\"text.color\"] = \"k\"\n",
    "plt.rcParams[\"axes.labelcolor\"] = \"k\"\n",
    "plt.rcParams[\"xtick.color\"] = \"k\"\n",
    "plt.rcParams[\"ytick.color\"] = \"k\"\n",
    "\n",
    "plt.rcParams[\"image.origin\"] = \"lower\"\n",
    "\n",
    "from importlib import reload\n",
    "\n",
    "import pycuda.driver as cuda"
   ]
  },
  {
   "attachments": {},
   "cell_type": "markdown",
   "metadata": {},
   "source": [
    "GPU Ocean-modules:"
   ]
  },
  {
   "cell_type": "code",
   "execution_count": 2,
   "metadata": {},
   "outputs": [],
   "source": [
    "from gpuocean.utils import IPythonMagic, Common, WindStress, DrifterPlotHelper, Observation\n",
    "from gpuocean.SWEsimulators import CDKLM16, ModelErrorKL\n",
    "from gpuocean.drifters import MLDrifterCollection, GPUDrifterCollection\n"
   ]
  },
  {
   "cell_type": "code",
   "execution_count": 3,
   "metadata": {},
   "outputs": [],
   "source": [
    "%cuda_context_handler gpu_ctx"
   ]
  },
  {
   "cell_type": "code",
   "execution_count": 4,
   "metadata": {},
   "outputs": [],
   "source": [
    "gpu_stream = cuda.Stream()"
   ]
  },
  {
   "attachments": {},
   "cell_type": "markdown",
   "metadata": {},
   "source": [
    "Basin utils"
   ]
  },
  {
   "cell_type": "code",
   "execution_count": 5,
   "metadata": {},
   "outputs": [],
   "source": [
    "sys.path.insert(0, os.path.abspath(os.path.join(os.getcwd(), '../')))\n",
    "from utils.BasinInit import *\n",
    "from utils.BasinPlot import * \n",
    "from utils.BasinParameters import * \n",
    "from utils.BasinEnsembleInit import * "
   ]
  },
  {
   "cell_type": "code",
   "execution_count": 6,
   "metadata": {},
   "outputs": [],
   "source": [
    "main_drifter_folder = 'drifter_data'\n",
    "timestamp = datetime.datetime.now().strftime(\"%Y_%m_%d-%H_%M_%S\")\n",
    "drifter_folder = os.path.join(main_drifter_folder, 'mldrifters_' + timestamp)\n",
    "sl_drifter_folder = os.path.join(main_drifter_folder, 'sldrifters_' + timestamp)\n"
   ]
  },
  {
   "cell_type": "markdown",
   "metadata": {},
   "source": [
    "## ML ensemble"
   ]
  },
  {
   "cell_type": "code",
   "execution_count": 7,
   "metadata": {},
   "outputs": [],
   "source": [
    "ls = [6, 7, 8, 9]"
   ]
  },
  {
   "cell_type": "code",
   "execution_count": 8,
   "metadata": {},
   "outputs": [],
   "source": [
    "args_list = []\n",
    "\n",
    "for l in ls:\n",
    "    lvl_grid_args = initGridSpecs(l)\n",
    "    args_list.append( {\n",
    "        \"nx\": lvl_grid_args[\"nx\"],\n",
    "        \"ny\": lvl_grid_args[\"ny\"],\n",
    "        \"dx\": lvl_grid_args[\"dx\"],\n",
    "        \"dy\": lvl_grid_args[\"dy\"],\n",
    "        \"gpu_ctx\": gpu_ctx,\n",
    "        \"gpu_stream\": gpu_stream,\n",
    "        \"boundary_conditions\": Common.BoundaryConditions(2,2,2,2)\n",
    "        } )"
   ]
  },
  {
   "cell_type": "code",
   "execution_count": 9,
   "metadata": {},
   "outputs": [],
   "source": [
    "data_args_list = []\n",
    "\n",
    "for l_idx in range(len(ls)):\n",
    "    data_args_list.append( make_init_steady_state(args_list[l_idx], a=steady_state_bump_a, bump_fractal_dist=steady_state_bump_fractal_dist) )\n"
   ]
  },
  {
   "cell_type": "code",
   "execution_count": 10,
   "metadata": {},
   "outputs": [
    {
     "name": "stdout",
     "output_type": "stream",
     "text": [
      "(128, 64)\n",
      "(256, 128)\n",
      "(512, 256)\n",
      "(1024, 512)\n"
     ]
    }
   ],
   "source": [
    "for l_idx in range(len(ls)):\n",
    "    print(data_args_list[l_idx]['eta'][2:-2,2:-2].shape)"
   ]
  },
  {
   "cell_type": "code",
   "execution_count": 11,
   "metadata": {},
   "outputs": [],
   "source": [
    "spinup_end_time = 0\n",
    "end_time = spinup_end_time + 900*4\n"
   ]
  },
  {
   "cell_type": "code",
   "execution_count": 12,
   "metadata": {},
   "outputs": [],
   "source": [
    "#ML_Nes = [100, 75, 50, 25] # From Flo. Takes 1m24s to init, 3m13s to run to T=900\n",
    "ML_Nes = [30, 20, 15, 10] # init: 34s, run: 1m36s\n"
   ]
  },
  {
   "cell_type": "code",
   "execution_count": 13,
   "metadata": {},
   "outputs": [],
   "source": [
    "from gpuocean.ensembles import MultiLevelOceanEnsemble"
   ]
  },
  {
   "cell_type": "code",
   "execution_count": 14,
   "metadata": {},
   "outputs": [],
   "source": [
    "def run_with_size(drifter_ensemble_size):\n",
    "    MLOceanEnsemble = MultiLevelOceanEnsemble.MultiLevelOceanEnsembleCase(ML_Nes, args_list, data_args_list, sample_args, make_sim,\n",
    "                                init_model_error_basis_args=init_model_error_basis_args, \n",
    "                                sim_model_error_basis_args=sim_model_error_basis_args, sim_model_error_timestep=sim_model_error_timestep,\n",
    "                                init_xorwow_seed=123, init_np_seed=123, sim_xorwow_seed=456, sim_np_seed=456)\n",
    "\n",
    "    MLOceanEnsemble.stepToObservation(spinup_end_time)\n",
    "\n",
    "    num_drifters = 25\n",
    "    MLOceanEnsemble.attachDrifters(drifter_ensemble_size, num_drifters, drift_sensitivity=1)\n",
    "\n",
    "    t = spinup_end_time\n",
    "    registration_frequency =  3*60\n",
    "    while t < end_time:\n",
    "        tmp_end_time = t + registration_frequency\n",
    "        MLOceanEnsemble.stepToObservation(tmp_end_time)\n",
    "        MLOceanEnsemble.registerDrifterPositions()\n",
    "    \n",
    "        t = t + registration_frequency\n",
    "\n",
    "    for obs in MLOceanEnsemble.driftTrajectory:\n",
    "        obs.nx = MLOceanEnsemble.nxs[-1]\n",
    "        obs.ny = MLOceanEnsemble.nys[-1]\n",
    "        obs.domain_size_x = MLOceanEnsemble.nxs[-1]*MLOceanEnsemble.dxs[-1]\n",
    "        obs.domain_size_y = MLOceanEnsemble.nys[-1]*MLOceanEnsemble.dys[-1]\n",
    "\n",
    "    return MLOceanEnsemble"
   ]
  },
  {
   "cell_type": "code",
   "execution_count": 15,
   "metadata": {},
   "outputs": [],
   "source": [
    "MLOceanEnsemble10 = run_with_size(10)"
   ]
  },
  {
   "cell_type": "code",
   "execution_count": null,
   "metadata": {},
   "outputs": [],
   "source": [
    "MLOceanEnsemble25 = run_with_size(25)"
   ]
  },
  {
   "cell_type": "code",
   "execution_count": null,
   "metadata": {},
   "outputs": [],
   "source": [
    "MLOceanEnsemble50 = run_with_size(50)"
   ]
  },
  {
   "cell_type": "code",
   "execution_count": null,
   "metadata": {},
   "outputs": [],
   "source": [
    "MLOceanEnsemble100 = run_with_size(100)"
   ]
  },
  {
   "cell_type": "markdown",
   "metadata": {},
   "source": [
    "Comparison"
   ]
  },
  {
   "cell_type": "code",
   "execution_count": null,
   "metadata": {},
   "outputs": [],
   "source": [
    "MLOceanEnsemble10.driftTrajectory[0]"
   ]
  },
  {
   "cell_type": "code",
   "execution_count": null,
   "metadata": {},
   "outputs": [],
   "source": [
    "drifter_id = 0\n",
    "\n",
    "for ens in [MLOceanEnsemble10, MLOceanEnsemble25, MLOceanEnsemble50, MLOceanEnsemble100]:\n",
    "    drifter_domain = DrifterPlotHelper.domain_around_drifter(MLOceanEnsemble10.driftTrajectory[0], drifter_id=drifter_id, padding_in_km=1)\n",
    "    ax = DrifterPlotHelper.background_from_mlensemble(MLOceanEnsemble10, background_type=\"empty\", drifter_domain=drifter_domain)\n",
    "    DrifterPlotHelper.add_ensemble_drifter_on_background(ax, ens.driftTrajectory, drifter_id=drifter_id)"
   ]
  },
  {
   "cell_type": "code",
   "execution_count": null,
   "metadata": {},
   "outputs": [],
   "source": [
    "drifter_id = 12\n",
    "\n",
    "for ens in [MLOceanEnsemble10, MLOceanEnsemble25, MLOceanEnsemble50, MLOceanEnsemble100]:\n",
    "    drifter_domain = DrifterPlotHelper.domain_around_drifter(MLOceanEnsemble10.driftTrajectory[0], drifter_id=drifter_id, padding_in_km=1)\n",
    "    ax = DrifterPlotHelper.background_from_mlensemble(MLOceanEnsemble10, background_type=\"empty\", drifter_domain=drifter_domain)\n",
    "    DrifterPlotHelper.add_ensemble_drifter_on_background(ax, ens.driftTrajectory, drifter_id=drifter_id)"
   ]
  },
  {
   "cell_type": "code",
   "execution_count": null,
   "metadata": {},
   "outputs": [],
   "source": []
  }
 ],
 "metadata": {
  "kernelspec": {
   "display_name": "Python 3",
   "language": "python",
   "name": "python3"
  },
  "language_info": {
   "codemirror_mode": {
    "name": "ipython",
    "version": 3
   },
   "file_extension": ".py",
   "mimetype": "text/x-python",
   "name": "python",
   "nbconvert_exporter": "python",
   "pygments_lexer": "ipython3",
   "version": "3.7.12"
  },
  "vscode": {
   "interpreter": {
    "hash": "3048633266a8aca5c85f16c1ee57ccad146141feb66febf24dcb8304467d1440"
   }
  }
 },
 "nbformat": 4,
 "nbformat_minor": 4
}
