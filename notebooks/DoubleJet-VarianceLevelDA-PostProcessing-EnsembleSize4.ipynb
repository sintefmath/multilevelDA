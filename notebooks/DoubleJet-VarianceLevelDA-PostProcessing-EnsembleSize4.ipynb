{
 "cells": [
  {
   "attachments": {},
   "cell_type": "markdown",
   "metadata": {},
   "source": [
    "# Variance-level plots"
   ]
  },
  {
   "attachments": {},
   "cell_type": "markdown",
   "metadata": {},
   "source": [
    "### Classes and modules"
   ]
  },
  {
   "cell_type": "code",
   "execution_count": 1,
   "metadata": {},
   "outputs": [],
   "source": [
    "#Lets have matplotlib \"inline\"\n",
    "%matplotlib inline\n",
    "\n",
    "import os\n",
    "import sys\n",
    "\n",
    "#Import packages we need\n",
    "import numpy as np\n",
    "import datetime\n",
    "from IPython.display import display\n",
    "import copy\n",
    "\n",
    "#For plotting\n",
    "import matplotlib\n",
    "from matplotlib import pyplot as plt\n",
    "from mpl_toolkits.axes_grid1 import make_axes_locatable\n",
    "\n",
    "# plt.rcParams[\"lines.color\"] = \"w\"\n",
    "# plt.rcParams[\"text.color\"] = \"w\"\n",
    "# plt.rcParams[\"axes.labelcolor\"] = \"w\"\n",
    "# plt.rcParams[\"xtick.color\"] = \"w\"\n",
    "# plt.rcParams[\"ytick.color\"] = \"w\"\n",
    "\n",
    "plt.rcParams[\"image.origin\"] = \"lower\"\n",
    "\n",
    "import pycuda.driver as cuda"
   ]
  },
  {
   "attachments": {},
   "cell_type": "markdown",
   "metadata": {},
   "source": [
    "GPU Ocean-modules:"
   ]
  },
  {
   "cell_type": "code",
   "execution_count": 2,
   "metadata": {},
   "outputs": [],
   "source": [
    "from gpuocean.utils import IPythonMagic, Common"
   ]
  },
  {
   "cell_type": "code",
   "execution_count": 3,
   "metadata": {},
   "outputs": [],
   "source": [
    "%cuda_context_handler gpu_ctx"
   ]
  },
  {
   "cell_type": "code",
   "execution_count": 4,
   "metadata": {},
   "outputs": [],
   "source": [
    "ls = [6, 7, 8, 9]"
   ]
  },
  {
   "cell_type": "code",
   "execution_count": 5,
   "metadata": {},
   "outputs": [],
   "source": [
    "from gpuocean.utils import DoubleJetCase\n",
    "\n",
    "args_list = []\n",
    "init_list = []\n",
    "\n",
    "for l in ls:\n",
    "    doubleJetCase = DoubleJetCase.DoubleJetCase(gpu_ctx, DoubleJetCase.DoubleJetPerturbationType.SteadyState, ny=2**l, nx=2**(l+1))\n",
    "    doubleJetCase_args, doubleJetCase_init, _ = doubleJetCase.getInitConditions()\n",
    "\n",
    "    args_list.append(doubleJetCase_args)\n",
    "    init_list.append(doubleJetCase_init)"
   ]
  },
  {
   "cell_type": "markdown",
   "metadata": {},
   "source": [
    "### Read variances from file"
   ]
  },
  {
   "cell_type": "code",
   "execution_count": 6,
   "metadata": {},
   "outputs": [],
   "source": [
    "# source_path = \"/home/florianb/havvarsel/multilevelDA/doublejet/scripts/VarianceLevelsDA/2023-09-26T11_10_32\"\n",
    "# source_path = \"/home/florianb/havvarsel/multilevelDA/doublejet/scripts/VarianceLevelsDA/2023-09-25T13_55_37\"\n",
    "source_path = \"/home/florianb/havvarsel/multilevelDA/doublejet/scripts/VarianceLevelsDA/2023-10-27T17_43_20\""
   ]
  },
  {
   "cell_type": "code",
   "execution_count": 7,
   "metadata": {},
   "outputs": [],
   "source": [
    "vars = np.load(source_path+\"/vars_\"+str(10*24*3600)+\".npy\")\n",
    "diff_vars = np.load(source_path+\"/diff_vars_\"+str(10*24*3600)+\".npy\")"
   ]
  },
  {
   "cell_type": "code",
   "execution_count": 8,
   "metadata": {},
   "outputs": [
    {
     "data": {
      "text/plain": [
       "(array([[1.5858183e+02, 1.5990373e+11, 9.6634626e+10],\n",
       "        [9.7177979e+02, 3.1332507e+12, 8.6894812e+11],\n",
       "        [2.5992576e+03, 5.8559064e+12, 3.7920312e+12],\n",
       "        [4.5634897e+03, 8.8159583e+12, 6.7380870e+12]], dtype=float32),\n",
       " array([[7.2866943e+02, 2.6328946e+12, 6.9889930e+11],\n",
       "        [1.7286455e+03, 3.1621387e+12, 2.2114027e+12],\n",
       "        [2.4873433e+03, 2.0927904e+12, 1.6598405e+12]], dtype=float32))"
      ]
     },
     "execution_count": 8,
     "metadata": {},
     "output_type": "execute_result"
    }
   ],
   "source": [
    "vars, diff_vars"
   ]
  },
  {
   "cell_type": "markdown",
   "metadata": {},
   "source": [
    "### Read work from file"
   ]
  },
  {
   "cell_type": "code",
   "execution_count": 9,
   "metadata": {},
   "outputs": [],
   "source": [
    "work_path = \"/home/florianb/havvarsel/multilevelDA/doublejet/scripts/PracticalCost/2023-09-18T12_54_47\""
   ]
  },
  {
   "cell_type": "code",
   "execution_count": 10,
   "metadata": {},
   "outputs": [],
   "source": [
    "works = np.mean(np.load(work_path+\"/costsPure.npy\"), axis=-1)\n",
    "diff_works = np.mean(np.load(work_path+\"/costsPartnered.npy\"), axis=-1)"
   ]
  },
  {
   "cell_type": "markdown",
   "metadata": {},
   "source": [
    "Use theoretical work"
   ]
  },
  {
   "cell_type": "code",
   "execution_count": 11,
   "metadata": {},
   "outputs": [],
   "source": [
    "works = [1/(8**3), 1/(8**2), 1/(8), 1]\n",
    "diff_works = [0, 1/(8**2), 1/(8), 1]"
   ]
  },
  {
   "cell_type": "code",
   "execution_count": 12,
   "metadata": {},
   "outputs": [
    {
     "data": {
      "text/plain": [
       "([0.001953125, 0.015625, 0.125, 1], [0, 0.015625, 0.125, 1])"
      ]
     },
     "execution_count": 12,
     "metadata": {},
     "output_type": "execute_result"
    }
   ],
   "source": [
    "works, diff_works"
   ]
  },
  {
   "cell_type": "markdown",
   "metadata": {},
   "source": [
    "## Ensembles with equal work"
   ]
  },
  {
   "cell_type": "code",
   "execution_count": 13,
   "metadata": {},
   "outputs": [],
   "source": [
    "SL_Ne = 50"
   ]
  },
  {
   "cell_type": "code",
   "execution_count": 14,
   "metadata": {},
   "outputs": [
    {
     "data": {
      "text/plain": [
       "400.0"
      ]
     },
     "execution_count": 14,
     "metadata": {},
     "output_type": "execute_result"
    }
   ],
   "source": [
    "SL_Ne2 = works[-1]*SL_Ne/works[-2]\n",
    "SL_Ne2"
   ]
  },
  {
   "cell_type": "code",
   "execution_count": 15,
   "metadata": {},
   "outputs": [
    {
     "data": {
      "text/plain": [
       "3200.0"
      ]
     },
     "execution_count": 15,
     "metadata": {},
     "output_type": "execute_result"
    }
   ],
   "source": [
    "SL_Ne3 = works[-1]*SL_Ne/works[-3]\n",
    "SL_Ne3"
   ]
  },
  {
   "cell_type": "code",
   "execution_count": 16,
   "metadata": {},
   "outputs": [
    {
     "data": {
      "text/plain": [
       "25600.0"
      ]
     },
     "execution_count": 16,
     "metadata": {},
     "output_type": "execute_result"
    }
   ],
   "source": [
    "SL_Ne4 = works[-1]*SL_Ne/works[-4]\n",
    "SL_Ne4"
   ]
  },
  {
   "cell_type": "code",
   "execution_count": 17,
   "metadata": {},
   "outputs": [],
   "source": [
    "from gpuocean.utils import MultiLevelAnalysis"
   ]
  },
  {
   "cell_type": "code",
   "execution_count": 18,
   "metadata": {},
   "outputs": [],
   "source": [
    "analysis = MultiLevelAnalysis.Analysis(args_list, vars, diff_vars, works, diff_works)"
   ]
  },
  {
   "cell_type": "code",
   "execution_count": 19,
   "metadata": {},
   "outputs": [
    {
     "data": {
      "text/plain": [
       "array([264, 270, 132,  46], dtype=int32)"
      ]
     },
     "execution_count": 19,
     "metadata": {},
     "output_type": "execute_result"
    }
   ],
   "source": [
    "# ML_Ne = analysis.optimal_Ne(1.425e-1)\n",
    "ML_Ne = analysis.optimal_Ne(1.05e-1)\n",
    "ML_Ne"
   ]
  },
  {
   "cell_type": "code",
   "execution_count": 20,
   "metadata": {},
   "outputs": [
    {
     "data": {
      "text/plain": [
       "67.234375"
      ]
     },
     "execution_count": 20,
     "metadata": {},
     "output_type": "execute_result"
    }
   ],
   "source": [
    "analysis.work(ML_Ne)/analysis.works[-1]"
   ]
  },
  {
   "cell_type": "code",
   "execution_count": 21,
   "metadata": {},
   "outputs": [],
   "source": [
    "analysis1 = MultiLevelAnalysis.Analysis(args_list[1:], vars[1:], diff_vars[1:], works[1:], diff_works[1:])"
   ]
  },
  {
   "cell_type": "code",
   "execution_count": 22,
   "metadata": {},
   "outputs": [
    {
     "data": {
      "text/plain": [
       "array([300, 131,  46], dtype=int32)"
      ]
     },
     "execution_count": 22,
     "metadata": {},
     "output_type": "execute_result"
    }
   ],
   "source": [
    "# ML_Ne1 = analysis1.optimal_Ne(1.3e-1)\n",
    "ML_Ne1 = analysis1.optimal_Ne(1.05e-1)\n",
    "ML_Ne1"
   ]
  },
  {
   "cell_type": "code",
   "execution_count": 23,
   "metadata": {},
   "outputs": [
    {
     "data": {
      "text/plain": [
       "67.0625"
      ]
     },
     "execution_count": 23,
     "metadata": {},
     "output_type": "execute_result"
    }
   ],
   "source": [
    "analysis1.work(ML_Ne1)/analysis.works[-1]"
   ]
  },
  {
   "cell_type": "code",
   "execution_count": 24,
   "metadata": {},
   "outputs": [],
   "source": [
    "analysis2 = MultiLevelAnalysis.Analysis(args_list[2:], vars[2:], diff_vars[2:], works[2:], diff_works[2:])"
   ]
  },
  {
   "cell_type": "code",
   "execution_count": 25,
   "metadata": {},
   "outputs": [
    {
     "data": {
      "text/plain": [
       "array([150,  41], dtype=int32)"
      ]
     },
     "execution_count": 25,
     "metadata": {},
     "output_type": "execute_result"
    }
   ],
   "source": [
    "# ML_Ne2 = analysis2.optimal_Ne(1.225e-1)\n",
    "ML_Ne2 = analysis2.optimal_Ne(1.12e-1)\n",
    "ML_Ne2"
   ]
  },
  {
   "cell_type": "code",
   "execution_count": 26,
   "metadata": {},
   "outputs": [
    {
     "data": {
      "text/plain": [
       "59.75"
      ]
     },
     "execution_count": 26,
     "metadata": {},
     "output_type": "execute_result"
    }
   ],
   "source": [
    "analysis2.work(ML_Ne2)/analysis.works[-1]"
   ]
  },
  {
   "cell_type": "markdown",
   "metadata": {},
   "source": [
    "### Comparisons"
   ]
  },
  {
   "cell_type": "code",
   "execution_count": 27,
   "metadata": {},
   "outputs": [],
   "source": [
    "# works = [1/(8**2), 1/(8), 1]\n",
    "# diff_works = [1/(8), 1]"
   ]
  },
  {
   "cell_type": "markdown",
   "metadata": {},
   "source": [
    "SpeedUp"
   ]
  },
  {
   "cell_type": "code",
   "execution_count": 28,
   "metadata": {},
   "outputs": [
    {
     "name": "stdout",
     "output_type": "stream",
     "text": [
      "Ne =  [ 830937 1192094  461891  132852]\n",
      "SpeedUp =  1.6725577007945287\n"
     ]
    }
   ],
   "source": [
    "# var_idx, tau = 0, 5e-2\n",
    "var_idx, tau = 1, 5e3\n",
    "# var_idx, tau = 2, 5e3\n",
    "\n",
    "allwork = 0\n",
    "for l_idx in range(len(ls)):\n",
    "    if l_idx == 0: \n",
    "        allwork += np.sqrt(vars[l_idx][var_idx] * works[l_idx])\n",
    "    else:\n",
    "        allwork += np.sqrt(diff_vars[l_idx-1][var_idx] * diff_works[l_idx])\n",
    "\n",
    "optNe_ref = np.zeros(len(ls))\n",
    "for l_idx in range(len(ls)):\n",
    "    if l_idx == 0: \n",
    "        optNe_ref[l_idx] = np.sqrt(vars[l_idx][var_idx]/works[l_idx]) * allwork\n",
    "    else: \n",
    "        optNe_ref[l_idx] = np.sqrt(diff_vars[l_idx-1][var_idx]/diff_works[l_idx]) * allwork\n",
    "\n",
    "Ne = np.int32(np.ceil(1/(tau**2)*optNe_ref))\n",
    "print(\"Ne = \", Ne)\n",
    "\n",
    "MLens_work = Ne[0]*works[0]\n",
    "for l_idx in range(1, len(ls)):\n",
    "    MLens_work += Ne[l_idx]*diff_works[l_idx]\n",
    "\n",
    "SLens_work = vars[-1][var_idx]/(tau**2) * works[-1]\n",
    "\n",
    "print(\"SpeedUp = \", SLens_work/MLens_work)"
   ]
  },
  {
   "cell_type": "markdown",
   "metadata": {},
   "source": [
    "Theoretical error"
   ]
  },
  {
   "cell_type": "code",
   "execution_count": null,
   "metadata": {},
   "outputs": [],
   "source": []
  },
  {
   "cell_type": "code",
   "execution_count": 50,
   "metadata": {},
   "outputs": [
    {
     "data": {
      "text/plain": [
       "array([1.3510721e+01, 5.9383362e+05, 5.1915650e+05], dtype=float32)"
      ]
     },
     "execution_count": 50,
     "metadata": {},
     "output_type": "execute_result"
    }
   ],
   "source": [
    "np.sqrt(vars[-1])/np.sqrt(25)"
   ]
  },
  {
   "cell_type": "code",
   "execution_count": 29,
   "metadata": {},
   "outputs": [
    {
     "data": {
      "text/plain": [
       "array([9.5535221e+00, 4.1990375e+05, 3.6709909e+05], dtype=float32)"
      ]
     },
     "execution_count": 29,
     "metadata": {},
     "output_type": "execute_result"
    }
   ],
   "source": [
    "np.sqrt(vars[-1])/np.sqrt(SL_Ne)"
   ]
  },
  {
   "cell_type": "code",
   "execution_count": 44,
   "metadata": {},
   "outputs": [
    {
     "data": {
      "text/plain": [
       "array([6.7553606e+00, 2.9691681e+05, 2.5957825e+05], dtype=float32)"
      ]
     },
     "execution_count": 44,
     "metadata": {},
     "output_type": "execute_result"
    }
   ],
   "source": [
    "np.sqrt(vars[-1])/np.sqrt(100)"
   ]
  },
  {
   "cell_type": "code",
   "execution_count": 42,
   "metadata": {},
   "outputs": [
    {
     "data": {
      "text/plain": [
       "array([9.9109373e+00, 3.2809572e+05, 2.7754341e+05], dtype=float32)"
      ]
     },
     "execution_count": 42,
     "metadata": {},
     "output_type": "execute_result"
    }
   ],
   "source": [
    "analysis.theoretical_error([622,262,99,32])"
   ]
  },
  {
   "cell_type": "code",
   "execution_count": 48,
   "metadata": {},
   "outputs": [
    {
     "data": {
      "text/plain": [
       "49.68359375"
      ]
     },
     "execution_count": 48,
     "metadata": {},
     "output_type": "execute_result"
    }
   ],
   "source": [
    "analysis.work([622,262,99,32])"
   ]
  },
  {
   "cell_type": "code",
   "execution_count": 49,
   "metadata": {},
   "outputs": [
    {
     "data": {
      "text/plain": [
       "[0.001953125, 0.015625, 0.125, 1]"
      ]
     },
     "execution_count": 49,
     "metadata": {},
     "output_type": "execute_result"
    }
   ],
   "source": [
    "analysis.works"
   ]
  },
  {
   "cell_type": "code",
   "execution_count": null,
   "metadata": {},
   "outputs": [],
   "source": []
  },
  {
   "cell_type": "code",
   "execution_count": 30,
   "metadata": {},
   "outputs": [
    {
     "data": {
      "text/plain": [
       "array([8.3945189e+00, 2.8250344e+05, 2.3620139e+05], dtype=float32)"
      ]
     },
     "execution_count": 30,
     "metadata": {},
     "output_type": "execute_result"
    }
   ],
   "source": [
    "analysis.theoretical_error(ML_Ne)"
   ]
  },
  {
   "cell_type": "code",
   "execution_count": 31,
   "metadata": {},
   "outputs": [
    {
     "data": {
      "text/plain": [
       "array([8.3968868e+00, 2.8298069e+05, 2.3634916e+05], dtype=float32)"
      ]
     },
     "execution_count": 31,
     "metadata": {},
     "output_type": "execute_result"
    }
   ],
   "source": [
    "analysis1.theoretical_error(ML_Ne1)"
   ]
  },
  {
   "cell_type": "code",
   "execution_count": 32,
   "metadata": {},
   "outputs": [
    {
     "data": {
      "text/plain": [
       "array([8.8314943e+00, 3.0013838e+05, 2.5644517e+05], dtype=float32)"
      ]
     },
     "execution_count": 32,
     "metadata": {},
     "output_type": "execute_result"
    }
   ],
   "source": [
    "analysis2.theoretical_error(ML_Ne2)"
   ]
  },
  {
   "cell_type": "code",
   "execution_count": 33,
   "metadata": {},
   "outputs": [
    {
     "data": {
      "text/plain": [
       "array([[1.5858183e+02, 1.5990373e+11, 9.6634626e+10],\n",
       "       [9.7177979e+02, 3.1332507e+12, 8.6894812e+11],\n",
       "       [2.5992576e+03, 5.8559064e+12, 3.7920312e+12],\n",
       "       [4.5634897e+03, 8.8159583e+12, 6.7380870e+12]], dtype=float32)"
      ]
     },
     "execution_count": 33,
     "metadata": {},
     "output_type": "execute_result"
    }
   ],
   "source": [
    "vars"
   ]
  },
  {
   "cell_type": "code",
   "execution_count": 34,
   "metadata": {},
   "outputs": [
    {
     "data": {
      "text/plain": [
       "array([264, 270, 132,  46], dtype=int32)"
      ]
     },
     "execution_count": 34,
     "metadata": {},
     "output_type": "execute_result"
    }
   ],
   "source": [
    "ML_Ne"
   ]
  },
  {
   "cell_type": "code",
   "execution_count": 35,
   "metadata": {},
   "outputs": [
    {
     "data": {
      "text/plain": [
       "367099.08705220174"
      ]
     },
     "execution_count": 35,
     "metadata": {},
     "output_type": "execute_result"
    }
   ],
   "source": [
    "np.sqrt(vars[-1][2]/50)"
   ]
  },
  {
   "cell_type": "code",
   "execution_count": 36,
   "metadata": {},
   "outputs": [
    {
     "data": {
      "text/plain": [
       "19132.178396142404"
      ]
     },
     "execution_count": 36,
     "metadata": {},
     "output_type": "execute_result"
    }
   ],
   "source": [
    "np.sqrt(vars[0][2]/ML_Ne[0])"
   ]
  },
  {
   "cell_type": "code",
   "execution_count": 37,
   "metadata": {},
   "outputs": [
    {
     "data": {
      "text/plain": [
       "50877.45991330178"
      ]
     },
     "execution_count": 37,
     "metadata": {},
     "output_type": "execute_result"
    }
   ],
   "source": [
    "np.sqrt(diff_vars[0][2]/ML_Ne[1])"
   ]
  },
  {
   "cell_type": "code",
   "execution_count": 38,
   "metadata": {},
   "outputs": [
    {
     "data": {
      "text/plain": [
       "129433.57790563678"
      ]
     },
     "execution_count": 38,
     "metadata": {},
     "output_type": "execute_result"
    }
   ],
   "source": [
    "np.sqrt(diff_vars[1][2]/ML_Ne[2])"
   ]
  },
  {
   "cell_type": "code",
   "execution_count": 39,
   "metadata": {},
   "outputs": [
    {
     "data": {
      "text/plain": [
       "189956.5451231687"
      ]
     },
     "execution_count": 39,
     "metadata": {},
     "output_type": "execute_result"
    }
   ],
   "source": [
    "np.sqrt(diff_vars[2][2]/ML_Ne[3])"
   ]
  },
  {
   "cell_type": "code",
   "execution_count": 40,
   "metadata": {},
   "outputs": [
    {
     "data": {
      "text/plain": [
       "array([150,  41], dtype=int32)"
      ]
     },
     "execution_count": 40,
     "metadata": {},
     "output_type": "execute_result"
    }
   ],
   "source": [
    "ML_Ne2"
   ]
  }
 ],
 "metadata": {
  "kernelspec": {
   "display_name": "Python 3",
   "language": "python",
   "name": "python3"
  },
  "language_info": {
   "codemirror_mode": {
    "name": "ipython",
    "version": 3
   },
   "file_extension": ".py",
   "mimetype": "text/x-python",
   "name": "python",
   "nbconvert_exporter": "python",
   "pygments_lexer": "ipython3",
   "version": "3.7.12"
  },
  "vscode": {
   "interpreter": {
    "hash": "3048633266a8aca5c85f16c1ee57ccad146141feb66febf24dcb8304467d1440"
   }
  }
 },
 "nbformat": 4,
 "nbformat_minor": 4
}
